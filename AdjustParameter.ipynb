{
 "cells": [
  {
   "attachments": {},
   "cell_type": "markdown",
   "metadata": {},
   "source": [
    "# Import\n"
   ]
  },
  {
   "cell_type": "code",
   "execution_count": 5,
   "metadata": {},
   "outputs": [],
   "source": [
    "import os\n",
    "import math as m\n",
    "from genDrops_python.genSingleDrop import *\n",
    "from genDrops_python.fit_circle_through_3_points import *\n",
    "import matplotlib.pyplot as plt\n",
    "import matplotlib.image as mpimg\n",
    "from cost_function import cost, img2bw\n",
    "from PIL import Image"
   ]
  },
  {
   "attachments": {},
   "cell_type": "markdown",
   "metadata": {},
   "source": [
    "# Functions"
   ]
  },
  {
   "cell_type": "code",
   "execution_count": null,
   "metadata": {},
   "outputs": [],
   "source": [
    "def plt_image_needle(r_a,z_a,path,sigma,volume0,rneedle=1,l_needle=4):\n",
    "    path=os.path.abspath('./')\n",
    "    path=path+\"/s%.2f_v%.2f_rn%.2f_ln%.2f_needle.jpg\" %(sigma, volume0, rneedle,l_needle)\n",
    "    plt.figure(figsize=(4,4))\n",
    "    plt.plot(r_a,z_a,color='black')\n",
    "    plt.plot(-r_a,z_a,color='black')\n",
    "    \n",
    "    plt.fill_between(r_a,l_needle,0,color='black')\n",
    "    plt.fill_between(-r_a,l_needle,0,color='black')\n",
    "    plt.fill_between(r_a,0,z_a,color='black')\n",
    "    plt.fill_between(-r_a,0,z_a,color='black')\n",
    "\n",
    "    plt.axis('equal')\n",
    "    plt.axis('off')\n",
    "    plt.savefig(path)"
   ]
  },
  {
   "attachments": {},
   "cell_type": "markdown",
   "metadata": {},
   "source": [
    "# Program Start"
   ]
  },
  {
   "attachments": {},
   "cell_type": "markdown",
   "metadata": {},
   "source": [
    "## input parameters and generate the image"
   ]
  },
  {
   "cell_type": "code",
   "execution_count": 6,
   "metadata": {},
   "outputs": [
    {
     "name": "stdout",
     "output_type": "stream",
     "text": [
      "iter > 1200!\n"
     ]
    },
    {
     "ename": "FileNotFoundError",
     "evalue": "[Errno 2] No such file or directory: 'd:\\\\OneDrive\\\\Documents\\\\GitHub\\\\Bayesian_PendantDrop_Tensiometry\\\\Gen_Images/s75.00_v20.00_rn1.00_ln4.00_needle.jpg'",
     "output_type": "error",
     "traceback": [
      "\u001b[1;31m---------------------------------------------------------------------------\u001b[0m",
      "\u001b[1;31mFileNotFoundError\u001b[0m                         Traceback (most recent call last)",
      "Cell \u001b[1;32mIn [6], line 12\u001b[0m\n\u001b[0;32m      9\u001b[0m plt_image_needle(r,z,path,sigma\u001b[39m=\u001b[39msigma,volume0\u001b[39m=\u001b[39mv0,rneedle\u001b[39m=\u001b[39mrNe,l_needle\u001b[39m=\u001b[39mlNe)\n\u001b[0;32m     11\u001b[0m path_ig\u001b[39m=\u001b[39mpath\u001b[39m+\u001b[39m\u001b[39m\"\u001b[39m\u001b[39m/s\u001b[39m\u001b[39m%.2f\u001b[39;00m\u001b[39m_v\u001b[39m\u001b[39m%.2f\u001b[39;00m\u001b[39m_rn\u001b[39m\u001b[39m%.2f\u001b[39;00m\u001b[39m_ln\u001b[39m\u001b[39m%.2f\u001b[39;00m\u001b[39m_needle.jpg\u001b[39m\u001b[39m\"\u001b[39m \u001b[39m%\u001b[39m(sigma, v0, rNe,lNe)\n\u001b[1;32m---> 12\u001b[0m img_gen\u001b[39m=\u001b[39mImage\u001b[39m.\u001b[39;49mopen(path_ig)\n",
      "File \u001b[1;32m~\\AppData\\Local\\Packages\\PythonSoftwareFoundation.Python.3.10_qbz5n2kfra8p0\\LocalCache\\local-packages\\Python310\\site-packages\\PIL\\Image.py:3131\u001b[0m, in \u001b[0;36mopen\u001b[1;34m(fp, mode, formats)\u001b[0m\n\u001b[0;32m   3128\u001b[0m     filename \u001b[39m=\u001b[39m fp\n\u001b[0;32m   3130\u001b[0m \u001b[39mif\u001b[39;00m filename:\n\u001b[1;32m-> 3131\u001b[0m     fp \u001b[39m=\u001b[39m builtins\u001b[39m.\u001b[39;49mopen(filename, \u001b[39m\"\u001b[39;49m\u001b[39mrb\u001b[39;49m\u001b[39m\"\u001b[39;49m)\n\u001b[0;32m   3132\u001b[0m     exclusive_fp \u001b[39m=\u001b[39m \u001b[39mTrue\u001b[39;00m\n\u001b[0;32m   3134\u001b[0m \u001b[39mtry\u001b[39;00m:\n",
      "\u001b[1;31mFileNotFoundError\u001b[0m: [Errno 2] No such file or directory: 'd:\\\\OneDrive\\\\Documents\\\\GitHub\\\\Bayesian_PendantDrop_Tensiometry\\\\Gen_Images/s75.00_v20.00_rn1.00_ln4.00_needle.jpg'"
     ]
    },
    {
     "data": {
      "image/png": "[encoded data removed]",
      "text/plain": [
       "<Figure size 400x400 with 1 Axes>"
      ]
     },
     "metadata": {},
     "output_type": "display_data"
    }
   ],
   "source": [
    "sigma=75\n",
    "v0=20\n",
    "lNe=4\n",
    "rNe=1\n",
    "path=os.path.abspath('./Gen_Images')\n",
    "\n",
    "\n",
    "r,z=genSingleDrop(savepath=path,sigma=sigma,volume0=v0,rneedle=rNe,output=1)\n",
    "plt_image_needle(r,z,path,sigma=sigma,volume0=v0,rneedle=rNe,l_needle=lNe)\n",
    "\n",
    "path_ig=path+\"/s%.2f_v%.2f_rn%.2f_ln%.2f_needle.jpg\" %(sigma, v0, rNe,lNe)\n",
    "img_gen=Image.open(path_ig)"
   ]
  },
  {
   "cell_type": "code",
   "execution_count": null,
   "metadata": {},
   "outputs": [],
   "source": [
    "# Function need be obtimized\n"
   ]
  }
 ],
 "metadata": {
  "kernelspec": {
   "display_name": "Python 3",
   "language": "python",
   "name": "python3"
  },
  "language_info": {
   "codemirror_mode": {
    "name": "ipython",
    "version": 3
   },
   "file_extension": ".py",
   "mimetype": "text/x-python",
   "name": "python",
   "nbconvert_exporter": "python",
   "pygments_lexer": "ipython3",
   "version": "3.10.9"
  },
  "orig_nbformat": 4,
  "vscode": {
   "interpreter": {
    "hash": "60437aad8983babfce94e0da8b300c92c022ccf7e7dbddf7a08c08f7ecf8beba"
   }
  }
 },
 "nbformat": 4,
 "nbformat_minor": 2
}
