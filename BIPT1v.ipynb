{
 "cells": [
  {
   "cell_type": "code",
   "execution_count": 31,
   "metadata": {},
   "outputs": [
    {
     "name": "stdout",
     "output_type": "stream",
     "text": [
      "d:\\OneDrive\\Documents\\GitHub\\Bayesian_PendantDrop_Tensiometry\n"
     ]
    }
   ],
   "source": [
    "import os.path\n",
    "import glob\n",
    "import cv2\n",
    "import cupy\n",
    "from PIL import Image\n",
    "\n",
    "\n",
    "path=os.getcwd()\n",
    "print(path)\n",
    "\n",
    "img=Image.open('./GenImages/v32.00_s100.00_p50.30.jpg')\n",
    "img_base=Image.open('./GenImages/v32.00_s100.00_p50.30.jpg')\n",
    "\n",
    "img_gray=img.conver('L')\n",
    "\n",
    "        \n",
    "\n"
   ]
  },
  {
   "cell_type": "code",
   "execution_count": 124,
   "metadata": {},
   "outputs": [],
   "source": [
    "import os.path\n",
    "import glob\n",
    "import cv2\n",
    "\n",
    "def ResizeImage(filein,width,height):\n",
    "    fileout=filein.resize((width,height),Image.Resampling.LANCZOS)\n",
    "    return fileout\n",
    "\n",
    "\n",
    "def img2bw(img,size):\n",
    "    img_rs=ResizeImage(img,size,size) #resize \n",
    "    img_gray=img_rs.convert('L') # rgb 2 gray\n",
    "    array_img=np.array(img_gray) # img 2 array\n",
    "    _,img_BW=cv2.threshold(array_img,0,255,cv2.THRESH_OTSU) # gray 2 bw\n",
    "    return img_BW\n",
    "\n"
   ]
  },
  {
   "cell_type": "code",
   "execution_count": 125,
   "metadata": {},
   "outputs": [],
   "source": [
    "def cost(img_ori,img_gen,size):\n",
    "    t=0; f=0; drop_ori=0; drop_gen=0 # pixel that same(T) different(F) and original drop (drop)\n",
    "    A=img2bw(img_ori,size)\n",
    "    B=img2bw(img_gen,size)\n",
    "    C=np.zeros((size,size))\n",
    "    for i in range (size):\n",
    "        #print(i)\n",
    "        for j in range(size):\n",
    "            #print(j)\n",
    "            if A[i,j]==0:\n",
    "                drop_ori=drop_ori+1\n",
    "            if B[i,j]==0:\n",
    "                drop_gen=drop_gen+1\n",
    "\n",
    "            if A[i,j]==B[i,j]:\n",
    "                C[i,j]=255\n",
    "                t=t+1\n",
    "            else:\n",
    "                C[i,j]=0\n",
    "                f=f+1\n",
    "    accurancy=1-f/max(drop_gen,drop_ori)\n",
    "    return accurancy,C\n"
   ]
  },
  {
   "cell_type": "code",
   "execution_count": 139,
   "metadata": {},
   "outputs": [
    {
     "name": "stdout",
     "output_type": "stream",
     "text": [
      "Accurancy is 0.70\n"
     ]
    },
    {
     "data": {
      "image/png": "[encoded data removed]",
      "text/plain": [
       "<PIL.Image.Image image mode=L size=120x120>"
      ]
     },
     "execution_count": 139,
     "metadata": {},
     "output_type": "execute_result"
    }
   ],
   "source": [
    "img_gen=Image.open('./GenImages/s55.00_v10.00_p41.39.jpg')\n",
    "img_ori=Image.open('./GenImages/s55.00_v25.00_p35.04.jpg')\n",
    "\n",
    "A=img_ori\n",
    "B=img_gen\n",
    "ac,C=cost(B,A,120)\n",
    "print('Accurancy is %.2f'%(ac))\n",
    "Image.fromarray(np.uint8(C))\n",
    "\n"
   ]
  },
  {
   "cell_type": "code",
   "execution_count": 144,
   "metadata": {},
   "outputs": [
    {
     "name": "stderr",
     "output_type": "stream",
     "text": [
      "d:\\OneDrive\\Documents\\GitHub\\Bayesian_PendantDrop_Tensiometry\\genDrops_python\\genSingleDrop.py:133: RuntimeWarning: invalid value encountered in divide\n",
      "  A31 = -sigmaprime*np.diag(np.squeeze(np.sin(psi)/r**2))\n",
      "d:\\OneDrive\\Documents\\GitHub\\Bayesian_PendantDrop_Tensiometry\\genDrops_python\\genSingleDrop.py:135: RuntimeWarning: divide by zero encountered in divide\n",
      "  A33 = C*sigmaprime*D + sigmaprime*np.diag(np.squeeze(np.cos(psi)/r))\n",
      "d:\\OneDrive\\Documents\\GitHub\\Bayesian_PendantDrop_Tensiometry\\genDrops_python\\genSingleDrop.py:138: RuntimeWarning: invalid value encountered in divide\n",
      "  b3 = p0-z-sigmaprime*(C*np.dot(D,psi)+np.sin(psi)/r)\n"
     ]
    },
    {
     "name": "stdout",
     "output_type": "stream",
     "text": [
      "iter > 1200!\n",
      "Elapsed time: 10.627986 seconds\n",
      "volume =  10.0  mm^3\n",
      "area =  19.863803232102  mm^2\n",
      "pressure =  41.387617222626  Pa\n"
     ]
    },
    {
     "data": {
      "image/png": "[encoded data removed]",
      "text/plain": [
       "<Figure size 400x400 with 1 Axes>"
      ]
     },
     "metadata": {},
     "output_type": "display_data"
    }
   ],
   "source": [
    "from genDrops_python.genSingleDrop import *\n",
    "\n",
    "genSingleDrop(55,10,1)"
   ]
  }
 ],
 "metadata": {
  "kernelspec": {
   "display_name": "Python 3.10.8 64-bit (microsoft store)",
   "language": "python",
   "name": "python3"
  },
  "language_info": {
   "codemirror_mode": {
    "name": "ipython",
    "version": 3
   },
   "file_extension": ".py",
   "mimetype": "text/x-python",
   "name": "python",
   "nbconvert_exporter": "python",
   "pygments_lexer": "ipython3",
   "version": "3.10.8"
  },
  "orig_nbformat": 4,
  "vscode": {
   "interpreter": {
    "hash": "60437aad8983babfce94e0da8b300c92c022ccf7e7dbddf7a08c08f7ecf8beba"
   }
  }
 },
 "nbformat": 4,
 "nbformat_minor": 2
}
