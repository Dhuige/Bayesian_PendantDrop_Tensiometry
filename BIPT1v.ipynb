{
 "cells": [
  {
   "attachments": {},
   "cell_type": "markdown",
   "metadata": {},
   "source": [
    "# Cost Function： 6 parameters"
   ]
  },
  {
   "cell_type": "code",
   "execution_count": 4,
   "metadata": {},
   "outputs": [],
   "source": [
    "import os.path\n",
    "import glob\n",
    "import cv2\n",
    "import numpy as np\n",
    "from PIL import Image\n",
    "import matplotlib.pyplot as plt\n",
    "from cost_function import cost, img2bw"
   ]
  },
  {
   "cell_type": "code",
   "execution_count": 12,
   "metadata": {},
   "outputs": [],
   "source": [
    "def ResizeImage(filein,width,height):\n",
    "    fileout=filein.resize((width,height),Image.Resampling.LANCZOS)\n",
    "    return fileout\n",
    "\n",
    "\n",
    "def img2bw(img): \n",
    "    img_gray=img.convert('L') # rgb 2 gray\n",
    "    array_img=np.array(img_gray) # img 2 array\n",
    "    _,img_BW=cv2.threshold(array_img,0,255,cv2.THRESH_OTSU) # gray 2 bw\n",
    "    return img_BW\n",
    "\n",
    "    "
   ]
  },
  {
   "cell_type": "code",
   "execution_count": 8,
   "metadata": {},
   "outputs": [
    {
     "name": "stdout",
     "output_type": "stream",
     "text": [
      "323\n"
     ]
    }
   ],
   "source": [
    "img_gen=Image.open('./result.png')\n",
    "w_gen,h_gen=img_gen.size\n",
    "img_ori=Image.open('./images_experiment/220304_miliq_T17.7_S73.04.png')\n",
    "w_ori,h_ori=img_ori.size\n"
   ]
  },
  {
   "cell_type": "code",
   "execution_count": 72,
   "metadata": {},
   "outputs": [],
   "source": [
    "#input\n",
    "x=20\n",
    "y=0\n",
    "img_gen=Image.open('./result.png')\n",
    "#img_ori=Image.open('./images_experiment/220304_miliq_T17.7_S73.04.png')\n",
    "\n",
    "path_ori=os.path.abspath('./images_experiment/220304_miliq_T17.7_S73.04.png')\n",
    "img_ori=Image.open(path_ori)\n",
    "\n",
    "K=1 # reletive scaling constant\n",
    "\n",
    "#used for reshape the images\n",
    "w_gen,h_gen=img_gen.size\n",
    "w_ori,h_ori=img_ori.size\n",
    "\n",
    "scaling_ori=100/w_ori # reshape the origin image to weight 100\n",
    "w_ori2=int(scaling_ori*w_ori)\n",
    "h_ori2=int(scaling_ori*h_ori)\n",
    "\n",
    "scaling_gen=K*scaling_ori\n",
    "w_gen2=int(scaling_gen*w_gen)\n",
    "h_gen2=int(scaling_gen*h_gen)\n",
    "\n",
    "\n",
    "A=img2bw(ResizeImage(img_ori,w_ori2,h_ori2))\n",
    "B=img2bw(ResizeImage(img_gen,w_gen2,h_gen2))\n",
    "C=np.zeros((w_ori2,h_ori2))\n",
    "\n",
    "#print(B.shape)\n",
    "#Image.fromarray(np.uint8(B))\n",
    "\n",
    "for i in range (h_ori2): # h\n",
    "    for j in range(w_ori2): # w\n",
    "        if i < y or i-y>= h_gen2 or j < x or j-x >= w_gen2:\n",
    "            C[i,j]=A[i,j]\n",
    "        else:\n",
    "            if  A[i,j]==B[i-y,j-x]:\n",
    "                C[i,j]=255\n",
    "            else:\n",
    "                C[i,j]=0\n",
    "        \n",
    "\n",
    "# pixel that same(T) different(F) and drop area\n",
    "t=0; f=0; \n",
    "#drop_ori=0; drop_gen=0 \n",
    "for i in range (w_ori2):\n",
    "    for j in range(h_ori2):\n",
    "        if C[i,j]==0:\n",
    "            f=f+1\n",
    "        else:\n",
    "            t=t+1\n",
    "\n",
    "\n",
    "lost=f/max(w_ori2*h_ori2,w_gen2*h_gen2)"
   ]
  },
  {
   "cell_type": "code",
   "execution_count": 65,
   "metadata": {},
   "outputs": [
    {
     "data": {
      "image/png": "[encoded data removed]",
      "text/plain": [
       "<PIL.Image.Image image mode=L size=100x100>"
      ]
     },
     "execution_count": 65,
     "metadata": {},
     "output_type": "execute_result"
    }
   ],
   "source": [
    "Image.fromarray(np.uint8(C))"
   ]
  },
  {
   "cell_type": "markdown",
   "metadata": {},
   "source": [
    "# Remove the Needle"
   ]
  },
  {
   "cell_type": "code",
   "execution_count": 5,
   "metadata": {},
   "outputs": [],
   "source": [
    "from PIL import Image\n",
    "import numpy as np\n",
    "from cost_function import img2bw, ResizeImage"
   ]
  },
  {
   "cell_type": "code",
   "execution_count": 12,
   "metadata": {},
   "outputs": [
    {
     "data": {
      "image/png": "[encoded data removed]",
      "text/plain": [
       "<PIL.Image.Image image mode=L size=300x300>"
      ]
     },
     "execution_count": 12,
     "metadata": {},
     "output_type": "execute_result"
    }
   ],
   "source": [
    "path_ori=os.path.abspath('./images_experiment/220304_miliq_T17.7_S73.04.png')\n",
    "img_ori=Image.open(path_ori)\n",
    "\n",
    "# Resize and convert img to nparray\n",
    "w_ori,h_ori=img_ori.size\n",
    "width=300\n",
    "scaling_ori=width/w_ori # reshape the origin image to weight 100\n",
    "w_ori2=int(scaling_ori*w_ori)\n",
    "h_ori2=int(scaling_ori*h_ori)\n",
    "A=img2bw(ResizeImage(img_ori,w_ori2,h_ori2))\n",
    "\n",
    "Image.fromarray(np.uint8(A))\n",
    "\n"
   ]
  }
 ],
 "metadata": {
  "kernelspec": {
   "display_name": "Python 3.9.10 64-bit",
   "language": "python",
   "name": "python3"
  },
  "language_info": {
   "codemirror_mode": {
    "name": "ipython",
    "version": 3
   },
   "file_extension": ".py",
   "mimetype": "text/x-python",
   "name": "python",
   "nbconvert_exporter": "python",
   "pygments_lexer": "ipython3",
   "version": "3.9.10"
  },
  "orig_nbformat": 4,
  "vscode": {
   "interpreter": {
    "hash": "aee8b7b246df8f9039afb4144a1f6fd8d2ca17a180786b69acc140d282b71a49"
   }
  }
 },
 "nbformat": 4,
 "nbformat_minor": 2
}
