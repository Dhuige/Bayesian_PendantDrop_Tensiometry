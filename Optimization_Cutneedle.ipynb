{
 "cells": [
  {
   "cell_type": "code",
   "execution_count": 1,
   "metadata": {},
   "outputs": [],
   "source": [
    "import os\n",
    "import math as m\n",
    "from codes_gendrops_py.genSingleDrop import *\n",
    "from codes_gendrops_py.fit_circle_through_3_points import *\n",
    "import matplotlib.pyplot as plt\n",
    "import matplotlib.image as mpimg\n",
    "from cost_function import img2bw,ResizeImage\n",
    "from PIL import Image\n",
    "from remove_edge import *\n",
    "import numpy as np"
   ]
  },
  {
   "cell_type": "code",
   "execution_count": 88,
   "metadata": {},
   "outputs": [],
   "source": [
    "def cost_new(img_ori,img_syn,x,width=100,K=1,output=0):\n",
    "    '''\n",
    "    input:              \n",
    "    x:                the origin point of synthetic image\n",
    "    img_syn,img_ori:    the images that need to calculate the cost \n",
    "                        should be valued by 'Image.open(path)'\n",
    "    K:                  the scaling of synthethic image\n",
    "    output: 0 -->lost, 1-->C, else C,lost\n",
    "    '''\n",
    "    w_ori,h_ori=img_ori.size\n",
    "    w_syn,h_syn=img_syn.size\n",
    "    \n",
    "\n",
    "    scaling_ori=width/w_ori # reshape the origin image to width 100\n",
    "    w_ori2=int(scaling_ori*w_ori)\n",
    "    h_ori2=int(scaling_ori*h_ori)\n",
    "    scaling_syn=K*scaling_ori\n",
    "    w_syn2=int(scaling_syn*w_syn)\n",
    "    h_syn2=int(scaling_syn*h_syn)\n",
    "    x=int(x)\n",
    "\n",
    "    A=img2bw(ResizeImage(img_ori,w_ori2,h_ori2))\n",
    "    one=np.ones((w_ori2-h_ori2,w_ori2))*255\n",
    "    A=np.row_stack((A,one))\n",
    "\n",
    "\n",
    "    B=img2bw(ResizeImage(img_syn,w_syn2,h_syn2))\n",
    "    C=np.zeros((w_ori2,w_ori2))\n",
    "\n",
    "    for i in range (w_ori2): # h\n",
    "        for j in range(w_ori2): # w\n",
    "            #print (h_ori2,w_ori2)\n",
    "            #print(i,j)\n",
    "            if j < x or j-x >= w_syn2 or i >= h_syn2 :\n",
    "                 C[i,j]=A[i,j]\n",
    "            else:\n",
    "                if  A[i,j]==B[i,j-x]: # B[i-y,j-x]\n",
    "                    C[i,j]=255\n",
    "                else:\n",
    "                    C[i,j]=0\n",
    "    \n",
    "    # pixel that same(T) different(F) and drop area\n",
    "    t=0; f=0; \n",
    "    #drop_ori=0; drop_gen=0 \n",
    "    for i in range (w_ori2):\n",
    "        for j in range(h_ori2):\n",
    "            if C[i,j]==0:\n",
    "                f=f+1\n",
    "            else:\n",
    "                t=t+1\n",
    "    lost=f/max(w_ori2*h_ori2,w_syn2*h_syn2)\n",
    "    accurancy=1-lost\n",
    "\n",
    "    if output == 0:\n",
    "        return lost\n",
    "    elif output == 1:\n",
    "        return C\n",
    "    else:\n",
    "        return C,lost"
   ]
  },
  {
   "cell_type": "code",
   "execution_count": 61,
   "metadata": {},
   "outputs": [],
   "source": [
    "def cut_needle(img_ori,savepath='./'):\n",
    "    path=savepath+\"cut_needle.png\" #%(sigma, volume0, rneedle)\n",
    "\n",
    "    w_ori,h_ori=img_ori.size\n",
    "\n",
    "    scaling_ori=300/w_ori # reshape the origin image to weight 100\n",
    "\n",
    "    w_ori2=int(scaling_ori*w_ori)\n",
    "    h_ori2=int(scaling_ori*h_ori)\n",
    "\n",
    "    A=img2bw(ResizeImage(img_ori,w_ori2,h_ori2))\n",
    "\n",
    "    left_edge=np.zeros(w_ori2)\n",
    "    right_edge=np.zeros(w_ori2)\n",
    "    for i in range(h_ori2):\n",
    "        for j in range(w_ori2):\n",
    "            if A[i,j-1]>=125 and A[i,j]<125:\n",
    "                #print('Left position',i,j)\n",
    "                left_edge[i]=j\n",
    "            if A[i,j-1]<=125 and A[i,j]>125:\n",
    "                #print('Right position',i,j)\n",
    "                right_edge[i]=j\n",
    "\n",
    "    needle=np.abs(left_edge-right_edge)\n",
    "\n",
    "    end=0\n",
    "    #print(needle.shape[0])\n",
    "    for j in range(needle.shape[0]-1):\n",
    "        j=j+1\n",
    "        #print((needle[j]-needle[0])/needle[0])\n",
    "        if end == 0:\n",
    "            if abs((needle[j]-needle[0])/needle[0])>0.05:\n",
    "                stopline=j\n",
    "                #print(j)\n",
    "                end=end+1\n",
    "    #print(stopline)\n",
    "\n",
    "    img_WON=np.zeros((h_ori2-stopline,w_ori2))\n",
    "    for i in range(h_ori2):\n",
    "        if i>=stopline:\n",
    "            img_WON[i-stopline,:]=A[i,:]\n",
    "            \n",
    "    img=Image.fromarray(np.uint8(img_WON))\n",
    "    img.save(path)\n",
    "    return path"
   ]
  },
  {
   "cell_type": "code",
   "execution_count": 56,
   "metadata": {},
   "outputs": [],
   "source": [
    "path_ori=os.path.abspath('./images_experiment/220304_miliq_T17.7_S73.04.png')\n",
    "img_ori=Image.open(path_ori)\n",
    "ori_path,img_ori=cut_needle(img_ori,'./')"
   ]
  },
  {
   "cell_type": "code",
   "execution_count": 1,
   "metadata": {},
   "outputs": [],
   "source": [
    "def obtimize_function5p(svrxk,path_ori=os.path.abspath('./images_experiment/220304_miliq_T17.7_S73.04.png'),path=os.path.abspath('./images_gen'),output=0):\n",
    "    '''change the path_ori to select an different image'''\n",
    "    sigma = svrxk[0]\n",
    "    v0    = svrxk[1]\n",
    "    rNe   = svrxk[2]\n",
    "    x     = svrxk[3]\n",
    "    k     = svrxk[4]\n",
    "\n",
    "    # import img_ori\n",
    "    path_ori=os.path.abspath('./images_experiment/220304_miliq_T17.7_S73.04.png')\n",
    "    path_ori=cut_needle(Image.open(path_ori))\n",
    "\n",
    "    # import img_syn\n",
    "    path_syn=genSingleDrop(savepath=os.path.abspath('./images_gen'),sigma=sigma,\n",
    "                            volume0=v0,rneedle=rNe,output=0)\n",
    "    ## Crop the edge of syn image\n",
    "    img_syn,path_syn = corp_margin(io.imread(path_syn))\n",
    "\n",
    "    img_syn=Image.open(path_syn)\n",
    "    img_ori=Image.open(path_ori)\n",
    "\n",
    "    # calulate the lost\n",
    "    if output == 0:\n",
    "        lost=cost_new(x,img_syn,img_ori,k,output=output)\n",
    "        return lost\n",
    "    elif output == 1:\n",
    "        C=cost_new(x,img_syn,img_ori,k,output=output)\n",
    "        return C\n",
    "    else:\n",
    "        C,lost = cost_new(x,img_syn,img_ori,k,output=output)\n",
    "        return C,lost"
   ]
  },
  {
   "cell_type": "code",
   "execution_count": 75,
   "metadata": {},
   "outputs": [
    {
     "ename": "IndexError",
     "evalue": "index 75 is out of bounds for axis 1 with size 75",
     "output_type": "error",
     "traceback": [
      "\u001b[1;31m---------------------------------------------------------------------------\u001b[0m",
      "\u001b[1;31mIndexError\u001b[0m                                Traceback (most recent call last)",
      "Cell \u001b[1;32mIn [75], line 21\u001b[0m\n\u001b[0;32m     18\u001b[0m img_ori\u001b[39m=\u001b[39mImage\u001b[39m.\u001b[39mopen(path_ori)\n\u001b[0;32m     19\u001b[0m img_syn\u001b[39m=\u001b[39mImage\u001b[39m.\u001b[39mopen(path_syn)\n\u001b[1;32m---> 21\u001b[0m lost\u001b[39m=\u001b[39mcost(x,img_syn,img_ori,k,output\u001b[39m=\u001b[39;49m\u001b[39m0\u001b[39;49m)\n",
      "Cell \u001b[1;32mIn [74], line 34\u001b[0m, in \u001b[0;36mcost\u001b[1;34m(x, img_syn, img_ori, K, output, width)\u001b[0m\n\u001b[0;32m     31\u001b[0m \u001b[39mfor\u001b[39;00m j \u001b[39min\u001b[39;00m \u001b[39mrange\u001b[39m(w_ori2): \u001b[39m# w\u001b[39;00m\n\u001b[0;32m     32\u001b[0m     \u001b[39m#print(i,j)\u001b[39;00m\n\u001b[0;32m     33\u001b[0m     \u001b[39mif\u001b[39;00m j \u001b[39m<\u001b[39m x \u001b[39mor\u001b[39;00m j\u001b[39m-\u001b[39mx \u001b[39m>\u001b[39m\u001b[39m=\u001b[39m w_syn2: \u001b[39m#i < y or i-y >= h_syn2 or \u001b[39;00m\n\u001b[1;32m---> 34\u001b[0m          C[i,j]\u001b[39m=\u001b[39mA[i,j]\n\u001b[0;32m     35\u001b[0m     \u001b[39melse\u001b[39;00m:\n\u001b[0;32m     36\u001b[0m         \u001b[39mif\u001b[39;00m  A[i,j]\u001b[39m==\u001b[39mB[i,j\u001b[39m-\u001b[39mx]: \u001b[39m# B[i-y,j-x]\u001b[39;00m\n",
      "\u001b[1;31mIndexError\u001b[0m: index 75 is out of bounds for axis 1 with size 75"
     ]
    },
    {
     "data": {
      "image/png": "[encoded data removed]",
      "text/plain": [
       "<Figure size 400x400 with 1 Axes>"
      ]
     },
     "metadata": {},
     "output_type": "display_data"
    }
   ],
   "source": [
    "svrxk=np.asarray((75,15,0.5,30,1))\n",
    "sigma =svlrxyk[0]\n",
    "v0    =svlrxyk[1]\n",
    "rNe   =svlrxyk[2]\n",
    "x     =svlrxyk[3]\n",
    "k     =svlrxyk[4]\n",
    "\n",
    "# generate the synthetic image\n",
    "path=os.path.abspath('./images_gen')\n",
    "path_syn=genSingleDrop(savepath=path,sigma=sigma,volume0=v0,rneedle=rNe,output=0)\n",
    "\n",
    "im = io.imread(path_syn)\n",
    "img_syn,path_syn = corp_margin(im)\n",
    "\n",
    "# open the origianl image and cut the needle\n",
    "img_ori0=Image.open(path_ori)\n",
    "path_ori,img_ori=cut_needle(img_ori0)\n",
    "img_ori=Image.open(path_ori)\n",
    "img_syn=Image.open(path_syn)\n",
    "\n",
    "lost=cost(x,img_syn,img_ori,k,output=0)"
   ]
  },
  {
   "cell_type": "code",
   "execution_count": 81,
   "metadata": {},
   "outputs": [
    {
     "name": "stdout",
     "output_type": "stream",
     "text": [
      "(230, 281) (640, 480)\n"
     ]
    }
   ],
   "source": [
    "print(img_syn.size,img_ori.size)\n"
   ]
  },
  {
   "cell_type": "code",
   "execution_count": 63,
   "metadata": {},
   "outputs": [
    {
     "ename": "TypeError",
     "evalue": "cannot unpack non-iterable int object",
     "output_type": "error",
     "traceback": [
      "\u001b[1;31m---------------------------------------------------------------------------\u001b[0m",
      "\u001b[1;31mTypeError\u001b[0m                                 Traceback (most recent call last)",
      "Cell \u001b[1;32mIn [63], line 5\u001b[0m\n\u001b[0;32m      3\u001b[0m x0\u001b[39m=\u001b[39mnp\u001b[39m.\u001b[39masarray((\u001b[39m75\u001b[39m,\u001b[39m15\u001b[39m,\u001b[39m0.5\u001b[39m,\u001b[39m30\u001b[39m,\u001b[39m1\u001b[39m))\n\u001b[0;32m      4\u001b[0m \u001b[39m#sigma; v0; length_Ne,r_Ne; x,y; scaling_rate;\u001b[39;00m\n\u001b[1;32m----> 5\u001b[0m scipy\u001b[39m.\u001b[39;49moptimize\u001b[39m.\u001b[39;49mminimize(obtimize_function5p,x0,method\u001b[39m=\u001b[39;49m\u001b[39m'\u001b[39;49m\u001b[39mnelder-mead\u001b[39;49m\u001b[39m'\u001b[39;49m)\n",
      "File \u001b[1;32m~\\AppData\\Local\\Packages\\PythonSoftwareFoundation.Python.3.10_qbz5n2kfra8p0\\LocalCache\\local-packages\\Python310\\site-packages\\scipy\\optimize\\_minimize.py:687\u001b[0m, in \u001b[0;36mminimize\u001b[1;34m(fun, x0, args, method, jac, hess, hessp, bounds, constraints, tol, callback, options)\u001b[0m\n\u001b[0;32m    684\u001b[0m     bounds \u001b[39m=\u001b[39m standardize_bounds(bounds, x0, meth)\n\u001b[0;32m    686\u001b[0m \u001b[39mif\u001b[39;00m meth \u001b[39m==\u001b[39m \u001b[39m'\u001b[39m\u001b[39mnelder-mead\u001b[39m\u001b[39m'\u001b[39m:\n\u001b[1;32m--> 687\u001b[0m     res \u001b[39m=\u001b[39m _minimize_neldermead(fun, x0, args, callback, bounds\u001b[39m=\u001b[39mbounds,\n\u001b[0;32m    688\u001b[0m                                \u001b[39m*\u001b[39m\u001b[39m*\u001b[39moptions)\n\u001b[0;32m    689\u001b[0m \u001b[39melif\u001b[39;00m meth \u001b[39m==\u001b[39m \u001b[39m'\u001b[39m\u001b[39mpowell\u001b[39m\u001b[39m'\u001b[39m:\n\u001b[0;32m    690\u001b[0m     res \u001b[39m=\u001b[39m _minimize_powell(fun, x0, args, callback, bounds, \u001b[39m*\u001b[39m\u001b[39m*\u001b[39moptions)\n",
      "File \u001b[1;32m~\\AppData\\Local\\Packages\\PythonSoftwareFoundation.Python.3.10_qbz5n2kfra8p0\\LocalCache\\local-packages\\Python310\\site-packages\\scipy\\optimize\\_optimize.py:772\u001b[0m, in \u001b[0;36m_minimize_neldermead\u001b[1;34m(func, x0, args, callback, maxiter, maxfev, disp, return_all, initial_simplex, xatol, fatol, adaptive, bounds, **unknown_options)\u001b[0m\n\u001b[0;32m    770\u001b[0m \u001b[39mtry\u001b[39;00m:\n\u001b[0;32m    771\u001b[0m     \u001b[39mfor\u001b[39;00m k \u001b[39min\u001b[39;00m \u001b[39mrange\u001b[39m(N \u001b[39m+\u001b[39m \u001b[39m1\u001b[39m):\n\u001b[1;32m--> 772\u001b[0m         fsim[k] \u001b[39m=\u001b[39m func(sim[k])\n\u001b[0;32m    773\u001b[0m \u001b[39mexcept\u001b[39;00m _MaxFuncCallError:\n\u001b[0;32m    774\u001b[0m     \u001b[39mpass\u001b[39;00m\n",
      "File \u001b[1;32m~\\AppData\\Local\\Packages\\PythonSoftwareFoundation.Python.3.10_qbz5n2kfra8p0\\LocalCache\\local-packages\\Python310\\site-packages\\scipy\\optimize\\_optimize.py:496\u001b[0m, in \u001b[0;36m_wrap_scalar_function_maxfun_validation.<locals>.function_wrapper\u001b[1;34m(x, *wrapper_args)\u001b[0m\n\u001b[0;32m    494\u001b[0m ncalls[\u001b[39m0\u001b[39m] \u001b[39m+\u001b[39m\u001b[39m=\u001b[39m \u001b[39m1\u001b[39m\n\u001b[0;32m    495\u001b[0m \u001b[39m# A copy of x is sent to the user function (gh13740)\u001b[39;00m\n\u001b[1;32m--> 496\u001b[0m fx \u001b[39m=\u001b[39m function(np\u001b[39m.\u001b[39;49mcopy(x), \u001b[39m*\u001b[39;49m(wrapper_args \u001b[39m+\u001b[39;49m args))\n\u001b[0;32m    497\u001b[0m \u001b[39m# Ideally, we'd like to a have a true scalar returned from f(x). For\u001b[39;00m\n\u001b[0;32m    498\u001b[0m \u001b[39m# backwards-compatibility, also allow np.array([1.3]),\u001b[39;00m\n\u001b[0;32m    499\u001b[0m \u001b[39m# np.array([[1.3]]) etc.\u001b[39;00m\n\u001b[0;32m    500\u001b[0m \u001b[39mif\u001b[39;00m \u001b[39mnot\u001b[39;00m np\u001b[39m.\u001b[39misscalar(fx):\n",
      "Cell \u001b[1;32mIn [62], line 24\u001b[0m, in \u001b[0;36mobtimize_function5p\u001b[1;34m(svlrxyk, path_ori, path, output)\u001b[0m\n\u001b[0;32m     22\u001b[0m \u001b[39m# calulate the lost\u001b[39;00m\n\u001b[0;32m     23\u001b[0m \u001b[39mif\u001b[39;00m output \u001b[39m==\u001b[39m \u001b[39m0\u001b[39m:\n\u001b[1;32m---> 24\u001b[0m     lost\u001b[39m=\u001b[39mcost(x,img_syn,img_ori,k,output\u001b[39m=\u001b[39;49moutput)\n\u001b[0;32m     25\u001b[0m     \u001b[39mreturn\u001b[39;00m lost\n\u001b[0;32m     26\u001b[0m \u001b[39melif\u001b[39;00m output \u001b[39m==\u001b[39m \u001b[39m1\u001b[39m:\n",
      "Cell \u001b[1;32mIn [2], line 11\u001b[0m, in \u001b[0;36mcost\u001b[1;34m(x, img_syn, img_ori, K, output, width)\u001b[0m\n\u001b[0;32m      2\u001b[0m \u001b[39m'''\u001b[39;00m\n\u001b[0;32m      3\u001b[0m \u001b[39minput:              \u001b[39;00m\n\u001b[0;32m      4\u001b[0m \u001b[39mx,y:                the origin point of synthetic image\u001b[39;00m\n\u001b[1;32m   (...)\u001b[0m\n\u001b[0;32m      7\u001b[0m \u001b[39mK:                  the scaling of synthethic image\u001b[39;00m\n\u001b[0;32m      8\u001b[0m \u001b[39m'''\u001b[39;00m\n\u001b[0;32m     10\u001b[0m w_syn,h_syn\u001b[39m=\u001b[39mimg_syn\u001b[39m.\u001b[39msize\n\u001b[1;32m---> 11\u001b[0m w_ori,h_ori\u001b[39m=\u001b[39mimg_ori\u001b[39m.\u001b[39msize\n\u001b[0;32m     13\u001b[0m \u001b[39m### the image size can be changed here\u001b[39;00m\n\u001b[0;32m     14\u001b[0m scaling_ori\u001b[39m=\u001b[39mwidth\u001b[39m/\u001b[39mw_ori \u001b[39m# reshape the origin image to width 100\u001b[39;00m\n",
      "\u001b[1;31mTypeError\u001b[0m: cannot unpack non-iterable int object"
     ]
    },
    {
     "data": {
      "image/png": "[encoded data removed]",
      "text/plain": [
       "<Figure size 400x400 with 1 Axes>"
      ]
     },
     "metadata": {},
     "output_type": "display_data"
    }
   ],
   "source": [
    "import scipy.optimize\n",
    "# use scipy obtimaize the parameter\n",
    "x0=np.asarray((75,15,0.5,30,1))\n",
    "#sigma; v0; length_Ne,r_Ne; x,y; scaling_rate;\n",
    "scipy.optimize.minimize(obtimize_function5p,x0,method='nelder-mead')\n"
   ]
  }
 ],
 "metadata": {
  "kernelspec": {
   "display_name": "Python 3",
   "language": "python",
   "name": "python3"
  },
  "language_info": {
   "codemirror_mode": {
    "name": "ipython",
    "version": 3
   },
   "file_extension": ".py",
   "mimetype": "text/x-python",
   "name": "python",
   "nbconvert_exporter": "python",
   "pygments_lexer": "ipython3",
   "version": "3.10.9"
  },
  "orig_nbformat": 4,
  "vscode": {
   "interpreter": {
    "hash": "60437aad8983babfce94e0da8b300c92c022ccf7e7dbddf7a08c08f7ecf8beba"
   }
  }
 },
 "nbformat": 4,
 "nbformat_minor": 2
}
