{
 "cells": [
  {
   "cell_type": "code",
   "execution_count": 2,
   "metadata": {},
   "outputs": [],
   "source": [
    "import numpy as np\n",
    "import numpy.matlib\n",
    "from numpy.matlib import repmat\n",
    "import math as m\n",
    "import os\n",
    "from scipy.linalg import toeplitz\n",
    "from scipy.special import gamma\n",
    "from scipy.interpolate import interp1d\n",
    "import scipy.sparse\n",
    "import scipy\n",
    "from genDrops_python.genSingleDrop import *\n",
    "from genDrops_python.fit_circle_through_3_points import *\n",
    "import matplotlib.pyplot as plt\n",
    "import matplotlib.image as mpimg\n",
    "import time"
   ]
  },
  {
   "cell_type": "code",
   "execution_count": 11,
   "metadata": {},
   "outputs": [],
   "source": [
    "def plt_image_needle(r_a,z_a,path,l_needle=4,sigma=0,volume0=0,rneedle=1):\n",
    "    path=os.path.abspath('./')\n",
    "    path=path+\"/s%.2f_v%.2f_rn%.2f_ln%.2f_needle.jpg\" %(sigma, volume0, rneedle,l_needle)\n",
    "    plt.figure(figsize=(4,4))\n",
    "    plt.plot(r_a,z_a,color='black')\n",
    "    plt.plot(-r_a,z_a,color='black')\n",
    "    \n",
    "    plt.fill_between(r_a,l_needle,0,color='black')\n",
    "    plt.fill_between(-r_a,l_needle,0,color='black')\n",
    "    plt.fill_between(r_a,0,z_a,color='black')\n",
    "    plt.fill_between(-r_a,0,z_a,color='black')\n",
    "\n",
    "    plt.axis('equal')\n",
    "    plt.axis('off')\n",
    "    plt.savefig(path)\n",
    "\n",
    "\n",
    "\n",
    "def remove_edge_figure(img_path): \n",
    "    img = mpimg.imread(img_path)\n",
    "    ini_size = img.shape\n",
    "    x = 0\n",
    "    xx = img.shape[0]\n",
    "    y = 0\n",
    "    yy = img.shape[1]\n",
    "    for channel in range(img.shape[2]):\n",
    "        for i in np.arange(0, img.shape[0], 1):\n",
    "            if img[i, :, channel].sum() != img.shape[1]:\n",
    "                x = max(x, i)\n",
    "                break\n",
    "        for i in np.arange(img.shape[0] - 1, -1, -1):\n",
    "            if img[i, :, channel].sum() != img.shape[1]:\n",
    "                xx = min(xx, i)\n",
    "                break\n",
    "        for j in np.arange(0, img.shape[1], 1):\n",
    "            if img[:, j, channel].sum() != img.shape[0]:\n",
    "                y = max(y, j)\n",
    "                break\n",
    "        for j in np.arange(img.shape[1] - 1, -1, -1):\n",
    "            if img[:, j, channel].sum() != img.shape[0]:\n",
    "                yy = min(yy, j)\n",
    "                break\n",
    "    cutted_res = img[x - 5:xx + 5, y - 5:yy + 5, :]\n",
    "    return cutted_res, ini_size, cutted_res.shape"
   ]
  },
  {
   "cell_type": "code",
   "execution_count": 6,
   "metadata": {},
   "outputs": [],
   "source": [
    "sigma=73\n",
    "volume0=20\n",
    "rneedle=0.5"
   ]
  },
  {
   "cell_type": "code",
   "execution_count": 13,
   "metadata": {},
   "outputs": [
    {
     "name": "stdout",
     "output_type": "stream",
     "text": [
      "iter > 1200!\n",
      "iter > 1200!\n"
     ]
    },
    {
     "data": {
      "image/png": "[encoded data removed]",
      "text/plain": [
       "<Figure size 400x400 with 1 Axes>"
      ]
     },
     "metadata": {},
     "output_type": "display_data"
    },
    {
     "data": {
      "image/png": "[encoded data removed]",
      "text/plain": [
       "<Figure size 400x400 with 1 Axes>"
      ]
     },
     "metadata": {},
     "output_type": "display_data"
    }
   ],
   "source": [
    "from genDrops_python.genSingleDrop import *\n",
    "# plot the shape of the drop on the plotting grid\n",
    "#path=savepath+\"/s%.2f_v%.2f_rn%.2f.jpg\" %(sigma, volume0, rneedle)\n",
    "path=os.path.abspath('./')\n",
    "sigma=73\n",
    "volume0=18\n",
    "rneedle=0.5\n",
    "genSingleDrop(path,sigma=sigma,volume0=volume0,rneedle=rneedle,output=0)\n",
    "r_a,z_a=genSingleDrop(path,sigma=sigma,volume0=volume0,rneedle=rneedle,output=1)\n",
    "plt_image_needle(r_a,z_a,path,sigma=sigma,volume0=volume0,rneedle=rneedle)"
   ]
  },
  {
   "cell_type": "code",
   "execution_count": 65,
   "metadata": {},
   "outputs": [
    {
     "data": {
      "image/png": "[encoded data removed]",
      "text/plain": [
       "<Figure size 400x400 with 1 Axes>"
      ]
     },
     "metadata": {},
     "output_type": "display_data"
    }
   ],
   "source": [
    "path=os.path.abspath('./')\n",
    "path=path+\"/needle_s%.2f_v%.2f_rn%.2f.jpg\" %(sigma, volume0, rneedle)\n",
    "plt.figure(figsize=(4,4))\n",
    "plt.plot(r_a,z_a,color='black')\n",
    "plt.plot(-r_a,z_a,color='black')\n",
    "l_needle=4\n",
    "plt.fill_between(r_a,l_needle,0,color='black')\n",
    "plt.fill_between(-r_a,l_needle,0,color='black')\n",
    "plt.fill_between(r_a,0,z_a,color='black')\n",
    "plt.fill_between(-r_a,0,z_a,color='black')\n",
    "\n",
    "plt.axis('equal')\n",
    "plt.axis('off')\n",
    "plt.savefig(path)"
   ]
  },
  {
   "cell_type": "code",
   "execution_count": 57,
   "metadata": {},
   "outputs": [
    {
     "name": "stdout",
     "output_type": "stream",
     "text": [
      "d:\\OneDrive\\Documents\\GitHub\\Bayesian_PendantDrop_Tensiometry/needle_s73.00_v20.00_rn0.50.jpgresize.png\n"
     ]
    }
   ],
   "source": [
    "path_img=os.path.abspath('./needle_s0.00_v0.00_rn1.00.jpg')\n",
    "cutted_figure, ini_size, final_size=remove_edge_figure(path_img)\n",
    "mpimg.imsave(path + 'resize.png', cutted_figure)\n",
    "print(path + 'resize.png')"
   ]
  },
  {
   "cell_type": "code",
   "execution_count": 15,
   "metadata": {},
   "outputs": [
    {
     "name": "stdout",
     "output_type": "stream",
     "text": [
      "0.5489700036140224\n"
     ]
    },
    {
     "data": {
      "image/png": "[encoded data removed]",
      "text/plain": [
       "<PIL.Image.Image image mode=L size=100x100>"
      ]
     },
     "execution_count": 15,
     "metadata": {},
     "output_type": "execute_result"
    }
   ],
   "source": [
    "from cost_function import cost, img2bw\n",
    "import os.path\n",
    "import glob\n",
    "import cv2\n",
    "import numpy as np\n",
    "from PIL import Image\n",
    "import matplotlib.pyplot as plt\n",
    "\n",
    "img_gen=Image.open('./s73.00_v18.00_rn0.50_ln4.00_needle.jpg')\n",
    "img_ori=Image.open('./Images_Experiment/220304_miliq_T17.7_S73.04.png')\n",
    "ac,C=cost(img_ori,img_gen)\n",
    "print(ac)\n",
    "Image.fromarray(np.uint8(C))"
   ]
  },
  {
   "cell_type": "code",
   "execution_count": null,
   "metadata": {},
   "outputs": [],
   "source": []
  }
 ],
 "metadata": {
  "kernelspec": {
   "display_name": "Python 3.10.8 64-bit (microsoft store)",
   "language": "python",
   "name": "python3"
  },
  "language_info": {
   "codemirror_mode": {
    "name": "ipython",
    "version": 3
   },
   "file_extension": ".py",
   "mimetype": "text/x-python",
   "name": "python",
   "nbconvert_exporter": "python",
   "pygments_lexer": "ipython3",
   "version": "3.10.9"
  },
  "orig_nbformat": 4,
  "vscode": {
   "interpreter": {
    "hash": "60437aad8983babfce94e0da8b300c92c022ccf7e7dbddf7a08c08f7ecf8beba"
   }
  }
 },
 "nbformat": 4,
 "nbformat_minor": 2
}
