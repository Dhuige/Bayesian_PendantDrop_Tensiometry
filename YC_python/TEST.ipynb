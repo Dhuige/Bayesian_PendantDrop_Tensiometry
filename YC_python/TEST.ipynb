{
 "cells": [
  {
   "cell_type": "code",
   "execution_count": 60,
   "metadata": {},
   "outputs": [],
   "source": [
    "import numpy as np\n",
    "import numpy.matlib\n",
    "from numpy.matlib import repmat\n",
    "import math as m\n",
    "import os\n",
    "from scipy.linalg import toeplitz\n",
    "from scipy.special import gamma\n",
    "from scipy.sparse import diags\n",
    "import scipy.sparse\n",
    "import scipy\n",
    "from YC_fcbt import *\n",
    "from dif1D import *"
   ]
  },
  {
   "cell_type": "code",
   "execution_count": 127,
   "metadata": {},
   "outputs": [],
   "source": [
    "# physical parameters\n",
    "sigma = 100;       # surface tension [mN/m]\n",
    "grav = 9.807e3;    # gravitational acceleration [mm/s^2]\n",
    "rneedle = 1;       # radius of the needle [mm]\n",
    "volume0 = 32;      # prescribed volume in mm^3\n",
    "deltarho = 1e-3;   # density difference [10^6 kg/m^3]\n",
    "pi=m.pi\n",
    "\n",
    "# numerical parameters\n",
    "N = 40;          # resolution of the discretization for calculation\n",
    "Nplot = 80;      # resolution of the discretization for plotting\n",
    "Ncheb = 10;      # number of Chebyshev to describe the shape\n",
    "alpha = 0.1;     # relaxation parameter in the Newton-Raphson scheme\n",
    "\n",
    "# calculate the dimensionless quantities\n",
    "sigmaprime = sigma/(deltarho*grav*rneedle**2)\n",
    "volume0prime = volume0/rneedle**3\n",
    "\n",
    "# predict the maximum length of the interface (empirical Nagel)\n",
    "smax = m.sqrt(sigmaprime)*2.0/0.8701\n",
    "# get the differentation/integration matrices and the grid\n",
    "D,_,w,s = dif1D('cheb',0,smax,N,5)\n",
    "# predict the shape of the interface (empirical Nagel)\n",
    "z = -4/3*smax/pi*(np.cos(pi*3/4*s/smax))\n",
    "z = z - max(z)\n",
    "r = 4/3*smax/pi*(np.sin(pi*3/4*s/smax))\n",
    "psi = pi*3/4*s/smax\n",
    "C = 1; # initial stretch parameter\n",
    "p0 = m.sqrt(sigmaprime)*1.5; # predict the pressure (empirical Nagel)"
   ]
  },
  {
   "cell_type": "code",
   "execution_count": 128,
   "metadata": {},
   "outputs": [],
   "source": [
    "Z = np.zeros((N,N));            # matrix filled with zeros\n",
    "IDL = np.hstack((1, np.zeros((N-1)))); # line with single one and rest zeros\n",
    "ZL = np.zeros(N);       # line completely filled with zeros\n",
    "u = np.ones((3*N+2,1)); \n",
    "b = np.ones((3*N+2,1)); # solution vector and right hand side\n",
    "iter = 0; crash = 0; \n",
    "\n",
    "def rms(y) :\n",
    "    rms = np.sqrt(np.mean(y**2))\n",
    "    return rms\n"
   ]
  },
  {
   "cell_type": "code",
   "execution_count": 50,
   "metadata": {},
   "outputs": [
    {
     "ename": "AttributeError",
     "evalue": "module 'scipy.sparse' has no attribute 'diag'",
     "output_type": "error",
     "traceback": [
      "\u001b[1;31m---------------------------------------------------------------------------\u001b[0m",
      "\u001b[1;31mAttributeError\u001b[0m                            Traceback (most recent call last)",
      "Cell \u001b[1;32mIn [50], line 9\u001b[0m\n\u001b[0;32m      7\u001b[0m \u001b[39m# determine r from psi\u001b[39;00m\n\u001b[0;32m      8\u001b[0m A11 \u001b[39m=\u001b[39m C\u001b[39m*\u001b[39mD; \n\u001b[1;32m----> 9\u001b[0m A13 \u001b[39m=\u001b[39m scipy\u001b[39m.\u001b[39;49msparse\u001b[39m.\u001b[39;49mdiag(np\u001b[39m.\u001b[39msin(psi),\u001b[39m0\u001b[39m); \n\u001b[0;32m     10\u001b[0m A18 \u001b[39m=\u001b[39m D\u001b[39m*\u001b[39mr; \n\u001b[0;32m     11\u001b[0m b1 \u001b[39m=\u001b[39m \u001b[39m-\u001b[39m(C\u001b[39m*\u001b[39mD\u001b[39m*\u001b[39mr\u001b[39m-\u001b[39mnp\u001b[39m.\u001b[39mcos(psi))\n",
      "\u001b[1;31mAttributeError\u001b[0m: module 'scipy.sparse' has no attribute 'diag'"
     ]
    }
   ],
   "source": [
    "while rms(u) > 1e-10:\n",
    "    iter = iter + 1\n",
    "\n",
    "    if iter > 1200 :\n",
    "        print('iter > 1200!')\n",
    "        crash = 1; break\n",
    "    # determine r from psi\n",
    "    A11 = C*D; \n",
    "    A13 = scipy.sparse.diag(np.sin(psi)); \n",
    "    A18 = D*r; \n",
    "    b1 = -(C*D*r-np.cos(psi))"
   ]
  },
  {
   "cell_type": "code",
   "execution_count": 133,
   "metadata": {},
   "outputs": [
    {
     "name": "stdout",
     "output_type": "stream",
     "text": [
      "(40, 40) (40, 40) (40, 40) (40, 1) (40, 1)\n"
     ]
    },
    {
     "name": "stderr",
     "output_type": "stream",
     "text": [
      "C:\\Users\\臧义程\\AppData\\Local\\Temp\\ipykernel_24536\\2809259078.py:13: RuntimeWarning: invalid value encountered in divide\n",
      "  A31 = -sigmaprime*scipy.sparse.diags(np.squeeze(np.sin(psi)/r**2))\n",
      "C:\\Users\\臧义程\\AppData\\Local\\Temp\\ipykernel_24536\\2809259078.py:15: RuntimeWarning: divide by zero encountered in divide\n",
      "  A33 = C*sigmaprime*D + sigmaprime*scipy.sparse.diags(np.squeeze(np.cos(psi)/r))\n",
      "C:\\Users\\臧义程\\AppData\\Local\\Temp\\ipykernel_24536\\2809259078.py:18: RuntimeWarning: invalid value encountered in divide\n",
      "  b3 = p0-z-sigmaprime*(C*D*psi+np.sin(psi)/r)\n"
     ]
    },
    {
     "ename": "ValueError",
     "evalue": "all the input arrays must have same number of dimensions, but the array at index 0 has 2 dimension(s) and the array at index 2 has 0 dimension(s)",
     "output_type": "error",
     "traceback": [
      "\u001b[1;31m---------------------------------------------------------------------------\u001b[0m",
      "\u001b[1;31mValueError\u001b[0m                                Traceback (most recent call last)",
      "Cell \u001b[1;32mIn [133], line 62\u001b[0m\n\u001b[0;32m     58\u001b[0m A18\u001b[39m=\u001b[39mA18\u001b[39m.\u001b[39mreshape(N,\u001b[39m1\u001b[39m); \n\u001b[0;32m     59\u001b[0m \u001b[39mprint\u001b[39m(A11\u001b[39m.\u001b[39mshape,Z\u001b[39m.\u001b[39mshape,A13\u001b[39m.\u001b[39mshape,A18\u001b[39m.\u001b[39mshape,Z1\u001b[39m.\u001b[39mshape)\n\u001b[1;32m---> 62\u001b[0m np\u001b[39m.\u001b[39;49mconcatenate((A11, Z, A13, A18, Z1),axis\u001b[39m=\u001b[39;49m\u001b[39m1\u001b[39;49m)\n\u001b[0;32m     63\u001b[0m A \u001b[39m=\u001b[39m np\u001b[39m.\u001b[39mvstack(np\u001b[39m.\u001b[39mhstack((A11, Z, A13, A18, Z1)),\n\u001b[0;32m     64\u001b[0m               [Z, A22, A23, A28, Z1],\n\u001b[0;32m     65\u001b[0m               [A31, A32, A33, A38, A39],\n\u001b[0;32m     66\u001b[0m               [A81, np\u001b[39m.\u001b[39mzeros(\u001b[39m1\u001b[39m,\u001b[39m2\u001b[39m\u001b[39m*\u001b[39mN), \u001b[39m-\u001b[39m\u001b[39m1\u001b[39m,\u001b[39m0\u001b[39m],\n\u001b[0;32m     67\u001b[0m               [A91, Z1\u001b[39m.\u001b[39mT,A93,A98,\u001b[39m0\u001b[39m])\n\u001b[0;32m     69\u001b[0m b \u001b[39m=\u001b[39m [b1,b2,b3,b8,b9]; \n",
      "File \u001b[1;32m<__array_function__ internals>:180\u001b[0m, in \u001b[0;36mconcatenate\u001b[1;34m(*args, **kwargs)\u001b[0m\n",
      "\u001b[1;31mValueError\u001b[0m: all the input arrays must have same number of dimensions, but the array at index 0 has 2 dimension(s) and the array at index 2 has 0 dimension(s)"
     ]
    }
   ],
   "source": [
    "# determine r from psi\n",
    "A11 = C*D; \n",
    "A13 = diags(np.squeeze(np.sin(psi)))\n",
    "A18 = np.dot(D,r); \n",
    "b1 = -(C*D*r-np.cos(psi))\n",
    "# determine z from psi \n",
    "A22 = C*D; \n",
    "A23 = scipy.sparse.diags(np.squeeze(-np.cos(psi))); \n",
    "A28 = D*z; \n",
    "b2 = -(C*D*z-np.sin(psi))\n",
    "\n",
    " # determine psi from Laplace law\n",
    "A31 = -sigmaprime*scipy.sparse.diags(np.squeeze(np.sin(psi)/r**2))\n",
    "A32 = scipy.sparse.diags(np.squeeze(np.ones(N)))\n",
    "A33 = C*sigmaprime*D + sigmaprime*scipy.sparse.diags(np.squeeze(np.cos(psi)/r))\n",
    "A38 = sigmaprime*(D*psi)\n",
    "A39 = -np.ones(N)\n",
    "b3 = p0-z-sigmaprime*(C*D*psi+np.sin(psi)/r)\n",
    "\n",
    "  # impose the needle radius as a BC (imposes the domain length)\n",
    "  # NOTE: the lengths are scaled with the radius, thus its value is one\n",
    "\n",
    "A81 = np.flip(IDL); \n",
    "b8 = (1-r[-1])\n",
    "  \n",
    "  # determine pressure - use volume\n",
    "A91 = 2*w*r.T*np.sin(psi.T)\n",
    "A93 = w*r.T**2*np.cos(psi.T)\n",
    "A98 = -volume0prime/m.pi\n",
    "b9 = -(w*(r**2*np.sin(psi))-C*volume0prime/m.pi)\n",
    "\n",
    "# boundary condition r(0) = 0\n",
    "A11[0,:] = IDL; \n",
    "A13=A13.tolil()\n",
    "A13[0,:] = ZL; \n",
    "A18[0] = 0\n",
    "b1[0] = -r[0]\n",
    "  \n",
    "# boundary condition z(s0) = 0\n",
    "A22[0,:] = np.flip(IDL); \n",
    "A23=A23.tolil()\n",
    "A23[0,:] = ZL; \n",
    "A28[0] = 0\n",
    "b2[0] = -z[-1]\n",
    "  \n",
    "# boundary condition phi(0) = 0\n",
    "A31=A31.tolil()\n",
    "A31[0,:] = ZL; \n",
    "A32=A32.tolil()\n",
    "A32[0,:] = ZL; \n",
    "A33[0,:] = IDL; \n",
    "A38[0,:] = 0; \n",
    "A39[0] = 0\n",
    "b3[0] = -psi[0]\n",
    "\n",
    "# assemble matrices\n",
    "Z1 = np.zeros(N).reshape(N,1)\n",
    "A18=A18.reshape(N,1); \n",
    "print(A11.shape,Z.shape,A13.shape,A18.shape,Z1.shape)\n",
    "\n",
    "\n",
    "np.concatenate((A11, Z, A13, A18, Z1),axis=1)\n",
    "A = np.vstack(np.hstack((A11, Z, A13, A18, Z1)),\n",
    "              [Z, A22, A23, A28, Z1],\n",
    "              [A31, A32, A33, A38, A39],\n",
    "              [A81, np.zeros(1,2*N), -1,0],\n",
    "              [A91, Z1.T,A93,A98,0])\n",
    "     \n",
    "b = [b1,b2,b3,b8,b9]; \n",
    "\n",
    "# solve the system of equations\n",
    "u = np.linalg.lstsq(A,b)\n",
    "\n",
    "# update variables\n",
    "r   = r   + alpha*u[0:N-1]\n",
    "z   = z   + alpha*u[N:2*N-1]; \n",
    "psi = psi + alpha*u[2*N:3*N-1]; \n",
    "C   = C   + alpha*u[3*N]; \n",
    "p0  = p0  + alpha*u[3*N+1]; \n"
   ]
  },
  {
   "cell_type": "code",
   "execution_count": 100,
   "metadata": {},
   "outputs": [
    {
     "ename": "ValueError",
     "evalue": "all the input arrays must have same number of dimensions, but the array at index 0 has 2 dimension(s) and the array at index 1 has 1 dimension(s)",
     "output_type": "error",
     "traceback": [
      "\u001b[1;31m---------------------------------------------------------------------------\u001b[0m",
      "\u001b[1;31mValueError\u001b[0m                                Traceback (most recent call last)",
      "Cell \u001b[1;32mIn [100], line 1\u001b[0m\n\u001b[1;32m----> 1\u001b[0m np\u001b[39m.\u001b[39;49mhstack((A11, Z, A13, A18, Z1))\n",
      "File \u001b[1;32m<__array_function__ internals>:180\u001b[0m, in \u001b[0;36mhstack\u001b[1;34m(*args, **kwargs)\u001b[0m\n",
      "File \u001b[1;32m~\\AppData\\Local\\Packages\\PythonSoftwareFoundation.Python.3.10_qbz5n2kfra8p0\\LocalCache\\local-packages\\Python310\\site-packages\\numpy\\core\\shape_base.py:345\u001b[0m, in \u001b[0;36mhstack\u001b[1;34m(tup)\u001b[0m\n\u001b[0;32m    343\u001b[0m     \u001b[39mreturn\u001b[39;00m _nx\u001b[39m.\u001b[39mconcatenate(arrs, \u001b[39m0\u001b[39m)\n\u001b[0;32m    344\u001b[0m \u001b[39melse\u001b[39;00m:\n\u001b[1;32m--> 345\u001b[0m     \u001b[39mreturn\u001b[39;00m _nx\u001b[39m.\u001b[39;49mconcatenate(arrs, \u001b[39m1\u001b[39;49m)\n",
      "File \u001b[1;32m<__array_function__ internals>:180\u001b[0m, in \u001b[0;36mconcatenate\u001b[1;34m(*args, **kwargs)\u001b[0m\n",
      "\u001b[1;31mValueError\u001b[0m: all the input arrays must have same number of dimensions, but the array at index 0 has 2 dimension(s) and the array at index 1 has 1 dimension(s)"
     ]
    }
   ],
   "source": [
    "np.hstack((A11, Z, A13, A18, Z1))"
   ]
  },
  {
   "cell_type": "code",
   "execution_count": 33,
   "metadata": {},
   "outputs": [
    {
     "data": {
      "text/plain": [
       "array([[0.],\n",
       "       [0.],\n",
       "       [0.],\n",
       "       [0.],\n",
       "       [0.],\n",
       "       [0.],\n",
       "       [0.],\n",
       "       [0.],\n",
       "       [0.],\n",
       "       [0.],\n",
       "       [0.],\n",
       "       [0.],\n",
       "       [0.],\n",
       "       [0.],\n",
       "       [0.],\n",
       "       [0.],\n",
       "       [0.],\n",
       "       [0.],\n",
       "       [0.],\n",
       "       [0.],\n",
       "       [0.],\n",
       "       [0.],\n",
       "       [0.],\n",
       "       [0.],\n",
       "       [0.],\n",
       "       [0.],\n",
       "       [0.],\n",
       "       [0.],\n",
       "       [0.],\n",
       "       [0.],\n",
       "       [0.],\n",
       "       [0.],\n",
       "       [0.],\n",
       "       [0.],\n",
       "       [0.],\n",
       "       [0.],\n",
       "       [0.],\n",
       "       [0.],\n",
       "       [0.],\n",
       "       [0.]])"
      ]
     },
     "execution_count": 33,
     "metadata": {},
     "output_type": "execute_result"
    }
   ],
   "source": [
    "np.zeros(())"
   ]
  },
  {
   "cell_type": "code",
   "execution_count": 86,
   "metadata": {},
   "outputs": [
    {
     "ename": "NameError",
     "evalue": "name 'y' is not defined",
     "output_type": "error",
     "traceback": [
      "\u001b[1;31m---------------------------------------------------------------------------\u001b[0m",
      "\u001b[1;31mNameError\u001b[0m                                 Traceback (most recent call last)",
      "Cell \u001b[1;32mIn [86], line 2\u001b[0m\n\u001b[0;32m      1\u001b[0m f\u001b[39m=\u001b[39m\u001b[39m0\u001b[39m\n\u001b[1;32m----> 2\u001b[0m N\u001b[39m=\u001b[39m\u001b[39mlen\u001b[39m(y)\n\u001b[0;32m      3\u001b[0m pi\u001b[39m=\u001b[39mm\u001b[39m.\u001b[39mpi\n\u001b[0;32m      4\u001b[0m y\u001b[39m=\u001b[39mr\n",
      "\u001b[1;31mNameError\u001b[0m: name 'y' is not defined"
     ]
    }
   ],
   "source": [
    "f=0\n",
    "N=len(y)\n",
    "pi=m.pi\n",
    "y=r\n",
    "max_order=10\n",
    "\n",
    "smax = m.sqrt(sigmaprime)*2.0/0.8701\n",
    "\n",
    "# get the differentation/integration matrices and the grid\n",
    "D,_,w,s = dif1D('cheb',0,smax,N,5)\n",
    "# predict the shape of the interface (empirical Nagel)\n",
    "z = -4/3*smax/m.pi*(m.cos(m.pi*3/4*s/smax))\n",
    "z = z - max(z)\n",
    "r = 4/3*smax/m.pi*(m.sin(m.pi*3/4*s/smax))\n",
    "\n",
    "YC=fcbt('cheb',N,abs(max_order)+1)\n",
    "if np.size(y,1)==1:\n",
    "    y=y.T\n",
    "ys0=y\n",
    "if max_order == None:\n",
    "    max_order=N/2\n",
    "if shift_order == None:\n",
    "    shift_order = 0\n",
    "revarg = (max_order<0)\n",
    "max_order=abs(max_order)\n",
    "ds=2/N-1\n",
    "d,_,w,s=dif1D('fd',-1+ds,2-2*ds,N-2,5)\n",
    "d[0,:]=np.hstack((1,np.zeros(N-3)))\n",
    "w2= np.linalg.inv(d)\n",
    "w2=w2[-1,:]\n",
    "w2[0]=0\n",
    "c=np.zeros((max_order+1,1))\n",
    "# 1st pass over 6 modes, c are the modes, from y the fitted part is subtracted\n",
    "for k in range (0,min(6,max_order)+1):\n",
    "    y0 = YC [0,k]*y[0]\n",
    "    dy=(YC[1,k]*y(1)-YC[0,k]*y[0])/ds\n",
    "    singular_left = (y0+dy)*np.acos(1-ds)-dy*np.sqrt(ds*(2-ds))\n",
    "    y0 = YC[-1,k]*y[-1]\n",
    "    dy = (YC[-1,k]*y[-1]-YC[-2,k]*y[-2])/ds\n",
    "    singular_right = (y0-dy)*np.acos(1-ds)+dy*np.sqrt(ds*(2-ds))\n",
    "    c[k] = 2/pi*(w2*(y[1:-2]/np.sqrt(1-s**2)*YC[1:-2,k]) + singular_left + singular_right)/(1+(k==0))\n",
    "    y = y - c[k]*YC[:,k]\n",
    "\n"
   ]
  },
  {
   "cell_type": "code",
   "execution_count": 7,
   "metadata": {},
   "outputs": [
    {
     "data": {
      "text/plain": [
       "3.141592653589793"
      ]
     },
     "execution_count": 7,
     "metadata": {},
     "output_type": "execute_result"
    }
   ],
   "source": []
  }
 ],
 "metadata": {
  "kernelspec": {
   "display_name": "Python 3.10.8 64-bit (microsoft store)",
   "language": "python",
   "name": "python3"
  },
  "language_info": {
   "codemirror_mode": {
    "name": "ipython",
    "version": 3
   },
   "file_extension": ".py",
   "mimetype": "text/x-python",
   "name": "python",
   "nbconvert_exporter": "python",
   "pygments_lexer": "ipython3",
   "version": "3.10.8"
  },
  "orig_nbformat": 4,
  "vscode": {
   "interpreter": {
    "hash": "60437aad8983babfce94e0da8b300c92c022ccf7e7dbddf7a08c08f7ecf8beba"
   }
  }
 },
 "nbformat": 4,
 "nbformat_minor": 2
}
