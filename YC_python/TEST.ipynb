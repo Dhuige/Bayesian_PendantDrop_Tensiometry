{
 "cells": [
  {
   "cell_type": "code",
   "execution_count": 104,
   "metadata": {},
   "outputs": [],
   "source": [
    "import numpy as np\n",
    "import numpy.matlib\n",
    "from numpy.matlib import repmat\n",
    "import math as m\n",
    "import os\n",
    "from scipy.linalg import toeplitz\n",
    "from scipy.special import gamma\n",
    "from scipy.interpolate import interp1d\n",
    "import scipy.sparse\n",
    "import scipy\n",
    "from YC_fcbt import *\n",
    "from dif1D import *\n",
    "\n",
    "import matplotlib.pyplot as plt"
   ]
  },
  {
   "cell_type": "code",
   "execution_count": 80,
   "metadata": {},
   "outputs": [],
   "source": [
    "# physical parameters\n",
    "sigma = 100;       # surface tension [mN/m]\n",
    "grav = 9.807e3;    # gravitational acceleration [mm/s^2]\n",
    "rneedle = 1;       # radius of the needle [mm]\n",
    "volume0 = 32;      # prescribed volume in mm^3\n",
    "deltarho = 1e-3;   # density difference [10^6 kg/m^3]\n",
    "pi=m.pi\n",
    "\n",
    "# numerical parameters\n",
    "N = 40;          # resolution of the discretization for calculation\n",
    "Nplot = 80;      # resolution of the discretization for plotting\n",
    "Ncheb = 10;      # number of Chebyshev to describe the shape\n",
    "alpha = 0.1;     # relaxation parameter in the Newton-Raphson scheme\n",
    "\n",
    "# calculate the dimensionless quantities\n",
    "sigmaprime = sigma/(deltarho*grav*rneedle**2)\n",
    "volume0prime = volume0/rneedle**3\n",
    "\n",
    "# predict the maximum length of the interface (empirical Nagel)\n",
    "smax = m.sqrt(sigmaprime)*2.0/0.8701\n",
    "# get the differentation/integration matrices and the grid\n",
    "D,_,w,s = dif1D('cheb',0,smax,N,5)\n",
    "# predict the shape of the interface (empirical Nagel)\n",
    "z = -4/3*smax/pi*(np.cos(pi*3/4*s/smax))\n",
    "z = z - max(z)\n",
    "r = 4/3*smax/pi*(np.sin(pi*3/4*s/smax))\n",
    "psi = pi*3/4*s/smax\n",
    "C = 1; # initial stretch parameter\n",
    "p0 = m.sqrt(sigmaprime)*1.5; # predict the pressure (empirical Nagel)\n",
    "\n",
    "Z = np.zeros((N,N));            # matrix filled with zeros\n",
    "IDL = np.hstack((1, np.zeros((N-1)))); # line with single one and rest zeros\n",
    "ZL = np.zeros(N);       # line completely filled with zeros\n",
    "u = np.ones((3*N+2,1)); \n",
    "b = np.ones((3*N+2,1)); # solution vector and right hand side\n",
    "iter = 0; crash = 0; \n",
    "\n",
    "def rms(y) :\n",
    "    rms = np.sqrt(np.mean(y**2))\n",
    "    return rms"
   ]
  },
  {
   "cell_type": "code",
   "execution_count": 81,
   "metadata": {},
   "outputs": [
    {
     "name": "stderr",
     "output_type": "stream",
     "text": [
      "C:\\Users\\臧义程\\AppData\\Local\\Temp\\ipykernel_33304\\3392818823.py:22: RuntimeWarning: invalid value encountered in divide\n",
      "  A31 = -sigmaprime*np.diag(np.squeeze(np.sin(psi)/r**2))\n",
      "C:\\Users\\臧义程\\AppData\\Local\\Temp\\ipykernel_33304\\3392818823.py:24: RuntimeWarning: divide by zero encountered in divide\n",
      "  A33 = C*sigmaprime*D + sigmaprime*np.diag(np.squeeze(np.cos(psi)/r))\n",
      "C:\\Users\\臧义程\\AppData\\Local\\Temp\\ipykernel_33304\\3392818823.py:27: RuntimeWarning: invalid value encountered in divide\n",
      "  b3 = p0-z-sigmaprime*(C*np.dot(D,psi)+np.sin(psi)/r)\n"
     ]
    },
    {
     "name": "stdout",
     "output_type": "stream",
     "text": [
      "iter > 1200!\n"
     ]
    }
   ],
   "source": [
    "while rms(u) > 1e-10:\n",
    "\n",
    "  iter = iter + 1\n",
    "  \n",
    "  if iter > 1200 :\n",
    "    print('iter > 1200!')\n",
    "    crash = 1; break\n",
    "  \n",
    "  # determine r from psi\n",
    "  A11 = C*D; \n",
    "  A13 = np.diag(np.squeeze(np.sin(psi)))\n",
    "  A18 = np.dot(D,r); \n",
    "  b1 = -(C*np.dot(D,r)-np.cos(psi))\n",
    "  # determine z from psi \n",
    "  A22 = C*D; \n",
    "  A23 = np.diag(np.squeeze(-np.cos(psi))); \n",
    "  A28 = np.dot(D,z)\n",
    "  b2 = -(C*np.dot(D,z)-np.sin(psi))\n",
    "\n",
    "  # determine psi from Laplace law\n",
    "  \n",
    "  A31 = -sigmaprime*np.diag(np.squeeze(np.sin(psi)/r**2))\n",
    "  A32 = np.diag(np.squeeze(np.ones(N)))\n",
    "  A33 = C*sigmaprime*D + sigmaprime*np.diag(np.squeeze(np.cos(psi)/r))\n",
    "  A38 = sigmaprime*(np.dot(D,psi))\n",
    "  A39 = -np.ones(N)\n",
    "  b3 = p0-z-sigmaprime*(C*np.dot(D,psi)+np.sin(psi)/r)\n",
    "\n",
    "  # impose the needle radius as a BC (imposes the domain length)\n",
    "  # NOTE: the lengths are scaled with the radius, thus its value is one\n",
    "\n",
    "  A81 = np.flip(IDL).reshape(1,N); \n",
    "  b8 = (1-r[-1])\n",
    "\n",
    "    # determine pressure - use volume\n",
    "  A91 = 2*w*r.T*np.sin(psi.T)\n",
    "  A93 = w*r.T**2*np.cos(psi.T)\n",
    "  A98 = np.array(-volume0prime/m.pi).reshape(1,1)\n",
    "  b9 = -(np.dot(w,(r**2*np.sin(psi)))-C*volume0prime/m.pi)\n",
    "\n",
    "  # boundary condition r(0) = 0\n",
    "  A11[0,:] = IDL; \n",
    "\n",
    "  A13[0,:] = ZL; \n",
    "  A18[0] = 0\n",
    "  b1[0] = -r[0]\n",
    "\n",
    "  # boundary condition z(s0) = 0\n",
    "  A22[0,:] = np.flip(IDL); \n",
    "  A23[0,:] = ZL; \n",
    "  A28[0] = 0\n",
    "  b2[0] = -z[-1]\n",
    "\n",
    "  # boundary condition phi(0) = 0\n",
    "  A31[0,:] = ZL; \n",
    "  A32[0,:] = ZL; \n",
    "  A33[0,:] = IDL; \n",
    "  A38[0,:] = 0; \n",
    "  A39[0] = 0\n",
    "  A39=A39.reshape(N,1)\n",
    "  b3[0] = -psi[0]\n",
    "\n",
    "  # assemble matrices\n",
    "  Z1 = np.zeros(N).reshape(N,1)\n",
    "\n",
    "  # use for debug\n",
    "  #A_0=np.hstack((A11, Z, A13, A18, Z1))\n",
    "  #A_1=np.hstack((Z, A22, A23, A28, Z1))\n",
    "  #A_2=np.hstack((A31, A32, A33, A38, A39))\n",
    "  #A_3=np.hstack((A81, np.zeros((1,2*N)), np.array(-1).reshape(1,1), np.array(0).reshape(1,1)))\n",
    "  #A_4=np.hstack((A91, Z1.T,A93,A98,np.array(0).reshape(1,1)))\n",
    "\n",
    "  A = np.vstack((np.hstack((A11, Z, A13, A18, Z1)),\n",
    "                np.hstack((Z, A22, A23, A28, Z1)),\n",
    "                np.hstack((A31, A32, A33, A38, A39)),\n",
    "                np.hstack((A81, np.zeros((1,2*N)), np.array(-1).reshape(1,1), np.array(0).reshape(1,1))),\n",
    "                np.hstack((A91, Z1.T,A93,A98,np.array(0).reshape(1,1)))))\n",
    "\n",
    "  b = np.vstack((b1,b2,b3,b8,b9)); \n",
    "\n",
    "  # solve the system of equations\n",
    "  u = np.linalg.inv(A).dot(b)\n",
    "\n",
    "  # update variables\n",
    "  r   = r   + alpha*u[0:N]\n",
    "  z   = z   + alpha*u[N:2*N]; \n",
    "  psi = psi + alpha*u[2*N:3*N]; \n",
    "  C   = C   + alpha*u[3*N]; \n",
    "  p0  = p0  + alpha*u[3*N]; \n",
    " \n",
    "  if rms(b) > 1e3:\n",
    "    crash = 1; break; "
   ]
  },
  {
   "cell_type": "code",
   "execution_count": 3,
   "metadata": {},
   "outputs": [
    {
     "name": "stderr",
     "output_type": "stream",
     "text": [
      "C:\\Users\\臧义程\\AppData\\Local\\Temp\\ipykernel_8336\\2120737708.py:14: RuntimeWarning: invalid value encountered in divide\n",
      "  A31 = -sigmaprime*np.diag(np.squeeze(np.sin(psi)/r**2))\n",
      "C:\\Users\\臧义程\\AppData\\Local\\Temp\\ipykernel_8336\\2120737708.py:16: RuntimeWarning: divide by zero encountered in divide\n",
      "  A33 = C*sigmaprime*D + sigmaprime*np.diag(np.squeeze(np.cos(psi)/r))\n",
      "C:\\Users\\臧义程\\AppData\\Local\\Temp\\ipykernel_8336\\2120737708.py:19: RuntimeWarning: invalid value encountered in divide\n",
      "  b3 = p0-z-sigmaprime*(C*np.dot(D,psi)+np.sin(psi)/r)\n"
     ]
    }
   ],
   "source": [
    "# determine r from psi\n",
    "A11 = C*D; \n",
    "A13 = np.diag(np.squeeze(np.sin(psi)))\n",
    "A18 = np.dot(D,r); \n",
    "b1 = -(C*np.dot(D,r)-np.cos(psi))\n",
    "# determine z from psi \n",
    "A22 = C*D; \n",
    "A23 = np.diag(np.squeeze(-np.cos(psi))); \n",
    "A28 = np.dot(D,z)\n",
    "b2 = -(C*np.dot(D,z)-np.sin(psi))\n",
    "\n",
    " # determine psi from Laplace law\n",
    " \n",
    "A31 = -sigmaprime*np.diag(np.squeeze(np.sin(psi)/r**2))\n",
    "A32 = np.diag(np.squeeze(np.ones(N)))\n",
    "A33 = C*sigmaprime*D + sigmaprime*np.diag(np.squeeze(np.cos(psi)/r))\n",
    "A38 = sigmaprime*(np.dot(D,psi))\n",
    "A39 = -np.ones(N)\n",
    "b3 = p0-z-sigmaprime*(C*np.dot(D,psi)+np.sin(psi)/r)\n",
    "\n",
    "  # impose the needle radius as a BC (imposes the domain length)\n",
    "  # NOTE: the lengths are scaled with the radius, thus its value is one\n",
    "\n",
    "A81 = np.flip(IDL).reshape(1,N); \n",
    "b8 = (1-r[-1])\n",
    "  \n",
    "  # determine pressure - use volume\n",
    "A91 = 2*w*r.T*np.sin(psi.T)\n",
    "A93 = w*r.T**2*np.cos(psi.T)\n",
    "A98 = np.array(-volume0prime/m.pi).reshape(1,1)\n",
    "b9 = -(np.dot(w,(r**2*np.sin(psi)))-C*volume0prime/m.pi)\n",
    "\n",
    "# boundary condition r(0) = 0\n",
    "A11[0,:] = IDL; \n",
    "\n",
    "A13[0,:] = ZL; \n",
    "A18[0] = 0\n",
    "b1[0] = -r[0]\n",
    "  \n",
    "# boundary condition z(s0) = 0\n",
    "A22[0,:] = np.flip(IDL); \n",
    "A23[0,:] = ZL; \n",
    "A28[0] = 0\n",
    "b2[0] = -z[-1]\n",
    "  \n",
    "# boundary condition phi(0) = 0\n",
    "A31[0,:] = ZL; \n",
    "A32[0,:] = ZL; \n",
    "A33[0,:] = IDL; \n",
    "A38[0,:] = 0; \n",
    "A39[0] = 0\n",
    "A39=A39.reshape(N,1)\n",
    "b3[0] = -psi[0]\n",
    "\n",
    "# assemble matrices\n",
    "Z1 = np.zeros(N).reshape(N,1)\n",
    "\n",
    "# use for debug\n",
    "#A_0=np.hstack((A11, Z, A13, A18, Z1))\n",
    "#A_1=np.hstack((Z, A22, A23, A28, Z1))\n",
    "#A_2=np.hstack((A31, A32, A33, A38, A39))\n",
    "#A_3=np.hstack((A81, np.zeros((1,2*N)), np.array(-1).reshape(1,1), np.array(0).reshape(1,1)))\n",
    "#A_4=np.hstack((A91, Z1.T,A93,A98,np.array(0).reshape(1,1)))\n",
    "\n",
    "A = np.vstack((np.hstack((A11, Z, A13, A18, Z1)),\n",
    "              np.hstack((Z, A22, A23, A28, Z1)),\n",
    "              np.hstack((A31, A32, A33, A38, A39)),\n",
    "              np.hstack((A81, np.zeros((1,2*N)), np.array(-1).reshape(1,1), np.array(0).reshape(1,1))),\n",
    "              np.hstack((A91, Z1.T,A93,A98,np.array(0).reshape(1,1)))))\n",
    "     \n",
    "b = np.vstack((b1,b2,b3,b8,b9)); \n",
    "\n",
    "# solve the system of equations\n",
    "u = np.linalg.inv(A).dot(b)\n",
    "\n",
    "# update variables\n",
    "r   = r   + alpha*u[0:N]\n",
    "z   = z   + alpha*u[N:2*N]; \n",
    "psi = psi + alpha*u[2*N:3*N]; \n",
    "C   = C   + alpha*u[3*N]; \n",
    "p0  = p0  + alpha*u[3*N+1]; \n"
   ]
  },
  {
   "cell_type": "code",
   "execution_count": 27,
   "metadata": {},
   "outputs": [
    {
     "name": "stdout",
     "output_type": "stream",
     "text": [
      "volume =  32.0  mm^3\n",
      "area =  46.0  mm^2\n",
      "pressure =  50.295468081645  Pa\n"
     ]
    }
   ],
   "source": [
    "print('volume = ', round(float(np.dot(rneedle**3*pi*w,(r**2*np.sin(psi))/C)),12),' mm^3')\n",
    "print('area = ', round(float(np.dot(rneedle**2*pi*2*w,(r)/C)),12),' mm^2')\n",
    "print('pressure = ', round(float(deltarho*grav*rneedle*p0),12),' Pa')"
   ]
  },
  {
   "cell_type": "code",
   "execution_count": 132,
   "metadata": {},
   "outputs": [
    {
     "data": {
      "text/plain": [
       "(0.0, 2.0)"
      ]
     },
     "execution_count": 132,
     "metadata": {},
     "output_type": "execute_result"
    },
    {
     "data": {
      "image/png": "[encoded data removed]",
      "text/plain": [
       "<Figure size 640x480 with 1 Axes>"
      ]
     },
     "metadata": {},
     "output_type": "display_data"
    }
   ],
   "source": [
    "s_a=np.squeeze(s,axis=1)\n",
    "r_a=np.squeeze(r,axis=1)\n",
    "z_a=np.squeeze(z,axis=1)\n",
    "\n",
    "fig = plt.figure()\n",
    "plt.plot(r_a,z_a)\n",
    "plt.axis('equal')\n",
    "axes=plt.gca()\n"
   ]
  },
  {
   "cell_type": "code",
   "execution_count": 82,
   "metadata": {},
   "outputs": [
    {
     "name": "stdout",
     "output_type": "stream",
     "text": [
      "(40, 1)\n",
      "(80,)\n"
     ]
    },
    {
     "ename": "ValueError",
     "evalue": "x and y arrays must be equal in length along interpolation axis.",
     "output_type": "error",
     "traceback": [
      "\u001b[1;31m---------------------------------------------------------------------------\u001b[0m",
      "\u001b[1;31mValueError\u001b[0m                                Traceback (most recent call last)",
      "Cell \u001b[1;32mIn [82], line 4\u001b[0m\n\u001b[0;32m      2\u001b[0m ss \u001b[39m=\u001b[39m np\u001b[39m.\u001b[39mlinspace(\u001b[39mfloat\u001b[39m(s[\u001b[39m0\u001b[39m]),\u001b[39mfloat\u001b[39m(s[\u001b[39m-\u001b[39m\u001b[39m1\u001b[39m]),Nplot)\n\u001b[0;32m      3\u001b[0m \u001b[39mprint\u001b[39m(ss\u001b[39m.\u001b[39mshape)\n\u001b[1;32m----> 4\u001b[0m rr \u001b[39m=\u001b[39m interp1d(s\u001b[39m.\u001b[39;49mT,ss)\n\u001b[0;32m      5\u001b[0m zz \u001b[39m=\u001b[39m interp1d(s,z,ss,\u001b[39m'\u001b[39m\u001b[39mcubic\u001b[39m\u001b[39m'\u001b[39m)\n",
      "File \u001b[1;32m~\\AppData\\Local\\Packages\\PythonSoftwareFoundation.Python.3.10_qbz5n2kfra8p0\\LocalCache\\local-packages\\Python310\\site-packages\\scipy\\interpolate\\_interpolate.py:446\u001b[0m, in \u001b[0;36minterp1d.__init__\u001b[1;34m(self, x, y, kind, axis, copy, bounds_error, fill_value, assume_sorted)\u001b[0m\n\u001b[0;32m    442\u001b[0m \u001b[39mdef\u001b[39;00m \u001b[39m__init__\u001b[39m(\u001b[39mself\u001b[39m, x, y, kind\u001b[39m=\u001b[39m\u001b[39m'\u001b[39m\u001b[39mlinear\u001b[39m\u001b[39m'\u001b[39m, axis\u001b[39m=\u001b[39m\u001b[39m-\u001b[39m\u001b[39m1\u001b[39m,\n\u001b[0;32m    443\u001b[0m              copy\u001b[39m=\u001b[39m\u001b[39mTrue\u001b[39;00m, bounds_error\u001b[39m=\u001b[39m\u001b[39mNone\u001b[39;00m, fill_value\u001b[39m=\u001b[39mnp\u001b[39m.\u001b[39mnan,\n\u001b[0;32m    444\u001b[0m              assume_sorted\u001b[39m=\u001b[39m\u001b[39mFalse\u001b[39;00m):\n\u001b[0;32m    445\u001b[0m     \u001b[39m\"\"\" Initialize a 1-D linear interpolation class.\"\"\"\u001b[39;00m\n\u001b[1;32m--> 446\u001b[0m     _Interpolator1D\u001b[39m.\u001b[39;49m\u001b[39m__init__\u001b[39;49m(\u001b[39mself\u001b[39;49m, x, y, axis\u001b[39m=\u001b[39;49maxis)\n\u001b[0;32m    448\u001b[0m     \u001b[39mself\u001b[39m\u001b[39m.\u001b[39mbounds_error \u001b[39m=\u001b[39m bounds_error  \u001b[39m# used by fill_value setter\u001b[39;00m\n\u001b[0;32m    449\u001b[0m     \u001b[39mself\u001b[39m\u001b[39m.\u001b[39mcopy \u001b[39m=\u001b[39m copy\n",
      "File \u001b[1;32m~\\AppData\\Local\\Packages\\PythonSoftwareFoundation.Python.3.10_qbz5n2kfra8p0\\LocalCache\\local-packages\\Python310\\site-packages\\scipy\\interpolate\\_polyint.py:54\u001b[0m, in \u001b[0;36m_Interpolator1D.__init__\u001b[1;34m(self, xi, yi, axis)\u001b[0m\n\u001b[0;32m     52\u001b[0m \u001b[39mself\u001b[39m\u001b[39m.\u001b[39mdtype \u001b[39m=\u001b[39m \u001b[39mNone\u001b[39;00m\n\u001b[0;32m     53\u001b[0m \u001b[39mif\u001b[39;00m yi \u001b[39mis\u001b[39;00m \u001b[39mnot\u001b[39;00m \u001b[39mNone\u001b[39;00m:\n\u001b[1;32m---> 54\u001b[0m     \u001b[39mself\u001b[39;49m\u001b[39m.\u001b[39;49m_set_yi(yi, xi\u001b[39m=\u001b[39;49mxi, axis\u001b[39m=\u001b[39;49maxis)\n",
      "File \u001b[1;32m~\\AppData\\Local\\Packages\\PythonSoftwareFoundation.Python.3.10_qbz5n2kfra8p0\\LocalCache\\local-packages\\Python310\\site-packages\\scipy\\interpolate\\_polyint.py:124\u001b[0m, in \u001b[0;36m_Interpolator1D._set_yi\u001b[1;34m(self, yi, xi, axis)\u001b[0m\n\u001b[0;32m    122\u001b[0m     shape \u001b[39m=\u001b[39m (\u001b[39m1\u001b[39m,)\n\u001b[0;32m    123\u001b[0m \u001b[39mif\u001b[39;00m xi \u001b[39mis\u001b[39;00m \u001b[39mnot\u001b[39;00m \u001b[39mNone\u001b[39;00m \u001b[39mand\u001b[39;00m shape[axis] \u001b[39m!=\u001b[39m \u001b[39mlen\u001b[39m(xi):\n\u001b[1;32m--> 124\u001b[0m     \u001b[39mraise\u001b[39;00m \u001b[39mValueError\u001b[39;00m(\u001b[39m\"\u001b[39m\u001b[39mx and y arrays must be equal in length along \u001b[39m\u001b[39m\"\u001b[39m\n\u001b[0;32m    125\u001b[0m                      \u001b[39m\"\u001b[39m\u001b[39minterpolation axis.\u001b[39m\u001b[39m\"\u001b[39m)\n\u001b[0;32m    127\u001b[0m \u001b[39mself\u001b[39m\u001b[39m.\u001b[39m_y_axis \u001b[39m=\u001b[39m (axis \u001b[39m%\u001b[39m yi\u001b[39m.\u001b[39mndim)\n\u001b[0;32m    128\u001b[0m \u001b[39mself\u001b[39m\u001b[39m.\u001b[39m_y_extra_shape \u001b[39m=\u001b[39m yi\u001b[39m.\u001b[39mshape[:\u001b[39mself\u001b[39m\u001b[39m.\u001b[39m_y_axis]\u001b[39m+\u001b[39myi\u001b[39m.\u001b[39mshape[\u001b[39mself\u001b[39m\u001b[39m.\u001b[39m_y_axis\u001b[39m+\u001b[39m\u001b[39m1\u001b[39m:]\n",
      "\u001b[1;31mValueError\u001b[0m: x and y arrays must be equal in length along interpolation axis."
     ]
    }
   ],
   "source": [
    "\n",
    "\n",
    "ss = np.linspace(float(s[0]),float(s[-1]),Nplot)\n",
    "\n",
    "rr = interp1d(s.T,ss)\n",
    "zz = interp1d(s,z,ss,'cubic')\n"
   ]
  },
  {
   "cell_type": "code",
   "execution_count": 101,
   "metadata": {},
   "outputs": [
    {
     "name": "stdout",
     "output_type": "stream",
     "text": [
      "(40, 1)\n",
      "(80,)\n",
      "(40, 1)\n",
      "80\n"
     ]
    }
   ],
   "source": [
    "print(s.shape)\n",
    "print(ss.shape)\n",
    "print(r.shape)\n",
    "print(len(ss))\n",
    "ss_a=ss.reshape(1,len(ss))"
   ]
  },
  {
   "cell_type": "code",
   "execution_count": 102,
   "metadata": {},
   "outputs": [
    {
     "ename": "ValueError",
     "evalue": "fill_value argument must be able to broadcast up to shape (1,) but had shape (1, 80)",
     "output_type": "error",
     "traceback": [
      "\u001b[1;31m---------------------------------------------------------------------------\u001b[0m",
      "\u001b[1;31mValueError\u001b[0m                                Traceback (most recent call last)",
      "Cell \u001b[1;32mIn [102], line 3\u001b[0m\n\u001b[0;32m      1\u001b[0m s_a\u001b[39m=\u001b[39mnp\u001b[39m.\u001b[39msqueeze(s,axis\u001b[39m=\u001b[39m\u001b[39m1\u001b[39m)\n\u001b[0;32m      2\u001b[0m r_a\u001b[39m=\u001b[39mnp\u001b[39m.\u001b[39msqueeze(r,axis\u001b[39m=\u001b[39m\u001b[39m1\u001b[39m)\n\u001b[1;32m----> 3\u001b[0m rr \u001b[39m=\u001b[39m interp1d(s_a,r_a,kind\u001b[39m=\u001b[39;49m\u001b[39m'\u001b[39;49m\u001b[39mcubic\u001b[39;49m\u001b[39m'\u001b[39;49m,fill_value\u001b[39m=\u001b[39;49mss_a)\n",
      "File \u001b[1;32m~\\AppData\\Local\\Packages\\PythonSoftwareFoundation.Python.3.10_qbz5n2kfra8p0\\LocalCache\\local-packages\\Python310\\site-packages\\scipy\\interpolate\\_interpolate.py:582\u001b[0m, in \u001b[0;36minterp1d.__init__\u001b[1;34m(***failed resolving arguments***)\u001b[0m\n\u001b[0;32m    578\u001b[0m \u001b[39mif\u001b[39;00m \u001b[39mlen\u001b[39m(\u001b[39mself\u001b[39m\u001b[39m.\u001b[39mx) \u001b[39m<\u001b[39m minval:\n\u001b[0;32m    579\u001b[0m     \u001b[39mraise\u001b[39;00m \u001b[39mValueError\u001b[39;00m(\u001b[39m\"\u001b[39m\u001b[39mx and y arrays must have at \u001b[39m\u001b[39m\"\u001b[39m\n\u001b[0;32m    580\u001b[0m                      \u001b[39m\"\u001b[39m\u001b[39mleast \u001b[39m\u001b[39m%d\u001b[39;00m\u001b[39m entries\u001b[39m\u001b[39m\"\u001b[39m \u001b[39m%\u001b[39m minval)\n\u001b[1;32m--> 582\u001b[0m \u001b[39mself\u001b[39;49m\u001b[39m.\u001b[39;49mfill_value \u001b[39m=\u001b[39m fill_value\n",
      "File \u001b[1;32m~\\AppData\\Local\\Packages\\PythonSoftwareFoundation.Python.3.10_qbz5n2kfra8p0\\LocalCache\\local-packages\\Python310\\site-packages\\scipy\\interpolate\\_interpolate.py:612\u001b[0m, in \u001b[0;36minterp1d.fill_value\u001b[1;34m(self, fill_value)\u001b[0m\n\u001b[0;32m    610\u001b[0m \u001b[39melse\u001b[39;00m:\n\u001b[0;32m    611\u001b[0m     fill_value \u001b[39m=\u001b[39m np\u001b[39m.\u001b[39masarray(fill_value)\n\u001b[1;32m--> 612\u001b[0m     below_above \u001b[39m=\u001b[39m [_check_broadcast_up_to(\n\u001b[0;32m    613\u001b[0m         fill_value, broadcast_shape, \u001b[39m'\u001b[39;49m\u001b[39mfill_value\u001b[39;49m\u001b[39m'\u001b[39;49m)] \u001b[39m*\u001b[39m \u001b[39m2\u001b[39m\n\u001b[0;32m    614\u001b[0m \u001b[39mself\u001b[39m\u001b[39m.\u001b[39m_fill_value_below, \u001b[39mself\u001b[39m\u001b[39m.\u001b[39m_fill_value_above \u001b[39m=\u001b[39m below_above\n\u001b[0;32m    615\u001b[0m \u001b[39mself\u001b[39m\u001b[39m.\u001b[39m_extrapolate \u001b[39m=\u001b[39m \u001b[39mFalse\u001b[39;00m\n",
      "File \u001b[1;32m~\\AppData\\Local\\Packages\\PythonSoftwareFoundation.Python.3.10_qbz5n2kfra8p0\\LocalCache\\local-packages\\Python310\\site-packages\\scipy\\interpolate\\_interpolate.py:330\u001b[0m, in \u001b[0;36m_check_broadcast_up_to\u001b[1;34m(arr_from, shape_to, name)\u001b[0m\n\u001b[0;32m    328\u001b[0m         \u001b[39mreturn\u001b[39;00m arr_from\u001b[39m.\u001b[39mravel()\n\u001b[0;32m    329\u001b[0m \u001b[39m# at least one check failed\u001b[39;00m\n\u001b[1;32m--> 330\u001b[0m \u001b[39mraise\u001b[39;00m \u001b[39mValueError\u001b[39;00m(\u001b[39m'\u001b[39m\u001b[39m%s\u001b[39;00m\u001b[39m argument must be able to broadcast up \u001b[39m\u001b[39m'\u001b[39m\n\u001b[0;32m    331\u001b[0m                  \u001b[39m'\u001b[39m\u001b[39mto shape \u001b[39m\u001b[39m%s\u001b[39;00m\u001b[39m but had shape \u001b[39m\u001b[39m%s\u001b[39;00m\u001b[39m'\u001b[39m\n\u001b[0;32m    332\u001b[0m                  \u001b[39m%\u001b[39m (name, shape_to, shape_from))\n",
      "\u001b[1;31mValueError\u001b[0m: fill_value argument must be able to broadcast up to shape (1,) but had shape (1, 80)"
     ]
    }
   ],
   "source": [
    "s_a=np.squeeze(s,axis=1)\n",
    "r_a=np.squeeze(r,axis=1)\n",
    "\n",
    "\n",
    "\n",
    "\n",
    "rr = interp1d(s_a,r_a,kind='cubic',fill_value=ss_a)\n"
   ]
  },
  {
   "cell_type": "code",
   "execution_count": null,
   "metadata": {},
   "outputs": [],
   "source": [
    "f=0\n",
    "N=len(y)\n",
    "pi=m.pi\n",
    "y=r\n",
    "max_order=10\n",
    "\n",
    "smax = m.sqrt(sigmaprime)*2.0/0.8701\n",
    "\n",
    "# get the differentation/integration matrices and the grid\n",
    "D,_,w,s = dif1D('cheb',0,smax,N,5)\n",
    "# predict the shape of the interface (empirical Nagel)\n",
    "z = -4/3*smax/m.pi*(m.cos(m.pi*3/4*s/smax))\n",
    "z = z - max(z)\n",
    "r = 4/3*smax/m.pi*(m.sin(m.pi*3/4*s/smax))\n",
    "\n",
    "YC=fcbt('cheb',N,abs(max_order)+1)\n",
    "if np.size(y,1)==1:\n",
    "    y=y.T\n",
    "ys0=y\n",
    "if max_order == None:\n",
    "    max_order=N/2\n",
    "if shift_order == None:\n",
    "    shift_order = 0\n",
    "revarg = (max_order<0)\n",
    "max_order=abs(max_order)\n",
    "ds=2/N-1\n",
    "d,_,w,s=dif1D('fd',-1+ds,2-2*ds,N-2,5)\n",
    "d[0,:]=np.hstack((1,np.zeros(N-3)))\n",
    "w2= np.linalg.inv(d)\n",
    "w2=w2[-1,:]\n",
    "w2[0]=0\n",
    "c=np.zeros((max_order+1,1))\n",
    "# 1st pass over 6 modes, c are the modes, from y the fitted part is subtracted\n",
    "for k in range (0,min(6,max_order)+1):\n",
    "    y0 = YC [0,k]*y[0]\n",
    "    dy=(YC[1,k]*y(1)-YC[0,k]*y[0])/ds\n",
    "    singular_left = (y0+dy)*np.acos(1-ds)-dy*np.sqrt(ds*(2-ds))\n",
    "    y0 = YC[-1,k]*y[-1]\n",
    "    dy = (YC[-1,k]*y[-1]-YC[-2,k]*y[-2])/ds\n",
    "    singular_right = (y0-dy)*np.acos(1-ds)+dy*np.sqrt(ds*(2-ds))\n",
    "    c[k] = 2/pi*(w2*(y[1:-2]/np.sqrt(1-s**2)*YC[1:-2,k]) + singular_left + singular_right)/(1+(k==0))\n",
    "    y = y - c[k]*YC[:,k]\n",
    "\n"
   ]
  },
  {
   "cell_type": "code",
   "execution_count": null,
   "metadata": {},
   "outputs": [],
   "source": []
  }
 ],
 "metadata": {
  "kernelspec": {
   "display_name": "Python 3.10.8 64-bit (microsoft store)",
   "language": "python",
   "name": "python3"
  },
  "language_info": {
   "codemirror_mode": {
    "name": "ipython",
    "version": 3
   },
   "file_extension": ".py",
   "mimetype": "text/x-python",
   "name": "python",
   "nbconvert_exporter": "python",
   "pygments_lexer": "ipython3",
   "version": "3.10.8"
  },
  "orig_nbformat": 4,
  "vscode": {
   "interpreter": {
    "hash": "60437aad8983babfce94e0da8b300c92c022ccf7e7dbddf7a08c08f7ecf8beba"
   }
  }
 },
 "nbformat": 4,
 "nbformat_minor": 2
}
