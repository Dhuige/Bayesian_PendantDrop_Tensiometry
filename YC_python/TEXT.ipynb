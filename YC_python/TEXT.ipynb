{
 "cells": [
  {
   "cell_type": "code",
   "execution_count": 1,
   "metadata": {},
   "outputs": [
    {
     "name": "stdout",
     "output_type": "stream",
     "text": [
      "1\n"
     ]
    }
   ],
   "source": [
    "import numpy as np\n",
    "import numpy.matlib\n",
    "from numpy.matlib import repmat\n",
    "import math as m\n",
    "import os\n",
    "from scipy.linalg import toeplitz\n",
    "from scipy.special import gamma\n",
    "import scipy.sparse\n",
    "import scipy\n",
    "str=('dif1D.py')\n",
    "p=os.system(str)\n",
    "print(p)"
   ]
  },
  {
   "cell_type": "code",
   "execution_count": 109,
   "metadata": {},
   "outputs": [
    {
     "name": "stdout",
     "output_type": "stream",
     "text": [
      "[[-1  2 -1  2]\n",
      " [ 2  5  2  5]\n",
      " [ 1  1  1  1]]\n",
      "[[-1  2 -1]]\n"
     ]
    },
    {
     "name": "stderr",
     "output_type": "stream",
     "text": [
      "C:\\Users\\臧义程\\AppData\\Local\\Temp\\ipykernel_23592\\2878443816.py:10: RuntimeWarning: divide by zero encountered in divide\n",
      "  mr=(y2-y1)/(x2-x1)\n"
     ]
    },
    {
     "ename": "ValueError",
     "evalue": "The truth value of an array with more than one element is ambiguous. Use a.any() or a.all()",
     "output_type": "error",
     "traceback": [
      "\u001b[1;31m---------------------------------------------------------------------------\u001b[0m",
      "\u001b[1;31mValueError\u001b[0m                                Traceback (most recent call last)",
      "Cell \u001b[1;32mIn [109], line 14\u001b[0m\n\u001b[0;32m     12\u001b[0m idf1 \u001b[39m=\u001b[39m np\u001b[39m.\u001b[39misinf(mr)\n\u001b[0;32m     13\u001b[0m idf2 \u001b[39m=\u001b[39m np\u001b[39m.\u001b[39misinf(mt)\n\u001b[1;32m---> 14\u001b[0m idf34 \u001b[39m=\u001b[39m mr\u001b[39m==\u001b[39mmt \u001b[39mor\u001b[39;00m np\u001b[39m.\u001b[39misnan(mr) \u001b[39mor\u001b[39;00m np\u001b[39m.\u001b[39misnan(mt)\n\u001b[0;32m     16\u001b[0m \u001b[39m# ============= Compute xc, the circle center x-coordinate\u001b[39;00m\n\u001b[0;32m     17\u001b[0m xc\u001b[39m=\u001b[39m (mr\u001b[39m*\u001b[39mmt\u001b[39m*\u001b[39m(y3\u001b[39m-\u001b[39my1)\u001b[39m+\u001b[39mmr\u001b[39m*\u001b[39m(x2\u001b[39m+\u001b[39mx3)\u001b[39m-\u001b[39mmt\u001b[39m*\u001b[39m(x1\u001b[39m+\u001b[39mx2))\u001b[39m/\u001b[39m(\u001b[39m2\u001b[39m\u001b[39m*\u001b[39m(mr\u001b[39m-\u001b[39mmt))\n",
      "\u001b[1;31mValueError\u001b[0m: The truth value of an array with more than one element is ambiguous. Use a.any() or a.all()"
     ]
    }
   ],
   "source": [
    "ABC=np.mat([[-1 ,2],[2, 5],[1, 1]])\n",
    "print(ABC)\n",
    "x1=ABC[0,0:-1]\n",
    "print(x1)\n",
    "x2=ABC[1,0]\n",
    "x3=ABC[2,0]\n",
    "y1=ABC[0,1]\n",
    "y2=ABC[1,1]\n",
    "y3=ABC[2,1]\n",
    "mr=(y2-y1)/(x2-x1)\n",
    "mt=(y3-y2)/(x3-x2)\n",
    "idf1 = np.isinf(mr)\n",
    "idf2 = np.isinf(mt)\n",
    "idf34 = mr==mt or np.isnan(mr) or np.isnan(mt)\n",
    "\n",
    "# ============= Compute xc, the circle center x-coordinate\n",
    "xc= (mr*mt*(y3-y1)+mr*(x2+x3)-mt*(x1+x2))/(2*(mr-mt))\n",
    "if idf1==1: #Failure mode (1) ==> use limit case of mr==Inf\n",
    "    xc=(mt*(y3-y1)+(x2+x3))/2 \n",
    "if idf2==1: #Failure mode (2) ==> use limit case of mt==Inf\n",
    "    xc = ((x1+x2)-mr*(y3-y1))/2; \n",
    "if idf34==1: #Failure mode (3) or (4) ==> cannot determine center point, return None\n",
    "    xc = None\n",
    "# ============= Compute yc, the circle center y-coordinate\n",
    "yc=-1./mr*(xc-(x1+x2)/2)+(y1+y2)/2\n",
    "idmr0 = mr==0\n",
    "if idmr0==1: \n",
    "    yc = -1./mt*(xc-(x2+x3)/2)+(y2+y3)/2 \n",
    "if idf34==1: #Failure mode (3) or (4) ==> cannot determine center point, return None\n",
    "    yc = None\n",
    "# ============= Compute the circle radius\n",
    "R=m.sqrt((xc-x1)**2+(yc-y1)**2)\n",
    "if idf34==1:\n",
    "    R=float(\"inf\")\n",
    "\n",
    "xcyc=np.array([xc,yc]).reshape(2,1)\n",
    "\n",
    "print(xcyc,R)"
   ]
  },
  {
   "cell_type": "code",
   "execution_count": 98,
   "metadata": {},
   "outputs": [
    {
     "name": "stdout",
     "output_type": "stream",
     "text": [
      "None\n"
     ]
    }
   ],
   "source": []
  },
  {
   "cell_type": "code",
   "execution_count": null,
   "metadata": {},
   "outputs": [],
   "source": []
  },
  {
   "cell_type": "code",
   "execution_count": 1,
   "metadata": {},
   "outputs": [
    {
     "ename": "SyntaxError",
     "evalue": "Missing parentheses in call to 'print'. Did you mean print(...)? (378308358.py, line 10)",
     "output_type": "error",
     "traceback": [
      "\u001b[1;36m  Cell \u001b[1;32mIn [1], line 10\u001b[1;36m\u001b[0m\n\u001b[1;33m    print clt.predict([[-0.8, -1]])  # 输出为分类结果\u001b[0m\n\u001b[1;37m    ^\u001b[0m\n\u001b[1;31mSyntaxError\u001b[0m\u001b[1;31m:\u001b[0m Missing parentheses in call to 'print'. Did you mean print(...)?\n"
     ]
    }
   ],
   "source": [
    "import numpy as np\n",
    "from sklearn import svm\n",
    "\n",
    "X = np.array([[-1, -1], [-2, -1], [1, 1], [2, 1]])\n",
    "y = np.array([1, 1, 2, 2])\n",
    "\n",
    "clt = svm.SVC(probability = True)\n",
    "clt.fit(X, y)\n",
    "\n",
    "print (clt.predict([[-0.8, -1]]))  # 输出为分类结果\n",
    "print (clt.predict_proba([[-0.8, -1]]))  # 输出为概率值"
   ]
  }
 ],
 "metadata": {
  "kernelspec": {
   "display_name": "Python 3.10.8 64-bit (microsoft store)",
   "language": "python",
   "name": "python3"
  },
  "language_info": {
   "codemirror_mode": {
    "name": "ipython",
    "version": 3
   },
   "file_extension": ".py",
   "mimetype": "text/x-python",
   "name": "python",
   "nbconvert_exporter": "python",
   "pygments_lexer": "ipython3",
   "version": "3.10.8"
  },
  "orig_nbformat": 4,
  "vscode": {
   "interpreter": {
    "hash": "60437aad8983babfce94e0da8b300c92c022ccf7e7dbddf7a08c08f7ecf8beba"
   }
  }
 },
 "nbformat": 4,
 "nbformat_minor": 2
}
