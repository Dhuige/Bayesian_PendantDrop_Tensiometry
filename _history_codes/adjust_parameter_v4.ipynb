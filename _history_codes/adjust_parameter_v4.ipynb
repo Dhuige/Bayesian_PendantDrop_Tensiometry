{
 "cells": [
  {
   "cell_type": "code",
   "execution_count": 1,
   "metadata": {},
   "outputs": [],
   "source": [
    "import os\n",
    "import math as m\n",
    "from codes_gendrops_py.genSingleDrop import *\n",
    "from codes_gendrops_py.fit_circle_through_3_points import *\n",
    "import matplotlib.pyplot as plt\n",
    "import matplotlib.image as mpimg\n",
    "from pre_process_functions import *\n",
    "from PIL import Image\n",
    "import numpy as np\n",
    "import time"
   ]
  },
  {
   "attachments": {},
   "cell_type": "markdown",
   "metadata": {},
   "source": [
    "## Definite the pre processing functions"
   ]
  },
  {
   "cell_type": "code",
   "execution_count": 2,
   "metadata": {},
   "outputs": [],
   "source": [
    "def gen_doplet_v4(sigma,volume0,rneedle=0.5,savepath='./images_notupload',save=True):\n",
    "    r_a,z_a=genSingleDrop(sigma=sigma,volume0=volume0,savepath=savepath,rneedle=rneedle,output=1)\n",
    "\n",
    "    path=savepath+\"/s%.2f_v%.2f_rn1_wmax_%.2f.jpg\" %(sigma, volume0, 2*max(abs(r_a)))\n",
    "\n",
    "    plt.fill_between(r_a,z_a,color='black')\n",
    "    plt.fill_between(-r_a,z_a,color='black')\n",
    "    plt.axis('equal')\n",
    "    plt.axis('off')\n",
    "    plt.savefig(path)\n",
    "    plt.close()\n",
    "\n",
    "    wmax=2*max(abs(r_a))\n",
    "    return path,wmax,rneedle"
   ]
  },
  {
   "cell_type": "code",
   "execution_count": 3,
   "metadata": {},
   "outputs": [],
   "source": [
    "def remove_needle_centering(img_ori,savepath='./images_notupload'):\n",
    "    '''img_ori=Image.open(path_ori)'''\n",
    "    w_ori,h_ori=img_ori.size\n",
    "\n",
    "    scaling_ori=300/w_ori # reshape the origin image to width 300\n",
    "\n",
    "    w_ori2=int(scaling_ori*w_ori)\n",
    "    h_ori2=int(scaling_ori*h_ori)\n",
    "\n",
    "    A=img2bw(ResizeImage(img_ori,w_ori2,h_ori2))\n",
    "\n",
    "    left_edge=np.zeros(w_ori2)\n",
    "    right_edge=np.zeros(w_ori2)\n",
    "    for i in range(h_ori2):\n",
    "        for j in range(w_ori2):\n",
    "            if A[i,j-1]>=125 and A[i,j]<125:\n",
    "                #print('Left position',i,j)\n",
    "                left_edge[i]=j\n",
    "            if A[i,j-1]<=125 and A[i,j]>125:\n",
    "                #print('Right position',i,j)\n",
    "                right_edge[i]=j\n",
    "\n",
    "    needle=np.abs(left_edge-right_edge)\n",
    "\n",
    "    end=0\n",
    "    for j in range(needle.shape[0]-1):\n",
    "        j=j+1\n",
    "        if end == 0:\n",
    "            if abs((needle[j]-needle[0])/needle[0])>0.05:\n",
    "                stopline=j\n",
    "                end=end+1\n",
    "    #print(stopline)\n",
    "\n",
    "    addpad=right_edge[stopline]-needle[stopline]/2-w_ori2/2\n",
    "\n",
    "    img_WON=np.zeros((h_ori2-stopline,w_ori2))\n",
    "    for i in range(h_ori2):\n",
    "        if i>=stopline:\n",
    "            img_WON[i-stopline,:]=A[i,:]\n",
    "    \n",
    "    h_won,w_won=img_WON.shape\n",
    "    \n",
    "    # centering\n",
    "    if addpad>0:\n",
    "        img_won=np.hstack( ( img_WON,np.ones((h_won,abs(int(addpad*4))))*255 ) )\n",
    "    elif addpad<0:\n",
    "        img_won=np.hstack( ( np.ones((h_won,abs(int(addpad*4))))*255,img_WON ) )\n",
    "    else:\n",
    "        img_won=img_WON\n",
    "\n",
    "    img=Image.fromarray(np.uint8(img_won))\n",
    "\n",
    "    path=savepath+\"/cut_needle_pixel_rn%.2f.png\" %(needle[0])\n",
    "    img.save(path)\n",
    "    return path,needle\n"
   ]
  },
  {
   "cell_type": "code",
   "execution_count": 4,
   "metadata": {},
   "outputs": [],
   "source": [
    "def resize_synimg(img_syn,wmax,r_pixel_ori,r_syn=1):\n",
    "    '''img_ori=Image.open(path_ori)'''\n",
    "    w,h=img_syn.size\n",
    "    w_n=wmax/(2*r_syn)*50\n",
    "    scaling=w_n/w\n",
    "    h_n=scaling*h\n",
    "    new_syn=ResizeImage(img_syn,int(w_n),int(h_n))\n",
    "    return new_syn"
   ]
  },
  {
   "cell_type": "code",
   "execution_count": 5,
   "metadata": {},
   "outputs": [],
   "source": [
    "def cost_v3(img_ori,img_syn,width=100,output=0):\n",
    "    '''\n",
    "    input:              \n",
    "    x:                the origin point of synthetic image\n",
    "    img_syn,img_ori:    the images that need to calculate the cost \n",
    "                        should be valued by 'Image.open(path)'\n",
    "    K:                  the scaling of synthethic image\n",
    "    output: 0 -->lost, 1-->C, else C,lost\n",
    "    '''\n",
    "    w_ori,h_ori=img_ori.size\n",
    "    w_syn,h_syn=img_syn.size\n",
    "    \n",
    "\n",
    "    scaling_ori=width/w_ori # reshape the origin image to width\n",
    "    w_ori2=int(scaling_ori*w_ori)\n",
    "    h_ori2=int(scaling_ori*h_ori)\n",
    "    scaling_syn=scaling_ori\n",
    "    w_syn2=int(scaling_syn*w_syn)\n",
    "    h_syn2=int(scaling_syn*h_syn)\n",
    "    x=int(abs((w_syn2-w_ori2)/2))\n",
    "\n",
    "    A=img2bw(ResizeImage(img_ori,w_ori2,h_ori2))\n",
    "    one=np.ones((w_ori2-h_ori2,w_ori2))*255\n",
    "    A=np.row_stack((A,one))\n",
    "\n",
    "\n",
    "    B=img2bw(ResizeImage(img_syn,w_syn2,h_syn2))\n",
    "    C=np.zeros((w_ori2,w_ori2))\n",
    "\n",
    "    droplet=0\n",
    "    for i in range(w_ori2):\n",
    "        for j in range (h_ori2):\n",
    "            if A[i,j]==255:\n",
    "                droplet=droplet+1\n",
    "\n",
    "    for i in range (w_ori2): # h\n",
    "        for j in range(w_ori2): # w\n",
    "            #print (h_ori2,w_ori2)\n",
    "            #print(i,j)\n",
    "            if j < x or j-x >= w_syn2 or i >= h_syn2 :\n",
    "                 C[i,j]=A[i,j]\n",
    "            else:\n",
    "                if  A[i,j]==B[i,j-x]: # B[i-y,j-x]\n",
    "                    C[i,j]=255\n",
    "                else:\n",
    "                    C[i,j]=0\n",
    "    \n",
    "    # pixel that same(T) different(F) and drop area\n",
    "    t=0; f=0; \n",
    "    #drop_ori=0; drop_gen=0 \n",
    "    for i in range (w_ori2):\n",
    "        for j in range(h_ori2):\n",
    "            if C[i,j]==0:\n",
    "                f=f+1\n",
    "            else:\n",
    "                t=t+1\n",
    "    #lost=f/max(w_ori2*h_ori2,w_syn2*h_syn2)\n",
    "    \n",
    "    lost=f/droplet\n",
    "    accurancy=1-lost\n",
    "\n",
    "    if output == 0:\n",
    "        return lost\n",
    "    elif output == 1:\n",
    "        return C\n",
    "    else:\n",
    "        return C,lost"
   ]
  },
  {
   "attachments": {},
   "cell_type": "markdown",
   "metadata": {},
   "source": [
    "## Definite the obtimize funciton"
   ]
  },
  {
   "cell_type": "code",
   "execution_count": 6,
   "metadata": {},
   "outputs": [],
   "source": [
    "def obtimize_v3(sv,path_ori=os.path.abspath('./images_experiment/220304_miliq_T17.7_S73.04.png'),output=0):\n",
    "    start = time.time()\n",
    "    sigma=sv[0]\n",
    "    v0=sv[1]\n",
    "    # pre prosessing the ori image\n",
    "    path_ori,needle=remove_needle_centering(Image.open(path_ori))\n",
    "    img_ori=Image.open(path_ori)\n",
    "    pixel_needle=needle[0]\n",
    "\n",
    "    # gen and post prosessing the syn image\n",
    "    path_img='./images_notupload/'\n",
    "    # generate the syn image\n",
    "    path_syn,wmax,rneedle=gen_doplet_v4(sigma=sigma,volume0=v0)\n",
    "\n",
    "    # cut the white edge of syn image\n",
    "    _,path_syn = crop_margin(io.imread(path_syn))\n",
    "    img_syn=resize_synimg(Image.open(path_syn),wmax,r_pixel_ori=pixel_needle,r_syn=1)\n",
    "    end = time.time()\n",
    "    print('Obtimize Program execution time: ',end - start)\n",
    "    if output==0:\n",
    "        lost=cost_v3(img_ori,img_syn,output=output)\n",
    "        xs.append(sv)\n",
    "        losts.append(lost)\n",
    "        print(sv,lost)\n",
    "        return lost\n",
    "    elif output==1:\n",
    "        C=cost_v3(img_ori,img_syn,output=output)\n",
    "        return C\n",
    "    else :\n",
    "        C,lost=cost_v3(img_ori,img_syn,output=output)\n",
    "        return C, lost"
   ]
  },
  {
   "attachments": {},
   "cell_type": "markdown",
   "metadata": {},
   "source": [
    "## Start the optimization\n"
   ]
  },
  {
   "cell_type": "code",
   "execution_count": 7,
   "metadata": {},
   "outputs": [
    {
     "name": "stdout",
     "output_type": "stream",
     "text": [
      "Gen Image Program execution time:  0.001001119613647461\n",
      "Obtimize Program execution time:  0.7281076908111572\n",
      "[75. 11.] 0.4122335126519227\n",
      "Gen Image Program execution time:  0.0010120868682861328\n",
      "Obtimize Program execution time:  0.4019656181335449\n",
      "[78.75 11.  ] 0.44849571627814305\n",
      "Gen Image Program execution time:  0.0014684200286865234\n",
      "Obtimize Program execution time:  0.4060826301574707\n",
      "[75.   11.55] 0.4122335126519227\n",
      "Gen Image Program execution time:  0.0009992122650146484\n",
      "Obtimize Program execution time:  0.39693427085876465\n",
      "[71.25 11.55] 0.37816298067344095\n",
      "Gen Image Program execution time:  0.0010027885437011719\n",
      "Obtimize Program execution time:  0.39189624786376953\n",
      "[67.5   11.825] 0.34329547718669057\n",
      "Gen Image Program execution time:  0.0\n",
      "Obtimize Program execution time:  0.40873146057128906\n",
      "[67.5   11.275] 0.34329547718669057\n",
      "Gen Image Program execution time:  0.0\n",
      "Obtimize Program execution time:  0.4553074836730957\n",
      "[60.  12.1] 0.28750747160789003\n",
      "Gen Image Program execution time:  0.0010004043579101562\n",
      "Obtimize Program execution time:  0.3948209285736084\n",
      "[52.5  12.65] 0.20203227734608487\n",
      "Gen Image Program execution time:  0.0015037059783935547\n",
      "Obtimize Program execution time:  0.392653226852417\n",
      "[52.5 13.2] 0.20203227734608487\n",
      "Gen Image Program execution time:  0.0009999275207519531\n",
      "Obtimize Program execution time:  0.3917853832244873\n",
      "[37.5   14.025] 0.11675632596134689\n",
      "Gen Image Program execution time:  0.0010001659393310547\n",
      "Obtimize Program execution time:  0.3995680809020996\n",
      "[22.5   15.125] 0.1914724048615262\n",
      "Gen Image Program execution time:  0.0010008811950683594\n",
      "Obtimize Program execution time:  0.39295148849487305\n",
      "[37.5   13.475] 0.11675632596134689\n",
      "Gen Image Program execution time:  0.0010001659393310547\n",
      "Obtimize Program execution time:  0.398012638092041\n",
      "[22.5  14.85] 0.1914724048615262\n",
      "Gen Image Program execution time:  0.0010001659393310547\n",
      "Obtimize Program execution time:  0.391312837600708\n",
      "[30.  14.3] 0.14863518629209005\n",
      "Gen Image Program execution time:  0.0009999275207519531\n",
      "Obtimize Program execution time:  0.39237499237060547\n",
      "[45.  13.2] 0.13070332735604703\n",
      "Gen Image Program execution time:  0.0010094642639160156\n",
      "Obtimize Program execution time:  0.3911738395690918\n",
      "[41.25  13.475] 0.11914724048615262\n",
      "Gen Image Program execution time:  0.0005033016204833984\n",
      "Obtimize Program execution time:  0.4467637538909912\n",
      "[33.75  14.025] 0.13389121338912133\n",
      "Gen Image Program execution time:  0.0\n",
      "Obtimize Program execution time:  0.38905906677246094\n",
      "[39.375  13.6125] 0.11655708308427974\n",
      "Gen Image Program execution time:  0.0\n",
      "Obtimize Program execution time:  0.40068554878234863\n",
      "[39.375  14.1625] 0.11655708308427974\n",
      "Gen Image Program execution time:  0.0015027523040771484\n",
      "Obtimize Program execution time:  0.39897680282592773\n",
      "[41.25 13.75] 0.11914724048615262\n",
      "Gen Image Program execution time:  0.001066446304321289\n",
      "Obtimize Program execution time:  0.39191174507141113\n",
      "[38.4375  13.95625] 0.12412831241283125\n",
      "Gen Image Program execution time:  0.0\n",
      "Obtimize Program execution time:  0.3920862674713135\n",
      "[39.375  13.8875] 0.11655708308427974\n",
      "Gen Image Program execution time:  0.0\n",
      "Obtimize Program execution time:  0.392223596572876\n",
      "[38.4375  13.81875] 0.12412831241283125\n",
      "Gen Image Program execution time:  0.0\n",
      "Obtimize Program execution time:  0.3930542469024658\n",
      "[40.3125  13.68125] 0.1203426977485555\n",
      "Gen Image Program execution time:  0.0010004043579101562\n",
      "Obtimize Program execution time:  0.49738240242004395\n",
      "[39.84375  13.715625] 0.11655708308427974\n",
      "Gen Image Program execution time:  0.0010044574737548828\n",
      "Obtimize Program execution time:  0.3914525508880615\n",
      "[38.90625  13.784375] 0.11695556883841403\n",
      "Gen Image Program execution time:  0.001003265380859375\n",
      "Obtimize Program execution time:  0.3881826400756836\n",
      "[39.609375  13.7328125] 0.11655708308427974\n",
      "Gen Image Program execution time:  0.0\n",
      "Obtimize Program execution time:  0.39412856101989746\n",
      "[39.375 13.75 ] 0.11655708308427974\n",
      "Gen Image Program execution time:  0.0010097026824951172\n",
      "Obtimize Program execution time:  0.395296573638916\n",
      "[39.609375  13.6640625] 0.11655708308427974\n",
      "Gen Image Program execution time:  0.0010013580322265625\n",
      "Obtimize Program execution time:  0.40936779975891113\n",
      "[39.140625  13.6984375] 0.11695556883841403\n",
      "Gen Image Program execution time:  0.0010008811950683594\n",
      "Obtimize Program execution time:  0.3998277187347412\n",
      "[39.4921875  13.67265625] 0.11655708308427974\n",
      "Gen Image Program execution time:  0.0\n",
      "Obtimize Program execution time:  0.39281392097473145\n",
      "[39.375   13.68125] 0.11655708308427974\n",
      "Gen Image Program execution time:  0.0\n",
      "Obtimize Program execution time:  0.39768362045288086\n",
      "[39.4921875  13.63828125] 0.11655708308427974\n",
      "Gen Image Program execution time:  0.0\n",
      "Obtimize Program execution time:  0.3898963928222656\n",
      "[39.2578125  13.65546875] 0.11675632596134689\n",
      "Gen Image Program execution time:  0.0009992122650146484\n",
      "Obtimize Program execution time:  0.39385271072387695\n",
      "[39.43359375 13.64257813] 0.11655708308427974\n",
      "Gen Image Program execution time:  0.001142263412475586\n",
      "Obtimize Program execution time:  0.3909413814544678\n",
      "[39.375    13.646875] 0.11655708308427974\n",
      "Gen Image Program execution time:  0.0\n",
      "Obtimize Program execution time:  0.39196205139160156\n",
      "[39.43359375 13.62539063] 0.11655708308427974\n",
      "Gen Image Program execution time:  0.0\n",
      "Obtimize Program execution time:  0.4022860527038574\n",
      "[39.31640625 13.63398438] 0.11675632596134689\n",
      "Gen Image Program execution time:  0.0\n",
      "Obtimize Program execution time:  0.39475321769714355\n",
      "[39.40429688 13.62753906] 0.11655708308427974\n",
      "Gen Image Program execution time:  0.0\n",
      "Obtimize Program execution time:  0.399874210357666\n",
      "[39.375     13.6296875] 0.11655708308427974\n",
      "Gen Image Program execution time:  0.0\n",
      "Obtimize Program execution time:  0.40061378479003906\n",
      "[39.40429688 13.61894531] 0.11655708308427974\n",
      "Gen Image Program execution time:  0.0010035037994384766\n",
      "Obtimize Program execution time:  0.39655590057373047\n",
      "[39.34570312 13.62324219] 0.11655708308427974\n",
      "Gen Image Program execution time:  0.0010378360748291016\n",
      "Obtimize Program execution time:  0.3923983573913574\n",
      "[39.38964844 13.62001953] 0.11655708308427974\n",
      "Gen Image Program execution time:  0.0\n",
      "Obtimize Program execution time:  0.39606690406799316\n",
      "[39.375      13.62109375] 0.11655708308427974\n",
      "Gen Image Program execution time:  0.0010008811950683594\n",
      "Obtimize Program execution time:  0.3999946117401123\n",
      "[39.38964844 13.61572266] 0.11655708308427974\n",
      "Gen Image Program execution time:  0.0\n",
      "Obtimize Program execution time:  0.39925456047058105\n",
      "[39.36035156 13.61787109] 0.11655708308427974\n",
      "Gen Image Program execution time:  0.0010008811950683594\n",
      "Obtimize Program execution time:  0.3914618492126465\n",
      "[39.38232422 13.61625977] 0.11655708308427974\n",
      "Gen Image Program execution time:  0.0\n",
      "Obtimize Program execution time:  0.3981325626373291\n",
      "[39.375      13.61679688] 0.11655708308427974\n",
      "Gen Image Program execution time:  0.0\n",
      "Obtimize Program execution time:  0.38861918449401855\n",
      "[39.38232422 13.61411133] 0.11655708308427974\n",
      "Gen Image Program execution time:  0.0009999275207519531\n",
      "Obtimize Program execution time:  0.3893015384674072\n",
      "[39.36767578 13.61518555] 0.11655708308427974\n",
      "Gen Image Program execution time:  0.001332998275756836\n",
      "Obtimize Program execution time:  0.3990304470062256\n",
      "[39.37866211 13.61437988] 0.11655708308427974\n",
      "Gen Image Program execution time:  0.0009999275207519531\n",
      "Obtimize Program execution time:  0.3899877071380615\n",
      "[39.375      13.61464844] 0.11655708308427974\n",
      "Gen Image Program execution time:  0.0\n",
      "Obtimize Program execution time:  0.46407389640808105\n",
      "[39.37866211 13.61330566] 0.11655708308427974\n",
      "Gen Image Program execution time:  0.0010013580322265625\n",
      "Obtimize Program execution time:  0.39676690101623535\n",
      "[39.37133789 13.61384277] 0.11655708308427974\n",
      "Gen Image Program execution time:  0.001003265380859375\n",
      "Obtimize Program execution time:  0.40808582305908203\n",
      "[39.37683105 13.61343994] 0.11655708308427974\n",
      "Gen Image Program execution time:  0.0014774799346923828\n",
      "Obtimize Program execution time:  0.39299821853637695\n",
      "[39.375      13.61357422] 0.11655708308427974\n",
      "Gen Image Program execution time:  0.0009996891021728516\n",
      "Obtimize Program execution time:  0.398967981338501\n",
      "[39.37683105 13.61290283] 0.11655708308427974\n",
      "Gen Image Program execution time:  0.0\n",
      "Obtimize Program execution time:  0.39059019088745117\n",
      "[39.37316895 13.61317139] 0.11655708308427974\n",
      "Gen Image Program execution time:  0.0011112689971923828\n",
      "Obtimize Program execution time:  0.3906846046447754\n",
      "[39.37591553 13.61296997] 0.11655708308427974\n",
      "Gen Image Program execution time:  0.0009992122650146484\n",
      "Obtimize Program execution time:  0.38729023933410645\n",
      "[39.375      13.61303711] 0.11655708308427974\n",
      "Gen Image Program execution time:  0.0010001659393310547\n",
      "Obtimize Program execution time:  0.39545154571533203\n",
      "[39.37591553 13.61270142] 0.11655708308427974\n",
      "Gen Image Program execution time:  0.0010120868682861328\n",
      "Obtimize Program execution time:  0.3907968997955322\n",
      "[39.37408447 13.61283569] 0.11655708308427974\n",
      "Gen Image Program execution time:  0.0\n",
      "Obtimize Program execution time:  0.3905065059661865\n",
      "[39.37545776 13.61273499] 0.11655708308427974\n",
      "Gen Image Program execution time:  0.0\n",
      "Obtimize Program execution time:  0.3967459201812744\n",
      "[39.375      13.61276855] 0.11655708308427974\n",
      "Gen Image Program execution time:  0.0009970664978027344\n",
      "Obtimize Program execution time:  0.3883216381072998\n",
      "[39.37545776 13.61260071] 0.11655708308427974\n",
      "Gen Image Program execution time:  0.0010669231414794922\n",
      "Obtimize Program execution time:  0.3910810947418213\n",
      "[39.37454224 13.61266785] 0.11655708308427974\n",
      "Gen Image Program execution time:  0.0011029243469238281\n",
      "Obtimize Program execution time:  0.3946499824523926\n",
      "[39.37522888 13.61261749] 0.11655708308427974\n",
      "Gen Image Program execution time:  0.00099945068359375\n",
      "Obtimize Program execution time:  0.39197421073913574\n",
      "[39.375      13.61263428] 0.11655708308427974\n",
      "Gen Image Program execution time:  0.0009992122650146484\n",
      "Obtimize Program execution time:  0.3949086666107178\n",
      "[39.37522888 13.61255035] 0.11655708308427974\n",
      "Gen Image Program execution time:  0.0\n",
      "Obtimize Program execution time:  0.3937857151031494\n",
      "[39.37477112 13.61258392] 0.11655708308427974\n",
      "Gen Image Program execution time:  0.0010004043579101562\n",
      "Obtimize Program execution time:  0.39650487899780273\n",
      "[39.37511444 13.61255875] 0.11655708308427974\n",
      "Gen Image Program execution time:  0.0010004043579101562\n",
      "Obtimize Program execution time:  0.39377856254577637\n",
      "[39.375      13.61256714] 0.11655708308427974\n",
      "Gen Image Program execution time:  0.0010013580322265625\n",
      "Obtimize Program execution time:  0.3921818733215332\n",
      "[39.37511444 13.61252518] 0.11655708308427974\n",
      "Gen Image Program execution time:  0.0\n",
      "Obtimize Program execution time:  0.39673829078674316\n",
      "[39.37488556 13.61254196] 0.11655708308427974\n",
      "Gen Image Program execution time:  0.0010361671447753906\n",
      "Obtimize Program execution time:  0.3915860652923584\n",
      "[39.37505722 13.61252937] 0.11655708308427974\n",
      "Gen Image Program execution time:  0.0010018348693847656\n",
      "Obtimize Program execution time:  0.39838457107543945\n",
      "[39.375      13.61253357] 0.11655708308427974\n",
      "Gen Image Program execution time:  0.0011892318725585938\n",
      "Obtimize Program execution time:  0.3876338005065918\n",
      "[39.37505722 13.61251259] 0.11655708308427974\n"
     ]
    }
   ],
   "source": [
    "import scipy.optimize\n",
    "xs=[]\n",
    "losts=[]\n",
    "x0=np.asarray((75,11))\n",
    "res=scipy.optimize.minimize(obtimize_v3,x0,method='nelder-mead',options={'maxiter':50})"
   ]
  },
  {
   "cell_type": "code",
   "execution_count": 8,
   "metadata": {},
   "outputs": [
    {
     "name": "stdout",
     "output_type": "stream",
     "text": [
      " final_simplex: (array([[64.11437988, 13.76396484],\n",
      "       [64.11446728, 13.76397494],\n",
      "       [64.11434306, 13.7639496 ]]), array([0.03446902, 0.03446902, 0.03446902]))\n",
      "           fun: 0.034469017732616056\n",
      "       message: 'Optimization terminated successfully.'\n",
      "          nfev: 83\n",
      "           nit: 31\n",
      "        status: 0\n",
      "       success: True\n",
      "             x: array([64.11437988, 13.76396484])\n"
     ]
    }
   ],
   "source": [
    "print(res)"
   ]
  },
  {
   "cell_type": "code",
   "execution_count": 9,
   "metadata": {},
   "outputs": [
    {
     "data": {
      "text/plain": [
       "[<matplotlib.lines.Line2D at 0x22f63c44460>]"
      ]
     },
     "execution_count": 9,
     "metadata": {},
     "output_type": "execute_result"
    },
    {
     "data": {
      "image/png": "[encoded data removed]",
      "text/plain": [
       "<Figure size 640x480 with 1 Axes>"
      ]
     },
     "metadata": {},
     "output_type": "display_data"
    }
   ],
   "source": [
    "arxs=np.asarray(xs)\n"
   ]
  },
  {
   "cell_type": "code",
   "execution_count": 10,
   "metadata": {},
   "outputs": [
    {
     "data": {
      "text/plain": [
       "[<matplotlib.lines.Line2D at 0x16c7e3100>]"
      ]
     },
     "execution_count": 10,
     "metadata": {},
     "output_type": "execute_result"
    },
    {
     "data": {
      "image/png": "[encoded data removed]",
      "text/plain": [
       "<Figure size 432x288 with 1 Axes>"
      ]
     },
     "metadata": {
      "needs_background": "light"
     },
     "output_type": "display_data"
    }
   ],
   "source": [
    "\n"
   ]
  },
  {
   "cell_type": "code",
   "execution_count": 10,
   "metadata": {},
   "outputs": [
    {
     "data": {
      "text/plain": [
       "<function matplotlib.pyplot.show(close=None, block=None)>"
      ]
     },
     "execution_count": 10,
     "metadata": {},
     "output_type": "execute_result"
    },
    {
     "data": {
      "image/png": "[encoded data removed]",
      "text/plain": [
       "<Figure size 640x480 with 2 Axes>"
      ]
     },
     "metadata": {},
     "output_type": "display_data"
    }
   ],
   "source": [
    "import matplotlib.colors\n",
    "import matplotlib.ticker\n",
    "\n",
    "x=arxs[:,0]\n",
    "y=arxs[:,1]\n",
    "z=losts\n",
    "\n",
    "#set every points color\n",
    "min_z=min(z)\n",
    "max_z=max(z)\n",
    "color=[plt.get_cmap('seismic',100)((float(i-min_z)/(max_z-min_z)*100))for i in z]\n",
    "\n",
    "# plot the image\n",
    "fig = plt.figure()\n",
    "ax=fig.add_subplot(1,1,1)\n",
    "im=ax.scatter(x,y,c=color,marker='.')\n",
    "\n",
    "#add order of the point\n",
    "n=np.arange(y.shape[0])\n",
    "for i,txt in enumerate(n):\n",
    "    ax.annotate(txt,(x[i],y[i]))\n",
    "fig.colorbar(im,format=matplotlib.ticker.FuncFormatter(lambda x,pos:(x*(max_z-min_z)+min_z)))\n",
    "\n",
    "# show the image\n",
    "plt.show"
   ]
  },
  {
   "cell_type": "code",
   "execution_count": 22,
   "metadata": {},
   "outputs": [
    {
     "data": {
      "text/plain": [
       "83"
      ]
     },
     "execution_count": 22,
     "metadata": {},
     "output_type": "execute_result"
    }
   ],
   "source": []
  },
  {
   "cell_type": "code",
   "execution_count": 13,
   "metadata": {},
   "outputs": [
    {
     "data": {
      "image/png": "[encoded data removed]",
      "text/plain": [
       "<PIL.Image.Image image mode=L size=100x100>"
      ]
     },
     "execution_count": 13,
     "metadata": {},
     "output_type": "execute_result"
    }
   ],
   "source": [
    "x=np.asarray((73,16))\n",
    "C,lost=obtimize_v3(sv=x,output=2)\n",
    "Image.fromarray(np.uint8(C))"
   ]
  },
  {
   "attachments": {},
   "cell_type": "markdown",
   "metadata": {},
   "source": [
    "# Path 2 matrix test"
   ]
  },
  {
   "cell_type": "code",
   "execution_count": 47,
   "metadata": {},
   "outputs": [
    {
     "name": "stdout",
     "output_type": "stream",
     "text": [
      "Program execution time:  10.706544876098633\n",
      "Obtimize Program execution time:  11.1056489944458\n",
      "7100 182 5019 0.03626220362622036 0.02563380281690141\n"
     ]
    },
    {
     "data": {
      "image/png": "[encoded data removed]",
      "text/plain": [
       "<PIL.Image.Image image mode=L size=100x100>"
      ]
     },
     "execution_count": 47,
     "metadata": {},
     "output_type": "execute_result"
    }
   ],
   "source": [
    "x=np.asarray((73,16))\n",
    "C,lost=obtimize_v3(sv=x,output=2)\n",
    "Image.fromarray(np.uint8(C))"
   ]
  },
  {
   "cell_type": "code",
   "execution_count": 3,
   "metadata": {},
   "outputs": [],
   "source": [
    "path_ori=os.path.abspath('./images_experiment/220304_miliq_T17.7_S73.04.png')\n",
    "img=Image.open(path_ori)"
   ]
  },
  {
   "cell_type": "code",
   "execution_count": 17,
   "metadata": {},
   "outputs": [],
   "source": [
    "from matplotlib.backends.backend_agg import FigureCanvasAgg\n",
    "import PIL.Image as Image\n",
    "\n",
    "sigma=75\n",
    "volume0=16\n",
    "rneedle=0.5\n",
    "savepath='./images_notupload'\n",
    "output=1\n"
   ]
  },
  {
   "cell_type": "code",
   "execution_count": 18,
   "metadata": {},
   "outputs": [
    {
     "name": "stdout",
     "output_type": "stream",
     "text": [
      "Program execution time:  24.919654369354248\n"
     ]
    }
   ],
   "source": [
    "r_a,z_a=genSingleDrop(sigma=sigma,volume0=volume0,savepath=savepath,rneedle=rneedle,output=output)"
   ]
  },
  {
   "cell_type": "code",
   "execution_count": 39,
   "metadata": {},
   "outputs": [],
   "source": [
    "plt.fill_between(r_a,z_a,color='black')\n",
    "plt.fill_between(-r_a,z_a,color='black')\n",
    "plt.axis('equal')\n",
    "plt.axis('off')\n",
    "fig=plt.gcf()\n",
    "plt.close()\n",
    "\n",
    "fig.canvas.draw()\n",
    "rgba_buf = fig.canvas.buffer_rgba()\n",
    "(w,h) = fig.canvas.get_width_height()\n",
    "rgba_arr = np.frombuffer(rgba_buf, dtype=np.uint8).reshape((h,w,4))"
   ]
  },
  {
   "cell_type": "code",
   "execution_count": 35,
   "metadata": {},
   "outputs": [
    {
     "name": "stdout",
     "output_type": "stream",
     "text": [
      "Figure(640x480)\n"
     ]
    }
   ],
   "source": [
    "def plt2arr(fig):\n",
    "    fig.canvas.draw()\n",
    "    rgba_buf = fig.canvas.buffer_rgba()\n",
    "    (w,h) = fig.canvas.get_width_height()\n",
    "    rgba_arr = np.frombuffer(rgba_buf, dtype=np.uint8).reshape((h,w,4))\n",
    "    return rgba_arr"
   ]
  },
  {
   "cell_type": "code",
   "execution_count": 22,
   "metadata": {},
   "outputs": [
    {
     "ename": "AttributeError",
     "evalue": "'tuple' object has no attribute 'canvas'",
     "output_type": "error",
     "traceback": [
      "\u001b[1;31m---------------------------------------------------------------------------\u001b[0m",
      "\u001b[1;31mAttributeError\u001b[0m                            Traceback (most recent call last)",
      "Cell \u001b[1;32mIn [22], line 8\u001b[0m\n\u001b[0;32m      4\u001b[0m fig\u001b[39m=\u001b[39mplt\u001b[39m.\u001b[39maxis(\u001b[39m'\u001b[39m\u001b[39moff\u001b[39m\u001b[39m'\u001b[39m)\n\u001b[0;32m      6\u001b[0m \u001b[39m#plt.savefig(path)\u001b[39;00m\n\u001b[1;32m----> 8\u001b[0m fig\u001b[39m.\u001b[39;49mcanvas\u001b[39m.\u001b[39mdraw()\n\u001b[0;32m     10\u001b[0m \u001b[39m#w,h=canvas.get_width_height()\u001b[39;00m\n\u001b[0;32m     11\u001b[0m data \u001b[39m=\u001b[39m np\u001b[39m.\u001b[39mfrombuffer(fig\u001b[39m.\u001b[39mcanvas\u001b[39m.\u001b[39mtostring_rgb(), dtype\u001b[39m=\u001b[39mnp\u001b[39m.\u001b[39muint8)\n",
      "\u001b[1;31mAttributeError\u001b[0m: 'tuple' object has no attribute 'canvas'"
     ]
    },
    {
     "data": {
      "image/png": "[encoded data removed]",
      "text/plain": [
       "<Figure size 640x480 with 1 Axes>"
      ]
     },
     "metadata": {},
     "output_type": "display_data"
    }
   ],
   "source": [
    "\n",
    "#plt.savefig(path)\n",
    "\n",
    "fig.canvas.draw()\n",
    "\n",
    "#w,h=canvas.get_width_height()\n",
    "data = np.frombuffer(fig.canvas.tostring_rgb(), dtype=np.uint8)\n",
    "data = data.reshape(fig.canvas.get_width_height()[::-1] + (3,))\n",
    "\n",
    "plt.close()\n",
    "\n",
    "\n",
    "\n",
    "wmax=2*max(abs(r_a))"
   ]
  },
  {
   "cell_type": "code",
   "execution_count": null,
   "metadata": {},
   "outputs": [],
   "source": []
  }
 ],
 "metadata": {
  "kernelspec": {
   "display_name": "Python 3",
   "language": "python",
   "name": "python3"
  },
  "language_info": {
   "codemirror_mode": {
    "name": "ipython",
    "version": 3
   },
   "file_extension": ".py",
   "mimetype": "text/x-python",
   "name": "python",
   "nbconvert_exporter": "python",
   "pygments_lexer": "ipython3",
   "version": "3.10.9 (tags/v3.10.9:1dd9be6, Dec  6 2022, 20:01:21) [MSC v.1934 64 bit (AMD64)]"
  },
  "orig_nbformat": 4,
  "vscode": {
   "interpreter": {
    "hash": "60437aad8983babfce94e0da8b300c92c022ccf7e7dbddf7a08c08f7ecf8beba"
   }
  }
 },
 "nbformat": 4,
 "nbformat_minor": 2
}
