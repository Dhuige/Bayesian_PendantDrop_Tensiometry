{
 "cells": [
  {
   "cell_type": "code",
   "execution_count": 8,
   "metadata": {},
   "outputs": [],
   "source": [
    "import os\n",
    "import math as m\n",
    "import time\n",
    "from fun_genSingleDrop import *\n",
    "from codes_gendrops_py.fit_circle_through_3_points import *\n",
    "import matplotlib.pyplot as plt\n",
    "import matplotlib.image as mpimg\n",
    "from matplotlib.backends.backend_agg import FigureCanvasAgg\n",
    "from fun_pre_process import *\n",
    "from PIL import Image\n",
    "import numpy as np\n",
    "import dill\n"
   ]
  },
  {
   "attachments": {},
   "cell_type": "markdown",
   "metadata": {},
   "source": [
    "## Definite the pre processing functions"
   ]
  },
  {
   "cell_type": "code",
   "execution_count": 9,
   "metadata": {},
   "outputs": [],
   "source": [
    "def gen_doplet_v5(sigma,volume0,rneedle=0.5):\n",
    "    # when output=1 gSD return r_a,z_a\n",
    "    r_a,z_a=genSingleDrop(sigma=sigma,volume0=volume0,rneedle=rneedle,output=1)\n",
    "    wmax=2*max(abs(r_a))\n",
    "\n",
    "    # use plt generate synthetic image and save as arrayd\n",
    "    plt.fill_between(r_a,z_a,color='black')\n",
    "    plt.fill_between(-r_a,z_a,color='black')\n",
    "    plt.axis('equal')\n",
    "    plt.axis('off')\n",
    "\n",
    "    figure = plt.gcf().canvas\n",
    "    ag = figure.switch_backends(FigureCanvasAgg)\n",
    "    ag.draw()\n",
    "    plt.close()\n",
    "    A = np.asarray(ag.buffer_rgba())\n",
    "    syn_array = np.rint(A[...,:3] @ [0.2126, 0.7152, 0.0722]).astype(np.uint8)\n",
    "    \n",
    "\n",
    "    return syn_array,wmax,rneedle\n",
    "\n",
    "def crop_margin_array_v5(syn_array):#(DONE)\n",
    "        \n",
    "        (row,col)=syn_array.shape\n",
    "        img=syn_array\n",
    "\n",
    "        for i in range(row-1):\n",
    "                if sum(img[i])!=255*col:\n",
    "                        cut1=i\n",
    "                        break               \n",
    "\n",
    "        for i in range(row-1,0,-1):\n",
    "                if sum(img[i])!=255*col:\n",
    "                        cut2=i\n",
    "                        break \n",
    "\n",
    "        _,img1,_=np.split(img,[cut1,cut2])  \n",
    "\n",
    "        for i in range(col-1):\n",
    "                if sum(img[:,i])!=255*row:\n",
    "                        cut3=i\n",
    "                        break\n",
    "\n",
    "        for i in range(col-1,0,-1):\n",
    "                if sum(img[:,i])!=255*row:\n",
    "                        cut4=i\n",
    "                        break\n",
    "\n",
    "        _,cm_arr,_=np.split(img1,[cut3,cut4],axis=1)\n",
    "\n",
    "        return cm_arr\n",
    "\n",
    "def resize_syn_arr(syn_arr_cm,wmax,r_syn=1):\n",
    "    syn_img = Image.fromarray(syn_arr_cm)\n",
    "    w,h=syn_img.size\n",
    "    r_syn=1\n",
    "    w_n=wmax/(2*r_syn)*50\n",
    "    scaling=w_n/w\n",
    "    h_n=scaling*h\n",
    "    new_syn=syn_img.resize((int(w_n),int(h_n)))\n",
    "    syn_arr_rs=np.asarray(new_syn)\n",
    "\n",
    "    return syn_arr_rs\n",
    "\n",
    "def remove_needle_centering_v5(img_ori):#(Need Test)\n",
    "    '''img_ori=Image.open(path_ori)'''\n",
    "    w_ori,h_ori=img_ori.size\n",
    "\n",
    "    scaling_ori=300/w_ori # reshape the origin image to width 300\n",
    "\n",
    "    w_ori2=int(scaling_ori*w_ori)\n",
    "    h_ori2=int(scaling_ori*h_ori)\n",
    "\n",
    "    A=img2bw(ResizeImage(img_ori,w_ori2,h_ori2))\n",
    "\n",
    "    left_edge=np.zeros(w_ori2)\n",
    "    right_edge=np.zeros(w_ori2)\n",
    "    for i in range(h_ori2):\n",
    "        for j in range(w_ori2):\n",
    "            if A[i,j-1]>=125 and A[i,j]<125:\n",
    "                #print('Left position',i,j)\n",
    "                left_edge[i]=j\n",
    "            if A[i,j-1]<=125 and A[i,j]>125:\n",
    "                #print('Right position',i,j)\n",
    "                right_edge[i]=j\n",
    "\n",
    "    needle=np.abs(left_edge-right_edge)\n",
    "\n",
    "    end=0\n",
    "    for j in range(needle.shape[0]-1):\n",
    "        j=j+1\n",
    "        if end == 0:\n",
    "            if abs((needle[j]-needle[0])/needle[0])>0.05:\n",
    "                stopline=j\n",
    "                end=end+1\n",
    "    #print(stopline)\n",
    "\n",
    "    addpad=right_edge[stopline]-needle[stopline]/2-w_ori2/2\n",
    "\n",
    "    img_WON=np.zeros((h_ori2-stopline,w_ori2))\n",
    "    for i in range(h_ori2):\n",
    "        if i>=stopline:\n",
    "            img_WON[i-stopline,:]=A[i,:]\n",
    "    \n",
    "    h_won,w_won=img_WON.shape\n",
    "    \n",
    "    # centering\n",
    "    if addpad>0:\n",
    "        img_won=np.hstack( ( img_WON,np.ones((h_won,abs(int(addpad*4))))*255 ) )\n",
    "    elif addpad<0:\n",
    "        img_won=np.hstack( ( np.ones((h_won,abs(int(addpad*4))))*255,img_WON ) )\n",
    "    else:\n",
    "        img_won=img_WON\n",
    "\n",
    "    return img_won,needle\n",
    "\n",
    "def cost_v3(img_ori,img_syn,width=100,output=0):\n",
    "    '''\n",
    "    input:              \n",
    "    x:                the origin point of synthetic image\n",
    "    img_syn,img_ori:    the images that need to calculate the cost \n",
    "                        should be valued by 'Image.open(path)'\n",
    "    K:                  the scaling of synthethic image\n",
    "    output: 0 -->lost, 1-->C, else C,lost\n",
    "    '''\n",
    "    img_syn = Image.fromarray(img_syn)\n",
    "    img_ori = Image.fromarray(img_ori)\n",
    "\n",
    "    w_ori,h_ori=img_ori.size\n",
    "    w_syn,h_syn=img_syn.size\n",
    "    \n",
    "\n",
    "    scaling_ori=width/w_ori # reshape the origin image to width\n",
    "    w_ori2=int(scaling_ori*w_ori)\n",
    "    h_ori2=int(scaling_ori*h_ori)\n",
    "    scaling_syn=scaling_ori\n",
    "    w_syn2=int(scaling_syn*w_syn)\n",
    "    h_syn2=int(scaling_syn*h_syn)\n",
    "    x=int(abs((w_syn2-w_ori2)/2))\n",
    "\n",
    "    A=img2bw(ResizeImage(img_ori,w_ori2,h_ori2))\n",
    "    one=np.ones((w_ori2-h_ori2,w_ori2))*255\n",
    "    A=np.row_stack((A,one))\n",
    "\n",
    "\n",
    "    B=img2bw(ResizeImage(img_syn,w_syn2,h_syn2))\n",
    "    C=np.zeros((w_ori2,w_ori2))\n",
    "\n",
    "    droplet=0\n",
    "    for i in range(w_ori2):\n",
    "        for j in range (h_ori2):\n",
    "            if A[i,j]==255:\n",
    "                droplet=droplet+1\n",
    "\n",
    "    for i in range (w_ori2): # h\n",
    "        for j in range(w_ori2): # w\n",
    "            #print (h_ori2,w_ori2)\n",
    "            #print(i,j)\n",
    "            if j < x or j-x >= w_syn2 or i >= h_syn2 :\n",
    "                 C[i,j]=A[i,j]\n",
    "            else:\n",
    "                if  A[i,j]==B[i,j-x]: # B[i-y,j-x]\n",
    "                    C[i,j]=255\n",
    "                else:\n",
    "                    C[i,j]=0\n",
    "    \n",
    "    # pixel that same(T) different(F) and drop area\n",
    "    t=0; f=0; \n",
    "    #drop_ori=0; drop_gen=0 \n",
    "    for i in range (w_ori2):\n",
    "        for j in range(h_ori2):\n",
    "            if C[i,j]==0:\n",
    "                f=f+1\n",
    "            else:\n",
    "                t=t+1\n",
    "    #lost=f/max(w_ori2*h_ori2,w_syn2*h_syn2)\n",
    "    \n",
    "    lost=f/droplet\n",
    "    accurancy=1-lost\n",
    "\n",
    "    if output == 0:\n",
    "        return lost\n",
    "    elif output == 1:\n",
    "        return C\n",
    "    else:\n",
    "        return C,lost"
   ]
  },
  {
   "attachments": {},
   "cell_type": "markdown",
   "metadata": {},
   "source": [
    "## Definite the obtimize funciton"
   ]
  },
  {
   "cell_type": "code",
   "execution_count": 15,
   "metadata": {},
   "outputs": [],
   "source": [
    "def obtimize_v5(sv,path_ori=os.path.abspath('./sase_s75.00_v15.00_rn0.50_ln4.00_needle.jpg'),output=0,append=1):\n",
    "    '''need initialize xs and losts if output==0'''\n",
    "    start = time.time()\n",
    "    sigma=sv[0]\n",
    "    v0=sv[1]\n",
    "\n",
    "    # preprosessing the ori image\n",
    "    ori,needle=remove_needle_centering_v5(Image.open(path_ori))\n",
    "    pixel_needle=needle[0]\n",
    "\n",
    "    # gen and post processing the syn image\n",
    "    syn_arr,wmax,rneedle=gen_doplet_v5(sigma=sigma,volume0=v0,rneedle=0.5)\n",
    "\n",
    "    #crop the margin of syn image\n",
    "    syn_arr_cm=crop_margin_array_v5(syn_arr)\n",
    "    syn=resize_syn_arr(syn_arr_cm,wmax,r_syn=1)\\\n",
    "\n",
    "    end = time.time()\n",
    "    #print('Obtimize Program execution time: ',end - start)\n",
    "\n",
    "    if output==0:\n",
    "        lost=cost_v3(ori,syn,output=output)\n",
    "        if append==1:\n",
    "            xs.append(sv)\n",
    "            losts.append(lost)\n",
    "            print ('x=%.2f,%.2f and lost=%.4f'%(sv[0],sv[1],lost))\n",
    "        return lost\n",
    "    elif output==1:\n",
    "        C=cost_v3(ori,syn,output=output)\n",
    "        return C\n",
    "    else :\n",
    "        C,lost=cost_v3(ori,syn,output=output)\n",
    "        return C, lost\n"
   ]
  },
  {
   "attachments": {},
   "cell_type": "markdown",
   "metadata": {},
   "source": [
    "## Start the optimization"
   ]
  },
  {
   "attachments": {},
   "cell_type": "markdown",
   "metadata": {},
   "source": [
    "IMPORTANT!!! If the optimization need to be restart, please click the 'restart' button of jupyter notebook. Or an NameError: name 'xs' is not define will be occured."
   ]
  },
  {
   "cell_type": "code",
   "execution_count": 32,
   "metadata": {},
   "outputs": [],
   "source": [
    "xs=[]\n",
    "losts=[]"
   ]
  },
  {
   "cell_type": "code",
   "execution_count": 33,
   "metadata": {},
   "outputs": [
    {
     "name": "stdout",
     "output_type": "stream",
     "text": [
      "Optimization Start\n",
      "x=75.00,15.00 and lost=0.0876\n",
      "x=78.75,15.00 and lost=0.0838\n",
      "x=75.00,15.75 and lost=0.1126\n",
      "x=78.75,14.25 and lost=0.0759\n",
      "x=80.62,13.50 and lost=0.0666\n",
      "x=84.38,13.50 and lost=0.0634\n",
      "x=89.06,12.75 and lost=0.0488\n",
      "x=90.94,11.25 and lost=0.0250\n",
      "x=97.03,9.38 and lost=0.0655\n",
      "x=99.38,10.50 and lost=0.0448\n",
      "x=101.25,9.00 and lost=0.1705\n",
      "x=92.11,11.81 and lost=0.0286\n",
      "x=83.67,12.56 and lost=0.0545\n",
      "x=95.45,11.02 and lost=0.0337\n",
      "x=87.60,12.05 and lost=0.0324\n",
      "x=89.56,11.79 and lost=0.0280\n",
      "x=88.39,11.23 and lost=0.0248\n",
      "x=86.53,10.93 and lost=0.0257\n",
      "x=89.77,10.69 and lost=0.0339\n",
      "x=89.61,11.51 and lost=0.0248\n",
      "x=87.06,11.49 and lost=0.0280\n",
      "x=89.97,11.31 and lost=0.0250\n",
      "x=89.00,11.37 and lost=0.0248\n",
      "x=89.66,11.24 and lost=0.0248\n",
      "x=87.73,11.36 and lost=0.0246\n",
      "x=86.76,11.42 and lost=0.0284\n",
      "x=87.11,11.21 and lost=0.0248\n",
      "x=88.53,11.33 and lost=0.0248\n",
      "x=88.06,11.29 and lost=0.0246\n",
      "x=88.36,11.36 and lost=0.0248\n",
      "x=87.42,11.29 and lost=0.0248\n",
      "x=88.13,11.34 and lost=0.0248\n",
      "x=87.89,11.33 and lost=0.0248\n",
      "x=88.04,11.36 and lost=0.0248\n",
      "x=87.57,11.32 and lost=0.0248\n",
      "x=87.93,11.35 and lost=0.0248\n",
      "x=87.81,11.34 and lost=0.0248\n",
      "x=87.89,11.36 and lost=0.0246\n",
      "Optimize Program Running Time:  148.86643958091736\n"
     ]
    }
   ],
   "source": [
    "import scipy.optimize\n",
    "# use scipy obtimaize the parameter\n",
    "opStart=time.time()\n",
    "print('Optimization Start')\n",
    "x0=np.asarray((75,15))\n",
    "#sigma; v0; length_Ne,r_Ne; x,y; scaling_rate;\n",
    "res=scipy.optimize.minimize(obtimize_v5,x0,method='nelder-mead',options={'maxiter':15}) #SLSQP #nelder-mead\n",
    "#res=scipy.optimize.minimize(obtimize_v5,x0,method='SLSQP',options={'maxiter':15})\n",
    "opEnd=time.time()\n",
    "print('Optimize Program Running Time: ',opEnd-opStart)"
   ]
  },
  {
   "cell_type": "code",
   "execution_count": 34,
   "metadata": {},
   "outputs": [
    {
     "data": {
      "text/plain": [
       "[<matplotlib.lines.Line2D at 0x2a013760340>]"
      ]
     },
     "execution_count": 34,
     "metadata": {},
     "output_type": "execute_result"
    },
    {
     "data": {
      "image/png": "[encoded data removed]",
      "text/plain": [
       "<Figure size 640x480 with 1 Axes>"
      ]
     },
     "metadata": {},
     "output_type": "display_data"
    }
   ],
   "source": [
    "plt.title('NOV')\n",
    "plt.plot(losts)\n"
   ]
  },
  {
   "cell_type": "code",
   "execution_count": 26,
   "metadata": {},
   "outputs": [],
   "source": [
    "path_ori=os.path.abspath('./sase_s75.00_v15.00_rn0.50_ln4.00_needle.jpg')\n",
    "ori,needle=remove_needle_centering_v5(Image.open(path_ori))"
   ]
  },
  {
   "cell_type": "code",
   "execution_count": 37,
   "metadata": {},
   "outputs": [
    {
     "name": "stdout",
     "output_type": "stream",
     "text": [
      "[ 56.  56.  56.  56.  56.  56.  56.  56.  56.  56.  56.  56.  56.  56.\n",
      "  56.  56.  56.  56.  56.  56.  56.  56.  56.  56.  56.  56.  56.  56.\n",
      "  56.  56.  56.  56.  56.  56.  56.  56.  56.  56.  56.  56.  56.  56.\n",
      "  56.  56.  56.  56.  56.  56.  56.  56.  56.  56.  56.  56.  56.  56.\n",
      "  56.  56.  56.  56.  56.  56.  56.  56.  56.  56.  56.  56.  56.  56.\n",
      "  56.  56.  58.  58.  59.  60.  60.  61.  62.  63.  64.  65.  66.  67.\n",
      "  68.  69.  70.  71.  72.  73.  74.  75.  76.  77.  78.  79.  80.  81.\n",
      "  82.  83.  84.  85.  86.  87.  88.  89.  90.  91.  92.  93.  93.  94.\n",
      "  95.  96.  96.  97.  98.  99.  99. 100. 101. 102. 102. 102. 103. 103.\n",
      " 104. 104. 105. 105. 106. 106. 106. 106. 107. 108. 108. 108. 108. 108.\n",
      " 108. 108. 108. 108. 108. 108. 108. 108. 108. 108. 108. 108. 108. 108.\n",
      " 108. 108. 108. 107. 106. 106. 106. 106. 105. 104. 104. 104. 102. 102.\n",
      " 102. 101. 100. 100.  98.  98.  97.  96.  95.  94.  93.  92.  90.  90.\n",
      "  88.  87.  86.  84.  82.  81.  80.  78.  76.  74.  72.  70.  68.  66.\n",
      "  63.  60.  58.  54.  52.  48.  44.  40.  34.  28.  20.   1.   0.   0.\n",
      "   0.   0.   0.   0.   0.   0.   0.   0.   0.   0.   0.   0.   0.   0.\n",
      "   0.   0.   0.   0.   0.   0.   0.   0.   0.   0.   0.   0.   0.   0.\n",
      "   0.   0.   0.   0.   0.   0.   0.   0.   0.   0.   0.   0.   0.   0.\n",
      "   0.   0.   0.   0.   0.   0.   0.   0.   0.   0.   0.   0.   0.   0.\n",
      "   0.   0.   0.   0.   0.   0.   0.   0.   0.   0.   0.   0.   0.   0.\n",
      "   0.   0.   0.   0.   0.   0.   0.   0.   0.   0.   0.   0.   0.   0.\n",
      "   0.   0.   0.   0.   0.   0.]\n"
     ]
    }
   ],
   "source": [
    "print(needle)"
   ]
  },
  {
   "cell_type": "code",
   "execution_count": 38,
   "metadata": {},
   "outputs": [
    {
     "name": "stderr",
     "output_type": "stream",
     "text": [
      "d:\\OneDrive\\Documents\\GitHub\\Bayesian_PendantDrop_Tensiometry\\fun_genSingleDrop.py:153: RuntimeWarning: invalid value encountered in divide\n",
      "  A31 = -sigmaprime*np.diag(np.squeeze(np.sin(psi)/r**2))\n",
      "d:\\OneDrive\\Documents\\GitHub\\Bayesian_PendantDrop_Tensiometry\\fun_genSingleDrop.py:155: RuntimeWarning: divide by zero encountered in divide\n",
      "  A33 = C*sigmaprime*D + sigmaprime*np.diag(np.squeeze(np.cos(psi)/r))\n",
      "d:\\OneDrive\\Documents\\GitHub\\Bayesian_PendantDrop_Tensiometry\\fun_genSingleDrop.py:158: RuntimeWarning: invalid value encountered in divide\n",
      "  b3 = p0-z-sigmaprime*(C*np.dot(D,psi)+np.sin(psi)/r)\n"
     ]
    }
   ],
   "source": [
    "C=obtimize_v5(output=1,append=0,sv=[88,11.36])\n"
   ]
  },
  {
   "cell_type": "code",
   "execution_count": 36,
   "metadata": {},
   "outputs": [],
   "source": [
    "Image.fromarray(C).show()"
   ]
  },
  {
   "cell_type": "code",
   "execution_count": 9,
   "metadata": {},
   "outputs": [
    {
     "name": "stdout",
     "output_type": "stream",
     "text": [
      " final_simplex: (array([[75.45820312, 15.37207031],\n",
      "       [75.44243164, 15.36877441],\n",
      "       [75.45350647, 15.37039948]]), array([0.01833034, 0.01833034, 0.01833034]))\n",
      "           fun: 0.018330344690177327\n",
      "       message: 'Maximum number of iterations has been exceeded.'\n",
      "          nfev: 42\n",
      "           nit: 15\n",
      "        status: 2\n",
      "       success: False\n",
      "             x: array([75.45820312, 15.37207031])\n"
     ]
    }
   ],
   "source": [
    "print(res)"
   ]
  },
  {
   "attachments": {},
   "cell_type": "markdown",
   "metadata": {},
   "source": [
    "### Save the Optimization Result (IF NEED)"
   ]
  },
  {
   "cell_type": "code",
   "execution_count": null,
   "metadata": {},
   "outputs": [],
   "source": [
    "# save all varables\n",
    "import dill\n",
    "filename='./optimization_results_75_9.pkl'\n",
    "dill.dump_session(filename)"
   ]
  },
  {
   "cell_type": "code",
   "execution_count": null,
   "metadata": {},
   "outputs": [],
   "source": [
    "# way to load all varables\n",
    "import dill\n",
    "dill.load_session( './optimization results.pkl')"
   ]
  },
  {
   "attachments": {},
   "cell_type": "markdown",
   "metadata": {},
   "source": [
    "## Plot the Trace Image"
   ]
  },
  {
   "cell_type": "code",
   "execution_count": 7,
   "metadata": {},
   "outputs": [],
   "source": [
    "# Import the Cost Map Data: sigma, volume, lost2d_all, lost2d_part\n",
    "dill.load_session( './GlobalGrid_s60-80-0.5_v13-17-0.2.pkl')"
   ]
  },
  {
   "cell_type": "code",
   "execution_count": 10,
   "metadata": {},
   "outputs": [
    {
     "data": {
      "image/png": "[encoded data removed]",
      "text/plain": [
       "<Figure size 640x480 with 2 Axes>"
      ]
     },
     "metadata": {},
     "output_type": "display_data"
    }
   ],
   "source": [
    "# write the value of all cost>0.1 elements in lost2d_all to 0.1\n",
    "#lost2d_part=lost2d_all+0\n",
    "#lost2d_part[lost2d_part > 0.1] = 0.1\n",
    "\n",
    "arxs=np.asarray(xs)\n",
    "x=arxs[:,0]\n",
    "y=arxs[:,1]\n",
    "z=losts\n",
    "\n",
    "fig, ax = plt.subplots()\n",
    "cs = ax.contourf(volume, sigma, grid_part, cmap=plt.get_cmap('Spectral'))\n",
    "im = ax.scatter(y,x,marker='.')\n",
    "\n",
    "\n",
    "n=np.arange(y.shape[0])\n",
    "for i,txt in enumerate(n):\n",
    "    ax.annotate(txt,(y[i],x[i]))\n",
    "#添加colorbar\n",
    "cbar = fig.colorbar(cs)\n",
    "\n",
    "plt.xlabel('volume')\n",
    "plt.ylabel('sigma')\n",
    "\n",
    "plt.xlim((13.5,16))\n",
    "plt.ylim((60,80))\n",
    "\n",
    "plt.title('Initial Guess: Sigma %.2f & Volume %.2f'%(x0[0], x0[1]))\n",
    "\n",
    "plt.show()"
   ]
  }
 ],
 "metadata": {
  "kernelspec": {
   "display_name": "Python 3",
   "language": "python",
   "name": "python3"
  },
  "language_info": {
   "codemirror_mode": {
    "name": "ipython",
    "version": 3
   },
   "file_extension": ".py",
   "mimetype": "text/x-python",
   "name": "python",
   "nbconvert_exporter": "python",
   "pygments_lexer": "ipython3",
   "version": "3.10.10"
  },
  "orig_nbformat": 4,
  "vscode": {
   "interpreter": {
    "hash": "60437aad8983babfce94e0da8b300c92c022ccf7e7dbddf7a08c08f7ecf8beba"
   }
  }
 },
 "nbformat": 4,
 "nbformat_minor": 2
}
