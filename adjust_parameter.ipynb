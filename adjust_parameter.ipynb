{
 "cells": [
  {
   "attachments": {},
   "cell_type": "markdown",
   "metadata": {},
   "source": [
    "# Import\n"
   ]
  },
  {
   "cell_type": "code",
   "execution_count": 2,
   "metadata": {},
   "outputs": [],
   "source": [
    "import os\n",
    "import math as m\n",
    "from codes_gendrops_py.genSingleDrop import *\n",
    "from codes_gendrops_py.fit_circle_through_3_points import *\n",
    "import matplotlib.pyplot as plt\n",
    "import matplotlib.image as mpimg\n",
    "from cost_function import img2bw,ResizeImage\n",
    "from PIL import Image\n",
    "from remove_edge import *\n",
    "import numpy as np"
   ]
  },
  {
   "attachments": {},
   "cell_type": "markdown",
   "metadata": {},
   "source": [
    "# Functions"
   ]
  },
  {
   "cell_type": "code",
   "execution_count": 3,
   "metadata": {},
   "outputs": [],
   "source": [
    "#generate the synthetic image with r and z\n",
    "def plt_image_needle(r_a,z_a,path,sigma,volume0,rneedle=1,l_needle=4):\n",
    "    path=path+\"/s%.2f_v%.2f_rn%.2f_ln%.2f_needle.jpg\" %(sigma, volume0, rneedle,l_needle)\n",
    "    plt.figure(figsize=(4,4))\n",
    "    plt.plot(r_a,z_a,color='black')\n",
    "    plt.plot(-r_a,z_a,color='black')\n",
    "    \n",
    "    plt.fill_between(r_a,l_needle,0,color='black')\n",
    "    plt.fill_between(-r_a,l_needle,0,color='black')\n",
    "    plt.fill_between(r_a,0,z_a,color='black')\n",
    "    plt.fill_between(-r_a,0,z_a,color='black')\n",
    "\n",
    "    plt.axis('equal')\n",
    "    plt.axis('off')\n",
    "    plt.savefig(path)\n",
    "    plt.close()\n",
    "    img=Image.open(path)\n",
    "    return img,path"
   ]
  },
  {
   "cell_type": "code",
   "execution_count": 35,
   "metadata": {},
   "outputs": [],
   "source": [
    "# cost function\n",
    "def cost (x,y,img_syn,img_ori,K=1,output=0):\n",
    "    '''\n",
    "    input:              \n",
    "    x,y:                the origin point of synthetic image\n",
    "    img_syn,img_ori:    the images that need to calculate the cost \n",
    "                        should be valued by 'Image.open(path)'\n",
    "    K:                  the scaling of synthethic image\n",
    "    '''\n",
    "    \n",
    "    w_syn,h_syn=img_syn.size\n",
    "    w_ori,h_ori=img_ori.size\n",
    "\n",
    "    scaling_ori=100/w_ori # reshape the origin image to weight 100\n",
    "    w_ori2=int(scaling_ori*w_ori)\n",
    "    h_ori2=int(scaling_ori*h_ori)\n",
    "\n",
    "    scaling_syn=K*scaling_ori\n",
    "    w_syn2=int(scaling_syn*w_syn)\n",
    "    h_syn2=int(scaling_syn*h_syn)\n",
    "\n",
    "    x=int(x)\n",
    "    y=int(y)\n",
    "\n",
    "    A=img2bw(ResizeImage(img_ori,w_ori2,h_ori2))\n",
    "    B=img2bw(ResizeImage(img_syn,w_syn2,h_syn2))\n",
    "    C=np.zeros((w_ori2,h_ori2))\n",
    "\n",
    "    for i in range (h_ori2): # h\n",
    "        for j in range(w_ori2): # w\n",
    "            #print(i,j)\n",
    "            if i < y or i-y >= h_syn2 or j < x or j-x >= w_syn2:\n",
    "                 C[i,j]=A[i,j]\n",
    "            else:\n",
    "                if  A[i,j]==B[i-y,j-x]:\n",
    "                    C[i,j]=255\n",
    "                else:\n",
    "                    C[i,j]=0\n",
    "\n",
    "\n",
    "    # pixel that same(T) different(F) and drop area\n",
    "    t=0; f=0; \n",
    "    #drop_ori=0; drop_gen=0 \n",
    "    for i in range (w_ori2):\n",
    "        for j in range(h_ori2):\n",
    "            if C[i,j]==0:\n",
    "                f=f+1\n",
    "            else:\n",
    "                t=t+1\n",
    "\n",
    "\n",
    "    lost=f/max(w_ori2*h_ori2,w_syn2*h_syn2)\n",
    "    accurancy=1-lost\n",
    "\n",
    "    if output == 0:\n",
    "        return lost\n",
    "    elif output == 1:\n",
    "        return C\n",
    "    else:\n",
    "        return C,lost\n",
    "    \n"
   ]
  },
  {
   "attachments": {},
   "cell_type": "markdown",
   "metadata": {},
   "source": [
    "# Program Start"
   ]
  },
  {
   "attachments": {},
   "cell_type": "markdown",
   "metadata": {},
   "source": [
    "## Obtimization"
   ]
  },
  {
   "cell_type": "code",
   "execution_count": 38,
   "metadata": {},
   "outputs": [],
   "source": [
    "def obtimize_function(svlrxyk,path_ori=os.path.abspath('./images_experiment/220304_miliq_T17.7_S73.04.png'),path=os.path.abspath('./images_gen'),output=0):\n",
    "    sigma =svlrxyk[0]\n",
    "    v0    =svlrxyk[1]\n",
    "    lNe   =svlrxyk[2]\n",
    "    rNe   =svlrxyk[3]\n",
    "    x     =svlrxyk[4]\n",
    "    y     =svlrxyk[5]\n",
    "    k     =svlrxyk[6]\n",
    "\n",
    "    # generate the synthetic image\n",
    "    r,z=genSingleDrop(savepath=path,sigma=sigma,volume0=v0,rneedle=rNe,output=1)\n",
    "    img_syn,path_syn=plt_image_needle(r,z,path,sigma=sigma,volume0=v0,rneedle=rNe,l_needle=lNe)\n",
    "    im = io.imread(path_syn)\n",
    "    img_syn,path_syn = corp_margin(im)\n",
    "    \n",
    "    # open the origianl image\n",
    "    img_ori=Image.open(path_ori)\n",
    "    img_syn=Image.open(path_syn)\n",
    "    # calulate the lost\n",
    "    if output == 0:\n",
    "        lost=cost(x,y,img_syn,img_ori,k,output=output)\n",
    "        return lost\n",
    "    elif output == 1:\n",
    "        C=cost(x,y,img_syn,img_ori,k,output=output)\n",
    "        return C\n",
    "    else:\n",
    "        C,lost = cost(x,y,img_syn,img_ori,k,output=output)\n",
    "        return C,lost\n"
   ]
  },
  {
   "cell_type": "code",
   "execution_count": 22,
   "metadata": {},
   "outputs": [
    {
     "data": {
      "text/plain": [
       "0.1723"
      ]
     },
     "execution_count": 22,
     "metadata": {},
     "output_type": "execute_result"
    }
   ],
   "source": [
    "x0=np.asarray((75,20,4,1,20,1,1))\n",
    "obtimize_function(x0)"
   ]
  },
  {
   "cell_type": "code",
   "execution_count": 26,
   "metadata": {},
   "outputs": [
    {
     "data": {
      "text/plain": [
       " final_simplex: (array([[77.46659107, 20.37480227,  3.6559882 ,  0.99864498, 21.43432356,\n",
       "         0.99075746,  1.00173946],\n",
       "       [77.4666571 , 20.37478905,  3.65598848,  0.99864476, 21.43433674,\n",
       "         0.99075677,  1.00173947],\n",
       "       [77.4666511 , 20.37479283,  3.65598866,  0.99864465, 21.43433795,\n",
       "         0.99075695,  1.00173948],\n",
       "       [77.46663845, 20.37479454,  3.6559879 ,  0.99864486, 21.43432761,\n",
       "         0.99075752,  1.00173935],\n",
       "       [77.46664866, 20.37479723,  3.65598697,  0.99864504, 21.43433404,\n",
       "         0.99075701,  1.00173926],\n",
       "       [77.46664611, 20.37480163,  3.65598716,  0.99864515, 21.43432525,\n",
       "         0.99075691,  1.00173934],\n",
       "       [77.4666491 , 20.37478633,  3.65599031,  0.99864412, 21.43434004,\n",
       "         0.99075728,  1.00173938],\n",
       "       [77.46662756, 20.37479702,  3.65598726,  0.99864473, 21.43433086,\n",
       "         0.99075701,  1.00173945]]), array([0.1417, 0.1417, 0.1417, 0.1417, 0.1417, 0.1417, 0.1417, 0.1417]))\n",
       "           fun: 0.1417\n",
       "       message: 'Optimization terminated successfully.'\n",
       "          nfev: 210\n",
       "           nit: 63\n",
       "        status: 0\n",
       "       success: True\n",
       "             x: array([77.46659107, 20.37480227,  3.6559882 ,  0.99864498, 21.43432356,\n",
       "        0.99075746,  1.00173946])"
      ]
     },
     "execution_count": 26,
     "metadata": {},
     "output_type": "execute_result"
    }
   ],
   "source": [
    "import scipy.optimize\n",
    "# use scipy obtimaize the parameter\n",
    "x0=np.asarray((75,20,4,1,20,1,1))\n",
    "#sigma=75,v0=20,lNe=4,rNe=1\n",
    "scipy.optimize.minimize(obtimize_function,x0,method='nelder-mead')\n"
   ]
  },
  {
   "cell_type": "code",
   "execution_count": 39,
   "metadata": {},
   "outputs": [],
   "source": [
    "x=np.array([77.46659107, 20.37480227,  3.6559882 ,  0.99864498, 21.43432356, 0.99075746,  1.00173946])\n",
    "C=obtimize_function(x, output=1)\n"
   ]
  },
  {
   "cell_type": "code",
   "execution_count": 40,
   "metadata": {},
   "outputs": [
    {
     "data": {
      "image/png": "[encoded data removed]",
      "text/plain": [
       "<PIL.Image.Image image mode=L size=100x100>"
      ]
     },
     "execution_count": 40,
     "metadata": {},
     "output_type": "execute_result"
    }
   ],
   "source": [
    "\n",
    "Image.fromarray(np.uint8(C))\n"
   ]
  }
 ],
 "metadata": {
  "kernelspec": {
   "display_name": "Python 3",
   "language": "python",
   "name": "python3"
  },
  "language_info": {
   "codemirror_mode": {
    "name": "ipython",
    "version": 3
   },
   "file_extension": ".py",
   "mimetype": "text/x-python",
   "name": "python",
   "nbconvert_exporter": "python",
   "pygments_lexer": "ipython3",
   "version": "3.10.9"
  },
  "orig_nbformat": 4,
  "vscode": {
   "interpreter": {
    "hash": "60437aad8983babfce94e0da8b300c92c022ccf7e7dbddf7a08c08f7ecf8beba"
   }
  }
 },
 "nbformat": 4,
 "nbformat_minor": 2
}
