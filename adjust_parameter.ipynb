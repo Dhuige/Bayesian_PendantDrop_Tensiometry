{
 "cells": [
  {
   "attachments": {},
   "cell_type": "markdown",
   "metadata": {},
   "source": [
    "# Import\n"
   ]
  },
  {
   "cell_type": "code",
   "execution_count": 1,
   "metadata": {},
   "outputs": [],
   "source": [
    "import os\n",
    "import math as m\n",
    "from codes_gendrops_py.genSingleDrop import *\n",
    "from codes_gendrops_py.fit_circle_through_3_points import *\n",
    "import matplotlib.pyplot as plt\n",
    "import matplotlib.image as mpimg\n",
    "from cost_function import img2bw,ResizeImage\n",
    "from PIL import Image\n",
    "from remove_edge import *\n",
    "import numpy as np"
   ]
  },
  {
   "attachments": {},
   "cell_type": "markdown",
   "metadata": {},
   "source": [
    "# Functions"
   ]
  },
  {
   "cell_type": "code",
   "execution_count": 2,
   "metadata": {},
   "outputs": [],
   "source": [
    "#generate the synthetic image with r and z\n",
    "def plt_image_needle(r_a,z_a,path,sigma,volume0,rneedle=1,l_needle=4):\n",
    "    path=path+\"/s%.2f_v%.2f_rn%.2f_ln%.2f_needle.jpg\" %(sigma, volume0, rneedle,l_needle)\n",
    "    plt.figure(figsize=(4,4))\n",
    "    plt.plot(r_a,z_a,color='black')\n",
    "    plt.plot(-r_a,z_a,color='black')\n",
    "    \n",
    "    plt.fill_between(r_a,l_needle,0,color='black')\n",
    "    plt.fill_between(-r_a,l_needle,0,color='black')\n",
    "    plt.fill_between(r_a,0,z_a,color='black')\n",
    "    plt.fill_between(-r_a,0,z_a,color='black')\n",
    "\n",
    "    plt.axis('equal')\n",
    "    plt.axis('off')\n",
    "    plt.savefig(path)\n",
    "    plt.close()\n",
    "    img=Image.open(path)\n",
    "    return img,path"
   ]
  },
  {
   "cell_type": "code",
   "execution_count": 3,
   "metadata": {},
   "outputs": [],
   "source": [
    "# cost function\n",
    "def cost (x,y,img_syn,img_ori,K=1,output=0):\n",
    "    '''\n",
    "    input:              \n",
    "    x,y:                the origin point of synthetic image\n",
    "    img_syn,img_ori:    the images that need to calculate the cost \n",
    "                        should be valued by 'Image.open(path)'\n",
    "    K:                  the scaling of synthethic image\n",
    "    '''\n",
    "    \n",
    "    w_syn,h_syn=img_syn.size\n",
    "    w_ori,h_ori=img_ori.size\n",
    "\n",
    "    scaling_ori=100/w_ori # reshape the origin image to weight 100\n",
    "    w_ori2=int(scaling_ori*w_ori)\n",
    "    h_ori2=int(scaling_ori*h_ori)\n",
    "\n",
    "    scaling_syn=K*scaling_ori\n",
    "    w_syn2=int(scaling_syn*w_syn)\n",
    "    h_syn2=int(scaling_syn*h_syn)\n",
    "\n",
    "    x=int(x)\n",
    "    y=int(y)\n",
    "\n",
    "    A=img2bw(ResizeImage(img_ori,w_ori2,h_ori2))\n",
    "    B=img2bw(ResizeImage(img_syn,w_syn2,h_syn2))\n",
    "    C=np.zeros((w_ori2,h_ori2))\n",
    "\n",
    "    for i in range (h_ori2): # h\n",
    "        for j in range(w_ori2): # w\n",
    "            #print(i,j)\n",
    "            if i < y or i-y >= h_syn2 or j < x or j-x >= w_syn2:\n",
    "                 C[i,j]=A[i,j]\n",
    "            else:\n",
    "                if  A[i,j]==B[i-y,j-x]:\n",
    "                    C[i,j]=255\n",
    "                else:\n",
    "                    C[i,j]=0\n",
    "\n",
    "\n",
    "    # pixel that same(T) different(F) and drop area\n",
    "    t=0; f=0; \n",
    "    #drop_ori=0; drop_gen=0 \n",
    "    for i in range (w_ori2):\n",
    "        for j in range(h_ori2):\n",
    "            if C[i,j]==0:\n",
    "                f=f+1\n",
    "            else:\n",
    "                t=t+1\n",
    "\n",
    "\n",
    "    lost=f/max(w_ori2*h_ori2,w_syn2*h_syn2)\n",
    "    accurancy=1-lost\n",
    "\n",
    "    if output == 0:\n",
    "        return lost\n",
    "    elif output == 1:\n",
    "        return C\n",
    "    else:\n",
    "        return C,lost\n",
    "    \n"
   ]
  },
  {
   "attachments": {},
   "cell_type": "markdown",
   "metadata": {},
   "source": [
    "# Program Start"
   ]
  },
  {
   "attachments": {},
   "cell_type": "markdown",
   "metadata": {},
   "source": [
    "## Obtimization"
   ]
  },
  {
   "cell_type": "code",
   "execution_count": 4,
   "metadata": {},
   "outputs": [],
   "source": [
    "def obtimize_function(svlrxyk,path_ori=os.path.abspath('./images_experiment/220304_miliq_T17.7_S73.04.png'),path=os.path.abspath('./images_gen'),output=0):\n",
    "    sigma =svlrxyk[0]\n",
    "    v0    =svlrxyk[1]\n",
    "    lNe   =svlrxyk[2]\n",
    "    rNe   =svlrxyk[3]\n",
    "    x     =svlrxyk[4]\n",
    "    y     =svlrxyk[5]\n",
    "    k     =svlrxyk[6]\n",
    "\n",
    "    # generate the synthetic image\n",
    "    r,z=genSingleDrop(savepath=path,sigma=sigma,volume0=v0,rneedle=rNe,output=1)\n",
    "    img_syn,path_syn=plt_image_needle(r,z,path,sigma=sigma,volume0=v0,rneedle=rNe,l_needle=lNe)\n",
    "    im = io.imread(path_syn)\n",
    "    img_syn,path_syn = corp_margin(im)\n",
    "    \n",
    "    # open the origianl image\n",
    "    img_ori=Image.open(path_ori)\n",
    "    img_syn=Image.open(path_syn)\n",
    "    # calulate the lost\n",
    "    if output == 0:\n",
    "        lost=cost(x,y,img_syn,img_ori,k,output=output)\n",
    "        return lost\n",
    "    elif output == 1:\n",
    "        C=cost(x,y,img_syn,img_ori,k,output=output)\n",
    "        return C\n",
    "    else:\n",
    "        C,lost = cost(x,y,img_syn,img_ori,k,output=output)\n",
    "        return C,lost\n"
   ]
  },
  {
   "attachments": {},
   "cell_type": "markdown",
   "metadata": {},
   "source": [
    "## Start optimize"
   ]
  },
  {
   "cell_type": "code",
   "execution_count": 5,
   "metadata": {},
   "outputs": [
    {
     "ename": "KeyboardInterrupt",
     "evalue": "",
     "output_type": "error",
     "traceback": [
      "\u001b[1;31m---------------------------------------------------------------------------\u001b[0m",
      "\u001b[1;31mKeyboardInterrupt\u001b[0m                         Traceback (most recent call last)",
      "Cell \u001b[1;32mIn [5], line 5\u001b[0m\n\u001b[0;32m      3\u001b[0m x0\u001b[39m=\u001b[39mnp\u001b[39m.\u001b[39masarray((\u001b[39m75\u001b[39m,\u001b[39m20\u001b[39m,\u001b[39m2\u001b[39m,\u001b[39m0.5\u001b[39m,\u001b[39m30\u001b[39m,\u001b[39m0\u001b[39m,\u001b[39m1\u001b[39m))\n\u001b[0;32m      4\u001b[0m \u001b[39m#sigma; v0; length_Ne,r_Ne; x,y; scaling_rate;\u001b[39;00m\n\u001b[1;32m----> 5\u001b[0m scipy\u001b[39m.\u001b[39;49moptimize\u001b[39m.\u001b[39;49mminimize(obtimize_function,x0,method\u001b[39m=\u001b[39;49m\u001b[39m'\u001b[39;49m\u001b[39mnelder-mead\u001b[39;49m\u001b[39m'\u001b[39;49m)\n",
      "File \u001b[1;32m~\\AppData\\Local\\Packages\\PythonSoftwareFoundation.Python.3.10_qbz5n2kfra8p0\\LocalCache\\local-packages\\Python310\\site-packages\\scipy\\optimize\\_minimize.py:687\u001b[0m, in \u001b[0;36mminimize\u001b[1;34m(fun, x0, args, method, jac, hess, hessp, bounds, constraints, tol, callback, options)\u001b[0m\n\u001b[0;32m    684\u001b[0m     bounds \u001b[39m=\u001b[39m standardize_bounds(bounds, x0, meth)\n\u001b[0;32m    686\u001b[0m \u001b[39mif\u001b[39;00m meth \u001b[39m==\u001b[39m \u001b[39m'\u001b[39m\u001b[39mnelder-mead\u001b[39m\u001b[39m'\u001b[39m:\n\u001b[1;32m--> 687\u001b[0m     res \u001b[39m=\u001b[39m _minimize_neldermead(fun, x0, args, callback, bounds\u001b[39m=\u001b[39mbounds,\n\u001b[0;32m    688\u001b[0m                                \u001b[39m*\u001b[39m\u001b[39m*\u001b[39moptions)\n\u001b[0;32m    689\u001b[0m \u001b[39melif\u001b[39;00m meth \u001b[39m==\u001b[39m \u001b[39m'\u001b[39m\u001b[39mpowell\u001b[39m\u001b[39m'\u001b[39m:\n\u001b[0;32m    690\u001b[0m     res \u001b[39m=\u001b[39m _minimize_powell(fun, x0, args, callback, bounds, \u001b[39m*\u001b[39m\u001b[39m*\u001b[39moptions)\n",
      "File \u001b[1;32m~\\AppData\\Local\\Packages\\PythonSoftwareFoundation.Python.3.10_qbz5n2kfra8p0\\LocalCache\\local-packages\\Python310\\site-packages\\scipy\\optimize\\_optimize.py:772\u001b[0m, in \u001b[0;36m_minimize_neldermead\u001b[1;34m(func, x0, args, callback, maxiter, maxfev, disp, return_all, initial_simplex, xatol, fatol, adaptive, bounds, **unknown_options)\u001b[0m\n\u001b[0;32m    770\u001b[0m \u001b[39mtry\u001b[39;00m:\n\u001b[0;32m    771\u001b[0m     \u001b[39mfor\u001b[39;00m k \u001b[39min\u001b[39;00m \u001b[39mrange\u001b[39m(N \u001b[39m+\u001b[39m \u001b[39m1\u001b[39m):\n\u001b[1;32m--> 772\u001b[0m         fsim[k] \u001b[39m=\u001b[39m func(sim[k])\n\u001b[0;32m    773\u001b[0m \u001b[39mexcept\u001b[39;00m _MaxFuncCallError:\n\u001b[0;32m    774\u001b[0m     \u001b[39mpass\u001b[39;00m\n",
      "File \u001b[1;32m~\\AppData\\Local\\Packages\\PythonSoftwareFoundation.Python.3.10_qbz5n2kfra8p0\\LocalCache\\local-packages\\Python310\\site-packages\\scipy\\optimize\\_optimize.py:496\u001b[0m, in \u001b[0;36m_wrap_scalar_function_maxfun_validation.<locals>.function_wrapper\u001b[1;34m(x, *wrapper_args)\u001b[0m\n\u001b[0;32m    494\u001b[0m ncalls[\u001b[39m0\u001b[39m] \u001b[39m+\u001b[39m\u001b[39m=\u001b[39m \u001b[39m1\u001b[39m\n\u001b[0;32m    495\u001b[0m \u001b[39m# A copy of x is sent to the user function (gh13740)\u001b[39;00m\n\u001b[1;32m--> 496\u001b[0m fx \u001b[39m=\u001b[39m function(np\u001b[39m.\u001b[39;49mcopy(x), \u001b[39m*\u001b[39;49m(wrapper_args \u001b[39m+\u001b[39;49m args))\n\u001b[0;32m    497\u001b[0m \u001b[39m# Ideally, we'd like to a have a true scalar returned from f(x). For\u001b[39;00m\n\u001b[0;32m    498\u001b[0m \u001b[39m# backwards-compatibility, also allow np.array([1.3]),\u001b[39;00m\n\u001b[0;32m    499\u001b[0m \u001b[39m# np.array([[1.3]]) etc.\u001b[39;00m\n\u001b[0;32m    500\u001b[0m \u001b[39mif\u001b[39;00m \u001b[39mnot\u001b[39;00m np\u001b[39m.\u001b[39misscalar(fx):\n",
      "Cell \u001b[1;32mIn [4], line 11\u001b[0m, in \u001b[0;36mobtimize_function\u001b[1;34m(svlrxyk, path_ori, path, output)\u001b[0m\n\u001b[0;32m      8\u001b[0m k     \u001b[39m=\u001b[39msvlrxyk[\u001b[39m6\u001b[39m]\n\u001b[0;32m     10\u001b[0m \u001b[39m# generate the synthetic image\u001b[39;00m\n\u001b[1;32m---> 11\u001b[0m r,z\u001b[39m=\u001b[39mgenSingleDrop(savepath\u001b[39m=\u001b[39;49mpath,sigma\u001b[39m=\u001b[39;49msigma,volume0\u001b[39m=\u001b[39;49mv0,rneedle\u001b[39m=\u001b[39;49mrNe,output\u001b[39m=\u001b[39;49m\u001b[39m1\u001b[39;49m)\n\u001b[0;32m     12\u001b[0m img_syn,path_syn\u001b[39m=\u001b[39mplt_image_needle(r,z,path,sigma\u001b[39m=\u001b[39msigma,volume0\u001b[39m=\u001b[39mv0,rneedle\u001b[39m=\u001b[39mrNe,l_needle\u001b[39m=\u001b[39mlNe)\n\u001b[0;32m     13\u001b[0m im \u001b[39m=\u001b[39m io\u001b[39m.\u001b[39mimread(path_syn)\n",
      "File \u001b[1;32md:\\OneDrive\\Documents\\GitHub\\Bayesian_PendantDrop_Tensiometry\\codes_gendrops_py\\genSingleDrop.py:213\u001b[0m, in \u001b[0;36mgenSingleDrop\u001b[1;34m(savepath, sigma, rneedle, volume0, output)\u001b[0m\n\u001b[0;32m    210\u001b[0m b \u001b[39m=\u001b[39m np\u001b[39m.\u001b[39mvstack((b1,b2,b3,b8,b9)); \n\u001b[0;32m    212\u001b[0m \u001b[39m# solve the system of equations\u001b[39;00m\n\u001b[1;32m--> 213\u001b[0m u \u001b[39m=\u001b[39m np\u001b[39m.\u001b[39;49mlinalg\u001b[39m.\u001b[39;49minv(A)\u001b[39m.\u001b[39mdot(b)\n\u001b[0;32m    215\u001b[0m \u001b[39m# update variables\u001b[39;00m\n\u001b[0;32m    216\u001b[0m r   \u001b[39m=\u001b[39m r   \u001b[39m+\u001b[39m alpha\u001b[39m*\u001b[39mu[\u001b[39m0\u001b[39m:N]\n",
      "File \u001b[1;32m<__array_function__ internals>:180\u001b[0m, in \u001b[0;36minv\u001b[1;34m(*args, **kwargs)\u001b[0m\n",
      "File \u001b[1;32m~\\AppData\\Local\\Packages\\PythonSoftwareFoundation.Python.3.10_qbz5n2kfra8p0\\LocalCache\\local-packages\\Python310\\site-packages\\numpy\\linalg\\linalg.py:552\u001b[0m, in \u001b[0;36minv\u001b[1;34m(a)\u001b[0m\n\u001b[0;32m    550\u001b[0m signature \u001b[39m=\u001b[39m \u001b[39m'\u001b[39m\u001b[39mD->D\u001b[39m\u001b[39m'\u001b[39m \u001b[39mif\u001b[39;00m isComplexType(t) \u001b[39melse\u001b[39;00m \u001b[39m'\u001b[39m\u001b[39md->d\u001b[39m\u001b[39m'\u001b[39m\n\u001b[0;32m    551\u001b[0m extobj \u001b[39m=\u001b[39m get_linalg_error_extobj(_raise_linalgerror_singular)\n\u001b[1;32m--> 552\u001b[0m ainv \u001b[39m=\u001b[39m _umath_linalg\u001b[39m.\u001b[39;49minv(a, signature\u001b[39m=\u001b[39;49msignature, extobj\u001b[39m=\u001b[39;49mextobj)\n\u001b[0;32m    553\u001b[0m \u001b[39mreturn\u001b[39;00m wrap(ainv\u001b[39m.\u001b[39mastype(result_t, copy\u001b[39m=\u001b[39m\u001b[39mFalse\u001b[39;00m))\n",
      "\u001b[1;31mKeyboardInterrupt\u001b[0m: "
     ]
    }
   ],
   "source": [
    "import scipy.optimize\n",
    "# use scipy obtimaize the parameter\n",
    "x0=np.asarray((75,20,2,0.5,30,0,1))\n",
    "#sigma; v0; length_Ne,r_Ne; x,y; scaling_rate;\n",
    "scipy.optimize.minimize(obtimize_function,x0,method='nelder-mead')\n"
   ]
  },
  {
   "attachments": {},
   "cell_type": "markdown",
   "metadata": {},
   "source": [
    "### History\n",
    "x0=np.asarray((75,20,4,1,20,1,1))\n",
    "-->\n",
    "x=np.array([77.46659107, 20.37480227,  3.6559882 ,  0.99864498, 21.43432356, 0.99075746,  1.00173946])\n",
    "\n",
    "x0=np.asarray((75,20,2,0.5,30,0,1))\n",
    "-->\n",
    "x=np.array([ 8.11820316e+01,  2.09637535e+01,  2.14966986e+00,  5.10992904e-01, 2.58308160e+01, -1.59775216e-04,  9.41253105e-01])"
   ]
  },
  {
   "cell_type": "code",
   "execution_count": 6,
   "metadata": {},
   "outputs": [],
   "source": [
    "#x=np.array([77.46659107, 20.37480227,  3.6559882 ,  0.99864498, 21.43432356, 0.99075746,  1.00173946])\n",
    "x=np.array([ 8.11820316e+01,  2.09637535e+01,  2.14966986e+00,  5.10992904e-01, 2.58308160e+01, -1.59775216e-04,  9.41253105e-01])\n",
    "C,lost=obtimize_function(x, output=2)\n"
   ]
  },
  {
   "cell_type": "code",
   "execution_count": 7,
   "metadata": {},
   "outputs": [
    {
     "data": {
      "image/png": "[encoded data removed]",
      "text/plain": [
       "<PIL.Image.Image image mode=L size=100x100>"
      ]
     },
     "execution_count": 7,
     "metadata": {},
     "output_type": "execute_result"
    }
   ],
   "source": [
    "Image.fromarray(np.uint8(C))\n"
   ]
  },
  {
   "cell_type": "code",
   "execution_count": null,
   "metadata": {},
   "outputs": [],
   "source": [
    "from matplotlib import pyplot as plt\n",
    "plt.imshow(C, interpolation='nearest')\n",
    "plt.show()"
   ]
  }
 ],
 "metadata": {
  "kernelspec": {
   "display_name": "Python 3",
   "language": "python",
   "name": "python3"
  },
  "language_info": {
   "codemirror_mode": {
    "name": "ipython",
    "version": 3
   },
   "file_extension": ".py",
   "mimetype": "text/x-python",
   "name": "python",
   "nbconvert_exporter": "python",
   "pygments_lexer": "ipython3",
   "version": "3.10.9 (tags/v3.10.9:1dd9be6, Dec  6 2022, 20:01:21) [MSC v.1934 64 bit (AMD64)]"
  },
  "orig_nbformat": 4,
  "vscode": {
   "interpreter": {
    "hash": "60437aad8983babfce94e0da8b300c92c022ccf7e7dbddf7a08c08f7ecf8beba"
   }
  }
 },
 "nbformat": 4,
 "nbformat_minor": 2
}
