{
 "cells": [
  {
   "attachments": {},
   "cell_type": "markdown",
   "metadata": {},
   "source": [
    "# Import\n"
   ]
  },
  {
   "cell_type": "code",
   "execution_count": 3,
   "metadata": {},
   "outputs": [],
   "source": [
    "import os\n",
    "import math as m\n",
    "from codes_gendrops_py.genSingleDrop import *\n",
    "from codes_gendrops_py.fit_circle_through_3_points import *\n",
    "import matplotlib.pyplot as plt\n",
    "import matplotlib.image as mpimg\n",
    "from cost_function import img2bw,ResizeImage\n",
    "from PIL import Image\n",
    "from remove_edge import *\n",
    "import numpy as np"
   ]
  },
  {
   "attachments": {},
   "cell_type": "markdown",
   "metadata": {},
   "source": [
    "# Functions"
   ]
  },
  {
   "cell_type": "code",
   "execution_count": 2,
   "metadata": {},
   "outputs": [],
   "source": [
    "#generate the synthetic image with r and z\n",
    "def plt_image_needle(r_a,z_a,path,sigma,volume0,rneedle=1,l_needle=4):\n",
    "    path=path+\"/s%.2f_v%.2f_rn%.2f_ln%.2f_needle.jpg\" %(sigma, volume0, rneedle,l_needle)\n",
    "    plt.figure(figsize=(4,4))\n",
    "    plt.plot(r_a,z_a,color='black')\n",
    "    plt.plot(-r_a,z_a,color='black')\n",
    "    \n",
    "    plt.fill_between(r_a,l_needle,0,color='black')\n",
    "    plt.fill_between(-r_a,l_needle,0,color='black')\n",
    "    plt.fill_between(r_a,0,z_a,color='black')\n",
    "    plt.fill_between(-r_a,0,z_a,color='black')\n",
    "\n",
    "    plt.axis('equal')\n",
    "    plt.axis('off')\n",
    "    plt.savefig(path)\n",
    "    plt.close()\n",
    "    img=Image.open(path)\n",
    "    return img,path"
   ]
  },
  {
   "cell_type": "code",
   "execution_count": 3,
   "metadata": {},
   "outputs": [],
   "source": [
    "# cost function\n",
    "def cost (x,y,img_syn,img_ori,K=1,output=0,width=100):\n",
    "    '''\n",
    "    input:              \n",
    "    x,y:                the origin point of synthetic image\n",
    "    img_syn,img_ori:    the images that need to calculate the cost \n",
    "                        should be valued by 'Image.open(path)'\n",
    "    K:                  the scaling of synthethic image\n",
    "    '''\n",
    "    \n",
    "    w_syn,h_syn=img_syn.size\n",
    "    w_ori,h_ori=img_ori.size\n",
    "\n",
    "    ### the image size can be changed here\n",
    "    scaling_ori=width/w_ori # reshape the origin image to width 100\n",
    "    w_ori2=int(scaling_ori*w_ori)\n",
    "    h_ori2=int(scaling_ori*h_ori)\n",
    "\n",
    "    scaling_syn=K*scaling_ori\n",
    "    w_syn2=int(scaling_syn*w_syn)\n",
    "    h_syn2=int(scaling_syn*h_syn)\n",
    "\n",
    "    x=int(x)\n",
    "    y=int(y)\n",
    "\n",
    "    A=img2bw(ResizeImage(img_ori,w_ori2,h_ori2))\n",
    "    B=img2bw(ResizeImage(img_syn,w_syn2,h_syn2))\n",
    "    C=np.zeros((w_ori2,h_ori2))\n",
    "\n",
    "    for i in range (h_ori2): # h\n",
    "        for j in range(w_ori2): # w\n",
    "            #print(i,j)\n",
    "            if i < y or i-y >= h_syn2 or j < x or j-x >= w_syn2:\n",
    "                 C[i,j]=A[i,j]\n",
    "            else:\n",
    "                if  A[i,j]==B[i-y,j-x]:\n",
    "                    C[i,j]=255\n",
    "                else:\n",
    "                    C[i,j]=0\n",
    "\n",
    "\n",
    "    # pixel that same(T) different(F) and drop area\n",
    "    t=0; f=0; \n",
    "    #drop_ori=0; drop_gen=0 \n",
    "    for i in range (w_ori2):\n",
    "        for j in range(h_ori2):\n",
    "            if C[i,j]==0:\n",
    "                f=f+1\n",
    "            else:\n",
    "                t=t+1\n",
    "\n",
    "\n",
    "    lost=f/max(w_ori2*h_ori2,w_syn2*h_syn2)\n",
    "    accurancy=1-lost\n",
    "\n",
    "    if output == 0:\n",
    "        return lost\n",
    "    elif output == 1:\n",
    "        return C\n",
    "    else:\n",
    "        return C,lost\n",
    "    \n"
   ]
  },
  {
   "attachments": {},
   "cell_type": "markdown",
   "metadata": {},
   "source": [
    "# Program Start"
   ]
  },
  {
   "attachments": {},
   "cell_type": "markdown",
   "metadata": {},
   "source": [
    "## Definite the Obtimization Function"
   ]
  },
  {
   "cell_type": "code",
   "execution_count": 4,
   "metadata": {},
   "outputs": [],
   "source": [
    "def obtimize_function(svlrxyk,path_ori=os.path.abspath('./images_experiment/220304_miliq_T17.7_S73.04.png'),path=os.path.abspath('./images_gen'),output=0):\n",
    "    '''change the path_ori to select an different image'''\n",
    "    sigma =svlrxyk[0]\n",
    "    v0    =svlrxyk[1]\n",
    "    lNe   =svlrxyk[2]\n",
    "    rNe   =svlrxyk[3]\n",
    "    x     =svlrxyk[4]\n",
    "    y     =svlrxyk[5]\n",
    "    k     =svlrxyk[6]\n",
    "\n",
    "    # generate the synthetic image\n",
    "    r,z=genSingleDrop(savepath=path,sigma=sigma,volume0=v0,rneedle=rNe,output=1)\n",
    "    img_syn,path_syn=plt_image_needle(r,z,path,sigma=sigma,volume0=v0,rneedle=rNe,l_needle=lNe)\n",
    "    im = io.imread(path_syn)\n",
    "    img_syn,path_syn = corp_margin(im)\n",
    "    \n",
    "    # open the origianl image\n",
    "    img_ori=Image.open(path_ori)\n",
    "    img_syn=Image.open(path_syn)\n",
    "    # calulate the lost\n",
    "    if output == 0:\n",
    "        lost=cost(x,y,img_syn,img_ori,k,output=output)\n",
    "        return lost\n",
    "    elif output == 1:\n",
    "        C=cost(x,y,img_syn,img_ori,k,output=output)\n",
    "        return C\n",
    "    else:\n",
    "        C,lost = cost(x,y,img_syn,img_ori,k,output=output)\n",
    "        return C,lost\n"
   ]
  },
  {
   "cell_type": "markdown",
   "metadata": {},
   "source": [
    "## Start the optimization"
   ]
  },
  {
   "cell_type": "code",
   "execution_count": 8,
   "metadata": {},
   "outputs": [
    {
     "data": {
      "text/plain": [
       " final_simplex: (array([[ 8.11820316e+01,  2.09637535e+01,  2.14966986e+00,\n",
       "         5.10992904e-01,  2.58308160e+01, -1.59775216e-04,\n",
       "         9.41253105e-01],\n",
       "       [ 8.11820514e+01,  2.09637592e+01,  2.14967154e+00,\n",
       "         5.10992951e-01,  2.58307756e+01, -1.59783191e-04,\n",
       "         9.41253476e-01],\n",
       "       [ 8.11820193e+01,  2.09637517e+01,  2.14967067e+00,\n",
       "         5.10992883e-01,  2.58308183e+01, -1.59777409e-04,\n",
       "         9.41253491e-01],\n",
       "       [ 8.11819665e+01,  2.09637356e+01,  2.14967037e+00,\n",
       "         5.10992842e-01,  2.58308409e+01, -1.59777676e-04,\n",
       "         9.41253154e-01],\n",
       "       [ 8.11819976e+01,  2.09637371e+01,  2.14967186e+00,\n",
       "         5.10992750e-01,  2.58307941e+01, -1.59774902e-04,\n",
       "         9.41253321e-01],\n",
       "       [ 8.11820620e+01,  2.09637569e+01,  2.14967174e+00,\n",
       "         5.10992659e-01,  2.58307843e+01, -1.59781240e-04,\n",
       "         9.41253086e-01],\n",
       "       [ 8.11820156e+01,  2.09637451e+01,  2.14967108e+00,\n",
       "         5.10992928e-01,  2.58308109e+01, -1.59777417e-04,\n",
       "         9.41253071e-01],\n",
       "       [ 8.11820107e+01,  2.09637529e+01,  2.14967119e+00,\n",
       "         5.10992976e-01,  2.58308057e+01, -1.59780537e-04,\n",
       "         9.41253152e-01]]), array([0.0324, 0.0324, 0.0324, 0.0324, 0.0324, 0.0324, 0.0324, 0.0324]))\n",
       "           fun: 0.0324\n",
       "       message: 'Optimization terminated successfully.'\n",
       "          nfev: 242\n",
       "           nit: 88\n",
       "        status: 0\n",
       "       success: True\n",
       "             x: array([ 8.11820316e+01,  2.09637535e+01,  2.14966986e+00,  5.10992904e-01,\n",
       "        2.58308160e+01, -1.59775216e-04,  9.41253105e-01])"
      ]
     },
     "execution_count": 8,
     "metadata": {},
     "output_type": "execute_result"
    }
   ],
   "source": [
    "import scipy.optimize\n",
    "# use scipy obtimaize the parameter\n",
    "x0=np.asarray((75,20,2,0.5,30,0,1))\n",
    "#sigma; v0; length_Ne,r_Ne; x,y; scaling_rate;\n",
    "scipy.optimize.minimize(obtimize_function,x0,method='nelder-mead')\n"
   ]
  },
  {
   "attachments": {},
   "cell_type": "markdown",
   "metadata": {},
   "source": [
    "## History\n"
   ]
  },
  {
   "cell_type": "markdown",
   "metadata": {},
   "source": [
    "x0=np.asarray((75,20,4,1,20,1,1))\n",
    "-->\n",
    "x=np.array([77.46659107, 20.37480227,  3.6559882 ,  0.99864498, 21.43432356, 0.99075746,  1.00173946])\n",
    "\n",
    "x0=np.asarray((75,20,2,0.5,30,0,1))\n",
    "-->\n",
    "x=np.array([ 8.11820316e+01,  2.09637535e+01,  2.14966986e+00,  5.10992904e-01, 2.58308160e+01, -1.59775216e-04,  9.41253105e-01])"
   ]
  },
  {
   "cell_type": "markdown",
   "metadata": {},
   "source": [
    "## Visualization"
   ]
  },
  {
   "cell_type": "code",
   "execution_count": 10,
   "metadata": {},
   "outputs": [],
   "source": [
    "#x=np.array([77.46659107, 20.37480227,  3.6559882 ,  0.99864498, 21.43432356, 0.99075746,  1.00173946])\n",
    "x=np.array([ 8.11820316e+01,  2.09637535e+01,  2.14966986e+00,  5.10992904e-01, 2.58308160e+01, -1.59775216e-04,  9.41253105e-01])\n",
    "C,lost=obtimize_function(x, output=2)\n"
   ]
  },
  {
   "cell_type": "code",
   "execution_count": 16,
   "metadata": {},
   "outputs": [
    {
     "data": {
      "image/png": "[encoded data removed]",
      "text/plain": [
       "<Figure size 640x480 with 1 Axes>"
      ]
     },
     "metadata": {},
     "output_type": "display_data"
    }
   ],
   "source": [
    "Image.fromarray(np.uint8(C))\n",
    "from matplotlib import pyplot as plt\n",
    "plt.imshow(C, interpolation='nearest')\n",
    "plt.show()"
   ]
  }
 ],
 "metadata": {
  "kernelspec": {
   "display_name": "Python 3.9.10 64-bit",
   "language": "python",
   "name": "python3"
  },
  "language_info": {
   "codemirror_mode": {
    "name": "ipython",
    "version": 3
   },
   "file_extension": ".py",
   "mimetype": "text/x-python",
   "name": "python",
   "nbconvert_exporter": "python",
   "pygments_lexer": "ipython3",
   "version": "3.9.10"
  },
  "orig_nbformat": 4,
  "vscode": {
   "interpreter": {
    "hash": "aee8b7b246df8f9039afb4144a1f6fd8d2ca17a180786b69acc140d282b71a49"
   }
  }
 },
 "nbformat": 4,
 "nbformat_minor": 2
}
