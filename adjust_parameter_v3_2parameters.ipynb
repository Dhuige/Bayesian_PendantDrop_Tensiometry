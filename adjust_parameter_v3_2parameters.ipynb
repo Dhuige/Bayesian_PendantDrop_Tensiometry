{
 "cells": [
  {
   "cell_type": "code",
   "execution_count": 3,
   "metadata": {},
   "outputs": [],
   "source": [
    "import os\n",
    "import math as m\n",
    "from codes_gendrops_py.genSingleDrop import *\n",
    "from codes_gendrops_py.fit_circle_through_3_points import *\n",
    "import matplotlib.pyplot as plt\n",
    "import matplotlib.image as mpimg\n",
    "from pre_process_functions import *\n",
    "from PIL import Image\n",
    "import numpy as np\n",
    "import pdb"
   ]
  },
  {
   "attachments": {},
   "cell_type": "markdown",
   "metadata": {},
   "source": [
    "## Definite the pre processing functions"
   ]
  },
  {
   "cell_type": "code",
   "execution_count": 4,
   "metadata": {},
   "outputs": [],
   "source": [
    "def remove_needle_centering(img_ori,savepath='./images_notupload'):\n",
    "    '''img_ori=Image.open(path_ori)'''\n",
    "    w_ori,h_ori=img_ori.size\n",
    "\n",
    "    scaling_ori=300/w_ori # reshape the origin image to width 300\n",
    "\n",
    "    w_ori2=int(scaling_ori*w_ori)\n",
    "    h_ori2=int(scaling_ori*h_ori)\n",
    "\n",
    "    A=img2bw(ResizeImage(img_ori,w_ori2,h_ori2))\n",
    "\n",
    "    left_edge=np.zeros(w_ori2)\n",
    "    right_edge=np.zeros(w_ori2)\n",
    "    for i in range(h_ori2):\n",
    "        for j in range(w_ori2):\n",
    "            if A[i,j-1]>=125 and A[i,j]<125:\n",
    "                #print('Left position',i,j)\n",
    "                left_edge[i]=j\n",
    "            if A[i,j-1]<=125 and A[i,j]>125:\n",
    "                #print('Right position',i,j)\n",
    "                right_edge[i]=j\n",
    "\n",
    "    needle=np.abs(left_edge-right_edge)\n",
    "\n",
    "    end=0\n",
    "    for j in range(needle.shape[0]-1):\n",
    "        j=j+1\n",
    "        if end == 0:\n",
    "            if abs((needle[j]-needle[0])/needle[0])>0.05:\n",
    "                stopline=j\n",
    "                end=end+1\n",
    "    #print(stopline)\n",
    "\n",
    "    addpad=right_edge[stopline]-needle[stopline]/2-w_ori2/2\n",
    "\n",
    "    img_WON=np.zeros((h_ori2-stopline,w_ori2))\n",
    "    for i in range(h_ori2):\n",
    "        if i>=stopline:\n",
    "            img_WON[i-stopline,:]=A[i,:]\n",
    "    \n",
    "    h_won,w_won=img_WON.shape\n",
    "    \n",
    "    # centering\n",
    "    if addpad>0:\n",
    "        img_won=np.hstack( ( img_WON,np.ones((h_won,abs(int(addpad*4))))*255 ) )\n",
    "    elif addpad<0:\n",
    "        img_won=np.hstack( ( np.ones((h_won,abs(int(addpad*4))))*255,img_WON ) )\n",
    "    else:\n",
    "        img_won=img_WON\n",
    "\n",
    "    img=Image.fromarray(np.uint8(img_won))\n",
    "\n",
    "    path=savepath+\"/cut_needle_pixel_rn%.2f.png\" %(needle[0])\n",
    "    img.save(path)\n",
    "    return path,needle\n",
    "\n",
    "def gen_doplet_v3(sigma,volume0,rneedle=1,savepath='./images_notupload',output=1):\n",
    "    r_a,z_a=genSingleDrop(sigma=sigma,volume0=volume0,savepath=savepath,rneedle=rneedle,output=output)\n",
    "\n",
    "    path=savepath+\"/s%.2f_v%.2f_rn1_wmax_%.2f.jpg\" %(sigma, volume0, 2*max(abs(r_a)))\n",
    "\n",
    "    plt.fill_between(r_a,z_a,color='black')\n",
    "    plt.fill_between(-r_a,z_a,color='black')\n",
    "    plt.axis('equal')\n",
    "    plt.axis('off')\n",
    "    plt.savefig(path)\n",
    "    plt.close()\n",
    "\n",
    "    wmax=2*max(abs(r_a))\n",
    "    return path,wmax,rneedle\n",
    "    \n",
    "def resize_synimg(img_syn,wmax,r_pixel_ori,r_syn=1):\n",
    "    '''img_ori=Image.open(path_ori)'''\n",
    "    w,h=img_syn.size\n",
    "    w_n=wmax/(2*r_syn)*50\n",
    "    scaling=w_n/w\n",
    "    h_n=scaling*h\n",
    "    new_syn=ResizeImage(img_syn,int(w_n),int(h_n))\n",
    "    return new_syn\n",
    "\n",
    "def cost_v3(img_ori,img_syn,width=100,output=0):\n",
    "    '''\n",
    "    input:              \n",
    "    x:                the origin point of synthetic image\n",
    "    img_syn,img_ori:    the images that need to calculate the cost \n",
    "                        should be valued by 'Image.open(path)'\n",
    "    K:                  the scaling of synthethic image\n",
    "    output: 0 -->lost, 1-->C, else C,lost\n",
    "    '''\n",
    "    w_ori,h_ori=img_ori.size\n",
    "    w_syn,h_syn=img_syn.size\n",
    "    \n",
    "\n",
    "    scaling_ori=width/w_ori # reshape the origin image to width\n",
    "    w_ori2=int(scaling_ori*w_ori)\n",
    "    h_ori2=int(scaling_ori*h_ori)\n",
    "    scaling_syn=scaling_ori\n",
    "    w_syn2=int(scaling_syn*w_syn)\n",
    "    h_syn2=int(scaling_syn*h_syn)\n",
    "    x=int(abs((w_syn2-w_ori2)/2))\n",
    "\n",
    "    A=img2bw(ResizeImage(img_ori,w_ori2,h_ori2))\n",
    "    one=np.ones((w_ori2-h_ori2,w_ori2))*255\n",
    "    A=np.row_stack((A,one))\n",
    "\n",
    "\n",
    "    B=img2bw(ResizeImage(img_syn,w_syn2,h_syn2))\n",
    "    C=np.zeros((w_ori2,w_ori2))\n",
    "\n",
    "    for i in range (w_ori2): # h\n",
    "        for j in range(w_ori2): # w\n",
    "            #print (h_ori2,w_ori2)\n",
    "            #print(i,j)\n",
    "            if j < x or j-x >= w_syn2 or i >= h_syn2 :\n",
    "                 C[i,j]=A[i,j]\n",
    "            else:\n",
    "                if  A[i,j]==B[i,j-x]: # B[i-y,j-x]\n",
    "                    C[i,j]=255\n",
    "                else:\n",
    "                    C[i,j]=0\n",
    "    \n",
    "    # pixel that same(T) different(F) and drop area\n",
    "    t=0; f=0; \n",
    "    #drop_ori=0; drop_gen=0 \n",
    "    for i in range (w_ori2):\n",
    "        for j in range(h_ori2):\n",
    "            if C[i,j]==0:\n",
    "                f=f+1\n",
    "            else:\n",
    "                t=t+1\n",
    "    lost=f/max(w_ori2*h_ori2,w_syn2*h_syn2)\n",
    "    accurancy=1-lost\n",
    "\n",
    "    if output == 0:\n",
    "        return lost\n",
    "    elif output == 1:\n",
    "        return C\n",
    "    else:\n",
    "        return C,lost"
   ]
  },
  {
   "cell_type": "code",
   "execution_count": 3,
   "metadata": {},
   "outputs": [],
   "source": [
    "def gen_doplet_v3(sigma,volume0,rneedle=1,savepath='./images_notupload',output=1):\n",
    "    r_a,z_a=genSingleDrop(sigma=sigma,volume0=volume0,savepath=savepath,rneedle=rneedle,output=output)\n",
    "\n",
    "    path=savepath+\"/s%.2f_v%.2f_rn1_wmax_%.2f.jpg\" %(sigma, volume0, 2*max(abs(r_a)))\n",
    "\n",
    "    plt.fill_between(r_a,z_a,color='black')\n",
    "    plt.fill_between(-r_a,z_a,color='black')\n",
    "    plt.axis('equal')\n",
    "    plt.axis('off')\n",
    "    plt.savefig(path)\n",
    "    plt.close()\n",
    "\n",
    "    wmax=2*max(abs(r_a))\n",
    "    return path,wmax,rneedle"
   ]
  },
  {
   "cell_type": "code",
   "execution_count": 4,
   "metadata": {},
   "outputs": [],
   "source": [
    "def resize_synimg(img_syn,wmax,r_pixel_ori,r_syn=1):\n",
    "    '''img_ori=Image.open(path_ori)'''\n",
    "    w,h=img_syn.size\n",
    "    w_n=wmax/(2*r_syn)*50\n",
    "    scaling=w_n/w\n",
    "    h_n=scaling*h\n",
    "    new_syn=ResizeImage(img_syn,int(w_n),int(h_n))\n",
    "    return new_syn"
   ]
  },
  {
   "cell_type": "code",
   "execution_count": 5,
   "metadata": {},
   "outputs": [],
   "source": [
    "def cost_v3(img_ori,img_syn,width=100,output=0):\n",
    "    '''\n",
    "    input:              \n",
    "    x:                the origin point of synthetic image\n",
    "    img_syn,img_ori:    the images that need to calculate the cost \n",
    "                        should be valued by 'Image.open(path)'\n",
    "    K:                  the scaling of synthethic image\n",
    "    output: 0 -->lost, 1-->C, else C,lost\n",
    "    '''\n",
    "    w_ori,h_ori=img_ori.size\n",
    "    w_syn,h_syn=img_syn.size\n",
    "    \n",
    "\n",
    "    scaling_ori=width/w_ori # reshape the origin image to width\n",
    "    w_ori2=int(scaling_ori*w_ori)\n",
    "    h_ori2=int(scaling_ori*h_ori)\n",
    "    scaling_syn=scaling_ori\n",
    "    w_syn2=int(scaling_syn*w_syn)\n",
    "    h_syn2=int(scaling_syn*h_syn)\n",
    "    x=int(abs((w_syn2-w_ori2)/2))\n",
    "\n",
    "    A=img2bw(ResizeImage(img_ori,w_ori2,h_ori2))\n",
    "    one=np.ones((w_ori2-h_ori2,w_ori2))*255\n",
    "    A=np.row_stack((A,one))\n",
    "\n",
    "\n",
    "    B=img2bw(ResizeImage(img_syn,w_syn2,h_syn2))\n",
    "    C=np.zeros((w_ori2,w_ori2))\n",
    "\n",
    "    for i in range (w_ori2): # h\n",
    "        for j in range(w_ori2): # w\n",
    "            #print (h_ori2,w_ori2)\n",
    "            #print(i,j)\n",
    "            if j < x or j-x >= w_syn2 or i >= h_syn2 :\n",
    "                 C[i,j]=A[i,j]\n",
    "            else:\n",
    "                if  A[i,j]==B[i,j-x]: # B[i-y,j-x]\n",
    "                    C[i,j]=255\n",
    "                else:\n",
    "                    C[i,j]=0\n",
    "    \n",
    "    # pixel that same(T) different(F) and drop area\n",
    "    t=0; f=0; \n",
    "    #drop_ori=0; drop_gen=0 \n",
    "    for i in range (w_ori2):\n",
    "        for j in range(h_ori2):\n",
    "            if C[i,j]==0:\n",
    "                f=f+1\n",
    "            else:\n",
    "                t=t+1\n",
    "    lost=f/max(w_ori2*h_ori2,w_syn2*h_syn2)\n",
    "    accurancy=1-lost\n",
    "\n",
    "    if output == 0:\n",
    "        return lost\n",
    "    elif output == 1:\n",
    "        return C\n",
    "    else:\n",
    "        return C,lost"
   ]
  },
  {
   "attachments": {},
   "cell_type": "markdown",
   "metadata": {},
   "source": [
    "## Test the cost (Can be passed)"
   ]
  },
  {
   "cell_type": "code",
   "execution_count": 6,
   "metadata": {},
   "outputs": [
    {
     "ename": "KeyboardInterrupt",
     "evalue": "",
     "output_type": "error",
     "traceback": [
      "\u001b[0;31m---------------------------------------------------------------------------\u001b[0m",
      "\u001b[0;31mKeyboardInterrupt\u001b[0m                         Traceback (most recent call last)",
      "\u001b[1;32m/Users/yicheng/Library/CloudStorage/OneDrive-Personal/TU_eindhoven/Q6_Internship/Matlab2Python/Bayesian_PendantDrop_Tensiometry/adjust_parameter_v3_2parameters.ipynb Cell 8\u001b[0m in \u001b[0;36m<cell line: 13>\u001b[0;34m()\u001b[0m\n\u001b[1;32m     <a href='vscode-notebook-cell:/Users/yicheng/Library/CloudStorage/OneDrive-Personal/TU_eindhoven/Q6_Internship/Matlab2Python/Bayesian_PendantDrop_Tensiometry/adjust_parameter_v3_2parameters.ipynb#X10sZmlsZQ%3D%3D?line=10'>11</a>\u001b[0m path_img\u001b[39m=\u001b[39m\u001b[39m'\u001b[39m\u001b[39m./images_notupload/\u001b[39m\u001b[39m'\u001b[39m\n\u001b[1;32m     <a href='vscode-notebook-cell:/Users/yicheng/Library/CloudStorage/OneDrive-Personal/TU_eindhoven/Q6_Internship/Matlab2Python/Bayesian_PendantDrop_Tensiometry/adjust_parameter_v3_2parameters.ipynb#X10sZmlsZQ%3D%3D?line=11'>12</a>\u001b[0m \u001b[39m# generate the syn image\u001b[39;00m\n\u001b[0;32m---> <a href='vscode-notebook-cell:/Users/yicheng/Library/CloudStorage/OneDrive-Personal/TU_eindhoven/Q6_Internship/Matlab2Python/Bayesian_PendantDrop_Tensiometry/adjust_parameter_v3_2parameters.ipynb#X10sZmlsZQ%3D%3D?line=12'>13</a>\u001b[0m path_syn,wmax,rneedle\u001b[39m=\u001b[39mgen_doplet_v3(sigma\u001b[39m=\u001b[39;49msigma,volume0\u001b[39m=\u001b[39;49mvolume0)\n\u001b[1;32m     <a href='vscode-notebook-cell:/Users/yicheng/Library/CloudStorage/OneDrive-Personal/TU_eindhoven/Q6_Internship/Matlab2Python/Bayesian_PendantDrop_Tensiometry/adjust_parameter_v3_2parameters.ipynb#X10sZmlsZQ%3D%3D?line=14'>15</a>\u001b[0m \u001b[39m# cut the white edge of syn image\u001b[39;00m\n\u001b[1;32m     <a href='vscode-notebook-cell:/Users/yicheng/Library/CloudStorage/OneDrive-Personal/TU_eindhoven/Q6_Internship/Matlab2Python/Bayesian_PendantDrop_Tensiometry/adjust_parameter_v3_2parameters.ipynb#X10sZmlsZQ%3D%3D?line=15'>16</a>\u001b[0m _,path_syn \u001b[39m=\u001b[39m crop_margin(io\u001b[39m.\u001b[39mimread(path_syn))\n",
      "\u001b[1;32m/Users/yicheng/Library/CloudStorage/OneDrive-Personal/TU_eindhoven/Q6_Internship/Matlab2Python/Bayesian_PendantDrop_Tensiometry/adjust_parameter_v3_2parameters.ipynb Cell 8\u001b[0m in \u001b[0;36mgen_doplet_v3\u001b[0;34m(sigma, volume0, rneedle, savepath, output)\u001b[0m\n\u001b[1;32m      <a href='vscode-notebook-cell:/Users/yicheng/Library/CloudStorage/OneDrive-Personal/TU_eindhoven/Q6_Internship/Matlab2Python/Bayesian_PendantDrop_Tensiometry/adjust_parameter_v3_2parameters.ipynb#X10sZmlsZQ%3D%3D?line=0'>1</a>\u001b[0m \u001b[39mdef\u001b[39;00m \u001b[39mgen_doplet_v3\u001b[39m(sigma,volume0,rneedle\u001b[39m=\u001b[39m\u001b[39m1\u001b[39m,savepath\u001b[39m=\u001b[39m\u001b[39m'\u001b[39m\u001b[39m./images_notupload\u001b[39m\u001b[39m'\u001b[39m,output\u001b[39m=\u001b[39m\u001b[39m1\u001b[39m):\n\u001b[0;32m----> <a href='vscode-notebook-cell:/Users/yicheng/Library/CloudStorage/OneDrive-Personal/TU_eindhoven/Q6_Internship/Matlab2Python/Bayesian_PendantDrop_Tensiometry/adjust_parameter_v3_2parameters.ipynb#X10sZmlsZQ%3D%3D?line=1'>2</a>\u001b[0m     r_a,z_a\u001b[39m=\u001b[39mgenSingleDrop(sigma\u001b[39m=\u001b[39;49msigma,volume0\u001b[39m=\u001b[39;49mvolume0,savepath\u001b[39m=\u001b[39;49msavepath,rneedle\u001b[39m=\u001b[39;49mrneedle,output\u001b[39m=\u001b[39;49moutput)\n\u001b[1;32m      <a href='vscode-notebook-cell:/Users/yicheng/Library/CloudStorage/OneDrive-Personal/TU_eindhoven/Q6_Internship/Matlab2Python/Bayesian_PendantDrop_Tensiometry/adjust_parameter_v3_2parameters.ipynb#X10sZmlsZQ%3D%3D?line=3'>4</a>\u001b[0m     path\u001b[39m=\u001b[39msavepath\u001b[39m+\u001b[39m\u001b[39m\"\u001b[39m\u001b[39m/s\u001b[39m\u001b[39m%.2f\u001b[39;00m\u001b[39m_v\u001b[39m\u001b[39m%.2f\u001b[39;00m\u001b[39m_rn1_wmax_\u001b[39m\u001b[39m%.2f\u001b[39;00m\u001b[39m.jpg\u001b[39m\u001b[39m\"\u001b[39m \u001b[39m%\u001b[39m(sigma, volume0, \u001b[39m2\u001b[39m\u001b[39m*\u001b[39m\u001b[39mmax\u001b[39m(\u001b[39mabs\u001b[39m(r_a)))\n\u001b[1;32m      <a href='vscode-notebook-cell:/Users/yicheng/Library/CloudStorage/OneDrive-Personal/TU_eindhoven/Q6_Internship/Matlab2Python/Bayesian_PendantDrop_Tensiometry/adjust_parameter_v3_2parameters.ipynb#X10sZmlsZQ%3D%3D?line=5'>6</a>\u001b[0m     plt\u001b[39m.\u001b[39mfill_between(r_a,z_a,color\u001b[39m=\u001b[39m\u001b[39m'\u001b[39m\u001b[39mblack\u001b[39m\u001b[39m'\u001b[39m)\n",
      "File \u001b[0;32m~/Library/CloudStorage/OneDrive-Personal/TU_eindhoven/Q6_Internship/Matlab2Python/Bayesian_PendantDrop_Tensiometry/codes_gendrops_py/genSingleDrop.py:211\u001b[0m, in \u001b[0;36mgenSingleDrop\u001b[0;34m(sigma, rneedle, volume0, output, savepath)\u001b[0m\n\u001b[1;32m    208\u001b[0m b \u001b[39m=\u001b[39m np\u001b[39m.\u001b[39mvstack((b1,b2,b3,b8,b9)); \n\u001b[1;32m    210\u001b[0m \u001b[39m# solve the system of equations\u001b[39;00m\n\u001b[0;32m--> 211\u001b[0m u \u001b[39m=\u001b[39m np\u001b[39m.\u001b[39;49mlinalg\u001b[39m.\u001b[39;49minv(A)\u001b[39m.\u001b[39mdot(b)\n\u001b[1;32m    213\u001b[0m \u001b[39m# update variables\u001b[39;00m\n\u001b[1;32m    214\u001b[0m r   \u001b[39m=\u001b[39m r   \u001b[39m+\u001b[39m alpha\u001b[39m*\u001b[39mu[\u001b[39m0\u001b[39m:N]\n",
      "File \u001b[0;32m<__array_function__ internals>:5\u001b[0m, in \u001b[0;36minv\u001b[0;34m(*args, **kwargs)\u001b[0m\n",
      "File \u001b[0;32m/Library/Frameworks/Python.framework/Versions/3.9/lib/python3.9/site-packages/numpy/linalg/linalg.py:545\u001b[0m, in \u001b[0;36minv\u001b[0;34m(a)\u001b[0m\n\u001b[1;32m    543\u001b[0m signature \u001b[39m=\u001b[39m \u001b[39m'\u001b[39m\u001b[39mD->D\u001b[39m\u001b[39m'\u001b[39m \u001b[39mif\u001b[39;00m isComplexType(t) \u001b[39melse\u001b[39;00m \u001b[39m'\u001b[39m\u001b[39md->d\u001b[39m\u001b[39m'\u001b[39m\n\u001b[1;32m    544\u001b[0m extobj \u001b[39m=\u001b[39m get_linalg_error_extobj(_raise_linalgerror_singular)\n\u001b[0;32m--> 545\u001b[0m ainv \u001b[39m=\u001b[39m _umath_linalg\u001b[39m.\u001b[39;49minv(a, signature\u001b[39m=\u001b[39;49msignature, extobj\u001b[39m=\u001b[39;49mextobj)\n\u001b[1;32m    546\u001b[0m \u001b[39mreturn\u001b[39;00m wrap(ainv\u001b[39m.\u001b[39mastype(result_t, copy\u001b[39m=\u001b[39m\u001b[39mFalse\u001b[39;00m))\n",
      "\u001b[0;31mKeyboardInterrupt\u001b[0m: "
     ]
    }
   ],
   "source": [
    "sigma=73.05\n",
    "volume0=20\n",
    "\n",
    "# pre prosessing the ori image\n",
    "path_ori='./images_experiment/220304_miliq_T17.7_S73.04.png'\n",
    "path_ori,needle=remove_needle_centering(Image.open(path_ori))\n",
    "img_ori=Image.open(path_ori)\n",
    "pixel_needle=needle[0]\n",
    "\n",
    "# gen and post prosessing the syn image\n",
    "path_img='./images_notupload/'\n",
    "# generate the syn image\n",
    "path_syn,wmax,rneedle=gen_doplet_v3(sigma=sigma,volume0=volume0)\n",
    "\n",
    "# cut the white edge of syn image\n",
    "_,path_syn = crop_margin(io.imread(path_syn))\n",
    "\n",
    "# reshape the syn image to make sure the pixel of rneedle is equal to ori image\n",
    "img_syn=resize_synimg(Image.open(path_syn),wmax,r_pixel_ori=pixel_needle,r_syn=1)\n"
   ]
  },
  {
   "cell_type": "code",
   "execution_count": 7,
   "metadata": {},
   "outputs": [
    {
     "ename": "NameError",
     "evalue": "name 'img_syn' is not defined",
     "output_type": "error",
     "traceback": [
      "\u001b[0;31m---------------------------------------------------------------------------\u001b[0m",
      "\u001b[0;31mNameError\u001b[0m                                 Traceback (most recent call last)",
      "\u001b[1;32m/Users/yicheng/Library/CloudStorage/OneDrive-Personal/TU_eindhoven/Q6_Internship/Matlab2Python/Bayesian_PendantDrop_Tensiometry/adjust_parameter_v3_2parameters.ipynb Cell 9\u001b[0m in \u001b[0;36m<cell line: 1>\u001b[0;34m()\u001b[0m\n\u001b[0;32m----> <a href='vscode-notebook-cell:/Users/yicheng/Library/CloudStorage/OneDrive-Personal/TU_eindhoven/Q6_Internship/Matlab2Python/Bayesian_PendantDrop_Tensiometry/adjust_parameter_v3_2parameters.ipynb#X11sZmlsZQ%3D%3D?line=0'>1</a>\u001b[0m C,cost\u001b[39m=\u001b[39mcost_v3(img_ori,img_syn,output\u001b[39m=\u001b[39m\u001b[39m2\u001b[39m,width\u001b[39m=\u001b[39m\u001b[39m200\u001b[39m)\n\u001b[1;32m      <a href='vscode-notebook-cell:/Users/yicheng/Library/CloudStorage/OneDrive-Personal/TU_eindhoven/Q6_Internship/Matlab2Python/Bayesian_PendantDrop_Tensiometry/adjust_parameter_v3_2parameters.ipynb#X11sZmlsZQ%3D%3D?line=1'>2</a>\u001b[0m Image\u001b[39m.\u001b[39mfromarray(np\u001b[39m.\u001b[39muint8(C))\n",
      "\u001b[0;31mNameError\u001b[0m: name 'img_syn' is not defined"
     ]
    }
   ],
   "source": [
    "C,cost=cost_v3(img_ori,img_syn,output=2,width=200)\n",
    "Image.fromarray(np.uint8(C))"
   ]
  },
  {
   "attachments": {},
   "cell_type": "markdown",
   "metadata": {},
   "source": [
    "## Definite the obtimize funciton"
   ]
  },
  {
   "cell_type": "code",
   "execution_count": 5,
   "metadata": {},
   "outputs": [],
   "source": [
    "def obtimize_v3(sv,path_ori=os.path.abspath('./images_experiment/220304_miliq_T17.7_S73.04.png'), output=0):\n",
    "    '''\n",
    "    sv: initial guess of sigma and volume0 --> np.asarray((sigma,volume0))\n",
    "    path_ori: the path of droplet image\n",
    "    '''\n",
    "    sigma=sv[0]\n",
    "    v0=sv[1]\n",
    "\n",
    "    # pre prosessing the ori image\n",
    "    path_ori,needle=remove_needle_centering(Image.open(path_ori))\n",
    "    img_ori=Image.open(path_ori)\n",
    "    pixel_needle=needle[0]\n",
    "\n",
    "    # gen and post prosessing the syn image\n",
    "    path_img='./images_notupload/'\n",
    "    # generate the syn image\n",
    "    path_syn,wmax,rneedle=gen_doplet_v3(sigma=sigma,volume0=v0)\n",
    "\n",
    "    # cut the white edge of syn image\n",
    "    _,path_syn = crop_margin(io.imread(path_syn))\n",
    "\n",
    "    # resize the syn image to normalized the pixel of needle\n",
    "    img_syn=resize_synimg(Image.open(path_syn),wmax,r_pixel_ori=pixel_needle,r_syn=1)\n",
    "    if output == 0:\n",
    "        lost=cost_v3(img_ori,img_syn,output=output)\n",
    "        return lost\n",
    "    elif output == 1:\n",
    "        C=cost_v3(img_ori,img_syn,output=output)\n",
    "        return C\n",
    "    else:\n",
    "        C,lost=cost_v3(img_ori,img_syn,output=output)\n",
    "        return C,lost"
   ]
  },
  {
   "attachments": {},
   "cell_type": "markdown",
   "metadata": {},
   "source": [
    "## Start the optimization"
   ]
  },
  {
   "cell_type": "code",
   "execution_count": 6,
   "metadata": {},
   "outputs": [
    {
     "ename": "",
     "evalue": "",
     "output_type": "error",
     "traceback": [
      "\u001b[1;31mThe Kernel crashed while executing code in the the current cell or a previous cell. Please review the code in the cell(s) to identify a possible cause of the failure. Click <a href='https://aka.ms/vscodeJupyterKernelCrash'>here</a> for more info. View Jupyter <a href='command:jupyter.viewOutput'>log</a> for further details."
     ]
    },
    {
     "ename": "",
     "evalue": "",
     "output_type": "error",
     "traceback": [
      "\u001b[1;31mCanceled future for execute_request message before replies were done"
     ]
    }
   ],
   "source": [
    "import scipy.optimize\n",
    "# use scipy obtimaize the parameter\n",
    "x0=np.asarray((75,25))\n",
    "scipy.optimize.minimize(obtimize_v3,x0,method='nelder-mead')\n"
   ]
  },
  {
   "cell_type": "code",
   "execution_count": 14,
   "metadata": {},
   "outputs": [
    {
     "data": {
      "image/png": "[encoded data removed]",
      "text/plain": [
       "<PIL.Image.Image image mode=L size=100x100>"
      ]
     },
     "execution_count": 14,
     "metadata": {},
     "output_type": "execute_result"
    }
   ],
   "source": [
    "x=np.asarray((74.99995708, 10.00000381))\n",
    "C,lost=obtimize_v3(sv=x,output=2)\n",
    "Image.fromarray(np.uint8(C))\n"
   ]
  }
 ],
 "metadata": {
  "kernelspec": {
   "display_name": "Python 3",
   "language": "python",
   "name": "python3"
  },
  "language_info": {
   "codemirror_mode": {
    "name": "ipython",
    "version": 3
   },
   "file_extension": ".py",
   "mimetype": "text/x-python",
   "name": "python",
   "nbconvert_exporter": "python",
   "pygments_lexer": "ipython3",
   "version": "3.9.10"
  },
  "orig_nbformat": 4,
  "vscode": {
   "interpreter": {
    "hash": "aee8b7b246df8f9039afb4144a1f6fd8d2ca17a180786b69acc140d282b71a49"
   }
  }
 },
 "nbformat": 4,
 "nbformat_minor": 2
}
