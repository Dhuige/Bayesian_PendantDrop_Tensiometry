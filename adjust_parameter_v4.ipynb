{
 "cells": [
  {
   "cell_type": "code",
   "execution_count": 1,
   "metadata": {},
   "outputs": [],
   "source": [
    "import os\n",
    "import math as m\n",
    "from codes_gendrops_py.genSingleDrop import *\n",
    "from codes_gendrops_py.fit_circle_through_3_points import *\n",
    "import matplotlib.pyplot as plt\n",
    "import matplotlib.image as mpimg\n",
    "from pre_process_functions import *\n",
    "from PIL import Image\n",
    "import numpy as np"
   ]
  },
  {
   "attachments": {},
   "cell_type": "markdown",
   "metadata": {},
   "source": [
    "## Definite the pre processing functions"
   ]
  },
  {
   "cell_type": "code",
   "execution_count": 2,
   "metadata": {},
   "outputs": [],
   "source": [
    "def remove_needle_centering(img_ori,savepath='./images_notupload'):\n",
    "    '''img_ori=Image.open(path_ori)'''\n",
    "    w_ori,h_ori=img_ori.size\n",
    "\n",
    "    scaling_ori=300/w_ori # reshape the origin image to width 300\n",
    "\n",
    "    w_ori2=int(scaling_ori*w_ori)\n",
    "    h_ori2=int(scaling_ori*h_ori)\n",
    "\n",
    "    A=img2bw(ResizeImage(img_ori,w_ori2,h_ori2))\n",
    "\n",
    "    left_edge=np.zeros(w_ori2)\n",
    "    right_edge=np.zeros(w_ori2)\n",
    "    for i in range(h_ori2):\n",
    "        for j in range(w_ori2):\n",
    "            if A[i,j-1]>=125 and A[i,j]<125:\n",
    "                #print('Left position',i,j)\n",
    "                left_edge[i]=j\n",
    "            if A[i,j-1]<=125 and A[i,j]>125:\n",
    "                #print('Right position',i,j)\n",
    "                right_edge[i]=j\n",
    "\n",
    "    needle=np.abs(left_edge-right_edge)\n",
    "\n",
    "    end=0\n",
    "    for j in range(needle.shape[0]-1):\n",
    "        j=j+1\n",
    "        if end == 0:\n",
    "            if abs((needle[j]-needle[0])/needle[0])>0.05:\n",
    "                stopline=j\n",
    "                end=end+1\n",
    "    #print(stopline)\n",
    "\n",
    "    addpad=right_edge[stopline]-needle[stopline]/2-w_ori2/2\n",
    "\n",
    "    img_WON=np.zeros((h_ori2-stopline,w_ori2))\n",
    "    for i in range(h_ori2):\n",
    "        if i>=stopline:\n",
    "            img_WON[i-stopline,:]=A[i,:]\n",
    "    \n",
    "    h_won,w_won=img_WON.shape\n",
    "    \n",
    "    # centering\n",
    "    if addpad>0:\n",
    "        img_won=np.hstack( ( img_WON,np.ones((h_won,abs(int(addpad*4))))*255 ) )\n",
    "    elif addpad<0:\n",
    "        img_won=np.hstack( ( np.ones((h_won,abs(int(addpad*4))))*255,img_WON ) )\n",
    "    else:\n",
    "        img_won=img_WON\n",
    "\n",
    "    img=Image.fromarray(np.uint8(img_won))\n",
    "\n",
    "    path=savepath+\"/cut_needle_pixel_rn%.2f.png\" %(needle[0])\n",
    "    img.save(path)\n",
    "    return path,needle\n"
   ]
  },
  {
   "cell_type": "code",
   "execution_count": 3,
   "metadata": {},
   "outputs": [],
   "source": [
    "def gen_doplet_v3(sigma,volume0,rneedle=0.5,savepath='./images_notupload',output=1):\n",
    "    r_a,z_a=genSingleDrop(sigma=sigma,volume0=volume0,savepath=savepath,rneedle=rneedle,output=output)\n",
    "\n",
    "    path=savepath+\"/s%.2f_v%.2f_rn1_wmax_%.2f.jpg\" %(sigma, volume0, 2*max(abs(r_a)))\n",
    "\n",
    "    plt.fill_between(r_a,z_a,color='black')\n",
    "    plt.fill_between(-r_a,z_a,color='black')\n",
    "    plt.axis('equal')\n",
    "    plt.axis('off')\n",
    "    plt.savefig(path)\n",
    "    plt.close()\n",
    "\n",
    "    wmax=2*max(abs(r_a))\n",
    "    return path,wmax,rneedle"
   ]
  },
  {
   "cell_type": "code",
   "execution_count": 4,
   "metadata": {},
   "outputs": [],
   "source": [
    "def resize_synimg(img_syn,wmax,r_pixel_ori,r_syn=1):\n",
    "    '''img_ori=Image.open(path_ori)'''\n",
    "    w,h=img_syn.size\n",
    "    w_n=wmax/(2*r_syn)*50\n",
    "    scaling=w_n/w\n",
    "    h_n=scaling*h\n",
    "    new_syn=ResizeImage(img_syn,int(w_n),int(h_n))\n",
    "    return new_syn"
   ]
  },
  {
   "cell_type": "code",
   "execution_count": 5,
   "metadata": {},
   "outputs": [],
   "source": [
    "def cost_v3(img_ori,img_syn,width=100,output=0):\n",
    "    '''\n",
    "    input:              \n",
    "    x:                the origin point of synthetic image\n",
    "    img_syn,img_ori:    the images that need to calculate the cost \n",
    "                        should be valued by 'Image.open(path)'\n",
    "    K:                  the scaling of synthethic image\n",
    "    output: 0 -->lost, 1-->C, else C,lost\n",
    "    '''\n",
    "    w_ori,h_ori=img_ori.size\n",
    "    w_syn,h_syn=img_syn.size\n",
    "    \n",
    "\n",
    "    scaling_ori=width/w_ori # reshape the origin image to width\n",
    "    w_ori2=int(scaling_ori*w_ori)\n",
    "    h_ori2=int(scaling_ori*h_ori)\n",
    "    scaling_syn=scaling_ori\n",
    "    w_syn2=int(scaling_syn*w_syn)\n",
    "    h_syn2=int(scaling_syn*h_syn)\n",
    "    x=int(abs((w_syn2-w_ori2)/2))\n",
    "\n",
    "    A=img2bw(ResizeImage(img_ori,w_ori2,h_ori2))\n",
    "    one=np.ones((w_ori2-h_ori2,w_ori2))*255\n",
    "    A=np.row_stack((A,one))\n",
    "\n",
    "\n",
    "    B=img2bw(ResizeImage(img_syn,w_syn2,h_syn2))\n",
    "    C=np.zeros((w_ori2,w_ori2))\n",
    "\n",
    "    for i in range (w_ori2): # h\n",
    "        for j in range(w_ori2): # w\n",
    "            #print (h_ori2,w_ori2)\n",
    "            #print(i,j)\n",
    "            if j < x or j-x >= w_syn2 or i >= h_syn2 :\n",
    "                 C[i,j]=A[i,j]\n",
    "            else:\n",
    "                if  A[i,j]==B[i,j-x]: # B[i-y,j-x]\n",
    "                    C[i,j]=255\n",
    "                else:\n",
    "                    C[i,j]=0\n",
    "    \n",
    "    # pixel that same(T) different(F) and drop area\n",
    "    t=0; f=0; \n",
    "    #drop_ori=0; drop_gen=0 \n",
    "    for i in range (w_ori2):\n",
    "        for j in range(h_ori2):\n",
    "            if C[i,j]==0:\n",
    "                f=f+1\n",
    "            else:\n",
    "                t=t+1\n",
    "    lost=f/max(w_ori2*h_ori2,w_syn2*h_syn2)\n",
    "    accurancy=1-lost\n",
    "\n",
    "    if output == 0:\n",
    "        return lost\n",
    "    elif output == 1:\n",
    "        return C\n",
    "    else:\n",
    "        return C,lost"
   ]
  },
  {
   "attachments": {},
   "cell_type": "markdown",
   "metadata": {},
   "source": [
    "## Test the cost (Can be passed)"
   ]
  },
  {
   "cell_type": "code",
   "execution_count": 6,
   "metadata": {},
   "outputs": [
    {
     "data": {
      "image/png": "[encoded data removed]",
      "text/plain": [
       "<PIL.Image.Image image mode=L size=200x200>"
      ]
     },
     "execution_count": 6,
     "metadata": {},
     "output_type": "execute_result"
    }
   ],
   "source": [
    "sigma=100\n",
    "volume0=30\n",
    "# pre prosessing the ori image\n",
    "path_ori='./images_experiment/220304_miliq_T17.7_S73.04.png'\n",
    "path_ori,needle=remove_needle_centering(Image.open(path_ori))\n",
    "img_ori=Image.open(path_ori)\n",
    "pixel_needle=needle[0]\n",
    "\n",
    "# gen and post prosessing the syn image\n",
    "path_img='./images_notupload/'\n",
    "# generate the syn image\n",
    "path_syn,wmax,rneedle=gen_doplet_v3(sigma=sigma,volume0=volume0,rneedle=0.8)\n",
    "\n",
    "# cut the white edge of syn image\n",
    "_,path_syn = crop_margin(io.imread(path_syn))\n",
    "\n",
    "# reshape the syn image to make sure the pixel of rneedle is equal to ori image\n",
    "img_syn=resize_synimg(Image.open(path_syn),wmax,r_pixel_ori=pixel_needle,r_syn=1)\n",
    "\n",
    "C,cost=cost_v3(img_ori,img_syn,output=2,width=200)\n",
    "Image.fromarray(np.uint8(C))\n"
   ]
  },
  {
   "attachments": {},
   "cell_type": "markdown",
   "metadata": {},
   "source": [
    "## Definite the obtimize funciton"
   ]
  },
  {
   "cell_type": "code",
   "execution_count": 9,
   "metadata": {},
   "outputs": [],
   "source": [
    "def obtimize_v3(sv,path_ori=os.path.abspath('./images_experiment/220304_miliq_T17.7_S73.04.png'),output=0):\n",
    "    sigma=sv[0]\n",
    "    v0=sv[1]\n",
    "\n",
    "    # pre prosessing the ori image\n",
    "    path_ori,needle=remove_needle_centering(Image.open(path_ori))\n",
    "    img_ori=Image.open(path_ori)\n",
    "    pixel_needle=needle[0]\n",
    "\n",
    "    # gen and post prosessing the syn image\n",
    "    path_img='./images_notupload/'\n",
    "    # generate the syn image\n",
    "    path_syn,wmax,rneedle=gen_doplet_v3(sigma=sigma,volume0=v0)\n",
    "\n",
    "    # cut the white edge of syn image\n",
    "    _,path_syn = crop_margin(io.imread(path_syn))\n",
    "    img_syn=resize_synimg(Image.open(path_syn),wmax,r_pixel_ori=pixel_needle,r_syn=1)\n",
    "    if output==0:\n",
    "        lost=cost_v3(img_ori,img_syn,output=output)\n",
    "        return lost\n",
    "    elif output==1:\n",
    "        C=cost_v3(img_ori,img_syn,output=output)\n",
    "        return C\n",
    "    else :\n",
    "        C,lost=cost_v3(img_ori,img_syn,output=output)\n",
    "        return C, lost"
   ]
  },
  {
   "attachments": {},
   "cell_type": "markdown",
   "metadata": {},
   "source": [
    "## Start the optimization"
   ]
  },
  {
   "cell_type": "code",
   "execution_count": 15,
   "metadata": {},
   "outputs": [
    {
     "ename": "MemoryError",
     "evalue": "",
     "output_type": "error",
     "traceback": [
      "\u001b[1;31m---------------------------------------------------------------------------\u001b[0m",
      "\u001b[1;31mMemoryError\u001b[0m                               Traceback (most recent call last)",
      "Cell \u001b[1;32mIn [15], line 5\u001b[0m\n\u001b[0;32m      3\u001b[0m x0\u001b[39m=\u001b[39mnp\u001b[39m.\u001b[39masarray((\u001b[39m75\u001b[39m,\u001b[39m11\u001b[39m))\n\u001b[0;32m      4\u001b[0m \u001b[39m#sigma; v0; length_Ne,r_Ne; x,y; scaling_rate;\u001b[39;00m\n\u001b[1;32m----> 5\u001b[0m scipy\u001b[39m.\u001b[39;49moptimize\u001b[39m.\u001b[39;49mminimize(obtimize_v3,x0,method\u001b[39m=\u001b[39;49m\u001b[39m'\u001b[39;49m\u001b[39mnelder-mead\u001b[39;49m\u001b[39m'\u001b[39;49m)\n",
      "File \u001b[1;32m~\\AppData\\Local\\Packages\\PythonSoftwareFoundation.Python.3.10_qbz5n2kfra8p0\\LocalCache\\local-packages\\Python310\\site-packages\\scipy\\optimize\\_minimize.py:687\u001b[0m, in \u001b[0;36mminimize\u001b[1;34m(fun, x0, args, method, jac, hess, hessp, bounds, constraints, tol, callback, options)\u001b[0m\n\u001b[0;32m    684\u001b[0m     bounds \u001b[39m=\u001b[39m standardize_bounds(bounds, x0, meth)\n\u001b[0;32m    686\u001b[0m \u001b[39mif\u001b[39;00m meth \u001b[39m==\u001b[39m \u001b[39m'\u001b[39m\u001b[39mnelder-mead\u001b[39m\u001b[39m'\u001b[39m:\n\u001b[1;32m--> 687\u001b[0m     res \u001b[39m=\u001b[39m _minimize_neldermead(fun, x0, args, callback, bounds\u001b[39m=\u001b[39mbounds,\n\u001b[0;32m    688\u001b[0m                                \u001b[39m*\u001b[39m\u001b[39m*\u001b[39moptions)\n\u001b[0;32m    689\u001b[0m \u001b[39melif\u001b[39;00m meth \u001b[39m==\u001b[39m \u001b[39m'\u001b[39m\u001b[39mpowell\u001b[39m\u001b[39m'\u001b[39m:\n\u001b[0;32m    690\u001b[0m     res \u001b[39m=\u001b[39m _minimize_powell(fun, x0, args, callback, bounds, \u001b[39m*\u001b[39m\u001b[39m*\u001b[39moptions)\n",
      "File \u001b[1;32m~\\AppData\\Local\\Packages\\PythonSoftwareFoundation.Python.3.10_qbz5n2kfra8p0\\LocalCache\\local-packages\\Python310\\site-packages\\scipy\\optimize\\_optimize.py:797\u001b[0m, in \u001b[0;36m_minimize_neldermead\u001b[1;34m(func, x0, args, callback, maxiter, maxfev, disp, return_all, initial_simplex, xatol, fatol, adaptive, bounds, **unknown_options)\u001b[0m\n\u001b[0;32m    795\u001b[0m \u001b[39mif\u001b[39;00m bounds \u001b[39mis\u001b[39;00m \u001b[39mnot\u001b[39;00m \u001b[39mNone\u001b[39;00m:\n\u001b[0;32m    796\u001b[0m     xr \u001b[39m=\u001b[39m np\u001b[39m.\u001b[39mclip(xr, lower_bound, upper_bound)\n\u001b[1;32m--> 797\u001b[0m fxr \u001b[39m=\u001b[39m func(xr)\n\u001b[0;32m    798\u001b[0m doshrink \u001b[39m=\u001b[39m \u001b[39m0\u001b[39m\n\u001b[0;32m    800\u001b[0m \u001b[39mif\u001b[39;00m fxr \u001b[39m<\u001b[39m fsim[\u001b[39m0\u001b[39m]:\n",
      "File \u001b[1;32m~\\AppData\\Local\\Packages\\PythonSoftwareFoundation.Python.3.10_qbz5n2kfra8p0\\LocalCache\\local-packages\\Python310\\site-packages\\scipy\\optimize\\_optimize.py:496\u001b[0m, in \u001b[0;36m_wrap_scalar_function_maxfun_validation.<locals>.function_wrapper\u001b[1;34m(x, *wrapper_args)\u001b[0m\n\u001b[0;32m    494\u001b[0m ncalls[\u001b[39m0\u001b[39m] \u001b[39m+\u001b[39m\u001b[39m=\u001b[39m \u001b[39m1\u001b[39m\n\u001b[0;32m    495\u001b[0m \u001b[39m# A copy of x is sent to the user function (gh13740)\u001b[39;00m\n\u001b[1;32m--> 496\u001b[0m fx \u001b[39m=\u001b[39m function(np\u001b[39m.\u001b[39;49mcopy(x), \u001b[39m*\u001b[39;49m(wrapper_args \u001b[39m+\u001b[39;49m args))\n\u001b[0;32m    497\u001b[0m \u001b[39m# Ideally, we'd like to a have a true scalar returned from f(x). For\u001b[39;00m\n\u001b[0;32m    498\u001b[0m \u001b[39m# backwards-compatibility, also allow np.array([1.3]),\u001b[39;00m\n\u001b[0;32m    499\u001b[0m \u001b[39m# np.array([[1.3]]) etc.\u001b[39;00m\n\u001b[0;32m    500\u001b[0m \u001b[39mif\u001b[39;00m \u001b[39mnot\u001b[39;00m np\u001b[39m.\u001b[39misscalar(fx):\n",
      "Cell \u001b[1;32mIn [9], line 17\u001b[0m, in \u001b[0;36mobtimize_v3\u001b[1;34m(sv, path_ori, output)\u001b[0m\n\u001b[0;32m     15\u001b[0m \u001b[39m# cut the white edge of syn image\u001b[39;00m\n\u001b[0;32m     16\u001b[0m _,path_syn \u001b[39m=\u001b[39m crop_margin(io\u001b[39m.\u001b[39mimread(path_syn))\n\u001b[1;32m---> 17\u001b[0m img_syn\u001b[39m=\u001b[39mresize_synimg(Image\u001b[39m.\u001b[39;49mopen(path_syn),wmax,r_pixel_ori\u001b[39m=\u001b[39;49mpixel_needle,r_syn\u001b[39m=\u001b[39;49m\u001b[39m1\u001b[39;49m)\n\u001b[0;32m     18\u001b[0m \u001b[39mif\u001b[39;00m output\u001b[39m==\u001b[39m\u001b[39m0\u001b[39m:\n\u001b[0;32m     19\u001b[0m     lost\u001b[39m=\u001b[39mcost_v3(img_ori,img_syn,output\u001b[39m=\u001b[39moutput)\n",
      "Cell \u001b[1;32mIn [4], line 7\u001b[0m, in \u001b[0;36mresize_synimg\u001b[1;34m(img_syn, wmax, r_pixel_ori, r_syn)\u001b[0m\n\u001b[0;32m      5\u001b[0m scaling\u001b[39m=\u001b[39mw_n\u001b[39m/\u001b[39mw\n\u001b[0;32m      6\u001b[0m h_n\u001b[39m=\u001b[39mscaling\u001b[39m*\u001b[39mh\n\u001b[1;32m----> 7\u001b[0m new_syn\u001b[39m=\u001b[39mResizeImage(img_syn,\u001b[39mint\u001b[39;49m(w_n),\u001b[39mint\u001b[39;49m(h_n))\n\u001b[0;32m      8\u001b[0m \u001b[39mreturn\u001b[39;00m new_syn\n",
      "File \u001b[1;32md:\\OneDrive\\Documents\\GitHub\\Bayesian_PendantDrop_Tensiometry\\pre_process_functions.py:12\u001b[0m, in \u001b[0;36mResizeImage\u001b[1;34m(filein, width, height)\u001b[0m\n\u001b[0;32m     11\u001b[0m \u001b[39mdef\u001b[39;00m \u001b[39mResizeImage\u001b[39m(filein,width,height):\n\u001b[1;32m---> 12\u001b[0m     fileout\u001b[39m=\u001b[39mfilein\u001b[39m.\u001b[39;49mresize((width,height),Image\u001b[39m.\u001b[39;49mResampling\u001b[39m.\u001b[39;49mLANCZOS)\n\u001b[0;32m     13\u001b[0m     \u001b[39mreturn\u001b[39;00m fileout\n",
      "File \u001b[1;32m~\\AppData\\Local\\Packages\\PythonSoftwareFoundation.Python.3.10_qbz5n2kfra8p0\\LocalCache\\local-packages\\Python310\\site-packages\\PIL\\Image.py:2115\u001b[0m, in \u001b[0;36mImage.resize\u001b[1;34m(self, size, resample, box, reducing_gap)\u001b[0m\n\u001b[0;32m   2107\u001b[0m             \u001b[39mself\u001b[39m \u001b[39m=\u001b[39m Image\u001b[39m.\u001b[39mreduce(\u001b[39mself\u001b[39m, factor, box\u001b[39m=\u001b[39mreduce_box)\n\u001b[0;32m   2108\u001b[0m         box \u001b[39m=\u001b[39m (\n\u001b[0;32m   2109\u001b[0m             (box[\u001b[39m0\u001b[39m] \u001b[39m-\u001b[39m reduce_box[\u001b[39m0\u001b[39m]) \u001b[39m/\u001b[39m factor_x,\n\u001b[0;32m   2110\u001b[0m             (box[\u001b[39m1\u001b[39m] \u001b[39m-\u001b[39m reduce_box[\u001b[39m1\u001b[39m]) \u001b[39m/\u001b[39m factor_y,\n\u001b[0;32m   2111\u001b[0m             (box[\u001b[39m2\u001b[39m] \u001b[39m-\u001b[39m reduce_box[\u001b[39m0\u001b[39m]) \u001b[39m/\u001b[39m factor_x,\n\u001b[0;32m   2112\u001b[0m             (box[\u001b[39m3\u001b[39m] \u001b[39m-\u001b[39m reduce_box[\u001b[39m1\u001b[39m]) \u001b[39m/\u001b[39m factor_y,\n\u001b[0;32m   2113\u001b[0m         )\n\u001b[1;32m-> 2115\u001b[0m \u001b[39mreturn\u001b[39;00m \u001b[39mself\u001b[39m\u001b[39m.\u001b[39m_new(\u001b[39mself\u001b[39;49m\u001b[39m.\u001b[39;49mim\u001b[39m.\u001b[39;49mresize(size, resample, box))\n",
      "\u001b[1;31mMemoryError\u001b[0m: "
     ]
    }
   ],
   "source": [
    "import scipy.optimize\n",
    "# use scipy obtimaize the parameter\n",
    "x0=np.asarray((75,11))\n",
    "#sigma; v0; length_Ne,r_Ne; x,y; scaling_rate;\n",
    "scipy.optimize.minimize(obtimize_v3,x0,method='nelder-mead')"
   ]
  },
  {
   "cell_type": "code",
   "execution_count": 13,
   "metadata": {},
   "outputs": [
    {
     "data": {
      "image/png": "[encoded data removed]",
      "text/plain": [
       "<PIL.Image.Image image mode=L size=100x100>"
      ]
     },
     "execution_count": 13,
     "metadata": {},
     "output_type": "execute_result"
    }
   ],
   "source": [
    "x=np.asarray((73,16))\n",
    "C,lost=obtimize_v3(sv=x,output=2)\n",
    "Image.fromarray(np.uint8(C))\n"
   ]
  }
 ],
 "metadata": {
  "kernelspec": {
   "display_name": "Python 3",
   "language": "python",
   "name": "python3"
  },
  "language_info": {
   "codemirror_mode": {
    "name": "ipython",
    "version": 3
   },
   "file_extension": ".py",
   "mimetype": "text/x-python",
   "name": "python",
   "nbconvert_exporter": "python",
   "pygments_lexer": "ipython3",
   "version": "3.10.9"
  },
  "orig_nbformat": 4,
  "vscode": {
   "interpreter": {
    "hash": "60437aad8983babfce94e0da8b300c92c022ccf7e7dbddf7a08c08f7ecf8beba"
   }
  }
 },
 "nbformat": 4,
 "nbformat_minor": 2
}
