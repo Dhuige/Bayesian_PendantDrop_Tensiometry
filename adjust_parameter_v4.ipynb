{
 "cells": [
  {
   "cell_type": "code",
   "execution_count": 1,
   "metadata": {},
   "outputs": [],
   "source": [
    "import os\n",
    "import math as m\n",
    "from codes_gendrops_py.genSingleDrop import *\n",
    "from codes_gendrops_py.fit_circle_through_3_points import *\n",
    "import matplotlib.pyplot as plt\n",
    "import matplotlib.image as mpimg\n",
    "from pre_process_functions import *\n",
    "from PIL import Image\n",
    "import numpy as np"
   ]
  },
  {
   "attachments": {},
   "cell_type": "markdown",
   "metadata": {},
   "source": [
    "## Definite the pre processing functions"
   ]
  },
  {
   "cell_type": "code",
   "execution_count": 2,
   "metadata": {},
   "outputs": [],
   "source": [
    "def gen_doplet_v4(sigma,volume0,rneedle=0.5,savepath='./images_notupload',save=True):\n",
    "    r_a,z_a=genSingleDrop(sigma=sigma,volume0=volume0,savepath=savepath,rneedle=rneedle,output=1)\n",
    "\n",
    "    path=savepath+\"/s%.2f_v%.2f_rn1_wmax_%.2f.jpg\" %(sigma, volume0, 2*max(abs(r_a)))\n",
    "\n",
    "    plt.fill_between(r_a,z_a,color='black')\n",
    "    plt.fill_between(-r_a,z_a,color='black')\n",
    "    plt.axis('equal')\n",
    "    plt.axis('off')\n",
    "    plt.savefig(path)\n",
    "    plt.close()\n",
    "\n",
    "    wmax=2*max(abs(r_a))\n",
    "    return path,wmax,rneedle"
   ]
  },
  {
   "cell_type": "code",
   "execution_count": 7,
   "metadata": {},
   "outputs": [],
   "source": [
    "def remove_needle_centering(img_ori,savepath='./images_notupload'):\n",
    "    '''img_ori=Image.open(path_ori)'''\n",
    "    w_ori,h_ori=img_ori.size\n",
    "\n",
    "    scaling_ori=300/w_ori # reshape the origin image to width 300\n",
    "\n",
    "    w_ori2=int(scaling_ori*w_ori)\n",
    "    h_ori2=int(scaling_ori*h_ori)\n",
    "\n",
    "    A=img2bw(ResizeImage(img_ori,w_ori2,h_ori2))\n",
    "\n",
    "    left_edge=np.zeros(w_ori2)\n",
    "    right_edge=np.zeros(w_ori2)\n",
    "    for i in range(h_ori2):\n",
    "        for j in range(w_ori2):\n",
    "            if A[i,j-1]>=125 and A[i,j]<125:\n",
    "                #print('Left position',i,j)\n",
    "                left_edge[i]=j\n",
    "            if A[i,j-1]<=125 and A[i,j]>125:\n",
    "                #print('Right position',i,j)\n",
    "                right_edge[i]=j\n",
    "\n",
    "    needle=np.abs(left_edge-right_edge)\n",
    "\n",
    "    end=0\n",
    "    for j in range(needle.shape[0]-1):\n",
    "        j=j+1\n",
    "        if end == 0:\n",
    "            if abs((needle[j]-needle[0])/needle[0])>0.05:\n",
    "                stopline=j\n",
    "                end=end+1\n",
    "    #print(stopline)\n",
    "\n",
    "    addpad=right_edge[stopline]-needle[stopline]/2-w_ori2/2\n",
    "\n",
    "    img_WON=np.zeros((h_ori2-stopline,w_ori2))\n",
    "    for i in range(h_ori2):\n",
    "        if i>=stopline:\n",
    "            img_WON[i-stopline,:]=A[i,:]\n",
    "    \n",
    "    h_won,w_won=img_WON.shape\n",
    "    \n",
    "    # centering\n",
    "    if addpad>0:\n",
    "        img_won=np.hstack( ( img_WON,np.ones((h_won,abs(int(addpad*4))))*255 ) )\n",
    "    elif addpad<0:\n",
    "        img_won=np.hstack( ( np.ones((h_won,abs(int(addpad*4))))*255,img_WON ) )\n",
    "    else:\n",
    "        img_won=img_WON\n",
    "\n",
    "    img=Image.fromarray(np.uint8(img_won))\n",
    "\n",
    "    path=savepath+\"/cut_needle_pixel_rn%.2f.png\" %(needle[0])\n",
    "    img.save(path)\n",
    "    return path,needle\n"
   ]
  },
  {
   "cell_type": "code",
   "execution_count": 3,
   "metadata": {},
   "outputs": [],
   "source": [
    "def resize_synimg(img_syn,wmax,r_pixel_ori,r_syn=1):\n",
    "    '''img_ori=Image.open(path_ori)'''\n",
    "    w,h=img_syn.size\n",
    "    w_n=wmax/(2*r_syn)*50\n",
    "    scaling=w_n/w\n",
    "    h_n=scaling*h\n",
    "    new_syn=ResizeImage(img_syn,int(w_n),int(h_n))\n",
    "    return new_syn"
   ]
  },
  {
   "cell_type": "code",
   "execution_count": 4,
   "metadata": {},
   "outputs": [],
   "source": [
    "def cost_v3(img_ori,img_syn,width=100,output=0):\n",
    "    '''\n",
    "    input:              \n",
    "    x:                the origin point of synthetic image\n",
    "    img_syn,img_ori:    the images that need to calculate the cost \n",
    "                        should be valued by 'Image.open(path)'\n",
    "    K:                  the scaling of synthethic image\n",
    "    output: 0 -->lost, 1-->C, else C,lost\n",
    "    '''\n",
    "    w_ori,h_ori=img_ori.size\n",
    "    w_syn,h_syn=img_syn.size\n",
    "    \n",
    "\n",
    "    scaling_ori=width/w_ori # reshape the origin image to width\n",
    "    w_ori2=int(scaling_ori*w_ori)\n",
    "    h_ori2=int(scaling_ori*h_ori)\n",
    "    scaling_syn=scaling_ori\n",
    "    w_syn2=int(scaling_syn*w_syn)\n",
    "    h_syn2=int(scaling_syn*h_syn)\n",
    "    x=int(abs((w_syn2-w_ori2)/2))\n",
    "\n",
    "    A=img2bw(ResizeImage(img_ori,w_ori2,h_ori2))\n",
    "    one=np.ones((w_ori2-h_ori2,w_ori2))*255\n",
    "    A=np.row_stack((A,one))\n",
    "\n",
    "\n",
    "    B=img2bw(ResizeImage(img_syn,w_syn2,h_syn2))\n",
    "    C=np.zeros((w_ori2,w_ori2))\n",
    "\n",
    "    droplet=0\n",
    "    for i in range(w_ori2):\n",
    "        for j in range (h_ori2):\n",
    "            if A[i,j]==255:\n",
    "                droplet=droplet+1\n",
    "\n",
    "    for i in range (w_ori2): # h\n",
    "        for j in range(w_ori2): # w\n",
    "            #print (h_ori2,w_ori2)\n",
    "            #print(i,j)\n",
    "            if j < x or j-x >= w_syn2 or i >= h_syn2 :\n",
    "                 C[i,j]=A[i,j]\n",
    "            else:\n",
    "                if  A[i,j]==B[i,j-x]: # B[i-y,j-x]\n",
    "                    C[i,j]=255\n",
    "                else:\n",
    "                    C[i,j]=0\n",
    "    \n",
    "    # pixel that same(T) different(F) and drop area\n",
    "    t=0; f=0; \n",
    "    #drop_ori=0; drop_gen=0 \n",
    "    for i in range (w_ori2):\n",
    "        for j in range(h_ori2):\n",
    "            if C[i,j]==0:\n",
    "                f=f+1\n",
    "            else:\n",
    "                t=t+1\n",
    "    #lost=f/max(w_ori2*h_ori2,w_syn2*h_syn2)\n",
    "    \n",
    "    lost=f/droplet\n",
    "    accurancy=1-lost\n",
    "\n",
    "    if output == 0:\n",
    "        return lost\n",
    "    elif output == 1:\n",
    "        return C\n",
    "    else:\n",
    "        return C,lost"
   ]
  },
  {
   "attachments": {},
   "cell_type": "markdown",
   "metadata": {},
   "source": [
    "## Definite the obtimize funciton"
   ]
  },
  {
   "cell_type": "code",
   "execution_count": 5,
   "metadata": {},
   "outputs": [],
   "source": [
    "import time\n",
    "\n",
    "def obtimize_v3(sv,path_ori=os.path.abspath('./images_experiment/220304_miliq_T17.7_S73.04.png'),output=0):\n",
    "    start = time.time()\n",
    "    sigma=sv[0]\n",
    "    v0=sv[1]\n",
    "    # pre prosessing the ori image\n",
    "    path_ori,needle=remove_needle_centering(Image.open(path_ori))\n",
    "    img_ori=Image.open(path_ori)\n",
    "    pixel_needle=needle[0]\n",
    "\n",
    "    # gen and post prosessing the syn image\n",
    "    path_img='./images_notupload/'\n",
    "    # generate the syn image\n",
    "    path_syn,wmax,rneedle=gen_doplet_v4(sigma=sigma,volume0=v0)\n",
    "\n",
    "    # cut the white edge of syn image\n",
    "    _,path_syn = crop_margin(io.imread(path_syn))\n",
    "    img_syn=resize_synimg(Image.open(path_syn),wmax,r_pixel_ori=pixel_needle,r_syn=1)\n",
    "    end = time.time()\n",
    "    print('Obtimize Program execution time: ',end - start)\n",
    "    if output==0:\n",
    "        lost=cost_v3(img_ori,img_syn,output=output)\n",
    "        xs.append(sv)\n",
    "        losts.append(lost)\n",
    "        print(sv,lost)\n",
    "        return lost\n",
    "    elif output==1:\n",
    "        C=cost_v3(img_ori,img_syn,output=output)\n",
    "        return C\n",
    "    else :\n",
    "        C,lost=cost_v3(img_ori,img_syn,output=output)\n",
    "        return C, lost"
   ]
  },
  {
   "attachments": {},
   "cell_type": "markdown",
   "metadata": {},
   "source": [
    "## Start the optimization"
   ]
  },
  {
   "cell_type": "code",
   "execution_count": 8,
   "metadata": {},
   "outputs": [
    {
     "name": "stdout",
     "output_type": "stream",
     "text": [
      "Gen Image Program execution time:  13.012728691101074\n",
      "Obtimize Program execution time:  13.448765754699707\n",
      "[75. 11.] 0.09663279537756525\n",
      "Gen Image Program execution time:  12.582399845123291\n",
      "Obtimize Program execution time:  13.003448486328125\n",
      "[78.75 11.  ] 0.10380553895198247\n",
      "Gen Image Program execution time:  11.797300338745117\n",
      "Obtimize Program execution time:  12.217232465744019\n",
      "[75.   11.55] 0.08866308029487946\n",
      "Gen Image Program execution time:  14.047424793243408\n",
      "Obtimize Program execution time:  14.478912353515625\n",
      "[71.25 11.55] 0.09065550906555091\n",
      "Gen Image Program execution time:  8.944847583770752\n",
      "Obtimize Program execution time:  9.36808705329895\n",
      "[71.25 12.1 ] 0.07790396493325363\n",
      "Gen Image Program execution time:  13.995304584503174\n",
      "Obtimize Program execution time:  14.421659231185913\n",
      "[69.375 12.65 ] 0.06415620641562064\n",
      "Gen Image Program execution time:  4.627082347869873\n",
      "Obtimize Program execution time:  5.065328121185303\n",
      "[73.125 12.65 ] 0.07053197848176927\n",
      "Gen Image Program execution time:  14.729096412658691\n",
      "Obtimize Program execution time:  15.159971237182617\n",
      "[67.5  13.75] 0.0368599322574218\n",
      "Gen Image Program execution time:  10.467436790466309\n",
      "Obtimize Program execution time:  10.90565824508667\n",
      "[63.75 14.85] 0.03486750348675035\n",
      "Gen Image Program execution time:  8.290213823318481\n",
      "Obtimize Program execution time:  8.740037441253662\n",
      "[60.   14.85] 0.07192667862123929\n",
      "Gen Image Program execution time:  14.324413776397705\n",
      "Obtimize Program execution time:  14.76894736289978\n",
      "[69.84375 13.2    ] 0.04941223351265192\n",
      "Gen Image Program execution time:  5.088085412979126\n",
      "Obtimize Program execution time:  5.518800735473633\n",
      "[64.21875 15.4    ] 0.05578800557880056\n",
      "Gen Image Program execution time:  9.825908899307251\n",
      "Obtimize Program execution time:  10.253332138061523\n",
      "[65.5078125 14.7125   ] 0.030683403068340307\n",
      "Gen Image Program execution time:  0.8073875904083252\n",
      "Obtimize Program execution time:  2.6770026683807373\n",
      "[59.4140625 16.3625   ] 0.4146244271767284\n",
      "Gen Image Program execution time:  11.682600259780884\n",
      "Obtimize Program execution time:  12.127454996109009\n",
      "[67.23632812 13.990625  ] 0.03187886033074318\n",
      "Gen Image Program execution time:  7.755329132080078\n",
      "Obtimize Program execution time:  8.17971396446228\n",
      "[68.99414062 13.853125  ] 0.038055389519824664\n",
      "Gen Image Program execution time:  14.008303880691528\n",
      "Obtimize Program execution time:  14.433910131454468\n",
      "[65.06103516 14.60078125] 0.030284917314206017\n",
      "Gen Image Program execution time:  5.591220140457153\n",
      "Obtimize Program execution time:  6.024367094039917\n",
      "[63.33251953 15.32265625] 0.056983462841203425\n",
      "Gen Image Program execution time:  8.21845030784607\n",
      "Obtimize Program execution time:  8.704937219619751\n",
      "[66.26037598 14.32363281] 0.02251444510858737\n",
      "Gen Image Program execution time:  15.168056011199951\n",
      "Obtimize Program execution time:  15.60827112197876\n",
      "[65.81359863 14.21191406] 0.02908946005180315\n",
      "Gen Image Program execution time:  4.051445245742798\n",
      "Obtimize Program execution time:  4.484742641448975\n",
      "[67.01293945 13.93476563] 0.03785614664275752\n",
      "Gen Image Program execution time:  8.737475156784058\n",
      "Obtimize Program execution time:  9.165387868881226\n",
      "[65.54901123 14.43427734] 0.023311416616855946\n",
      "Gen Image Program execution time:  14.31184697151184\n",
      "Obtimize Program execution time:  14.741117000579834\n",
      "[65.99578857 14.54599609] 0.022912930862721656\n",
      "Gen Image Program execution time:  4.231232166290283\n",
      "Obtimize Program execution time:  4.673982381820679\n",
      "[66.70715332 14.43535156] 0.02251444510858737\n",
      "Gen Image Program execution time:  8.442076206207275\n",
      "Obtimize Program execution time:  8.865600824356079\n",
      "[66.97174072 14.21298828] 0.02470611675632596\n",
      "Gen Image Program execution time:  15.400983810424805\n",
      "Obtimize Program execution time:  15.952727556228638\n",
      "[66.23977661 14.46274414] 0.023311416616855946\n",
      "Gen Image Program execution time:  3.4210002422332764\n",
      "Obtimize Program execution time:  3.8528997898101807\n",
      "[66.48376465 14.37949219] 0.02251444510858737\n",
      "Gen Image Program execution time:  9.507645845413208\n",
      "Obtimize Program execution time:  9.941451787948608\n",
      "[66.12808228 14.43481445] 0.023311416616855946\n",
      "Gen Image Program execution time:  14.30213451385498\n",
      "Obtimize Program execution time:  14.74226450920105\n",
      "[66.61605835 14.26831055] 0.026100816895795974\n",
      "Gen Image Program execution time:  3.5226871967315674\n",
      "Obtimize Program execution time:  3.955064535140991\n",
      "[66.25007629 14.39318848] 0.02251444510858737\n",
      "Gen Image Program execution time:  8.424413681030273\n",
      "Obtimize Program execution time:  8.848347663879395\n",
      "[66.49406433 14.30993652] 0.027296274158198845\n",
      "Gen Image Program execution time:  14.219762325286865\n",
      "Obtimize Program execution time:  14.652709245681763\n",
      "[66.3110733  14.37237549] 0.02251444510858737\n",
      "Gen Image Program execution time:  4.588764190673828\n",
      "Obtimize Program execution time:  5.03989315032959\n",
      "[66.37207031 14.3515625 ] 0.02251444510858737\n",
      "Gen Image Program execution time:  10.987423181533813\n",
      "Obtimize Program execution time:  11.412282466888428\n",
      "[66.25522614 14.35841064] 0.02251444510858737\n",
      "Gen Image Program execution time:  14.53308391571045\n",
      "Obtimize Program execution time:  14.973804712295532\n",
      "[66.37722015 14.31678467] 0.028093245666467422\n",
      "Gen Image Program execution time:  4.471638202667236\n",
      "Obtimize Program execution time:  4.89418625831604\n",
      "[66.28572464 14.34800415] 0.02251444510858737\n",
      "Gen Image Program execution time:  14.700018167495728\n",
      "Obtimize Program execution time:  15.136224031448364\n",
      "[66.31622314 14.33759766] 0.02251444510858737\n",
      "Gen Image Program execution time:  8.033591985702515\n",
      "Obtimize Program execution time:  8.457038640975952\n",
      "[66.25780106 14.34102173] 0.02251444510858737\n",
      "Gen Image Program execution time:  10.015930414199829\n",
      "Obtimize Program execution time:  10.441487550735474\n",
      "[66.31879807 14.32020874] 0.02211595935445308\n",
      "Gen Image Program execution time:  15.463829755783081\n",
      "Obtimize Program execution time:  15.896614789962769\n",
      "[66.34929657 14.30980225] 0.028093245666467422\n",
      "Gen Image Program execution time:  5.285124063491821\n",
      "Obtimize Program execution time:  5.710990905761719\n",
      "[66.2629509 14.3062439] 0.02211595935445308\n",
      "Gen Image Program execution time:  15.071903944015503\n",
      "Obtimize Program execution time:  15.530042886734009\n",
      "[66.32137299 14.30281982] 0.028093245666467422\n",
      "Gen Image Program execution time:  6.98455810546875\n",
      "Obtimize Program execution time:  7.4193642139434814\n",
      "[66.27562523 14.31842957] 0.02251444510858737\n",
      "Gen Image Program execution time:  10.498568773269653\n",
      "Obtimize Program execution time:  10.930885076522827\n",
      "[66.29087448 14.31322632] 0.02211595935445308\n",
      "Gen Image Program execution time:  14.468971014022827\n",
      "Obtimize Program execution time:  14.901586294174194\n",
      "[66.28958702 14.32192078] 0.02251444510858737\n",
      "Gen Image Program execution time:  3.458092212677002\n",
      "Obtimize Program execution time:  3.8986310958862305\n",
      "[66.32008553 14.31151428] 0.02211595935445308\n",
      "Gen Image Program execution time:  12.546156644821167\n",
      "Obtimize Program execution time:  12.984406471252441\n",
      "[66.3124609  14.31411591] 0.02211595935445308\n",
      "Gen Image Program execution time:  13.405685663223267\n",
      "Obtimize Program execution time:  13.853201150894165\n",
      "[66.29721165 14.31931915] 0.022315202231520222\n",
      "Gen Image Program execution time:  4.953226566314697\n",
      "Obtimize Program execution time:  5.387735843658447\n",
      "[66.30864859 14.31541672] 0.02211595935445308\n",
      "Gen Image Program execution time:  16.470122575759888\n",
      "Obtimize Program execution time:  16.91295862197876\n",
      "[66.30483627 14.31671753] 0.02211595935445308\n",
      "Gen Image Program execution time:  11.408730745315552\n",
      "Obtimize Program execution time:  11.870486497879028\n",
      "[66.31562948 14.31716232] 0.02211595935445308\n",
      "Gen Image Program execution time:  16.079342365264893\n",
      "Obtimize Program execution time:  16.519970655441284\n",
      "[66.30800486 14.31976395] 0.02211595935445308\n",
      "Gen Image Program execution time:  7.8287670612335205\n",
      "Obtimize Program execution time:  8.2875394821167\n",
      "[66.31372333 14.31781273] 0.02211595935445308\n",
      "Gen Image Program execution time:  14.993298053741455\n",
      "Obtimize Program execution time:  15.439209938049316\n",
      "[66.31181717 14.31846313] 0.02211595935445308\n",
      "Gen Image Program execution time:  9.875734090805054\n",
      "Obtimize Program execution time:  10.387059926986694\n",
      "[66.31721377 14.31868553] 0.02211595935445308\n",
      "Gen Image Program execution time:  14.471122026443481\n",
      "Obtimize Program execution time:  14.89672565460205\n",
      "[66.31340146 14.31998634] 0.02211595935445308\n",
      "Gen Image Program execution time:  9.18824052810669\n",
      "Obtimize Program execution time:  9.614965200424194\n",
      "[66.3162607  14.31901073] 0.02211595935445308\n",
      "Gen Image Program execution time:  8.458197832107544\n",
      "Obtimize Program execution time:  8.887630224227905\n",
      "[66.31530762 14.31933594] 0.02211595935445308\n",
      "Gen Image Program execution time:  17.070343732833862\n",
      "Obtimize Program execution time:  17.508705854415894\n",
      "[66.31800592 14.31944714] 0.02211595935445308\n",
      "Gen Image Program execution time:  9.607712030410767\n",
      "Obtimize Program execution time:  10.041923999786377\n",
      "[66.31609976 14.32009754] 0.02211595935445308\n",
      "Gen Image Program execution time:  15.440097570419312\n",
      "Obtimize Program execution time:  15.878886699676514\n",
      "[66.31752938 14.31960974] 0.02211595935445308\n",
      "Gen Image Program execution time:  11.262182712554932\n",
      "Obtimize Program execution time:  11.692278385162354\n",
      "[66.31705284 14.31977234] 0.02211595935445308\n",
      "Gen Image Program execution time:  14.576539993286133\n",
      "Obtimize Program execution time:  15.005351781845093\n",
      "[66.31840199 14.31982794] 0.02211595935445308\n",
      "Gen Image Program execution time:  9.332164764404297\n",
      "Obtimize Program execution time:  9.768126726150513\n",
      "[66.31744891 14.32015314] 0.02211595935445308\n",
      "Gen Image Program execution time:  14.370444297790527\n",
      "Obtimize Program execution time:  14.795568943023682\n",
      "[66.31816372 14.31990924] 0.02211595935445308\n",
      "Gen Image Program execution time:  12.749831914901733\n",
      "Obtimize Program execution time:  13.176583528518677\n",
      "[66.31792545 14.31999054] 0.02211595935445308\n",
      "Gen Image Program execution time:  14.22345519065857\n",
      "Obtimize Program execution time:  14.67546558380127\n",
      "[66.31860003 14.32001834] 0.02211595935445308\n",
      "Gen Image Program execution time:  12.837154150009155\n",
      "Obtimize Program execution time:  13.267659425735474\n",
      "[66.31812349 14.32018094] 0.02211595935445308\n",
      "Gen Image Program execution time:  13.461880922317505\n",
      "Obtimize Program execution time:  13.911983728408813\n",
      "[66.31848089 14.32005899] 0.02211595935445308\n",
      "Gen Image Program execution time:  11.186355829238892\n",
      "Obtimize Program execution time:  11.613970756530762\n",
      "[66.31836176 14.32009964] 0.02211595935445308\n",
      "Gen Image Program execution time:  14.12410306930542\n",
      "Obtimize Program execution time:  14.578341245651245\n",
      "[66.31869905 14.32011354] 0.02211595935445308\n",
      "Gen Image Program execution time:  9.288856744766235\n",
      "Obtimize Program execution time:  9.714436531066895\n",
      "[66.31846078 14.32019484] 0.02211595935445308\n",
      "Gen Image Program execution time:  14.868006944656372\n",
      "Obtimize Program execution time:  15.304157972335815\n",
      "[66.31863948 14.32013386] 0.02211595935445308\n",
      "Gen Image Program execution time:  14.579249620437622\n",
      "Obtimize Program execution time:  15.018098592758179\n",
      "[66.31857991 14.32015419] 0.02211595935445308\n",
      "Gen Image Program execution time:  14.456950664520264\n",
      "Obtimize Program execution time:  14.884494543075562\n",
      "[66.31874856 14.32016114] 0.02211595935445308\n",
      "Gen Image Program execution time:  14.942314863204956\n",
      "Obtimize Program execution time:  15.382218360900879\n",
      "[66.31862942 14.32020179] 0.02211595935445308\n",
      "Gen Image Program execution time:  21.294044494628906\n",
      "Obtimize Program execution time:  21.749807119369507\n",
      "[66.31871877 14.3201713 ] 0.02211595935445308\n",
      "Gen Image Program execution time:  14.710349082946777\n",
      "Obtimize Program execution time:  15.159717559814453\n",
      "[66.31868899 14.32018147] 0.02211595935445308\n",
      "Gen Image Program execution time:  14.373624801635742\n",
      "Obtimize Program execution time:  14.823790550231934\n",
      "[66.31877331 14.32018494] 0.02211595935445308\n",
      "Gen Image Program execution time:  14.403207063674927\n",
      "Obtimize Program execution time:  14.831375360488892\n",
      "[66.31871374 14.32020527] 0.02211595935445308\n",
      "Gen Image Program execution time:  14.68130350112915\n",
      "Obtimize Program execution time:  15.124157905578613\n",
      "[66.31875842 14.32019002] 0.02211595935445308\n",
      "Gen Image Program execution time:  11.937835693359375\n",
      "Obtimize Program execution time:  12.375001430511475\n",
      "[66.31874353 14.3201951 ] 0.02211595935445308\n",
      "Gen Image Program execution time:  16.356454372406006\n",
      "Obtimize Program execution time:  16.790279150009155\n",
      "[66.31878569 14.32019684] 0.02211595935445308\n"
     ]
    }
   ],
   "source": [
    "import scipy.optimize\n",
    "# use scipy obtimaize the parameter\n",
    "xs=[]\n",
    "losts=[]\n",
    "x0=np.asarray((75,11))\n",
    "#sigma; v0; length_Ne,r_Ne; x,y; scaling_rate;\n",
    "res=scipy.optimize.minimize(obtimize_v3,x0,method='nelder-mead',options={'maxiter':50})"
   ]
  },
  {
   "cell_type": "code",
   "execution_count": 55,
   "metadata": {},
   "outputs": [
    {
     "name": "stdout",
     "output_type": "stream",
     "text": [
      " final_simplex: (array([[66.31879807, 14.32020874],\n",
      "       [66.31874353, 14.3201951 ],\n",
      "       [66.31878569, 14.32019684]]), array([0.02211596, 0.02211596, 0.02211596]))\n",
      "           fun: 0.02211595935445308\n",
      "       message: 'Optimization terminated successfully.'\n",
      "          nfev: 83\n",
      "           nit: 31\n",
      "        status: 0\n",
      "       success: True\n",
      "             x: array([66.31879807, 14.32020874])\n"
     ]
    }
   ],
   "source": [
    "print(res)"
   ]
  },
  {
   "cell_type": "code",
   "execution_count": 64,
   "metadata": {},
   "outputs": [
    {
     "data": {
      "text/plain": [
       "[<matplotlib.lines.Line2D at 0x21dcb01ae30>]"
      ]
     },
     "execution_count": 64,
     "metadata": {},
     "output_type": "execute_result"
    },
    {
     "data": {
      "image/png": "[encoded data removed]",
      "text/plain": [
       "<Figure size 640x480 with 1 Axes>"
      ]
     },
     "metadata": {},
     "output_type": "display_data"
    }
   ],
   "source": [
    "arxs=np.asarray(xs)\n",
    "plt.plot(arxs[:,0],arxs[:,1])\n"
   ]
  },
  {
   "cell_type": "code",
   "execution_count": 63,
   "metadata": {},
   "outputs": [
    {
     "data": {
      "text/plain": [
       "[<matplotlib.lines.Line2D at 0x21dcb22ea40>]"
      ]
     },
     "execution_count": 63,
     "metadata": {},
     "output_type": "execute_result"
    },
    {
     "data": {
      "image/png": "[encoded data removed]",
      "text/plain": [
       "<Figure size 640x480 with 1 Axes>"
      ]
     },
     "metadata": {},
     "output_type": "display_data"
    }
   ],
   "source": [
    "plt.plot(losts)\n"
   ]
  },
  {
   "cell_type": "code",
   "execution_count": 13,
   "metadata": {},
   "outputs": [
    {
     "data": {
      "image/png": "[encoded data removed]",
      "text/plain": [
       "<PIL.Image.Image image mode=L size=100x100>"
      ]
     },
     "execution_count": 13,
     "metadata": {},
     "output_type": "execute_result"
    }
   ],
   "source": [
    "x=np.asarray((73,16))\n",
    "C,lost=obtimize_v3(sv=x,output=2)\n",
    "Image.fromarray(np.uint8(C))"
   ]
  },
  {
   "attachments": {},
   "cell_type": "markdown",
   "metadata": {},
   "source": [
    "# Path 2 matrix test"
   ]
  },
  {
   "cell_type": "code",
   "execution_count": 47,
   "metadata": {},
   "outputs": [
    {
     "name": "stdout",
     "output_type": "stream",
     "text": [
      "Program execution time:  10.706544876098633\n",
      "Obtimize Program execution time:  11.1056489944458\n",
      "7100 182 5019 0.03626220362622036 0.02563380281690141\n"
     ]
    },
    {
     "data": {
      "image/png": "[encoded data removed]",
      "text/plain": [
       "<PIL.Image.Image image mode=L size=100x100>"
      ]
     },
     "execution_count": 47,
     "metadata": {},
     "output_type": "execute_result"
    }
   ],
   "source": [
    "x=np.asarray((73,16))\n",
    "C,lost=obtimize_v3(sv=x,output=2)\n",
    "Image.fromarray(np.uint8(C))"
   ]
  },
  {
   "cell_type": "code",
   "execution_count": 3,
   "metadata": {},
   "outputs": [],
   "source": [
    "path_ori=os.path.abspath('./images_experiment/220304_miliq_T17.7_S73.04.png')\n",
    "img=Image.open(path_ori)"
   ]
  },
  {
   "cell_type": "code",
   "execution_count": 17,
   "metadata": {},
   "outputs": [],
   "source": [
    "from matplotlib.backends.backend_agg import FigureCanvasAgg\n",
    "import PIL.Image as Image\n",
    "\n",
    "sigma=75\n",
    "volume0=16\n",
    "rneedle=0.5\n",
    "savepath='./images_notupload'\n",
    "output=1\n"
   ]
  },
  {
   "cell_type": "code",
   "execution_count": 18,
   "metadata": {},
   "outputs": [
    {
     "name": "stdout",
     "output_type": "stream",
     "text": [
      "Program execution time:  24.919654369354248\n"
     ]
    }
   ],
   "source": [
    "r_a,z_a=genSingleDrop(sigma=sigma,volume0=volume0,savepath=savepath,rneedle=rneedle,output=output)"
   ]
  },
  {
   "cell_type": "code",
   "execution_count": 39,
   "metadata": {},
   "outputs": [],
   "source": [
    "plt.fill_between(r_a,z_a,color='black')\n",
    "plt.fill_between(-r_a,z_a,color='black')\n",
    "plt.axis('equal')\n",
    "plt.axis('off')\n",
    "fig=plt.gcf()\n",
    "plt.close()\n",
    "\n",
    "fig.canvas.draw()\n",
    "rgba_buf = fig.canvas.buffer_rgba()\n",
    "(w,h) = fig.canvas.get_width_height()\n",
    "rgba_arr = np.frombuffer(rgba_buf, dtype=np.uint8).reshape((h,w,4))"
   ]
  },
  {
   "cell_type": "code",
   "execution_count": 35,
   "metadata": {},
   "outputs": [
    {
     "name": "stdout",
     "output_type": "stream",
     "text": [
      "Figure(640x480)\n"
     ]
    }
   ],
   "source": [
    "def plt2arr(fig):\n",
    "    fig.canvas.draw()\n",
    "    rgba_buf = fig.canvas.buffer_rgba()\n",
    "    (w,h) = fig.canvas.get_width_height()\n",
    "    rgba_arr = np.frombuffer(rgba_buf, dtype=np.uint8).reshape((h,w,4))\n",
    "    return rgba_arr"
   ]
  },
  {
   "cell_type": "code",
   "execution_count": 22,
   "metadata": {},
   "outputs": [
    {
     "ename": "AttributeError",
     "evalue": "'tuple' object has no attribute 'canvas'",
     "output_type": "error",
     "traceback": [
      "\u001b[1;31m---------------------------------------------------------------------------\u001b[0m",
      "\u001b[1;31mAttributeError\u001b[0m                            Traceback (most recent call last)",
      "Cell \u001b[1;32mIn [22], line 8\u001b[0m\n\u001b[0;32m      4\u001b[0m fig\u001b[39m=\u001b[39mplt\u001b[39m.\u001b[39maxis(\u001b[39m'\u001b[39m\u001b[39moff\u001b[39m\u001b[39m'\u001b[39m)\n\u001b[0;32m      6\u001b[0m \u001b[39m#plt.savefig(path)\u001b[39;00m\n\u001b[1;32m----> 8\u001b[0m fig\u001b[39m.\u001b[39;49mcanvas\u001b[39m.\u001b[39mdraw()\n\u001b[0;32m     10\u001b[0m \u001b[39m#w,h=canvas.get_width_height()\u001b[39;00m\n\u001b[0;32m     11\u001b[0m data \u001b[39m=\u001b[39m np\u001b[39m.\u001b[39mfrombuffer(fig\u001b[39m.\u001b[39mcanvas\u001b[39m.\u001b[39mtostring_rgb(), dtype\u001b[39m=\u001b[39mnp\u001b[39m.\u001b[39muint8)\n",
      "\u001b[1;31mAttributeError\u001b[0m: 'tuple' object has no attribute 'canvas'"
     ]
    },
    {
     "data": {
      "image/png": "[encoded data removed]",
      "text/plain": [
       "<Figure size 640x480 with 1 Axes>"
      ]
     },
     "metadata": {},
     "output_type": "display_data"
    }
   ],
   "source": [
    "\n",
    "#plt.savefig(path)\n",
    "\n",
    "fig.canvas.draw()\n",
    "\n",
    "#w,h=canvas.get_width_height()\n",
    "data = np.frombuffer(fig.canvas.tostring_rgb(), dtype=np.uint8)\n",
    "data = data.reshape(fig.canvas.get_width_height()[::-1] + (3,))\n",
    "\n",
    "plt.close()\n",
    "\n",
    "\n",
    "\n",
    "wmax=2*max(abs(r_a))"
   ]
  },
  {
   "cell_type": "code",
   "execution_count": null,
   "metadata": {},
   "outputs": [],
   "source": []
  }
 ],
 "metadata": {
  "kernelspec": {
   "display_name": "Python 3",
   "language": "python",
   "name": "python3"
  },
  "language_info": {
   "codemirror_mode": {
    "name": "ipython",
    "version": 3
   },
   "file_extension": ".py",
   "mimetype": "text/x-python",
   "name": "python",
   "nbconvert_exporter": "python",
   "pygments_lexer": "ipython3",
   "version": "3.10.9"
  },
  "orig_nbformat": 4,
  "vscode": {
   "interpreter": {
    "hash": "60437aad8983babfce94e0da8b300c92c022ccf7e7dbddf7a08c08f7ecf8beba"
   }
  }
 },
 "nbformat": 4,
 "nbformat_minor": 2
}
