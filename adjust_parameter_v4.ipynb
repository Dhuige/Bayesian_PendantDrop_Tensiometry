{
 "cells": [
  {
   "cell_type": "code",
   "execution_count": 1,
   "metadata": {},
   "outputs": [],
   "source": [
    "import os\n",
    "import math as m\n",
    "from codes_gendrops_py.genSingleDrop import *\n",
    "from codes_gendrops_py.fit_circle_through_3_points import *\n",
    "import matplotlib.pyplot as plt\n",
    "import matplotlib.image as mpimg\n",
    "from pre_process_functions import *\n",
    "from PIL import Image\n",
    "import numpy as np\n",
    "import time"
   ]
  },
  {
   "attachments": {},
   "cell_type": "markdown",
   "metadata": {},
   "source": [
    "## Definite the pre processing functions"
   ]
  },
  {
   "cell_type": "code",
   "execution_count": 2,
   "metadata": {},
   "outputs": [],
   "source": [
    "def gen_doplet_v4(sigma,volume0,rneedle=0.5,savepath='./images_notupload',save=True):\n",
    "    r_a,z_a=genSingleDrop(sigma=sigma,volume0=volume0,savepath=savepath,rneedle=rneedle,output=1)\n",
    "\n",
    "    path=savepath+\"/s%.2f_v%.2f_rn1_wmax_%.2f.jpg\" %(sigma, volume0, 2*max(abs(r_a)))\n",
    "\n",
    "    plt.fill_between(r_a,z_a,color='black')\n",
    "    plt.fill_between(-r_a,z_a,color='black')\n",
    "    plt.axis('equal')\n",
    "    plt.axis('off')\n",
    "    plt.savefig(path)\n",
    "    plt.close()\n",
    "\n",
    "    wmax=2*max(abs(r_a))\n",
    "    return path,wmax,rneedle"
   ]
  },
  {
   "cell_type": "code",
   "execution_count": 3,
   "metadata": {},
   "outputs": [],
   "source": [
    "def remove_needle_centering(img_ori,savepath='./images_notupload'):\n",
    "    '''img_ori=Image.open(path_ori)'''\n",
    "    w_ori,h_ori=img_ori.size\n",
    "\n",
    "    scaling_ori=300/w_ori # reshape the origin image to width 300\n",
    "\n",
    "    w_ori2=int(scaling_ori*w_ori)\n",
    "    h_ori2=int(scaling_ori*h_ori)\n",
    "\n",
    "    A=img2bw(ResizeImage(img_ori,w_ori2,h_ori2))\n",
    "\n",
    "    left_edge=np.zeros(w_ori2)\n",
    "    right_edge=np.zeros(w_ori2)\n",
    "    for i in range(h_ori2):\n",
    "        for j in range(w_ori2):\n",
    "            if A[i,j-1]>=125 and A[i,j]<125:\n",
    "                #print('Left position',i,j)\n",
    "                left_edge[i]=j\n",
    "            if A[i,j-1]<=125 and A[i,j]>125:\n",
    "                #print('Right position',i,j)\n",
    "                right_edge[i]=j\n",
    "\n",
    "    needle=np.abs(left_edge-right_edge)\n",
    "\n",
    "    end=0\n",
    "    for j in range(needle.shape[0]-1):\n",
    "        j=j+1\n",
    "        if end == 0:\n",
    "            if abs((needle[j]-needle[0])/needle[0])>0.05:\n",
    "                stopline=j\n",
    "                end=end+1\n",
    "    #print(stopline)\n",
    "\n",
    "    addpad=right_edge[stopline]-needle[stopline]/2-w_ori2/2\n",
    "\n",
    "    img_WON=np.zeros((h_ori2-stopline,w_ori2))\n",
    "    for i in range(h_ori2):\n",
    "        if i>=stopline:\n",
    "            img_WON[i-stopline,:]=A[i,:]\n",
    "    \n",
    "    h_won,w_won=img_WON.shape\n",
    "    \n",
    "    # centering\n",
    "    if addpad>0:\n",
    "        img_won=np.hstack( ( img_WON,np.ones((h_won,abs(int(addpad*4))))*255 ) )\n",
    "    elif addpad<0:\n",
    "        img_won=np.hstack( ( np.ones((h_won,abs(int(addpad*4))))*255,img_WON ) )\n",
    "    else:\n",
    "        img_won=img_WON\n",
    "\n",
    "    img=Image.fromarray(np.uint8(img_won))\n",
    "\n",
    "    path=savepath+\"/cut_needle_pixel_rn%.2f.png\" %(needle[0])\n",
    "    img.save(path)\n",
    "    return path,needle\n"
   ]
  },
  {
   "cell_type": "code",
   "execution_count": 4,
   "metadata": {},
   "outputs": [],
   "source": [
    "def resize_synimg(img_syn,wmax,r_pixel_ori,r_syn=1):\n",
    "    '''img_ori=Image.open(path_ori)'''\n",
    "    w,h=img_syn.size\n",
    "    w_n=wmax/(2*r_syn)*50\n",
    "    scaling=w_n/w\n",
    "    h_n=scaling*h\n",
    "    new_syn=ResizeImage(img_syn,int(w_n),int(h_n))\n",
    "    return new_syn"
   ]
  },
  {
   "cell_type": "code",
   "execution_count": 5,
   "metadata": {},
   "outputs": [],
   "source": [
    "def cost_v3(img_ori,img_syn,width=100,output=0):\n",
    "    '''\n",
    "    input:              \n",
    "    x:                the origin point of synthetic image\n",
    "    img_syn,img_ori:    the images that need to calculate the cost \n",
    "                        should be valued by 'Image.open(path)'\n",
    "    K:                  the scaling of synthethic image\n",
    "    output: 0 -->lost, 1-->C, else C,lost\n",
    "    '''\n",
    "    w_ori,h_ori=img_ori.size\n",
    "    w_syn,h_syn=img_syn.size\n",
    "    \n",
    "\n",
    "    scaling_ori=width/w_ori # reshape the origin image to width\n",
    "    w_ori2=int(scaling_ori*w_ori)\n",
    "    h_ori2=int(scaling_ori*h_ori)\n",
    "    scaling_syn=scaling_ori\n",
    "    w_syn2=int(scaling_syn*w_syn)\n",
    "    h_syn2=int(scaling_syn*h_syn)\n",
    "    x=int(abs((w_syn2-w_ori2)/2))\n",
    "\n",
    "    A=img2bw(ResizeImage(img_ori,w_ori2,h_ori2))\n",
    "    one=np.ones((w_ori2-h_ori2,w_ori2))*255\n",
    "    A=np.row_stack((A,one))\n",
    "\n",
    "\n",
    "    B=img2bw(ResizeImage(img_syn,w_syn2,h_syn2))\n",
    "    C=np.zeros((w_ori2,w_ori2))\n",
    "\n",
    "    droplet=0\n",
    "    for i in range(w_ori2):\n",
    "        for j in range (h_ori2):\n",
    "            if A[i,j]==255:\n",
    "                droplet=droplet+1\n",
    "\n",
    "    for i in range (w_ori2): # h\n",
    "        for j in range(w_ori2): # w\n",
    "            #print (h_ori2,w_ori2)\n",
    "            #print(i,j)\n",
    "            if j < x or j-x >= w_syn2 or i >= h_syn2 :\n",
    "                 C[i,j]=A[i,j]\n",
    "            else:\n",
    "                if  A[i,j]==B[i,j-x]: # B[i-y,j-x]\n",
    "                    C[i,j]=255\n",
    "                else:\n",
    "                    C[i,j]=0\n",
    "    \n",
    "    # pixel that same(T) different(F) and drop area\n",
    "    t=0; f=0; \n",
    "    #drop_ori=0; drop_gen=0 \n",
    "    for i in range (w_ori2):\n",
    "        for j in range(h_ori2):\n",
    "            if C[i,j]==0:\n",
    "                f=f+1\n",
    "            else:\n",
    "                t=t+1\n",
    "    #lost=f/max(w_ori2*h_ori2,w_syn2*h_syn2)\n",
    "    \n",
    "    lost=f/droplet\n",
    "    accurancy=1-lost\n",
    "\n",
    "    if output == 0:\n",
    "        return lost\n",
    "    elif output == 1:\n",
    "        return C\n",
    "    else:\n",
    "        return C,lost"
   ]
  },
  {
   "attachments": {},
   "cell_type": "markdown",
   "metadata": {},
   "source": [
    "## Definite the obtimize funciton"
   ]
  },
  {
   "cell_type": "code",
   "execution_count": 6,
   "metadata": {},
   "outputs": [],
   "source": [
    "def obtimize_v3(sv,path_ori=os.path.abspath('./images_experiment/220304_miliq_T17.7_S73.04.png'),output=0):\n",
    "    start = time.time()\n",
    "    sigma=sv[0]\n",
    "    v0=sv[1]\n",
    "    # pre prosessing the ori image\n",
    "    path_ori,needle=remove_needle_centering(Image.open(path_ori))\n",
    "    img_ori=Image.open(path_ori)\n",
    "    pixel_needle=needle[0]\n",
    "\n",
    "    # gen and post prosessing the syn image\n",
    "    path_img='./images_notupload/'\n",
    "    # generate the syn image\n",
    "    path_syn,wmax,rneedle=gen_doplet_v4(sigma=sigma,volume0=v0)\n",
    "\n",
    "    # cut the white edge of syn image\n",
    "    _,path_syn = crop_margin(io.imread(path_syn))\n",
    "    img_syn=resize_synimg(Image.open(path_syn),wmax,r_pixel_ori=pixel_needle,r_syn=1)\n",
    "    end = time.time()\n",
    "    print('Obtimize Program execution time: ',end - start)\n",
    "    if output==0:\n",
    "        lost=cost_v3(img_ori,img_syn,output=output)\n",
    "        xs.append(sv)\n",
    "        losts.append(lost)\n",
    "        print(sv,lost)\n",
    "        return lost\n",
    "    elif output==1:\n",
    "        C=cost_v3(img_ori,img_syn,output=output)\n",
    "        return C\n",
    "    else :\n",
    "        C,lost=cost_v3(img_ori,img_syn,output=output)\n",
    "        return C, lost"
   ]
  },
  {
   "attachments": {},
   "cell_type": "markdown",
   "metadata": {},
   "source": [
    "## Start the optimization"
   ]
  },
  {
   "cell_type": "code",
   "execution_count": 7,
   "metadata": {},
   "outputs": [
    {
     "name": "stdout",
     "output_type": "stream",
     "text": [
      "Gen Image Program execution time:  20.603174924850464\n",
      "Obtimize Program execution time:  20.9323308467865\n",
      "[75. 11.] 0.10360629607491532\n",
      "Gen Image Program execution time:  12.972419738769531\n",
      "Obtimize Program execution time:  13.334885835647583\n",
      "[78.75 11.  ] 0.10300856744371388\n",
      "Gen Image Program execution time:  18.819466829299927\n",
      "Obtimize Program execution time:  19.23750400543213\n",
      "[75.   11.55] 0.08946005180314803\n",
      "Gen Image Program execution time:  14.982260942459106\n",
      "Obtimize Program execution time:  15.420314311981201\n",
      "[78.75 11.55] 0.09623430962343096\n",
      "Gen Image Program execution time:  17.567611932754517\n",
      "Obtimize Program execution time:  17.93905472755432\n",
      "[75.  12.1] 0.07790396493325363\n",
      "Gen Image Program execution time:  12.251256227493286\n",
      "Obtimize Program execution time:  12.612989902496338\n",
      "[73.125 12.65 ] 0.07073122135883642\n",
      "Gen Image Program execution time:  18.881047010421753\n",
      "Obtimize Program execution time:  19.276933908462524\n",
      "[69.375 12.65 ] 0.06256226339908348\n",
      "Gen Image Program execution time:  10.068900108337402\n",
      "Obtimize Program execution time:  10.43001103401184\n",
      "[64.6875 13.2   ] 0.044630404463040445\n",
      "Gen Image Program execution time:  13.435306072235107\n",
      "Obtimize Program execution time:  13.784540891647339\n",
      "[62.8125 14.3   ] 0.03705917513448894\n",
      "Gen Image Program execution time:  1.9838759899139404\n",
      "Obtimize Program execution time:  2.475266933441162\n",
      "[56.71875 15.675  ] 0.4146244271767284\n",
      "Gen Image Program execution time:  2.4250147342681885\n",
      "Obtimize Program execution time:  3.1924149990081787\n",
      "[54.375 14.85 ] 0.4146244271767284\n",
      "Gen Image Program execution time:  18.384767055511475\n",
      "Obtimize Program execution time:  18.692597150802612\n",
      "[68.4375 13.2   ] 0.049013747758517634\n",
      "Gen Image Program execution time:  11.792043209075928\n",
      "Obtimize Program execution time:  12.191933155059814\n",
      "[59.0625 14.3   ] 0.05658497708706914\n",
      "Gen Image Program execution time:  19.115161180496216\n",
      "Obtimize Program execution time:  19.498952865600586\n",
      "[66.09375 13.475  ] 0.04423191870890616\n",
      "Gen Image Program execution time:  16.67275905609131\n",
      "Obtimize Program execution time:  17.05640697479248\n",
      "[64.21875 14.575  ] 0.03785614664275752\n",
      "Gen Image Program execution time:  13.018770933151245\n",
      "Obtimize Program execution time:  13.397392272949219\n",
      "[60.9375 15.4   ] 0.12233512651922694\n",
      "Gen Image Program execution time:  21.10416316986084\n",
      "Obtimize Program execution time:  21.492602109909058\n",
      "[64.8046875 13.95625  ] 0.03506674636381749\n",
      "Gen Image Program execution time:  17.328293323516846\n",
      "Obtimize Program execution time:  17.703983068466187\n",
      "[63.3984375 13.68125  ] 0.03506674636381749\n",
      "Gen Image Program execution time:  11.942368984222412\n",
      "Obtimize Program execution time:  12.298112154006958\n",
      "[65.390625 13.3375  ] 0.044630404463040445\n",
      "Gen Image Program execution time:  19.40780282020569\n",
      "Obtimize Program execution time:  19.757817268371582\n",
      "[63.45703125 14.059375  ] 0.03546523211795179\n",
      "Gen Image Program execution time:  14.219302892684937\n",
      "Obtimize Program execution time:  14.656423807144165\n",
      "[64.74609375 13.578125  ] 0.03845387527395896\n",
      "Gen Image Program execution time:  15.90505313873291\n",
      "Obtimize Program execution time:  16.276755809783936\n",
      "[63.77929688 13.9390625 ] 0.03785614664275752\n",
      "Gen Image Program execution time:  13.325537204742432\n",
      "Obtimize Program execution time:  13.696199893951416\n",
      "[64.1015625 13.81875  ] 0.03506674636381749\n",
      "Gen Image Program execution time:  12.927389860153198\n",
      "Obtimize Program execution time:  13.512433290481567\n",
      "[64.13085938 14.0078125 ] 0.03785614664275752\n",
      "Gen Image Program execution time:  15.821820974349976\n",
      "Obtimize Program execution time:  16.1461079120636\n",
      "[64.77539062 13.7671875 ] 0.03945008965929468\n",
      "Gen Image Program execution time:  21.376768827438354\n",
      "Obtimize Program execution time:  21.721158266067505\n",
      "[64.29199219 13.94765625] 0.03626220362622036\n",
      "Gen Image Program execution time:  18.581877946853638\n",
      "Obtimize Program execution time:  18.92917776107788\n",
      "[64.61425781 13.82734375] 0.03626220362622036\n",
      "Gen Image Program execution time:  15.369022130966187\n",
      "Obtimize Program execution time:  15.745614051818848\n",
      "[64.37255859 13.91757813] 0.03586371787208607\n",
      "Gen Image Program execution time:  21.095350742340088\n",
      "Obtimize Program execution time:  21.489009141921997\n",
      "[64.53369141 13.85742188] 0.034668260609683206\n",
      "Gen Image Program execution time:  13.57102108001709\n",
      "Obtimize Program execution time:  13.987778902053833\n",
      "[64.61425781 13.82734375] 0.03626220362622036\n",
      "Gen Image Program execution time:  19.572041988372803\n",
      "Obtimize Program execution time:  19.907243967056274\n",
      "[65.23681641 13.99492188] 0.036660689380354654\n",
      "Gen Image Program execution time:  16.460716009140015\n",
      "Obtimize Program execution time:  16.833827018737793\n",
      "[64.38537598 13.86279297] 0.03486750348675035\n",
      "Gen Image Program execution time:  17.662811994552612\n",
      "Obtimize Program execution time:  18.05068802833557\n",
      "[64.11437988 13.76396484] 0.034469017732616056\n",
      "Gen Image Program execution time:  19.479887008666992\n",
      "Obtimize Program execution time:  19.868088006973267\n",
      "[63.76922607 13.66782227] 0.03945008965929468\n",
      "Gen Image Program execution time:  16.09714412689209\n",
      "Obtimize Program execution time:  16.4912850856781\n",
      "[64.26269531 13.75859375] 0.036660689380354654\n",
      "Gen Image Program execution time:  19.296273946762085\n",
      "Obtimize Program execution time:  19.660632848739624\n",
      "[64.35470581 13.83674316] 0.034668260609683206\n",
      "Gen Image Program execution time:  13.265446186065674\n",
      "Obtimize Program execution time:  13.668642044067383\n",
      "[64.29336548 13.78464355] 0.036660689380354654\n",
      "Gen Image Program execution time:  20.434466123580933\n",
      "Obtimize Program execution time:  20.79178810119629\n",
      "[64.33937073 13.82371826] 0.034668260609683206\n",
      "Gen Image Program execution time:  22.246984243392944\n",
      "Obtimize Program execution time:  22.601783990859985\n",
      "[64.32403564 13.81069336] 0.034668260609683206\n",
      "Gen Image Program execution time:  20.297558069229126\n",
      "Obtimize Program execution time:  20.654656171798706\n",
      "[64.23454285 13.800354  ] 0.034668260609683206\n",
      "Gen Image Program execution time:  17.02646493911743\n",
      "Obtimize Program execution time:  17.388614892959595\n",
      "[64.20387268 13.7743042 ] 0.036660689380354654\n",
      "Gen Image Program execution time:  23.88313603401184\n",
      "Obtimize Program execution time:  24.257421016693115\n",
      "[64.22687531 13.79384155] 0.034668260609683206\n",
      "Gen Image Program execution time:  12.352039098739624\n",
      "Obtimize Program execution time:  12.693357944488525\n",
      "[64.21920776 13.7873291 ] 0.034668260609683206\n",
      "Gen Image Program execution time:  14.345729112625122\n",
      "Obtimize Program execution time:  14.717128992080688\n",
      "[64.17446136 13.78215942] 0.034668260609683206\n",
      "Gen Image Program execution time:  15.472915172576904\n",
      "Obtimize Program execution time:  15.86034893989563\n",
      "[64.15912628 13.76913452] 0.034469017732616056\n",
      "Gen Image Program execution time:  24.084770917892456\n",
      "Obtimize Program execution time:  24.46450901031494\n",
      "[64.0542984  13.74577026] 0.034469017732616056\n",
      "Gen Image Program execution time:  17.48100709915161\n",
      "Obtimize Program execution time:  17.887206077575684\n",
      "[64.09552574 13.75615997] 0.034469017732616056\n",
      "Gen Image Program execution time:  17.22262668609619\n",
      "Obtimize Program execution time:  17.6670880317688\n",
      "[64.17798042 13.77693939] 0.034469017732616056\n",
      "Gen Image Program execution time:  18.96537494659424\n",
      "Obtimize Program execution time:  19.475266695022583\n",
      "[64.11613941 13.76135483] 0.034469017732616056\n",
      "Gen Image Program execution time:  10.971299171447754\n",
      "Obtimize Program execution time:  11.324946165084839\n",
      "[64.13675308 13.76654968] 0.034469017732616056\n",
      "Gen Image Program execution time:  25.40178871154785\n",
      "Obtimize Program execution time:  25.844699144363403\n",
      "[64.10495281 13.76006241] 0.034469017732616056\n",
      "Gen Image Program execution time:  23.382921934127808\n",
      "Obtimize Program execution time:  23.72738790512085\n",
      "[64.14618015 13.77045212] 0.034469017732616056\n",
      "Gen Image Program execution time:  16.23407483100891\n",
      "Obtimize Program execution time:  16.577914714813232\n",
      "[64.11525965 13.76265984] 0.034469017732616056\n",
      "Gen Image Program execution time:  14.135466814041138\n",
      "Obtimize Program execution time:  14.50186276435852\n",
      "[64.12556648 13.76525726] 0.034469017732616056\n",
      "Gen Image Program execution time:  17.80598497390747\n",
      "Obtimize Program execution time:  18.186643838882446\n",
      "[64.10966635 13.76201363] 0.034469017732616056\n",
      "Gen Image Program execution time:  20.254265785217285\n",
      "Obtimize Program execution time:  20.619574069976807\n",
      "[64.13028002 13.76720848] 0.034469017732616056\n",
      "Gen Image Program execution time:  21.704447031021118\n",
      "Obtimize Program execution time:  22.08384680747986\n",
      "[64.11481977 13.76331234] 0.034469017732616056\n",
      "Gen Image Program execution time:  19.1705961227417\n",
      "Obtimize Program execution time:  19.593050956726074\n",
      "[64.11997318 13.76461105] 0.034469017732616056\n",
      "Gen Image Program execution time:  19.140451908111572\n",
      "Obtimize Program execution time:  19.507285118103027\n",
      "[64.11202312 13.76298923] 0.034469017732616056\n",
      "Gen Image Program execution time:  12.770086765289307\n",
      "Obtimize Program execution time:  13.231512069702148\n",
      "[64.12232995 13.76558666] 0.034469017732616056\n",
      "Gen Image Program execution time:  22.343809127807617\n",
      "Obtimize Program execution time:  22.716125965118408\n",
      "[64.11459982 13.76363859] 0.034469017732616056\n",
      "Gen Image Program execution time:  21.78868794441223\n",
      "Obtimize Program execution time:  22.16191792488098\n",
      "[64.11717653 13.76428795] 0.034469017732616056\n",
      "Gen Image Program execution time:  14.37909197807312\n",
      "Obtimize Program execution time:  14.76008415222168\n",
      "[64.1132015  13.76347704] 0.034469017732616056\n",
      "Gen Image Program execution time:  16.304510831832886\n",
      "Obtimize Program execution time:  16.822373867034912\n",
      "[64.11835492 13.76477575] 0.034469017732616056\n",
      "Gen Image Program execution time:  31.097239017486572\n",
      "Obtimize Program execution time:  31.414795875549316\n",
      "[64.11448985 13.76380172] 0.034469017732616056\n",
      "Gen Image Program execution time:  29.903979063034058\n",
      "Obtimize Program execution time:  30.26467990875244\n",
      "[64.11577821 13.7641264 ] 0.034469017732616056\n",
      "Gen Image Program execution time:  17.20529818534851\n",
      "Obtimize Program execution time:  17.5747709274292\n",
      "[64.11379069 13.76372094] 0.034469017732616056\n",
      "Gen Image Program execution time:  20.658425092697144\n",
      "Obtimize Program execution time:  21.01958203315735\n",
      "[64.1163674 13.7643703] 0.034469017732616056\n",
      "Gen Image Program execution time:  24.332061052322388\n",
      "Obtimize Program execution time:  24.78303098678589\n",
      "[64.11443487 13.76388328] 0.034469017732616056\n",
      "Gen Image Program execution time:  21.252114057540894\n",
      "Obtimize Program execution time:  21.590562105178833\n",
      "[64.11507905 13.76404562] 0.034469017732616056\n",
      "Gen Image Program execution time:  22.43828582763672\n",
      "Obtimize Program execution time:  22.797695875167847\n",
      "[64.11408529 13.76384289] 0.034469017732616056\n",
      "Gen Image Program execution time:  16.47619390487671\n",
      "Obtimize Program execution time:  16.950541973114014\n",
      "[64.11537364 13.76416757] 0.034469017732616056\n",
      "Gen Image Program execution time:  7.4626617431640625\n",
      "Obtimize Program execution time:  7.778457164764404\n",
      "[64.11440738 13.76392406] 0.034469017732616056\n",
      "Gen Image Program execution time:  2.5680088996887207\n",
      "Obtimize Program execution time:  2.9465389251708984\n",
      "[64.11472946 13.76400523] 0.034469017732616056\n",
      "Gen Image Program execution time:  1.8057899475097656\n",
      "Obtimize Program execution time:  2.1593027114868164\n",
      "[64.11423258 13.76390387] 0.034469017732616056\n",
      "Gen Image Program execution time:  1.3117289543151855\n",
      "Obtimize Program execution time:  1.6658859252929688\n",
      "[64.11487676 13.76406621] 0.034469017732616056\n",
      "Gen Image Program execution time:  1.6772489547729492\n",
      "Obtimize Program execution time:  2.060828924179077\n",
      "[64.11439363 13.76394445] 0.034469017732616056\n",
      "Gen Image Program execution time:  1.2354297637939453\n",
      "Obtimize Program execution time:  1.6180188655853271\n",
      "[64.11455467 13.76398504] 0.034469017732616056\n",
      "Gen Image Program execution time:  1.3418350219726562\n",
      "Obtimize Program execution time:  1.701746940612793\n",
      "[64.11430623 13.76393436] 0.034469017732616056\n",
      "Gen Image Program execution time:  1.1809113025665283\n",
      "Obtimize Program execution time:  1.6576061248779297\n",
      "[64.11462832 13.76401553] 0.034469017732616056\n",
      "Gen Image Program execution time:  1.4710419178009033\n",
      "Obtimize Program execution time:  1.7980830669403076\n",
      "[64.11438676 13.76395465] 0.034469017732616056\n",
      "Gen Image Program execution time:  2.0267791748046875\n",
      "Obtimize Program execution time:  2.3924942016601562\n",
      "[64.11446728 13.76397494] 0.034469017732616056\n",
      "Gen Image Program execution time:  1.264111042022705\n",
      "Obtimize Program execution time:  1.6271018981933594\n",
      "[64.11434306 13.7639496 ] 0.034469017732616056\n"
     ]
    }
   ],
   "source": [
    "import scipy.optimize\n",
    "xs=[]\n",
    "losts=[]\n",
    "x0=np.asarray((75,11))\n",
    "res=scipy.optimize.minimize(obtimize_v3,x0,method='nelder-mead',options={'maxiter':50})"
   ]
  },
  {
   "cell_type": "code",
   "execution_count": 8,
   "metadata": {},
   "outputs": [
    {
     "name": "stdout",
     "output_type": "stream",
     "text": [
      " final_simplex: (array([[64.11437988, 13.76396484],\n",
      "       [64.11446728, 13.76397494],\n",
      "       [64.11434306, 13.7639496 ]]), array([0.03446902, 0.03446902, 0.03446902]))\n",
      "           fun: 0.034469017732616056\n",
      "       message: 'Optimization terminated successfully.'\n",
      "          nfev: 83\n",
      "           nit: 31\n",
      "        status: 0\n",
      "       success: True\n",
      "             x: array([64.11437988, 13.76396484])\n"
     ]
    }
   ],
   "source": [
    "print(res)"
   ]
  },
  {
   "cell_type": "code",
   "execution_count": 9,
   "metadata": {},
   "outputs": [
    {
     "data": {
      "text/plain": [
       "[<matplotlib.lines.Line2D at 0x16c754610>]"
      ]
     },
     "execution_count": 9,
     "metadata": {},
     "output_type": "execute_result"
    },
    {
     "data": {
      "image/png": "[encoded data removed]",
      "text/plain": [
       "<Figure size 432x288 with 1 Axes>"
      ]
     },
     "metadata": {
      "needs_background": "light"
     },
     "output_type": "display_data"
    }
   ],
   "source": [
    "arxs=np.asarray(xs)\n",
    "plt.plot(arxs[:,0],arxs[:,1])\n"
   ]
  },
  {
   "cell_type": "code",
   "execution_count": 10,
   "metadata": {},
   "outputs": [
    {
     "data": {
      "text/plain": [
       "[<matplotlib.lines.Line2D at 0x16c7e3100>]"
      ]
     },
     "execution_count": 10,
     "metadata": {},
     "output_type": "execute_result"
    },
    {
     "data": {
      "image/png": "[encoded data removed]",
      "text/plain": [
       "<Figure size 432x288 with 1 Axes>"
      ]
     },
     "metadata": {
      "needs_background": "light"
     },
     "output_type": "display_data"
    }
   ],
   "source": [
    "plt.plot(losts)\n"
   ]
  },
  {
   "cell_type": "code",
   "execution_count": 25,
   "metadata": {},
   "outputs": [
    {
     "data": {
      "text/plain": [
       "<function matplotlib.pyplot.show(close=None, block=None)>"
      ]
     },
     "execution_count": 25,
     "metadata": {},
     "output_type": "execute_result"
    },
    {
     "data": {
      "image/png": "[encoded data removed]",
      "text/plain": [
       "<Figure size 432x288 with 2 Axes>"
      ]
     },
     "metadata": {
      "needs_background": "light"
     },
     "output_type": "display_data"
    }
   ],
   "source": [
    "import matplotlib.colors\n",
    "import matplotlib.ticker\n",
    "\n",
    "x=arxs[:,0]\n",
    "y=arxs[:,1]\n",
    "z=losts\n",
    "\n",
    "#set every points color\n",
    "min_z=min(z)\n",
    "max_z=max(z)\n",
    "color=[plt.get_cmap('seismic',100)((float(i-min_z)/(max_z-min_z)*100))for i in z]\n",
    "\n",
    "# plot the image\n",
    "fig = plt.figure()\n",
    "ax=fig.add_subplot(1,1,1)\n",
    "im=ax.scatter(x,y,c=color,marker='.')\n",
    "\n",
    "#add order of the point\n",
    "n=np.arange(y.shape[0])\n",
    "for i,txt in enumerate(n):\n",
    "    ax.annotate(txt,(x[i],y[i]))\n",
    "fig.colorbar(im,format=matplotlib.ticker.FuncFormatter(lambda x,pos:(x*(max_z-min_z)+min_z)))\n",
    "\n",
    "# show the image\n",
    "plt.show"
   ]
  },
  {
   "cell_type": "code",
   "execution_count": 22,
   "metadata": {},
   "outputs": [
    {
     "data": {
      "text/plain": [
       "83"
      ]
     },
     "execution_count": 22,
     "metadata": {},
     "output_type": "execute_result"
    }
   ],
   "source": []
  },
  {
   "cell_type": "code",
   "execution_count": 13,
   "metadata": {},
   "outputs": [
    {
     "data": {
      "image/png": "[encoded data removed]",
      "text/plain": [
       "<PIL.Image.Image image mode=L size=100x100>"
      ]
     },
     "execution_count": 13,
     "metadata": {},
     "output_type": "execute_result"
    }
   ],
   "source": [
    "x=np.asarray((73,16))\n",
    "C,lost=obtimize_v3(sv=x,output=2)\n",
    "Image.fromarray(np.uint8(C))"
   ]
  },
  {
   "attachments": {},
   "cell_type": "markdown",
   "metadata": {},
   "source": [
    "# Path 2 matrix test"
   ]
  },
  {
   "cell_type": "code",
   "execution_count": 47,
   "metadata": {},
   "outputs": [
    {
     "name": "stdout",
     "output_type": "stream",
     "text": [
      "Program execution time:  10.706544876098633\n",
      "Obtimize Program execution time:  11.1056489944458\n",
      "7100 182 5019 0.03626220362622036 0.02563380281690141\n"
     ]
    },
    {
     "data": {
      "image/png": "[encoded data removed]",
      "text/plain": [
       "<PIL.Image.Image image mode=L size=100x100>"
      ]
     },
     "execution_count": 47,
     "metadata": {},
     "output_type": "execute_result"
    }
   ],
   "source": [
    "x=np.asarray((73,16))\n",
    "C,lost=obtimize_v3(sv=x,output=2)\n",
    "Image.fromarray(np.uint8(C))"
   ]
  },
  {
   "cell_type": "code",
   "execution_count": 3,
   "metadata": {},
   "outputs": [],
   "source": [
    "path_ori=os.path.abspath('./images_experiment/220304_miliq_T17.7_S73.04.png')\n",
    "img=Image.open(path_ori)"
   ]
  },
  {
   "cell_type": "code",
   "execution_count": 17,
   "metadata": {},
   "outputs": [],
   "source": [
    "from matplotlib.backends.backend_agg import FigureCanvasAgg\n",
    "import PIL.Image as Image\n",
    "\n",
    "sigma=75\n",
    "volume0=16\n",
    "rneedle=0.5\n",
    "savepath='./images_notupload'\n",
    "output=1\n"
   ]
  },
  {
   "cell_type": "code",
   "execution_count": 18,
   "metadata": {},
   "outputs": [
    {
     "name": "stdout",
     "output_type": "stream",
     "text": [
      "Program execution time:  24.919654369354248\n"
     ]
    }
   ],
   "source": [
    "r_a,z_a=genSingleDrop(sigma=sigma,volume0=volume0,savepath=savepath,rneedle=rneedle,output=output)"
   ]
  },
  {
   "cell_type": "code",
   "execution_count": 39,
   "metadata": {},
   "outputs": [],
   "source": [
    "plt.fill_between(r_a,z_a,color='black')\n",
    "plt.fill_between(-r_a,z_a,color='black')\n",
    "plt.axis('equal')\n",
    "plt.axis('off')\n",
    "fig=plt.gcf()\n",
    "plt.close()\n",
    "\n",
    "fig.canvas.draw()\n",
    "rgba_buf = fig.canvas.buffer_rgba()\n",
    "(w,h) = fig.canvas.get_width_height()\n",
    "rgba_arr = np.frombuffer(rgba_buf, dtype=np.uint8).reshape((h,w,4))"
   ]
  },
  {
   "cell_type": "code",
   "execution_count": 35,
   "metadata": {},
   "outputs": [
    {
     "name": "stdout",
     "output_type": "stream",
     "text": [
      "Figure(640x480)\n"
     ]
    }
   ],
   "source": [
    "def plt2arr(fig):\n",
    "    fig.canvas.draw()\n",
    "    rgba_buf = fig.canvas.buffer_rgba()\n",
    "    (w,h) = fig.canvas.get_width_height()\n",
    "    rgba_arr = np.frombuffer(rgba_buf, dtype=np.uint8).reshape((h,w,4))\n",
    "    return rgba_arr"
   ]
  },
  {
   "cell_type": "code",
   "execution_count": 22,
   "metadata": {},
   "outputs": [
    {
     "ename": "AttributeError",
     "evalue": "'tuple' object has no attribute 'canvas'",
     "output_type": "error",
     "traceback": [
      "\u001b[1;31m---------------------------------------------------------------------------\u001b[0m",
      "\u001b[1;31mAttributeError\u001b[0m                            Traceback (most recent call last)",
      "Cell \u001b[1;32mIn [22], line 8\u001b[0m\n\u001b[0;32m      4\u001b[0m fig\u001b[39m=\u001b[39mplt\u001b[39m.\u001b[39maxis(\u001b[39m'\u001b[39m\u001b[39moff\u001b[39m\u001b[39m'\u001b[39m)\n\u001b[0;32m      6\u001b[0m \u001b[39m#plt.savefig(path)\u001b[39;00m\n\u001b[1;32m----> 8\u001b[0m fig\u001b[39m.\u001b[39;49mcanvas\u001b[39m.\u001b[39mdraw()\n\u001b[0;32m     10\u001b[0m \u001b[39m#w,h=canvas.get_width_height()\u001b[39;00m\n\u001b[0;32m     11\u001b[0m data \u001b[39m=\u001b[39m np\u001b[39m.\u001b[39mfrombuffer(fig\u001b[39m.\u001b[39mcanvas\u001b[39m.\u001b[39mtostring_rgb(), dtype\u001b[39m=\u001b[39mnp\u001b[39m.\u001b[39muint8)\n",
      "\u001b[1;31mAttributeError\u001b[0m: 'tuple' object has no attribute 'canvas'"
     ]
    },
    {
     "data": {
      "image/png": "[encoded data removed]",
      "text/plain": [
       "<Figure size 640x480 with 1 Axes>"
      ]
     },
     "metadata": {},
     "output_type": "display_data"
    }
   ],
   "source": [
    "\n",
    "#plt.savefig(path)\n",
    "\n",
    "fig.canvas.draw()\n",
    "\n",
    "#w,h=canvas.get_width_height()\n",
    "data = np.frombuffer(fig.canvas.tostring_rgb(), dtype=np.uint8)\n",
    "data = data.reshape(fig.canvas.get_width_height()[::-1] + (3,))\n",
    "\n",
    "plt.close()\n",
    "\n",
    "\n",
    "\n",
    "wmax=2*max(abs(r_a))"
   ]
  },
  {
   "cell_type": "code",
   "execution_count": null,
   "metadata": {},
   "outputs": [],
   "source": []
  }
 ],
 "metadata": {
  "kernelspec": {
   "display_name": "Python 3",
   "language": "python",
   "name": "python3"
  },
  "language_info": {
   "codemirror_mode": {
    "name": "ipython",
    "version": 3
   },
   "file_extension": ".py",
   "mimetype": "text/x-python",
   "name": "python",
   "nbconvert_exporter": "python",
   "pygments_lexer": "ipython3",
   "version": "3.9.10 (v3.9.10:f2f3f53782, Jan 13 2022, 16:55:45) \n[Clang 13.0.0 (clang-1300.0.29.30)]"
  },
  "orig_nbformat": 4,
  "vscode": {
   "interpreter": {
    "hash": "aee8b7b246df8f9039afb4144a1f6fd8d2ca17a180786b69acc140d282b71a49"
   }
  }
 },
 "nbformat": 4,
 "nbformat_minor": 2
}
