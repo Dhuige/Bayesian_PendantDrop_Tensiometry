{
 "cells": [
  {
   "cell_type": "code",
   "execution_count": 1,
   "metadata": {},
   "outputs": [],
   "source": [
    "%matplotlib inline\n",
    "import os\n",
    "import math as m\n",
    "import time\n",
    "from codes_gendrops_py.genSingleDrop import *\n",
    "from codes_gendrops_py.fit_circle_through_3_points import *\n",
    "import matplotlib.pyplot as plt\n",
    "import matplotlib.image as mpimg\n",
    "from matplotlib.backends.backend_agg import FigureCanvasAgg\n",
    "from pre_process_functions import *\n",
    "from PIL import Image\n",
    "import numpy as np\n"
   ]
  },
  {
   "attachments": {},
   "cell_type": "markdown",
   "metadata": {},
   "source": [
    "## Definite the pre processing functions"
   ]
  },
  {
   "cell_type": "code",
   "execution_count": 2,
   "metadata": {},
   "outputs": [],
   "source": [
    "\n",
    "def gen_doplet_v5(sigma,volume0,rneedle=0.5):\n",
    "    # when output=1 gSD return r_a,z_a\n",
    "    r_a,z_a=genSingleDrop(sigma=sigma,volume0=volume0,rneedle=rneedle,output=1)\n",
    "    wmax=2*max(abs(r_a))\n",
    "\n",
    "    # use plt generate synthetic image and save as arrayd\n",
    "    plt.fill_between(r_a,z_a,color='black')\n",
    "    plt.fill_between(-r_a,z_a,color='black')\n",
    "    plt.axis('equal')\n",
    "    plt.axis('off')\n",
    "\n",
    "    figure = plt.gcf().canvas\n",
    "    ag = figure.switch_backends(FigureCanvasAgg)\n",
    "    ag.draw()\n",
    "    plt.close()\n",
    "    A = np.asarray(ag.buffer_rgba())\n",
    "    syn_array = np.rint(A[...,:3] @ [0.2126, 0.7152, 0.0722]).astype(np.uint8)\n",
    "    \n",
    "\n",
    "    return syn_array,wmax,rneedle\n",
    "\n",
    "def crop_margin_array_v5(syn_array):#(DONE)\n",
    "        \n",
    "        (row,col)=syn_array.shape\n",
    "        img=syn_array\n",
    "\n",
    "        for i in range(row-1):\n",
    "                if sum(img[i])!=255*col:\n",
    "                        cut1=i\n",
    "                        break               \n",
    "\n",
    "        for i in range(row-1,0,-1):\n",
    "                if sum(img[i])!=255*col:\n",
    "                        cut2=i\n",
    "                        break \n",
    "\n",
    "        _,img1,_=np.split(img,[cut1,cut2])  \n",
    "\n",
    "        for i in range(col-1):\n",
    "                if sum(img[:,i])!=255*row:\n",
    "                        cut3=i\n",
    "                        break\n",
    "\n",
    "        for i in range(col-1,0,-1):\n",
    "                if sum(img[:,i])!=255*row:\n",
    "                        cut4=i\n",
    "                        break\n",
    "\n",
    "        _,cm_arr,_=np.split(img1,[cut3,cut4],axis=1)\n",
    "\n",
    "        return cm_arr\n",
    "\n",
    "def resize_syn_arr(syn_arr_cm,wmax,r_syn=1):\n",
    "    syn_img = Image.fromarray(syn_arr_cm)\n",
    "    w,h=syn_img.size\n",
    "    r_syn=1\n",
    "    w_n=wmax/(2*r_syn)*50\n",
    "    scaling=w_n/w\n",
    "    h_n=scaling*h\n",
    "    new_syn=syn_img.resize((int(w_n),int(h_n)))\n",
    "    syn_arr_rs=np.asarray(new_syn)\n",
    "\n",
    "    return syn_arr_rs\n",
    "\n",
    "def remove_needle_centering_v5(img_ori):#(Need Test)\n",
    "    '''img_ori=Image.open(path_ori)'''\n",
    "    w_ori,h_ori=img_ori.size\n",
    "\n",
    "    scaling_ori=300/w_ori # reshape the origin image to width 300\n",
    "\n",
    "    w_ori2=int(scaling_ori*w_ori)\n",
    "    h_ori2=int(scaling_ori*h_ori)\n",
    "\n",
    "    A=img2bw(ResizeImage(img_ori,w_ori2,h_ori2))\n",
    "\n",
    "    left_edge=np.zeros(w_ori2)\n",
    "    right_edge=np.zeros(w_ori2)\n",
    "    for i in range(h_ori2):\n",
    "        for j in range(w_ori2):\n",
    "            if A[i,j-1]>=125 and A[i,j]<125:\n",
    "                #print('Left position',i,j)\n",
    "                left_edge[i]=j\n",
    "            if A[i,j-1]<=125 and A[i,j]>125:\n",
    "                #print('Right position',i,j)\n",
    "                right_edge[i]=j\n",
    "\n",
    "    needle=np.abs(left_edge-right_edge)\n",
    "\n",
    "    end=0\n",
    "    for j in range(needle.shape[0]-1):\n",
    "        j=j+1\n",
    "        if end == 0:\n",
    "            if abs((needle[j]-needle[0])/needle[0])>0.05:\n",
    "                stopline=j\n",
    "                end=end+1\n",
    "    #print(stopline)\n",
    "\n",
    "    addpad=right_edge[stopline]-needle[stopline]/2-w_ori2/2\n",
    "\n",
    "    img_WON=np.zeros((h_ori2-stopline,w_ori2))\n",
    "    for i in range(h_ori2):\n",
    "        if i>=stopline:\n",
    "            img_WON[i-stopline,:]=A[i,:]\n",
    "    \n",
    "    h_won,w_won=img_WON.shape\n",
    "    \n",
    "    # centering\n",
    "    if addpad>0:\n",
    "        img_won=np.hstack( ( img_WON,np.ones((h_won,abs(int(addpad*4))))*255 ) )\n",
    "    elif addpad<0:\n",
    "        img_won=np.hstack( ( np.ones((h_won,abs(int(addpad*4))))*255,img_WON ) )\n",
    "    else:\n",
    "        img_won=img_WON\n",
    "\n",
    "    return img_won,needle\n",
    "\n",
    "def cost_v3(img_ori,img_syn,width=100,output=0):\n",
    "    '''\n",
    "    input:              \n",
    "    x:                the origin point of synthetic image\n",
    "    img_syn,img_ori:    the images that need to calculate the cost \n",
    "                        should be valued by 'Image.open(path)'\n",
    "    K:                  the scaling of synthethic image\n",
    "    output: 0 -->lost, 1-->C, else C,lost\n",
    "    '''\n",
    "    img_syn = Image.fromarray(img_syn)\n",
    "    img_ori = Image.fromarray(img_ori)\n",
    "\n",
    "    w_ori,h_ori=img_ori.size\n",
    "    w_syn,h_syn=img_syn.size\n",
    "    \n",
    "\n",
    "    scaling_ori=width/w_ori # reshape the origin image to width\n",
    "    w_ori2=int(scaling_ori*w_ori)\n",
    "    h_ori2=int(scaling_ori*h_ori)\n",
    "    scaling_syn=scaling_ori\n",
    "    w_syn2=int(scaling_syn*w_syn)\n",
    "    h_syn2=int(scaling_syn*h_syn)\n",
    "    x=int(abs((w_syn2-w_ori2)/2))\n",
    "\n",
    "    A=img2bw(ResizeImage(img_ori,w_ori2,h_ori2))\n",
    "    one=np.ones((w_ori2-h_ori2,w_ori2))*255\n",
    "    A=np.row_stack((A,one))\n",
    "\n",
    "\n",
    "    B=img2bw(ResizeImage(img_syn,w_syn2,h_syn2))\n",
    "    C=np.zeros((w_ori2,w_ori2))\n",
    "\n",
    "    droplet=0\n",
    "    for i in range(w_ori2):\n",
    "        for j in range (h_ori2):\n",
    "            if A[i,j]==255:\n",
    "                droplet=droplet+1\n",
    "\n",
    "    for i in range (w_ori2): # h\n",
    "        for j in range(w_ori2): # w\n",
    "            #print (h_ori2,w_ori2)\n",
    "            #print(i,j)\n",
    "            if j < x or j-x >= w_syn2 or i >= h_syn2 :\n",
    "                 C[i,j]=A[i,j]\n",
    "            else:\n",
    "                if  A[i,j]==B[i,j-x]: # B[i-y,j-x]\n",
    "                    C[i,j]=255\n",
    "                else:\n",
    "                    C[i,j]=0\n",
    "    \n",
    "    # pixel that same(T) different(F) and drop area\n",
    "    t=0; f=0; \n",
    "    #drop_ori=0; drop_gen=0 \n",
    "    for i in range (w_ori2):\n",
    "        for j in range(h_ori2):\n",
    "            if C[i,j]==0:\n",
    "                f=f+1\n",
    "            else:\n",
    "                t=t+1\n",
    "    #lost=f/max(w_ori2*h_ori2,w_syn2*h_syn2)\n",
    "    \n",
    "    lost=f/droplet\n",
    "    accurancy=1-lost\n",
    "\n",
    "    if output == 0:\n",
    "        return lost\n",
    "    elif output == 1:\n",
    "        return C\n",
    "    else:\n",
    "        return C,lost"
   ]
  },
  {
   "attachments": {},
   "cell_type": "markdown",
   "metadata": {},
   "source": [
    "## Definite the obtimize funciton"
   ]
  },
  {
   "cell_type": "code",
   "execution_count": 3,
   "metadata": {},
   "outputs": [],
   "source": [
    "def obtimize_v5(sv,path_ori=os.path.abspath('./images_experiment/220304_miliq_T17.7_S73.04.png'),output=0):\n",
    "    '''need initialize xs and losts if output==0'''\n",
    "    start = time.time()\n",
    "    sigma=sv[0]\n",
    "    v0=sv[1]\n",
    "\n",
    "    # preprosessing the ori image\n",
    "    ori,needle=remove_needle_centering_v5(Image.open(path_ori))\n",
    "    pixel_needle=needle[0]\n",
    "\n",
    "    # gen and post processing the syn image\n",
    "    syn_arr,wmax,rneedle=gen_doplet_v5(sigma=sigma,volume0=v0,rneedle=0.5)\n",
    "\n",
    "    #crop the margin of syn image\n",
    "    syn_arr_cm=crop_margin_array_v5(syn_arr)\n",
    "    syn=resize_syn_arr(syn_arr_cm,wmax,r_syn=1)\n",
    "\n",
    "    end = time.time()\n",
    "    #print('Obtimize Program execution time: ',end - start)\n",
    "\n",
    "    if output==0:\n",
    "        lost=cost_v3(ori,syn,output=output)\n",
    "        return lost\n",
    "    elif output==1:\n",
    "        C=cost_v3(ori,syn,output=output)\n",
    "        return C\n",
    "    else :\n",
    "        C,lost=cost_v3(ori,syn,output=output)\n",
    "        return C, lost\n"
   ]
  },
  {
   "attachments": {},
   "cell_type": "markdown",
   "metadata": {},
   "source": [
    "## Start the optimization"
   ]
  },
  {
   "cell_type": "code",
   "execution_count": null,
   "metadata": {},
   "outputs": [],
   "source": [
    "import scipy.optimize\n",
    "# use scipy obtimaize the parameter\n",
    "opStart=time.time()\n",
    "print('Optimization Start')\n",
    "xs=[]\n",
    "losts=[]\n",
    "x0=np.asarray((75,11))\n",
    "#sigma; v0; length_Ne,r_Ne; x,y; scaling_rate;\n",
    "res=scipy.optimize.minimize(obtimize_v5,x0,method='nelder-mead',options={'maxiter':50})\n",
    "opEnd=time.time()\n",
    "print('Optimize Program Running Time: ',opEnd-opStart)"
   ]
  },
  {
   "cell_type": "code",
   "execution_count": null,
   "metadata": {},
   "outputs": [],
   "source": [
    "print(res)"
   ]
  },
  {
   "cell_type": "code",
   "execution_count": null,
   "metadata": {},
   "outputs": [],
   "source": [
    "# save all varables\n",
    "import dill\n",
    "filename='./optimization results.pkl'\n",
    "dill.dump_session(filename)"
   ]
  },
  {
   "cell_type": "code",
   "execution_count": null,
   "metadata": {},
   "outputs": [],
   "source": [
    "import dill\n",
    "dill.load_session( './optimization results.pkl')"
   ]
  },
  {
   "attachments": {},
   "cell_type": "markdown",
   "metadata": {},
   "source": [
    "## Plot the Trace Image"
   ]
  },
  {
   "cell_type": "code",
   "execution_count": null,
   "metadata": {},
   "outputs": [],
   "source": [
    "arxs=np.asarray(xs)\n",
    "plt.plot(arxs[:,0],arxs[:,1])"
   ]
  },
  {
   "cell_type": "code",
   "execution_count": null,
   "metadata": {},
   "outputs": [],
   "source": [
    "x=arxs[:,0]\n",
    "y=arxs[:,1]\n",
    "z=losts\n",
    "\n",
    "fig,ax=plt.subplots()\n",
    "cs=ax.contourf(x,y,z,cmap=plt.get_camp('Spectal'))\n",
    "\n",
    "cbar=fig.colorbar(cs)\n",
    "plt.show"
   ]
  },
  {
   "cell_type": "code",
   "execution_count": null,
   "metadata": {},
   "outputs": [],
   "source": [
    "x=np.asarray((73,16))\n",
    "C,lost=obtimize_v5(sv=x,output=2)\n",
    "Image.fromarray(np.uint8(C))"
   ]
  },
  {
   "cell_type": "code",
   "execution_count": null,
   "metadata": {},
   "outputs": [],
   "source": []
  },
  {
   "attachments": {},
   "cell_type": "markdown",
   "metadata": {},
   "source": [
    "## Draw the Local Grid"
   ]
  },
  {
   "cell_type": "code",
   "execution_count": null,
   "metadata": {},
   "outputs": [],
   "source": [
    "import dill\n",
    "dill.load_session( './optimization results.pkl')\n",
    "\n",
    "print(res)"
   ]
  },
  {
   "cell_type": "code",
   "execution_count": null,
   "metadata": {},
   "outputs": [],
   "source": [
    "arxs=np.asarray(xs)\n",
    "sigmas=arxs[:,0]\n",
    "volumes=arxs[:,1]\n",
    "\n",
    "s0=min(sigmas)-(max(sigmas)-min(sigmas))*0.05\n",
    "s1=max(sigmas)+(max(sigmas)-min(sigmas))*0.05\n",
    "\n",
    "v0=min(volumes)-(max(volumes)-min(volumes))*0.05\n",
    "v1=max(volumes)+(max(volumes)-min(volumes))*0.05\n",
    "\n"
   ]
  },
  {
   "attachments": {},
   "cell_type": "markdown",
   "metadata": {},
   "source": [
    "## Draw the Global Grid"
   ]
  },
  {
   "cell_type": "code",
   "execution_count": 4,
   "metadata": {},
   "outputs": [],
   "source": [
    "from tqdm import tqdm\n",
    "import time"
   ]
  },
  {
   "cell_type": "code",
   "execution_count": 7,
   "metadata": {},
   "outputs": [
    {
     "name": "stdout",
     "output_type": "stream",
     "text": [
      "Calculate lost of sigma[20,30) & volume[1,20)\n"
     ]
    },
    {
     "name": "stderr",
     "output_type": "stream",
     "text": [
      "100%|██████████| 5/5 [03:13<00:00, 38.71s/it] \n"
     ]
    },
    {
     "name": "stdout",
     "output_type": "stream",
     "text": [
      "Calculate lost of sigma[30,40) & volume[1,20)\n"
     ]
    },
    {
     "name": "stderr",
     "output_type": "stream",
     "text": [
      "100%|██████████| 5/5 [01:22<00:00, 16.52s/it]\n"
     ]
    },
    {
     "name": "stdout",
     "output_type": "stream",
     "text": [
      "Calculate lost of sigma[40,50) & volume[1,20)\n"
     ]
    },
    {
     "name": "stderr",
     "output_type": "stream",
     "text": [
      "100%|██████████| 5/5 [01:17<00:00, 15.54s/it]\n"
     ]
    },
    {
     "name": "stdout",
     "output_type": "stream",
     "text": [
      "Calculate lost of sigma[50,60) & volume[1,20)\n"
     ]
    },
    {
     "name": "stderr",
     "output_type": "stream",
     "text": [
      "100%|██████████| 5/5 [01:25<00:00, 17.11s/it]\n"
     ]
    },
    {
     "name": "stdout",
     "output_type": "stream",
     "text": [
      "Calculate lost of sigma[60,70) & volume[1,20)\n"
     ]
    },
    {
     "name": "stderr",
     "output_type": "stream",
     "text": [
      "100%|██████████| 5/5 [01:37<00:00, 19.49s/it]\n"
     ]
    },
    {
     "name": "stdout",
     "output_type": "stream",
     "text": [
      "Calculate lost of sigma[70,80) & volume[1,20)\n"
     ]
    },
    {
     "name": "stderr",
     "output_type": "stream",
     "text": [
      "100%|██████████| 5/5 [01:53<00:00, 22.79s/it]\n"
     ]
    },
    {
     "name": "stdout",
     "output_type": "stream",
     "text": [
      "Calculate lost of sigma[80,90) & volume[1,20)\n"
     ]
    },
    {
     "name": "stderr",
     "output_type": "stream",
     "text": [
      "100%|██████████| 5/5 [01:54<00:00, 22.81s/it]\n"
     ]
    },
    {
     "name": "stdout",
     "output_type": "stream",
     "text": [
      "Calculate lost of sigma[90,100) & volume[1,20)\n"
     ]
    },
    {
     "name": "stderr",
     "output_type": "stream",
     "text": [
      "100%|██████████| 5/5 [01:40<00:00, 20.19s/it]\n"
     ]
    }
   ],
   "source": [
    "import numpy as np\n",
    "Grid=[]\n",
    "\n",
    "v1=1\n",
    "v2=20\n",
    "\n",
    "print('Calculate lost of sigma[20,30) & volume[1,20)')\n",
    "for i in tqdm(range(20,30,2)):\n",
    "    for j in range (v1,v2,2):\n",
    "        lost=obtimize_v5(sv=np.asarray((i,j)),output=0)\n",
    "        Grid.append(np.asarray((i,j,lost)))\n",
    "\n",
    "print('Calculate lost of sigma[30,40) & volume[1,20)')\n",
    "for i in tqdm(range(30,40,2)):\n",
    "    for j in range (v1,v2,2):\n",
    "        lost=obtimize_v5(sv=np.asarray((i,j)),output=0)\n",
    "        Grid.append(np.asarray((i,j,lost)))\n",
    "\n",
    "print('Calculate lost of sigma[40,50) & volume[1,20)')\n",
    "for i in tqdm(range(40,50,2)):\n",
    "    for j in range (v1,v2,2):\n",
    "        lost=obtimize_v5(sv=np.asarray((i,j)),output=0)\n",
    "        Grid.append(np.asarray((i,j,lost)))\n",
    "\n",
    "print('Calculate lost of sigma[50,60) & volume[1,20)')\n",
    "for i in tqdm(range(50,60,2)):\n",
    "    for j in range (v1,v2,2):\n",
    "        lost=obtimize_v5(sv=np.asarray((i,j)),output=0)\n",
    "        Grid.append(np.asarray((i,j,lost)))\n",
    "\n",
    "print('Calculate lost of sigma[60,70) & volume[1,20)')\n",
    "for i in tqdm(range(60,70,2)):\n",
    "    for j in range (v1,v2,2):\n",
    "        lost=obtimize_v5(sv=np.asarray((i,j)),output=0)\n",
    "        Grid.append(np.asarray((i,j,lost)))\n",
    "\n",
    "print('Calculate lost of sigma[70,80) & volume[1,20)')\n",
    "for i in tqdm(range(70,80,2)):\n",
    "    for j in range (v1,v2,2):\n",
    "        lost=obtimize_v5(sv=np.asarray((i,j)),output=0)\n",
    "        Grid.append(np.asarray((i,j,lost)))\n",
    "\n",
    "print('Calculate lost of sigma[80,90) & volume[1,20)')\n",
    "for i in tqdm(range(80,90,2)):\n",
    "    for j in range (v1,v2,2):\n",
    "        lost=obtimize_v5(sv=np.asarray((i,j)),output=0)\n",
    "        Grid.append(np.asarray((i,j,lost)))\n",
    "        \n",
    "print('Calculate lost of sigma[90,100) & volume[1,20)')\n",
    "for i in tqdm(range(90,100,2)):\n",
    "    for j in range (v1,v2,2):\n",
    "        lost=obtimize_v5(sv=np.asarray((i,j)),output=0)\n",
    "        Grid.append(np.asarray((i,j,lost)))\n"
   ]
  },
  {
   "cell_type": "code",
   "execution_count": 37,
   "metadata": {},
   "outputs": [],
   "source": [
    "grid_arr=np.asarray(Grid)\n",
    "sigma= np.asarray(range(20,100,2))\n",
    "volume=np.asarray(range (1,20,2))\n",
    "lost=grid_arr[:,2]\n"
   ]
  },
  {
   "cell_type": "code",
   "execution_count": 38,
   "metadata": {},
   "outputs": [
    {
     "data": {
      "text/plain": [
       "array([20, 22, 24, 26, 28, 30, 32, 34, 36, 38, 40, 42, 44, 46, 48, 50, 52,\n",
       "       54, 56, 58, 60, 62, 64, 66, 68, 70, 72, 74, 76, 78, 80, 82, 84, 86,\n",
       "       88, 90, 92, 94, 96, 98])"
      ]
     },
     "execution_count": 38,
     "metadata": {},
     "output_type": "execute_result"
    }
   ],
   "source": [
    "sigma"
   ]
  },
  {
   "cell_type": "code",
   "execution_count": 39,
   "metadata": {},
   "outputs": [
    {
     "data": {
      "text/plain": [
       "array([[22.        ,  1.        ,  0.41462443],\n",
       "       [22.        ,  3.        ,  0.32058179],\n",
       "       [22.        ,  5.        ,  0.22454672],\n",
       "       [22.        ,  7.        ,  0.41462443],\n",
       "       [22.        ,  9.        ,  0.14624427],\n",
       "       [22.        , 11.        ,  0.32396892],\n",
       "       [22.        , 13.        ,  0.27176728],\n",
       "       [22.        , 15.        ,  0.65650528],\n",
       "       [22.        , 17.        ,  0.58916119],\n",
       "       [22.        , 19.        ,  0.56066946]])"
      ]
     },
     "execution_count": 39,
     "metadata": {},
     "output_type": "execute_result"
    }
   ],
   "source": [
    "grid_arr[10:20]\n"
   ]
  },
  {
   "cell_type": "code",
   "execution_count": 41,
   "metadata": {},
   "outputs": [
    {
     "data": {
      "text/plain": [
       "array([[0.41462443, 0.30942419, 0.21737398, 0.41462443, 0.4670253 ,\n",
       "        0.43793584, 0.41462443, 0.49193066, 0.42717673, 0.41462443],\n",
       "       [0.41462443, 0.32058179, 0.22454672, 0.41462443, 0.14624427,\n",
       "        0.32396892, 0.27176728, 0.65650528, 0.58916119, 0.56066946],\n",
       "       [0.26100817, 0.25622634, 0.23331341, 0.15700339, 0.42279339,\n",
       "        0.41462443, 0.50986252, 0.3972903 , 0.46881849, 0.50966328],\n",
       "       [0.30962343, 0.27953776, 0.23391114, 0.16118749, 0.52241482,\n",
       "        0.31241283, 0.39191074, 0.39330544, 0.4516836 , 0.64016736],\n",
       "       [0.45228133, 0.26479378, 0.23948994, 0.1733413 , 0.22713688,\n",
       "        0.41462443, 0.41462443, 0.41462443, 0.4237896 , 0.41462443],\n",
       "       [0.34847579, 0.24706117, 0.24606495, 0.16895796, 0.60669456,\n",
       "        0.59493923, 0.43275553, 0.36401674, 0.40386531, 0.5329747 ],\n",
       "       [0.23948994, 0.25343694, 0.24885435, 0.17931859, 0.11038055,\n",
       "        0.46124726, 0.36142658, 0.41462443, 0.4502889 , 0.37278342],\n",
       "       [0.28989839, 0.2476589 , 0.25682407, 0.18410042, 0.12333134,\n",
       "        0.41462443, 0.64136282, 0.57740586, 0.65929468, 0.678422  ],\n",
       "       [0.36979478, 0.25403467, 0.26499303, 0.19067543, 0.12492528,\n",
       "        0.41462443, 0.55429368, 0.41462443, 0.41462443, 0.40326758],\n",
       "       [0.30663479, 0.35564854, 0.27296274, 0.19665272, 0.12950787,\n",
       "        0.42697749, 0.64215979, 0.41083881, 0.43614266, 0.41362821],\n",
       "       [0.60370592, 0.24805738, 0.28133094, 0.19306635, 0.1273162 ,\n",
       "        0.07750548, 0.41462443, 0.55050807, 0.52082088, 0.37497509],\n",
       "       [0.51404662, 0.45427376, 0.28750747, 0.20083682, 0.13169954,\n",
       "        0.07670851, 0.41462443, 0.65192269, 0.41462443, 0.47579199],\n",
       "       [0.41462443, 0.54791791, 0.29746962, 0.20820881, 0.14484957,\n",
       "        0.08049412, 0.46403666, 0.58079299, 0.35345686, 0.55867703],\n",
       "       [0.69555688, 0.35226141, 0.19884439, 0.21597928, 0.15082686,\n",
       "        0.08447898, 0.13867304, 0.41462443, 0.41462443, 0.41462443],\n",
       "       [0.31819087, 0.47997609, 0.65152421, 0.21518231, 0.14504881,\n",
       "        0.08049412, 0.08866308, 0.65471209, 0.41462443, 0.69754931],\n",
       "       [0.27216577, 0.29448097, 0.19764893, 0.22335127, 0.1524208 ,\n",
       "        0.09324567, 0.06774258, 0.40725244, 0.41462443, 0.49372385],\n",
       "       [0.59254832, 0.40506077, 0.412632  , 0.23112174, 0.16019127,\n",
       "        0.10021917, 0.05359633, 0.49073521, 0.26738394, 0.41462443],\n",
       "       [0.3173939 , 0.41462443, 0.20382546, 0.23311417, 0.16098824,\n",
       "        0.09862522, 0.05160391, 0.41880853, 0.41462443, 0.45048815],\n",
       "       [0.41462443, 0.41083881, 0.41462443, 0.24148237, 0.1691572 ,\n",
       "        0.09862522, 0.04801753, 0.10838813, 0.42618051, 0.37198645],\n",
       "       [0.29906356, 0.41462443, 0.20282925, 0.24925284, 0.17015342,\n",
       "        0.10659494, 0.05220163, 0.08308428, 0.41462443, 0.41462443],\n",
       "       [0.39410241, 0.44391313, 0.762104  , 0.25084678, 0.17712692,\n",
       "        0.11436541, 0.05140466, 0.06276151, 0.25841801, 0.3034469 ],\n",
       "       [0.2825264 , 0.58158996, 0.41462443, 0.25941423, 0.17832237,\n",
       "        0.1105798 , 0.05758119, 0.05459255, 0.37696752, 0.6812114 ],\n",
       "       [0.41103806, 0.4712094 , 0.20561865, 0.26060968, 0.18688982,\n",
       "        0.11954573, 0.06375772, 0.04403268, 0.18928073, 0.41462443],\n",
       "       [0.38991831, 0.38274557, 0.28412034, 0.26917713, 0.188683  ,\n",
       "        0.12851166, 0.06475394, 0.03088265, 0.10958358, 0.41303048],\n",
       "       [0.38991831, 0.39848575, 0.27854154, 0.27854154, 0.19685196,\n",
       "        0.12930863, 0.07272365, 0.02988643, 0.0952381 , 0.62861128],\n",
       "       [0.38991831, 0.20302849, 0.27455668, 0.28750747, 0.19864515,\n",
       "        0.13827456, 0.07770472, 0.02729627, 0.08049412, 0.47300259],\n",
       "       [0.38553497, 0.36401674, 0.38115162, 0.20701335, 0.20601713,\n",
       "        0.13927077, 0.07850169, 0.02470612, 0.06794182, 0.19127316],\n",
       "       [0.38553497, 0.25204224, 0.26658697, 0.20541941, 0.20820881,\n",
       "        0.14066547, 0.08806535, 0.03187886, 0.05678422, 0.22115959],\n",
       "       [0.38553497, 0.71428571, 0.26280135, 0.21119745, 0.21617852,\n",
       "        0.1496314 , 0.08886232, 0.03148037, 0.04642359, 0.12552301],\n",
       "       [0.38553497, 0.35963339, 0.38872285, 0.21099821, 0.21797171,\n",
       "        0.15022913, 0.09025702, 0.0362622 , 0.03646145, 0.11237298],\n",
       "       [0.38553497, 0.39250847, 0.35325762, 0.41462443, 0.22614067,\n",
       "        0.15959354, 0.09822674, 0.04522813, 0.03466826, 0.09762901],\n",
       "       [0.38553497, 0.40067743, 0.41462443, 0.21040048, 0.22873082,\n",
       "        0.15899582, 0.10021917, 0.04622435, 0.02630006, 0.08587368],\n",
       "       [0.38553497, 0.18768679, 0.46523212, 0.21099821, 0.23709902,\n",
       "        0.16875872, 0.10938434, 0.05538952, 0.02550309, 0.07531381],\n",
       "       [0.38553497, 0.41721458, 0.47559275, 0.21219366, 0.23849372,\n",
       "        0.16935645, 0.11038055, 0.05658498, 0.01972504, 0.07352062],\n",
       "       [0.38553497, 0.33731819, 0.41462443, 0.21817095, 0.2476589 ,\n",
       "        0.17075115, 0.11097828, 0.05837816, 0.02032277, 0.06335923],\n",
       "       [0.38553497, 0.62701733, 0.27654911, 0.41362821, 0.24825662,\n",
       "        0.17991632, 0.12014345, 0.06674636, 0.02131899, 0.05319785],\n",
       "       [0.38553497, 0.33731819, 0.50846782, 0.41462443, 0.25662483,\n",
       "        0.18091253, 0.12133891, 0.06873879, 0.0167364 , 0.05260012],\n",
       "       [0.38553497, 0.33970911, 0.59872485, 0.56345886, 0.25841801,\n",
       "        0.18190875, 0.13110181, 0.07790396, 0.01773262, 0.04383343],\n",
       "       [0.38553497, 0.33990835, 0.43136083, 0.32317195, 0.26917713,\n",
       "        0.19087468, 0.13249651, 0.07969715, 0.02669855, 0.04303646],\n",
       "       [0.38553497, 0.33970911, 0.41382746, 0.40406455, 0.27515441,\n",
       "        0.19426181, 0.13329348, 0.08149034, 0.02769476, 0.03586372]])"
      ]
     },
     "execution_count": 41,
     "metadata": {},
     "output_type": "execute_result"
    }
   ],
   "source": [
    "lost2d=np.reshape(lost,(40,10))\n",
    "lost2d"
   ]
  },
  {
   "cell_type": "code",
   "execution_count": 45,
   "metadata": {},
   "outputs": [],
   "source": [
    "import dill\n",
    "dill.dump_session( './GlobalGrid.pkl')\n"
   ]
  },
  {
   "cell_type": "code",
   "execution_count": 43,
   "metadata": {},
   "outputs": [
    {
     "data": {
      "image/png": "[encoded data removed]",
      "text/plain": [
       "<Figure size 640x480 with 2 Axes>"
      ]
     },
     "metadata": {},
     "output_type": "display_data"
    }
   ],
   "source": [
    "import matplotlib.pyplot as plt\n",
    "import numpy as np\n",
    "from numpy import ma\n",
    "from matplotlib import ticker, cm\n",
    "#进行绘图\n",
    "fig, ax = plt.subplots()\n",
    "cs = ax.contourf(volume,sigma, lost2d, cmap=plt.get_cmap('Spectral'))\n",
    "#添加colorbar\n",
    "cbar = fig.colorbar(cs)\n",
    "plt.show()"
   ]
  }
 ],
 "metadata": {
  "kernelspec": {
   "display_name": "Python 3",
   "language": "python",
   "name": "python3"
  },
  "language_info": {
   "codemirror_mode": {
    "name": "ipython",
    "version": 3
   },
   "file_extension": ".py",
   "mimetype": "text/x-python",
   "name": "python",
   "nbconvert_exporter": "python",
   "pygments_lexer": "ipython3",
   "version": "3.10.9"
  },
  "orig_nbformat": 4,
  "vscode": {
   "interpreter": {
    "hash": "60437aad8983babfce94e0da8b300c92c022ccf7e7dbddf7a08c08f7ecf8beba"
   }
  }
 },
 "nbformat": 4,
 "nbformat_minor": 2
}
