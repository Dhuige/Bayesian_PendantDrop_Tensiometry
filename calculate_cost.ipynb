{
 "cells": [
  {
   "cell_type": "code",
   "execution_count": 4,
   "metadata": {},
   "outputs": [],
   "source": [
    "import numpy as np\n",
    "from adjust_parameter_v5 import obtimize_v5\n",
    "import dill\n",
    "import tqdm"
   ]
  },
  {
   "cell_type": "code",
   "execution_count": 18,
   "metadata": {},
   "outputs": [],
   "source": [
    "dill.load_session('./optimization results.pkl')"
   ]
  },
  {
   "attachments": {},
   "cell_type": "markdown",
   "metadata": {},
   "source": [
    "## Cost Calculation Function"
   ]
  },
  {
   "cell_type": "code",
   "execution_count": 5,
   "metadata": {},
   "outputs": [],
   "source": [
    "def area_cost(v1,v2):\n",
    "    Grid=[]\n",
    "\n",
    "    print('Calculate lost of sigma[20,30) & volume[%.2f,%.2f)'%(v1, v2))\n",
    "    for i in tqdm(range(20,30,2)):\n",
    "        for j in range (v1,v2,2):\n",
    "            lost=obtimize_v5(sv=np.asarray((i,j)),output=0,append=0)\n",
    "            Grid.append(np.asarray((i,j,lost)))\n",
    "\n",
    "    print('Calculate lost of sigma[30,40) & volume[%.2f,%.2f)'%(v1, v2))\n",
    "    for i in tqdm(range(30,40,2)):\n",
    "        for j in range (v1,v2,2):\n",
    "            lost=obtimize_v5(sv=np.asarray((i,j)),output=0,append=0)\n",
    "            Grid.append(np.asarray((i,j,lost)))\n",
    "\n",
    "    print('Calculate lost of sigma[40,50) & volume[%.2f,%.2f)'%(v1, v2))\n",
    "    for i in tqdm(range(40,50,2)):\n",
    "        for j in range (v1,v2,2):\n",
    "            lost=obtimize_v5(sv=np.asarray((i,j)),output=0,append=0)\n",
    "            Grid.append(np.asarray((i,j,lost)))\n",
    "\n",
    "    print('Calculate lost of sigma[50,60) & volume[%.2f,%.2f)'%(v1, v2))\n",
    "    for i in tqdm(range(50,60,2)):\n",
    "        for j in range (v1,v2,2):\n",
    "            lost=obtimize_v5(sv=np.asarray((i,j)),output=0,append=0)\n",
    "            Grid.append(np.asarray((i,j,lost)))\n",
    "\n",
    "    print('Calculate lost of sigma[60,70) & volume[%.2f,%.2f)'%(v1, v2))\n",
    "    for i in tqdm(range(60,70,2)):\n",
    "        for j in range (v1,v2,2):\n",
    "            lost=obtimize_v5(sv=np.asarray((i,j)),output=0,append=0)\n",
    "            Grid.append(np.asarray((i,j,lost)))\n",
    "\n",
    "    print('Calculate lost of sigma[70,80) & volume[%.2f,%.2f)'%(v1, v2))\n",
    "    for i in tqdm(range(70,80,2)):\n",
    "        for j in range (v1,v2,2):\n",
    "            lost=obtimize_v5(sv=np.asarray((i,j)),output=0,append=0)\n",
    "            Grid.append(np.asarray((i,j,lost)))\n",
    "\n",
    "    print('Calculate lost of sigma[80,90) & volume[%.2f,%.2f)'%(v1, v2))\n",
    "    for i in tqdm(range(80,90,2)):\n",
    "        for j in range (v1,v2,2):\n",
    "            lost=obtimize_v5(sv=np.asarray((i,j)),output=0,append=0)\n",
    "            Grid.append(np.asarray((i,j,lost)))\n",
    "\n",
    "    print('Calculate lost of sigma[90,100) & volume[%.2f,%.2f)'%(v1, v2))\n",
    "    for i in tqdm(range(90,100,2)):\n",
    "        for j in range (v1,v2,2):\n",
    "            lost=obtimize_v5(sv=np.asarray((i,j)),output=0,append=0)\n",
    "            Grid.append(np.asarray((i,j,lost)))\n",
    "    return Grid"
   ]
  },
  {
   "cell_type": "code",
   "execution_count": 4,
   "metadata": {},
   "outputs": [
    {
     "name": "stdout",
     "output_type": "stream",
     "text": [
      "Calculate lost of sigma[20,30) & volume[1,20)\n"
     ]
    },
    {
     "name": "stderr",
     "output_type": "stream",
     "text": [
      "100%|██████████| 5/5 [00:21<00:00,  4.24s/it]\n"
     ]
    },
    {
     "name": "stdout",
     "output_type": "stream",
     "text": [
      "Calculate lost of sigma[30,40) & volume[1,20)\n"
     ]
    },
    {
     "name": "stderr",
     "output_type": "stream",
     "text": [
      "100%|██████████| 5/5 [00:14<00:00,  2.90s/it]\n"
     ]
    },
    {
     "name": "stdout",
     "output_type": "stream",
     "text": [
      "Calculate lost of sigma[40,50) & volume[1,20)\n"
     ]
    },
    {
     "name": "stderr",
     "output_type": "stream",
     "text": [
      "100%|██████████| 5/5 [00:14<00:00,  2.88s/it]\n"
     ]
    },
    {
     "name": "stdout",
     "output_type": "stream",
     "text": [
      "Calculate lost of sigma[50,60) & volume[1,20)\n"
     ]
    },
    {
     "name": "stderr",
     "output_type": "stream",
     "text": [
      "100%|██████████| 5/5 [00:14<00:00,  2.93s/it]\n"
     ]
    },
    {
     "name": "stdout",
     "output_type": "stream",
     "text": [
      "Calculate lost of sigma[60,70) & volume[1,20)\n"
     ]
    },
    {
     "name": "stderr",
     "output_type": "stream",
     "text": [
      "100%|██████████| 5/5 [01:20<00:00, 16.05s/it]\n"
     ]
    },
    {
     "name": "stdout",
     "output_type": "stream",
     "text": [
      "Calculate lost of sigma[70,80) & volume[1,20)\n"
     ]
    },
    {
     "name": "stderr",
     "output_type": "stream",
     "text": [
      "100%|██████████| 5/5 [00:32<00:00,  6.51s/it]\n"
     ]
    },
    {
     "name": "stdout",
     "output_type": "stream",
     "text": [
      "Calculate lost of sigma[80,90) & volume[1,20)\n"
     ]
    },
    {
     "name": "stderr",
     "output_type": "stream",
     "text": [
      "100%|██████████| 5/5 [02:17<00:00, 27.41s/it]\n"
     ]
    },
    {
     "name": "stdout",
     "output_type": "stream",
     "text": [
      "Calculate lost of sigma[90,100) & volume[1,20)\n"
     ]
    },
    {
     "name": "stderr",
     "output_type": "stream",
     "text": [
      "100%|██████████| 5/5 [01:39<00:00, 19.98s/it]\n"
     ]
    }
   ],
   "source": [
    "Grid2=area_cost(20,30)"
   ]
  },
  {
   "cell_type": "code",
   "execution_count": null,
   "metadata": {},
   "outputs": [],
   "source": [
    "Grid3=area_cost(30,40)"
   ]
  },
  {
   "cell_type": "code",
   "execution_count": 11,
   "metadata": {},
   "outputs": [],
   "source": [
    "grid_arr2=np.asarray(Grid2)\n",
    "sigma= np.asarray(range(20,100,2))\n",
    "volume=np.asarray(range (0,30,2))\n",
    "lost2=grid_arr2[:,2]\n",
    "lost2d_20_30=np.reshape(lost2,(40,5))"
   ]
  },
  {
   "cell_type": "code",
   "execution_count": 12,
   "metadata": {},
   "outputs": [],
   "source": [
    "lost2d_all=np.hstack((lost2d,lost2d_20_30))"
   ]
  },
  {
   "attachments": {},
   "cell_type": "markdown",
   "metadata": {},
   "source": [
    "## Plot The Contour Map"
   ]
  },
  {
   "cell_type": "code",
   "execution_count": 5,
   "metadata": {},
   "outputs": [
    {
     "ename": "AttributeError",
     "evalue": "Can't get attribute '_key_handler' on <module 'matplotlib.backend_bases' from '/Library/Frameworks/Python.framework/Versions/3.9/lib/python3.9/site-packages/matplotlib/backend_bases.py'>",
     "output_type": "error",
     "traceback": [
      "\u001b[0;31m---------------------------------------------------------------------------\u001b[0m",
      "\u001b[0;31mAttributeError\u001b[0m                            Traceback (most recent call last)",
      "\u001b[1;32m/Users/yicheng/Library/CloudStorage/OneDrive-Personal/TU_eindhoven/Q6_Internship/Matlab2Python/Bayesian_PendantDrop_Tensiometry/calculate_cost.ipynb Cell 10\u001b[0m in \u001b[0;36m<cell line: 2>\u001b[0;34m()\u001b[0m\n\u001b[1;32m      <a href='vscode-notebook-cell:/Users/yicheng/Library/CloudStorage/OneDrive-Personal/TU_eindhoven/Q6_Internship/Matlab2Python/Bayesian_PendantDrop_Tensiometry/calculate_cost.ipynb#X12sZmlsZQ%3D%3D?line=0'>1</a>\u001b[0m \u001b[39m# Read the costs data\u001b[39;00m\n\u001b[0;32m----> <a href='vscode-notebook-cell:/Users/yicheng/Library/CloudStorage/OneDrive-Personal/TU_eindhoven/Q6_Internship/Matlab2Python/Bayesian_PendantDrop_Tensiometry/calculate_cost.ipynb#X12sZmlsZQ%3D%3D?line=1'>2</a>\u001b[0m dill\u001b[39m.\u001b[39;49mload_session( \u001b[39m'\u001b[39;49m\u001b[39m./GlobalGrid_v1.0.pkl\u001b[39;49m\u001b[39m'\u001b[39;49m)\n",
      "File \u001b[0;32m/Library/Frameworks/Python.framework/Versions/3.9/lib/python3.9/site-packages/dill/session.py:489\u001b[0m, in \u001b[0;36mload_session\u001b[0;34m(filename, main, **kwds)\u001b[0m\n\u001b[1;32m    487\u001b[0m \u001b[39mdef\u001b[39;00m \u001b[39mload_session\u001b[39m(filename\u001b[39m=\u001b[39m\u001b[39mstr\u001b[39m(TEMPDIR\u001b[39m/\u001b[39m\u001b[39m'\u001b[39m\u001b[39msession.pkl\u001b[39m\u001b[39m'\u001b[39m), main\u001b[39m=\u001b[39m\u001b[39mNone\u001b[39;00m, \u001b[39m*\u001b[39m\u001b[39m*\u001b[39mkwds):\n\u001b[1;32m    488\u001b[0m     warnings\u001b[39m.\u001b[39mwarn(\u001b[39m\"\u001b[39m\u001b[39mload_session() has been renamed load_module().\u001b[39m\u001b[39m\"\u001b[39m, \u001b[39mPendingDeprecationWarning\u001b[39;00m)\n\u001b[0;32m--> 489\u001b[0m     load_module(filename, module\u001b[39m=\u001b[39;49mmain, \u001b[39m*\u001b[39;49m\u001b[39m*\u001b[39;49mkwds)\n",
      "File \u001b[0;32m/Library/Frameworks/Python.framework/Versions/3.9/lib/python3.9/site-packages/dill/session.py:471\u001b[0m, in \u001b[0;36mload_module\u001b[0;34m(filename, module, **kwds)\u001b[0m\n\u001b[1;32m    468\u001b[0m         runtime_main \u001b[39m=\u001b[39m \u001b[39m'\u001b[39m\u001b[39m__runtime__.\u001b[39m\u001b[39m%s\u001b[39;00m\u001b[39m'\u001b[39m \u001b[39m%\u001b[39m main\u001b[39m.\u001b[39m\u001b[39m__name__\u001b[39m\n\u001b[1;32m    469\u001b[0m         sys\u001b[39m.\u001b[39mmodules[runtime_main] \u001b[39m=\u001b[39m main\n\u001b[0;32m--> 471\u001b[0m     loaded \u001b[39m=\u001b[39m unpickler\u001b[39m.\u001b[39;49mload()\n\u001b[1;32m    472\u001b[0m \u001b[39mfinally\u001b[39;00m:\n\u001b[1;32m    473\u001b[0m     \u001b[39mif\u001b[39;00m \u001b[39mnot\u001b[39;00m \u001b[39mhasattr\u001b[39m(filename, \u001b[39m'\u001b[39m\u001b[39mread\u001b[39m\u001b[39m'\u001b[39m):  \u001b[39m# if newly opened file\u001b[39;00m\n",
      "File \u001b[0;32m/Library/Frameworks/Python.framework/Versions/3.9/lib/python3.9/site-packages/dill/_dill.py:419\u001b[0m, in \u001b[0;36mUnpickler.load\u001b[0;34m(self)\u001b[0m\n\u001b[1;32m    418\u001b[0m \u001b[39mdef\u001b[39;00m \u001b[39mload\u001b[39m(\u001b[39mself\u001b[39m): \u001b[39m#NOTE: if settings change, need to update attributes\u001b[39;00m\n\u001b[0;32m--> 419\u001b[0m     obj \u001b[39m=\u001b[39m StockUnpickler\u001b[39m.\u001b[39;49mload(\u001b[39mself\u001b[39;49m)\n\u001b[1;32m    420\u001b[0m     \u001b[39mif\u001b[39;00m \u001b[39mtype\u001b[39m(obj)\u001b[39m.\u001b[39m\u001b[39m__module__\u001b[39m \u001b[39m==\u001b[39m \u001b[39mgetattr\u001b[39m(_main_module, \u001b[39m'\u001b[39m\u001b[39m__name__\u001b[39m\u001b[39m'\u001b[39m, \u001b[39m'\u001b[39m\u001b[39m__main__\u001b[39m\u001b[39m'\u001b[39m):\n\u001b[1;32m    421\u001b[0m         \u001b[39mif\u001b[39;00m \u001b[39mnot\u001b[39;00m \u001b[39mself\u001b[39m\u001b[39m.\u001b[39m_ignore:\n\u001b[1;32m    422\u001b[0m             \u001b[39m# point obj class to main\u001b[39;00m\n",
      "File \u001b[0;32m/Library/Frameworks/Python.framework/Versions/3.9/lib/python3.9/site-packages/dill/_dill.py:409\u001b[0m, in \u001b[0;36mUnpickler.find_class\u001b[0;34m(self, module, name)\u001b[0m\n\u001b[1;32m    407\u001b[0m     \u001b[39mreturn\u001b[39;00m \u001b[39mtype\u001b[39m(\u001b[39mNone\u001b[39;00m) \u001b[39m#XXX: special case: NoneType missing\u001b[39;00m\n\u001b[1;32m    408\u001b[0m \u001b[39mif\u001b[39;00m module \u001b[39m==\u001b[39m \u001b[39m'\u001b[39m\u001b[39mdill.dill\u001b[39m\u001b[39m'\u001b[39m: module \u001b[39m=\u001b[39m \u001b[39m'\u001b[39m\u001b[39mdill._dill\u001b[39m\u001b[39m'\u001b[39m\n\u001b[0;32m--> 409\u001b[0m \u001b[39mreturn\u001b[39;00m StockUnpickler\u001b[39m.\u001b[39;49mfind_class(\u001b[39mself\u001b[39;49m, module, name)\n",
      "\u001b[0;31mAttributeError\u001b[0m: Can't get attribute '_key_handler' on <module 'matplotlib.backend_bases' from '/Library/Frameworks/Python.framework/Versions/3.9/lib/python3.9/site-packages/matplotlib/backend_bases.py'>"
     ]
    }
   ],
   "source": [
    "# Read the costs data\n",
    "dill.load_session( './GlobalGrid_v1.0.pkl')"
   ]
  },
  {
   "cell_type": "code",
   "execution_count": 54,
   "metadata": {},
   "outputs": [
    {
     "data": {
      "image/png": "[encoded data removed]",
      "text/plain": [
       "<Figure size 640x480 with 2 Axes>"
      ]
     },
     "metadata": {},
     "output_type": "display_data"
    }
   ],
   "source": [
    "import matplotlib.pyplot as plt\n",
    "\n",
    "lost2d_part=lost2d_all+0\n",
    "lost2d_part[lost2d_part > 0.1] = 0.1\n",
    "\n",
    "fig, ax = plt.subplots()\n",
    "cs = ax.contourf(volume, sigma, lost2d_part, cmap=plt.get_cmap('Spectral'))\n",
    "\n",
    "# data from optimization\n",
    "# im = ax.scatter(y,x,marker='.')\n",
    "# order of optimization point\n",
    "# n=np.arange(y.shape[0])\n",
    "# for i,txt in enumerate(n):\n",
    "#     ax.annotate(txt,(y[i],x[i]))\n",
    "# \n",
    "# cbar = fig.colorbar(cs)\n",
    "\n",
    "plt.xlabel('volume')#x轴从1到7.1\n",
    "plt.ylabel('sigma')#y轴从40到100\n",
    "\n",
    "plt.xlim((9,17))\n",
    "plt.ylim((40,80))\n",
    "\n",
    "plt.show()"
   ]
  },
  {
   "cell_type": "code",
   "execution_count": 88,
   "metadata": {},
   "outputs": [],
   "source": [
    "#save the cost map\n",
    "dill.dump_session( './GlobalGrid_v1.0.pkl')"
   ]
  }
 ],
 "metadata": {
  "kernelspec": {
   "display_name": "Python 3",
   "language": "python",
   "name": "python3"
  },
  "language_info": {
   "codemirror_mode": {
    "name": "ipython",
    "version": 3
   },
   "file_extension": ".py",
   "mimetype": "text/x-python",
   "name": "python",
   "nbconvert_exporter": "python",
   "pygments_lexer": "ipython3",
   "version": "3.9.10"
  },
  "orig_nbformat": 4,
  "vscode": {
   "interpreter": {
    "hash": "aee8b7b246df8f9039afb4144a1f6fd8d2ca17a180786b69acc140d282b71a49"
   }
  }
 },
 "nbformat": 4,
 "nbformat_minor": 2
}
