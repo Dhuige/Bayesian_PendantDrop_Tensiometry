{
 "cells": [
  {
   "cell_type": "code",
   "execution_count": 4,
   "metadata": {},
   "outputs": [],
   "source": [
    "import numpy as np\n",
    "from fun_optimization_v5 import obtimize_v5\n",
    "import dill\n",
    "from tqdm import tqdm\n",
    "from tqdm.notebook import trange, tqdm"
   ]
  },
  {
   "cell_type": "code",
   "execution_count": 6,
   "metadata": {},
   "outputs": [
    {
     "name": "stdout",
     "output_type": "stream",
     "text": [
      ".\n"
     ]
    }
   ],
   "source": [
    "path='.'\n",
    "print(path.ovpath)"
   ]
  },
  {
   "attachments": {},
   "cell_type": "markdown",
   "metadata": {},
   "source": [
    "## Cost Calculation Function"
   ]
  },
  {
   "cell_type": "code",
   "execution_count": 19,
   "metadata": {},
   "outputs": [],
   "source": [
    "def area_cost(v1,v2,step_s=2,step_v=2):\n",
    "    Grid=[]\n",
    "\n",
    "#    print('Calculate lost of sigma[10,20) & volume[%.2f,%.2f)'%(v1, v2))\n",
    "#    for i in tqdm(range(10,20,step_s)):\n",
    "#        for j in range (v1,v2,step_v):\n",
    "#            lost=obtimize_v5(sv=np.asarray((i,j)),output=0,append=0)\n",
    "#            Grid.append(np.asarray((i,j,lost)))\n",
    "#\n",
    "#    print('Calculate lost of sigma[20,30) & volume[%.2f,%.2f)'%(v1, v2))\n",
    "#    for i in tqdm(range(20,30,step_s)):\n",
    "#        for j in range (v1,v2,step_v):\n",
    "#            lost=obtimize_v5(sv=np.asarray((i,j)),output=0,append=0)\n",
    "#            Grid.append(np.asarray((i,j,lost)))\n",
    "#\n",
    "#    print('Calculate lost of sigma[30,40) & volume[%.2f,%.2f)'%(v1, v2))\n",
    "#    for i in tqdm(range(30,40,step_s)):\n",
    "#        for j in range (v1,v2,step_v):\n",
    "#            lost=obtimize_v5(sv=np.asarray((i,j)),output=0,append=0)\n",
    "#            Grid.append(np.asarray((i,j,lost)))\n",
    "\n",
    "    print('Calculate lost of sigma[40,50) & volume[%.2f,%.2f)'%(v1, v2))\n",
    "    for i in tqdm(range(40,45,step_s)):\n",
    "        for j in range (v1,v2,step_v):\n",
    "            lost=obtimize_v5(sv=np.asarray((i,j)),output=0,append=0)\n",
    "            Grid.append(np.asarray((i,j,lost)))\n",
    "\n",
    "    print('Calculate lost of sigma[50,60) & volume[%.2f,%.2f)'%(v1, v2))\n",
    "    for i in tqdm(range(50,60,step_s)):\n",
    "        for j in range (v1,v2,step_v):\n",
    "            lost=obtimize_v5(sv=np.asarray((i,j)),output=0,append=0)\n",
    "            Grid.append(np.asarray((i,j,lost)))\n",
    "\n",
    "    print('Calculate lost of sigma[60,70) & volume[%.2f,%.2f)'%(v1, v2))\n",
    "    for i in tqdm(range(60,70,step_s)):\n",
    "        for j in range (v1,v2,step_v):\n",
    "            lost=obtimize_v5(sv=np.asarray((i,j)),output=0,append=0)\n",
    "            Grid.append(np.asarray((i,j,lost)))\n",
    "\n",
    "    print('Calculate lost of sigma[70,80) & volume[%.2f,%.2f)'%(v1, v2))\n",
    "    for i in tqdm(range(70,80,step_s)):\n",
    "        for j in range (v1,v2,step_v):\n",
    "            lost=obtimize_v5(sv=np.asarray((i,j)),output=0,append=0)\n",
    "            Grid.append(np.asarray((i,j,lost)))\n",
    "\n",
    "    print('Calculate lost of sigma[80,90) & volume[%.2f,%.2f)'%(v1, v2))\n",
    "    for i in tqdm(range(80,90,step_s)):\n",
    "        for j in range (v1,v2,step_v):\n",
    "            lost=obtimize_v5(sv=np.asarray((i,j)),output=0,append=0)\n",
    "            Grid.append(np.asarray((i,j,lost)))\n",
    "\n",
    "    print('Calculate lost of sigma[90,100) & volume[%.2f,%.2f)'%(v1, v2))\n",
    "    for i in tqdm(range(90,100,step_s)):\n",
    "        for j in range (v1,v2,step_v):\n",
    "            lost=obtimize_v5(sv=np.asarray((i,j)),output=0,append=0)\n",
    "            Grid.append(np.asarray((i,j,lost)))\n",
    "    \n",
    "\n",
    "    return Grid"
   ]
  },
  {
   "cell_type": "code",
   "execution_count": 20,
   "metadata": {},
   "outputs": [
    {
     "name": "stdout",
     "output_type": "stream",
     "text": [
      "Calculate lost of sigma[40,50) & volume[10.00,15.00)\n"
     ]
    },
    {
     "name": "stderr",
     "output_type": "stream",
     "text": [
      "100%|██████████| 10/10 [01:57<00:00, 11.78s/it]\n"
     ]
    },
    {
     "name": "stdout",
     "output_type": "stream",
     "text": [
      "Calculate lost of sigma[50,60) & volume[10.00,15.00)\n"
     ]
    },
    {
     "name": "stderr",
     "output_type": "stream",
     "text": [
      "100%|██████████| 10/10 [02:35<00:00, 15.54s/it]\n"
     ]
    },
    {
     "name": "stdout",
     "output_type": "stream",
     "text": [
      "Calculate lost of sigma[60,70) & volume[10.00,15.00)\n"
     ]
    },
    {
     "name": "stderr",
     "output_type": "stream",
     "text": [
      "100%|██████████| 10/10 [02:48<00:00, 16.83s/it]\n"
     ]
    },
    {
     "name": "stdout",
     "output_type": "stream",
     "text": [
      "Calculate lost of sigma[70,80) & volume[10.00,15.00)\n"
     ]
    },
    {
     "name": "stderr",
     "output_type": "stream",
     "text": [
      "100%|██████████| 10/10 [03:04<00:00, 18.49s/it]\n"
     ]
    },
    {
     "name": "stdout",
     "output_type": "stream",
     "text": [
      "Calculate lost of sigma[80,90) & volume[10.00,15.00)\n"
     ]
    },
    {
     "name": "stderr",
     "output_type": "stream",
     "text": [
      "100%|██████████| 10/10 [02:51<00:00, 17.18s/it]\n"
     ]
    },
    {
     "name": "stdout",
     "output_type": "stream",
     "text": [
      "Calculate lost of sigma[90,100) & volume[10.00,15.00)\n"
     ]
    },
    {
     "name": "stderr",
     "output_type": "stream",
     "text": [
      "100%|██████████| 10/10 [02:52<00:00, 17.26s/it]\n"
     ]
    },
    {
     "name": "stdout",
     "output_type": "stream",
     "text": [
      "Calculate lost of sigma[40,50) & volume[15.00,20.00)\n"
     ]
    },
    {
     "name": "stderr",
     "output_type": "stream",
     "text": [
      "100%|██████████| 10/10 [00:41<00:00,  4.11s/it]\n"
     ]
    },
    {
     "name": "stdout",
     "output_type": "stream",
     "text": [
      "Calculate lost of sigma[50,60) & volume[15.00,20.00)\n"
     ]
    },
    {
     "name": "stderr",
     "output_type": "stream",
     "text": [
      "100%|██████████| 10/10 [01:21<00:00,  8.20s/it]\n"
     ]
    },
    {
     "name": "stdout",
     "output_type": "stream",
     "text": [
      "Calculate lost of sigma[60,70) & volume[15.00,20.00)\n"
     ]
    },
    {
     "name": "stderr",
     "output_type": "stream",
     "text": [
      "100%|██████████| 10/10 [03:39<00:00, 21.94s/it]\n"
     ]
    },
    {
     "name": "stdout",
     "output_type": "stream",
     "text": [
      "Calculate lost of sigma[70,80) & volume[15.00,20.00)\n"
     ]
    },
    {
     "name": "stderr",
     "output_type": "stream",
     "text": [
      "100%|██████████| 10/10 [02:55<00:00, 17.55s/it]\n"
     ]
    },
    {
     "name": "stdout",
     "output_type": "stream",
     "text": [
      "Calculate lost of sigma[80,90) & volume[15.00,20.00)\n"
     ]
    },
    {
     "name": "stderr",
     "output_type": "stream",
     "text": [
      "100%|██████████| 10/10 [03:11<00:00, 19.16s/it]\n"
     ]
    },
    {
     "name": "stdout",
     "output_type": "stream",
     "text": [
      "Calculate lost of sigma[90,100) & volume[15.00,20.00)\n"
     ]
    },
    {
     "name": "stderr",
     "output_type": "stream",
     "text": [
      "100%|██████████| 10/10 [03:15<00:00, 19.59s/it]\n"
     ]
    },
    {
     "name": "stdout",
     "output_type": "stream",
     "text": [
      "Calculate lost of sigma[40,50) & volume[20.00,25.00)\n"
     ]
    },
    {
     "name": "stderr",
     "output_type": "stream",
     "text": [
      "100%|██████████| 10/10 [00:35<00:00,  3.51s/it]\n"
     ]
    },
    {
     "name": "stdout",
     "output_type": "stream",
     "text": [
      "Calculate lost of sigma[50,60) & volume[20.00,25.00)\n"
     ]
    },
    {
     "name": "stderr",
     "output_type": "stream",
     "text": [
      " 60%|██████    | 6/10 [00:38<00:25,  6.36s/it]\n"
     ]
    },
    {
     "ename": "MemoryError",
     "evalue": "",
     "output_type": "error",
     "traceback": [
      "\u001b[1;31m---------------------------------------------------------------------------\u001b[0m",
      "\u001b[1;31mMemoryError\u001b[0m                               Traceback (most recent call last)",
      "Cell \u001b[1;32mIn [20], line 3\u001b[0m\n\u001b[0;32m      1\u001b[0m Grid1\u001b[39m=\u001b[39marea_cost(\u001b[39m10\u001b[39m,\u001b[39m15\u001b[39m,step_s\u001b[39m=\u001b[39m\u001b[39m1\u001b[39m,step_v\u001b[39m=\u001b[39m\u001b[39m1\u001b[39m)\n\u001b[0;32m      2\u001b[0m Grid2\u001b[39m=\u001b[39marea_cost(\u001b[39m15\u001b[39m,\u001b[39m20\u001b[39m,step_s\u001b[39m=\u001b[39m\u001b[39m1\u001b[39m,step_v\u001b[39m=\u001b[39m\u001b[39m1\u001b[39m)\n\u001b[1;32m----> 3\u001b[0m Grid3\u001b[39m=\u001b[39marea_cost(\u001b[39m20\u001b[39;49m,\u001b[39m25\u001b[39;49m,step_s\u001b[39m=\u001b[39;49m\u001b[39m1\u001b[39;49m,step_v\u001b[39m=\u001b[39;49m\u001b[39m1\u001b[39;49m)\n\u001b[0;32m      4\u001b[0m Grid4\u001b[39m=\u001b[39marea_cost(\u001b[39m25\u001b[39m,\u001b[39m30\u001b[39m,step_s\u001b[39m=\u001b[39m\u001b[39m1\u001b[39m,step_v\u001b[39m=\u001b[39m\u001b[39m1\u001b[39m)\n\u001b[0;32m      5\u001b[0m Grid5\u001b[39m=\u001b[39marea_cost(\u001b[39m30\u001b[39m,\u001b[39m35\u001b[39m,step_s\u001b[39m=\u001b[39m\u001b[39m1\u001b[39m,step_v\u001b[39m=\u001b[39m\u001b[39m1\u001b[39m)\n",
      "Cell \u001b[1;32mIn [19], line 31\u001b[0m, in \u001b[0;36marea_cost\u001b[1;34m(v1, v2, step_s, step_v)\u001b[0m\n\u001b[0;32m     29\u001b[0m \u001b[39mfor\u001b[39;00m i \u001b[39min\u001b[39;00m tqdm(\u001b[39mrange\u001b[39m(\u001b[39m50\u001b[39m,\u001b[39m60\u001b[39m,step_s)):\n\u001b[0;32m     30\u001b[0m     \u001b[39mfor\u001b[39;00m j \u001b[39min\u001b[39;00m \u001b[39mrange\u001b[39m (v1,v2,step_v):\n\u001b[1;32m---> 31\u001b[0m         lost\u001b[39m=\u001b[39mobtimize_v5(sv\u001b[39m=\u001b[39;49mnp\u001b[39m.\u001b[39;49masarray((i,j)),output\u001b[39m=\u001b[39;49m\u001b[39m0\u001b[39;49m,append\u001b[39m=\u001b[39;49m\u001b[39m0\u001b[39;49m)\n\u001b[0;32m     32\u001b[0m         Grid\u001b[39m.\u001b[39mappend(np\u001b[39m.\u001b[39masarray((i,j,lost)))\n\u001b[0;32m     34\u001b[0m \u001b[39mprint\u001b[39m(\u001b[39m'\u001b[39m\u001b[39mCalculate lost of sigma[60,70) & volume[\u001b[39m\u001b[39m%.2f\u001b[39;00m\u001b[39m,\u001b[39m\u001b[39m%.2f\u001b[39;00m\u001b[39m)\u001b[39m\u001b[39m'\u001b[39m\u001b[39m%\u001b[39m(v1, v2))\n",
      "File \u001b[1;32md:\\OneDrive\\Documents\\GitHub\\Bayesian_PendantDrop_Tensiometry\\adjust_parameter_v5.py:252\u001b[0m, in \u001b[0;36mobtimize_v5\u001b[1;34m(sv, path_ori, output, append)\u001b[0m\n\u001b[0;32m    250\u001b[0m \u001b[39m#crop the margin of syn image\u001b[39;00m\n\u001b[0;32m    251\u001b[0m syn_arr_cm\u001b[39m=\u001b[39mcrop_margin_array_v5(syn_arr)\n\u001b[1;32m--> 252\u001b[0m syn\u001b[39m=\u001b[39mresize_syn_arr(syn_arr_cm,wmax,r_syn\u001b[39m=\u001b[39;49m\u001b[39m1\u001b[39;49m)\n\u001b[0;32m    254\u001b[0m end \u001b[39m=\u001b[39m time\u001b[39m.\u001b[39mtime()\n\u001b[0;32m    255\u001b[0m \u001b[39m#print('Obtimize Program execution time: ',end - start)\u001b[39;00m\n",
      "File \u001b[1;32md:\\OneDrive\\Documents\\GitHub\\Bayesian_PendantDrop_Tensiometry\\adjust_parameter_v5.py:75\u001b[0m, in \u001b[0;36mresize_syn_arr\u001b[1;34m(syn_arr_cm, wmax, r_syn)\u001b[0m\n\u001b[0;32m     73\u001b[0m scaling\u001b[39m=\u001b[39mw_n\u001b[39m/\u001b[39mw\n\u001b[0;32m     74\u001b[0m h_n\u001b[39m=\u001b[39mscaling\u001b[39m*\u001b[39mh\n\u001b[1;32m---> 75\u001b[0m new_syn\u001b[39m=\u001b[39msyn_img\u001b[39m.\u001b[39;49mresize((\u001b[39mint\u001b[39;49m(w_n),\u001b[39mint\u001b[39;49m(h_n)))\n\u001b[0;32m     76\u001b[0m syn_arr_rs\u001b[39m=\u001b[39mnp\u001b[39m.\u001b[39masarray(new_syn)\n\u001b[0;32m     78\u001b[0m \u001b[39mreturn\u001b[39;00m syn_arr_rs\n",
      "File \u001b[1;32m~\\AppData\\Local\\Packages\\PythonSoftwareFoundation.Python.3.10_qbz5n2kfra8p0\\LocalCache\\local-packages\\Python310\\site-packages\\PIL\\Image.py:2115\u001b[0m, in \u001b[0;36mImage.resize\u001b[1;34m(self, size, resample, box, reducing_gap)\u001b[0m\n\u001b[0;32m   2107\u001b[0m             \u001b[39mself\u001b[39m \u001b[39m=\u001b[39m Image\u001b[39m.\u001b[39mreduce(\u001b[39mself\u001b[39m, factor, box\u001b[39m=\u001b[39mreduce_box)\n\u001b[0;32m   2108\u001b[0m         box \u001b[39m=\u001b[39m (\n\u001b[0;32m   2109\u001b[0m             (box[\u001b[39m0\u001b[39m] \u001b[39m-\u001b[39m reduce_box[\u001b[39m0\u001b[39m]) \u001b[39m/\u001b[39m factor_x,\n\u001b[0;32m   2110\u001b[0m             (box[\u001b[39m1\u001b[39m] \u001b[39m-\u001b[39m reduce_box[\u001b[39m1\u001b[39m]) \u001b[39m/\u001b[39m factor_y,\n\u001b[0;32m   2111\u001b[0m             (box[\u001b[39m2\u001b[39m] \u001b[39m-\u001b[39m reduce_box[\u001b[39m0\u001b[39m]) \u001b[39m/\u001b[39m factor_x,\n\u001b[0;32m   2112\u001b[0m             (box[\u001b[39m3\u001b[39m] \u001b[39m-\u001b[39m reduce_box[\u001b[39m1\u001b[39m]) \u001b[39m/\u001b[39m factor_y,\n\u001b[0;32m   2113\u001b[0m         )\n\u001b[1;32m-> 2115\u001b[0m \u001b[39mreturn\u001b[39;00m \u001b[39mself\u001b[39m\u001b[39m.\u001b[39m_new(\u001b[39mself\u001b[39;49m\u001b[39m.\u001b[39;49mim\u001b[39m.\u001b[39;49mresize(size, resample, box))\n",
      "\u001b[1;31mMemoryError\u001b[0m: "
     ]
    }
   ],
   "source": [
    "Grid1=area_cost(10,15,step_s=1,step_v=1)\n",
    "Grid2=area_cost(15,20,step_s=1,step_v=1)\n"
   ]
  },
  {
   "cell_type": "code",
   "execution_count": 21,
   "metadata": {},
   "outputs": [
    {
     "name": "stdout",
     "output_type": "stream",
     "text": [
      "Calculate lost of sigma[40,50) & volume[20.00,25.00)\n"
     ]
    },
    {
     "name": "stderr",
     "output_type": "stream",
     "text": [
      "100%|██████████| 10/10 [02:40<00:00, 16.05s/it]\n"
     ]
    },
    {
     "name": "stdout",
     "output_type": "stream",
     "text": [
      "Calculate lost of sigma[50,60) & volume[20.00,25.00)\n"
     ]
    },
    {
     "name": "stderr",
     "output_type": "stream",
     "text": [
      " 60%|██████    | 6/10 [01:36<01:04, 16.12s/it]\n"
     ]
    },
    {
     "ename": "MemoryError",
     "evalue": "",
     "output_type": "error",
     "traceback": [
      "\u001b[1;31m---------------------------------------------------------------------------\u001b[0m",
      "\u001b[1;31mMemoryError\u001b[0m                               Traceback (most recent call last)",
      "Cell \u001b[1;32mIn [21], line 1\u001b[0m\n\u001b[1;32m----> 1\u001b[0m Grid3\u001b[39m=\u001b[39marea_cost(\u001b[39m20\u001b[39;49m,\u001b[39m25\u001b[39;49m,step_s\u001b[39m=\u001b[39;49m\u001b[39m1\u001b[39;49m,step_v\u001b[39m=\u001b[39;49m\u001b[39m1\u001b[39;49m)\n\u001b[0;32m      2\u001b[0m Grid4\u001b[39m=\u001b[39marea_cost(\u001b[39m25\u001b[39m,\u001b[39m30\u001b[39m,step_s\u001b[39m=\u001b[39m\u001b[39m1\u001b[39m,step_v\u001b[39m=\u001b[39m\u001b[39m1\u001b[39m)\n\u001b[0;32m      3\u001b[0m Grid5\u001b[39m=\u001b[39marea_cost(\u001b[39m30\u001b[39m,\u001b[39m35\u001b[39m,step_s\u001b[39m=\u001b[39m\u001b[39m1\u001b[39m,step_v\u001b[39m=\u001b[39m\u001b[39m1\u001b[39m)\n",
      "Cell \u001b[1;32mIn [19], line 31\u001b[0m, in \u001b[0;36marea_cost\u001b[1;34m(v1, v2, step_s, step_v)\u001b[0m\n\u001b[0;32m     29\u001b[0m \u001b[39mfor\u001b[39;00m i \u001b[39min\u001b[39;00m tqdm(\u001b[39mrange\u001b[39m(\u001b[39m50\u001b[39m,\u001b[39m60\u001b[39m,step_s)):\n\u001b[0;32m     30\u001b[0m     \u001b[39mfor\u001b[39;00m j \u001b[39min\u001b[39;00m \u001b[39mrange\u001b[39m (v1,v2,step_v):\n\u001b[1;32m---> 31\u001b[0m         lost\u001b[39m=\u001b[39mobtimize_v5(sv\u001b[39m=\u001b[39;49mnp\u001b[39m.\u001b[39;49masarray((i,j)),output\u001b[39m=\u001b[39;49m\u001b[39m0\u001b[39;49m,append\u001b[39m=\u001b[39;49m\u001b[39m0\u001b[39;49m)\n\u001b[0;32m     32\u001b[0m         Grid\u001b[39m.\u001b[39mappend(np\u001b[39m.\u001b[39masarray((i,j,lost)))\n\u001b[0;32m     34\u001b[0m \u001b[39mprint\u001b[39m(\u001b[39m'\u001b[39m\u001b[39mCalculate lost of sigma[60,70) & volume[\u001b[39m\u001b[39m%.2f\u001b[39;00m\u001b[39m,\u001b[39m\u001b[39m%.2f\u001b[39;00m\u001b[39m)\u001b[39m\u001b[39m'\u001b[39m\u001b[39m%\u001b[39m(v1, v2))\n",
      "File \u001b[1;32md:\\OneDrive\\Documents\\GitHub\\Bayesian_PendantDrop_Tensiometry\\adjust_parameter_v5.py:252\u001b[0m, in \u001b[0;36mobtimize_v5\u001b[1;34m(sv, path_ori, output, append)\u001b[0m\n\u001b[0;32m    250\u001b[0m \u001b[39m#crop the margin of syn image\u001b[39;00m\n\u001b[0;32m    251\u001b[0m syn_arr_cm\u001b[39m=\u001b[39mcrop_margin_array_v5(syn_arr)\n\u001b[1;32m--> 252\u001b[0m syn\u001b[39m=\u001b[39mresize_syn_arr(syn_arr_cm,wmax,r_syn\u001b[39m=\u001b[39;49m\u001b[39m1\u001b[39;49m)\n\u001b[0;32m    254\u001b[0m end \u001b[39m=\u001b[39m time\u001b[39m.\u001b[39mtime()\n\u001b[0;32m    255\u001b[0m \u001b[39m#print('Obtimize Program execution time: ',end - start)\u001b[39;00m\n",
      "File \u001b[1;32md:\\OneDrive\\Documents\\GitHub\\Bayesian_PendantDrop_Tensiometry\\adjust_parameter_v5.py:75\u001b[0m, in \u001b[0;36mresize_syn_arr\u001b[1;34m(syn_arr_cm, wmax, r_syn)\u001b[0m\n\u001b[0;32m     73\u001b[0m scaling\u001b[39m=\u001b[39mw_n\u001b[39m/\u001b[39mw\n\u001b[0;32m     74\u001b[0m h_n\u001b[39m=\u001b[39mscaling\u001b[39m*\u001b[39mh\n\u001b[1;32m---> 75\u001b[0m new_syn\u001b[39m=\u001b[39msyn_img\u001b[39m.\u001b[39;49mresize((\u001b[39mint\u001b[39;49m(w_n),\u001b[39mint\u001b[39;49m(h_n)))\n\u001b[0;32m     76\u001b[0m syn_arr_rs\u001b[39m=\u001b[39mnp\u001b[39m.\u001b[39masarray(new_syn)\n\u001b[0;32m     78\u001b[0m \u001b[39mreturn\u001b[39;00m syn_arr_rs\n",
      "File \u001b[1;32m~\\AppData\\Local\\Packages\\PythonSoftwareFoundation.Python.3.10_qbz5n2kfra8p0\\LocalCache\\local-packages\\Python310\\site-packages\\PIL\\Image.py:2115\u001b[0m, in \u001b[0;36mImage.resize\u001b[1;34m(self, size, resample, box, reducing_gap)\u001b[0m\n\u001b[0;32m   2107\u001b[0m             \u001b[39mself\u001b[39m \u001b[39m=\u001b[39m Image\u001b[39m.\u001b[39mreduce(\u001b[39mself\u001b[39m, factor, box\u001b[39m=\u001b[39mreduce_box)\n\u001b[0;32m   2108\u001b[0m         box \u001b[39m=\u001b[39m (\n\u001b[0;32m   2109\u001b[0m             (box[\u001b[39m0\u001b[39m] \u001b[39m-\u001b[39m reduce_box[\u001b[39m0\u001b[39m]) \u001b[39m/\u001b[39m factor_x,\n\u001b[0;32m   2110\u001b[0m             (box[\u001b[39m1\u001b[39m] \u001b[39m-\u001b[39m reduce_box[\u001b[39m1\u001b[39m]) \u001b[39m/\u001b[39m factor_y,\n\u001b[0;32m   2111\u001b[0m             (box[\u001b[39m2\u001b[39m] \u001b[39m-\u001b[39m reduce_box[\u001b[39m0\u001b[39m]) \u001b[39m/\u001b[39m factor_x,\n\u001b[0;32m   2112\u001b[0m             (box[\u001b[39m3\u001b[39m] \u001b[39m-\u001b[39m reduce_box[\u001b[39m1\u001b[39m]) \u001b[39m/\u001b[39m factor_y,\n\u001b[0;32m   2113\u001b[0m         )\n\u001b[1;32m-> 2115\u001b[0m \u001b[39mreturn\u001b[39;00m \u001b[39mself\u001b[39m\u001b[39m.\u001b[39m_new(\u001b[39mself\u001b[39;49m\u001b[39m.\u001b[39;49mim\u001b[39m.\u001b[39;49mresize(size, resample, box))\n",
      "\u001b[1;31mMemoryError\u001b[0m: "
     ]
    }
   ],
   "source": [
    "Grid3=area_cost(20,25,step_s=1,step_v=1)\n",
    "Grid4=area_cost(25,30,step_s=1,step_v=1)\n",
    "Grid5=area_cost(30,35,step_s=1,step_v=1)\n",
    "Grid6=area_cost(35,40,step_s=1,step_v=1)"
   ]
  },
  {
   "cell_type": "code",
   "execution_count": null,
   "metadata": {},
   "outputs": [],
   "source": [
    "grid_arr2=np.asarray(Grid2)\n",
    "sigma= np.asarray(range(20,100,2))\n",
    "volume=np.asarray(range (0,30,2))\n",
    "lost2=grid_arr2[:,2]\n",
    "lost2d_20_30=np.reshape(lost2,(40,5))"
   ]
  },
  {
   "cell_type": "code",
   "execution_count": null,
   "metadata": {},
   "outputs": [],
   "source": [
    "lost2d_all=np.hstack((lost2d,lost2d_20_30))"
   ]
  },
  {
   "cell_type": "code",
   "execution_count": 13,
   "metadata": {},
   "outputs": [
    {
     "name": "stderr",
     "output_type": "stream",
     "text": [
      "  0%|          | 0/5 [00:02<?, ?it/s]\n"
     ]
    },
    {
     "ename": "KeyboardInterrupt",
     "evalue": "",
     "output_type": "error",
     "traceback": [
      "\u001b[1;31m---------------------------------------------------------------------------\u001b[0m",
      "\u001b[1;31mKeyboardInterrupt\u001b[0m                         Traceback (most recent call last)",
      "Cell \u001b[1;32mIn [13], line 5\u001b[0m\n\u001b[0;32m      3\u001b[0m \u001b[39mfor\u001b[39;00m i \u001b[39min\u001b[39;00m tqdm(\u001b[39mrange\u001b[39m(\u001b[39m10\u001b[39m,\u001b[39m20\u001b[39m,\u001b[39m2\u001b[39m)):\n\u001b[0;32m      4\u001b[0m     \u001b[39mfor\u001b[39;00m j \u001b[39min\u001b[39;00m \u001b[39mrange\u001b[39m (\u001b[39m1\u001b[39m,\u001b[39m10\u001b[39m,\u001b[39m2\u001b[39m):\n\u001b[1;32m----> 5\u001b[0m         lost\u001b[39m=\u001b[39mobtimize_v5(sv\u001b[39m=\u001b[39;49mnp\u001b[39m.\u001b[39;49masarray((i,j)),output\u001b[39m=\u001b[39;49m\u001b[39m0\u001b[39;49m,append\u001b[39m=\u001b[39;49m\u001b[39m0\u001b[39;49m)\n\u001b[0;32m      6\u001b[0m         Grid\u001b[39m.\u001b[39mappend(np\u001b[39m.\u001b[39masarray((i,j,lost)))\n",
      "File \u001b[1;32md:\\OneDrive\\Documents\\GitHub\\Bayesian_PendantDrop_Tensiometry\\adjust_parameter_v5.py:248\u001b[0m, in \u001b[0;36mobtimize_v5\u001b[1;34m(sv, path_ori, output, append)\u001b[0m\n\u001b[0;32m    245\u001b[0m pixel_needle\u001b[39m=\u001b[39mneedle[\u001b[39m0\u001b[39m]\n\u001b[0;32m    247\u001b[0m \u001b[39m# gen and post processing the syn image\u001b[39;00m\n\u001b[1;32m--> 248\u001b[0m syn_arr,wmax,rneedle\u001b[39m=\u001b[39mgen_doplet_v5(sigma\u001b[39m=\u001b[39;49msigma,volume0\u001b[39m=\u001b[39;49mv0,rneedle\u001b[39m=\u001b[39;49m\u001b[39m0.5\u001b[39;49m)\n\u001b[0;32m    250\u001b[0m \u001b[39m#crop the margin of syn image\u001b[39;00m\n\u001b[0;32m    251\u001b[0m syn_arr_cm\u001b[39m=\u001b[39mcrop_margin_array_v5(syn_arr)\n",
      "File \u001b[1;32md:\\OneDrive\\Documents\\GitHub\\Bayesian_PendantDrop_Tensiometry\\adjust_parameter_v5.py:18\u001b[0m, in \u001b[0;36mgen_doplet_v5\u001b[1;34m(sigma, volume0, rneedle)\u001b[0m\n\u001b[0;32m     16\u001b[0m \u001b[39mdef\u001b[39;00m \u001b[39mgen_doplet_v5\u001b[39m(sigma,volume0,rneedle\u001b[39m=\u001b[39m\u001b[39m0.5\u001b[39m):\n\u001b[0;32m     17\u001b[0m     \u001b[39m# when output=1 gSD return r_a,z_a\u001b[39;00m\n\u001b[1;32m---> 18\u001b[0m     r_a,z_a\u001b[39m=\u001b[39mgenSingleDrop(sigma\u001b[39m=\u001b[39;49msigma,volume0\u001b[39m=\u001b[39;49mvolume0,rneedle\u001b[39m=\u001b[39;49mrneedle,output\u001b[39m=\u001b[39;49m\u001b[39m1\u001b[39;49m)\n\u001b[0;32m     19\u001b[0m     wmax\u001b[39m=\u001b[39m\u001b[39m2\u001b[39m\u001b[39m*\u001b[39m\u001b[39mmax\u001b[39m(\u001b[39mabs\u001b[39m(r_a))\n\u001b[0;32m     21\u001b[0m     \u001b[39m# use plt generate synthetic image and save as arrayd\u001b[39;00m\n",
      "File \u001b[1;32md:\\OneDrive\\Documents\\GitHub\\Bayesian_PendantDrop_Tensiometry\\codes_gendrops_py\\genSingleDrop.py:205\u001b[0m, in \u001b[0;36mgenSingleDrop\u001b[1;34m(sigma, rneedle, volume0, output, savepath, loop_times)\u001b[0m\n\u001b[0;32m    202\u001b[0m b \u001b[39m=\u001b[39m np\u001b[39m.\u001b[39mvstack((b1,b2,b3,b8,b9)); \n\u001b[0;32m    204\u001b[0m \u001b[39m# solve the system of equations\u001b[39;00m\n\u001b[1;32m--> 205\u001b[0m u \u001b[39m=\u001b[39m np\u001b[39m.\u001b[39;49mlinalg\u001b[39m.\u001b[39;49minv(A)\u001b[39m.\u001b[39mdot(b)\n\u001b[0;32m    207\u001b[0m \u001b[39m# update variables\u001b[39;00m\n\u001b[0;32m    208\u001b[0m r   \u001b[39m=\u001b[39m r   \u001b[39m+\u001b[39m alpha\u001b[39m*\u001b[39mu[\u001b[39m0\u001b[39m:N]\n",
      "File \u001b[1;32m<__array_function__ internals>:180\u001b[0m, in \u001b[0;36minv\u001b[1;34m(*args, **kwargs)\u001b[0m\n",
      "File \u001b[1;32m~\\AppData\\Local\\Packages\\PythonSoftwareFoundation.Python.3.10_qbz5n2kfra8p0\\LocalCache\\local-packages\\Python310\\site-packages\\numpy\\linalg\\linalg.py:552\u001b[0m, in \u001b[0;36minv\u001b[1;34m(a)\u001b[0m\n\u001b[0;32m    550\u001b[0m signature \u001b[39m=\u001b[39m \u001b[39m'\u001b[39m\u001b[39mD->D\u001b[39m\u001b[39m'\u001b[39m \u001b[39mif\u001b[39;00m isComplexType(t) \u001b[39melse\u001b[39;00m \u001b[39m'\u001b[39m\u001b[39md->d\u001b[39m\u001b[39m'\u001b[39m\n\u001b[0;32m    551\u001b[0m extobj \u001b[39m=\u001b[39m get_linalg_error_extobj(_raise_linalgerror_singular)\n\u001b[1;32m--> 552\u001b[0m ainv \u001b[39m=\u001b[39m _umath_linalg\u001b[39m.\u001b[39;49minv(a, signature\u001b[39m=\u001b[39;49msignature, extobj\u001b[39m=\u001b[39;49mextobj)\n\u001b[0;32m    553\u001b[0m \u001b[39mreturn\u001b[39;00m wrap(ainv\u001b[39m.\u001b[39mastype(result_t, copy\u001b[39m=\u001b[39m\u001b[39mFalse\u001b[39;00m))\n",
      "\u001b[1;31mKeyboardInterrupt\u001b[0m: "
     ]
    }
   ],
   "source": [
    "Grid=[]\n",
    "from tqdm import tqdm\n",
    "for i in tqdm(range(10,20,2)):\n",
    "    for j in range (1,10,2):\n",
    "        lost=obtimize_v5(sv=np.asarray((i,j)),output=0,append=0)\n",
    "        Grid.append(np.asarray((i,j,lost)))"
   ]
  },
  {
   "cell_type": "code",
   "execution_count": null,
   "metadata": {},
   "outputs": [],
   "source": []
  },
  {
   "attachments": {},
   "cell_type": "markdown",
   "metadata": {},
   "source": [
    "## Plot The Contour Map"
   ]
  },
  {
   "cell_type": "code",
   "execution_count": null,
   "metadata": {},
   "outputs": [],
   "source": [
    "dill.dump_session( './GlobalGrid.pkl')"
   ]
  },
  {
   "cell_type": "code",
   "execution_count": null,
   "metadata": {},
   "outputs": [],
   "source": [
    "arxs=np.asarray(xs)\n",
    "x=arxs[:,0]\n",
    "y=arxs[:,1]\n",
    "z=losts"
   ]
  },
  {
   "cell_type": "code",
   "execution_count": null,
   "metadata": {},
   "outputs": [],
   "source": [
    "import matplotlib.pyplot as plt\n",
    "import numpy as np\n",
    "from numpy import ma\n",
    "from matplotlib import ticker, cm\n",
    "\n",
    "contours=plt.contour(volume, sigma, lost2d_all, 9, colors='black')\n",
    "plt.clabel(plt.clabel(contours, inline=True, fontsize=8))\n",
    "plt.imshow(lost2d_all, extent=[0, 5, 0, 5], origin='lower',\n",
    "           cmap='RdGy', alpha=0.5)"
   ]
  },
  {
   "cell_type": "code",
   "execution_count": null,
   "metadata": {},
   "outputs": [],
   "source": [
    "import matplotlib.pyplot as plt\n",
    "import numpy as np\n",
    "from numpy import ma\n",
    "from matplotlib import ticker, cm\n",
    "#进行绘图\n",
    "\n",
    "lost2d_part=lost2d_all[lost2d_all>0.1]=0.1\n",
    "\n",
    "fig, ax = plt.subplots()\n",
    "cs = ax.contourf(volume, sigma, lost2d_all, cmap=plt.get_cmap('Spectral'))\n",
    "im = ax.scatter(y,x,marker='.')\n",
    "\n",
    "\n",
    "n=np.arange(y.shape[0])\n",
    "for i,txt in enumerate(n):\n",
    "    ax.annotate(txt,(y[i],x[i]))\n",
    "#添加colorbar\n",
    "cbar = fig.colorbar(cs)\n",
    "\n",
    "plt.xlabel('volume')\n",
    "plt.ylabel('sigma')\n",
    "\n",
    "plt.xlim((9,17))\n",
    "plt.ylim((40,80))\n",
    "\n",
    "plt.show()"
   ]
  },
  {
   "cell_type": "code",
   "execution_count": null,
   "metadata": {},
   "outputs": [],
   "source": [
    "print(np.where(lost2d_all==np.min(lost2d_all)))\n",
    "print(np.min(lost2d_all))"
   ]
  },
  {
   "cell_type": "code",
   "execution_count": null,
   "metadata": {},
   "outputs": [],
   "source": [
    "lost2d_part=lost2d_all+0\n",
    "lost2d_part[lost2d_part > 0.1] = 0.1\n",
    "\n",
    "fig, ax = plt.subplots()\n",
    "cs = ax.contourf(volume, sigma, lost2d_part, cmap=plt.get_cmap('Spectral'))\n",
    "im = ax.scatter(y,x,marker='.')\n",
    "\n",
    "\n",
    "n=np.arange(y.shape[0])\n",
    "for i,txt in enumerate(n):\n",
    "    ax.annotate(txt,(y[i],x[i]))\n",
    "#添加colorbar\n",
    "cbar = fig.colorbar(cs)\n",
    "\n",
    "plt.xlabel('volume')#x轴从1到7.1\n",
    "plt.ylabel('sigma')#y轴从40到100\n",
    "\n",
    "plt.xlim((9,17))\n",
    "plt.ylim((40,80))\n",
    "\n",
    "plt.show()"
   ]
  },
  {
   "cell_type": "code",
   "execution_count": null,
   "metadata": {},
   "outputs": [],
   "source": [
    "#save the cost map\n",
    "dill.dump_session( './GlobalGrid_v1.0.pkl')"
   ]
  }
 ],
 "metadata": {
  "kernelspec": {
   "display_name": "Python 3",
   "language": "python",
   "name": "python3"
  },
  "language_info": {
   "codemirror_mode": {
    "name": "ipython",
    "version": 3
   },
   "file_extension": ".py",
   "mimetype": "text/x-python",
   "name": "python",
   "nbconvert_exporter": "python",
   "pygments_lexer": "ipython3",
   "version": "3.10.9"
  },
  "orig_nbformat": 4,
  "vscode": {
   "interpreter": {
    "hash": "60437aad8983babfce94e0da8b300c92c022ccf7e7dbddf7a08c08f7ecf8beba"
   }
  }
 },
 "nbformat": 4,
 "nbformat_minor": 2
}
