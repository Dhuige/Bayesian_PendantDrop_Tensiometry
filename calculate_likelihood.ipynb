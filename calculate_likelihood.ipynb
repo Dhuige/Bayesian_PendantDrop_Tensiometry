{
 "cells": [
  {
   "cell_type": "code",
   "execution_count": 1,
   "metadata": {},
   "outputs": [],
   "source": [
    "import numpy as np\n",
    "from fun_optimization_v5 import obtimize_v5\n",
    "import dill\n",
    "from tqdm import tqdm\n",
    "\n",
    "import math"
   ]
  },
  {
   "attachments": {},
   "cell_type": "markdown",
   "metadata": {},
   "source": [
    "## Cost Calculation Function"
   ]
  },
  {
   "cell_type": "code",
   "execution_count": 2,
   "metadata": {},
   "outputs": [],
   "source": [
    "def range_with_floats(start, stop, step):\n",
    "    while stop > start:\n",
    "        yield start\n",
    "        start += step"
   ]
  },
  {
   "cell_type": "code",
   "execution_count": 3,
   "metadata": {},
   "outputs": [],
   "source": [
    "def area_cost(s1,s2,v1,v2,step_s,step_v):\n",
    "    grid=[]\n",
    "    print('Calculate lost of sigma[%.2f,%.2f) & volume[%.2f,%.2f)'%(s1,s2,v1,v2))\n",
    "    list_s=np.arange(s1,s2,step_s)\n",
    "    list_v=np.arange (v1,v2,step_v)\n",
    "    for i in tqdm(list_s):\n",
    "        for j in list_v:\n",
    "            lost=optimize_v5(sv=np.asarray((i,j)),output=0,append=0)\n",
    "            grid.append(np.asarray((i,j,lost)))\n",
    "    return grid\n"
   ]
  },
  {
   "cell_type": "code",
   "execution_count": 7,
   "metadata": {},
   "outputs": [
    {
     "name": "stdout",
     "output_type": "stream",
     "text": [
      "Calculate lost of sigma[1.00,10.00) & volume[1.00,10.00)\n"
     ]
    },
    {
     "name": "stderr",
     "output_type": "stream",
     "text": [
      "100%|██████████| 5/5 [01:02<00:00, 12.45s/it]\n"
     ]
    },
    {
     "name": "stdout",
     "output_type": "stream",
     "text": [
      "Calculate lost of sigma[11.00,20.00) & volume[1.00,10.00)\n"
     ]
    },
    {
     "name": "stderr",
     "output_type": "stream",
     "text": [
      "100%|██████████| 5/5 [01:11<00:00, 14.25s/it]\n"
     ]
    },
    {
     "name": "stdout",
     "output_type": "stream",
     "text": [
      "Calculate lost of sigma[21.00,30.00) & volume[1.00,10.00)\n"
     ]
    },
    {
     "name": "stderr",
     "output_type": "stream",
     "text": [
      "100%|██████████| 5/5 [02:39<00:00, 31.91s/it] \n"
     ]
    },
    {
     "name": "stdout",
     "output_type": "stream",
     "text": [
      "Calculate lost of sigma[31.00,40.00) & volume[1.00,10.00)\n"
     ]
    },
    {
     "name": "stderr",
     "output_type": "stream",
     "text": [
      "100%|██████████| 5/5 [01:34<00:00, 18.97s/it]\n"
     ]
    },
    {
     "name": "stdout",
     "output_type": "stream",
     "text": [
      "Calculate lost of sigma[41.00,50.00) & volume[1.00,10.00)\n"
     ]
    },
    {
     "name": "stderr",
     "output_type": "stream",
     "text": [
      "100%|██████████| 5/5 [01:17<00:00, 15.43s/it]\n"
     ]
    },
    {
     "name": "stdout",
     "output_type": "stream",
     "text": [
      "Calculate lost of sigma[51.00,60.00) & volume[1.00,10.00)\n"
     ]
    },
    {
     "name": "stderr",
     "output_type": "stream",
     "text": [
      "100%|██████████| 5/5 [01:02<00:00, 12.41s/it]\n"
     ]
    },
    {
     "name": "stdout",
     "output_type": "stream",
     "text": [
      "Calculate lost of sigma[61.00,70.00) & volume[1.00,10.00)\n"
     ]
    },
    {
     "name": "stderr",
     "output_type": "stream",
     "text": [
      "100%|██████████| 5/5 [01:18<00:00, 15.69s/it]\n"
     ]
    },
    {
     "name": "stdout",
     "output_type": "stream",
     "text": [
      "Calculate lost of sigma[71.00,80.00) & volume[1.00,10.00)\n"
     ]
    },
    {
     "name": "stderr",
     "output_type": "stream",
     "text": [
      "100%|██████████| 5/5 [00:57<00:00, 11.57s/it]\n"
     ]
    },
    {
     "name": "stdout",
     "output_type": "stream",
     "text": [
      "Calculate lost of sigma[81.00,90.00) & volume[1.00,10.00)\n"
     ]
    },
    {
     "name": "stderr",
     "output_type": "stream",
     "text": [
      "100%|██████████| 5/5 [00:59<00:00, 11.81s/it]\n"
     ]
    },
    {
     "name": "stdout",
     "output_type": "stream",
     "text": [
      "Calculate lost of sigma[91.00,100.00) & volume[1.00,10.00)\n"
     ]
    },
    {
     "name": "stderr",
     "output_type": "stream",
     "text": [
      "100%|██████████| 5/5 [00:44<00:00,  8.83s/it]\n"
     ]
    }
   ],
   "source": [
    "grid00=area_cost(v1=1,v2=10,step_v=2,s1=1,s2=10,step_s=2)\n",
    "grid01=area_cost(v1=1,v2=10,step_v=2,s1=11,s2=20,step_s=2)\n",
    "grid02=area_cost(v1=1,v2=10,step_v=2,s1=21,s2=30,step_s=2)\n",
    "grid03=area_cost(v1=1,v2=10,step_v=2,s1=31,s2=40,step_s=2)\n",
    "grid04=area_cost(v1=1,v2=10,step_v=2,s1=41,s2=50,step_s=2)\n",
    "grid05=area_cost(v1=1,v2=10,step_v=2,s1=51,s2=60,step_s=2)\n",
    "grid06=area_cost(v1=1,v2=10,step_v=2,s1=61,s2=70,step_s=2)\n",
    "grid07=area_cost(v1=1,v2=10,step_v=2,s1=71,s2=80,step_s=2)\n",
    "grid08=area_cost(v1=1,v2=10,step_v=2,s1=81,s2=90,step_s=2)\n",
    "grid09=area_cost(v1=1,v2=10,step_v=2,s1=91,s2=100,step_s=2)"
   ]
  },
  {
   "cell_type": "code",
   "execution_count": 8,
   "metadata": {},
   "outputs": [
    {
     "name": "stdout",
     "output_type": "stream",
     "text": [
      "Calculate lost of sigma[1.00,10.00) & volume[10.00,20.00)\n"
     ]
    },
    {
     "name": "stderr",
     "output_type": "stream",
     "text": [
      "100%|██████████| 5/5 [00:43<00:00,  8.69s/it]\n"
     ]
    },
    {
     "name": "stdout",
     "output_type": "stream",
     "text": [
      "Calculate lost of sigma[11.00,20.00) & volume[10.00,20.00)\n"
     ]
    },
    {
     "name": "stderr",
     "output_type": "stream",
     "text": [
      "100%|██████████| 5/5 [00:18<00:00,  3.68s/it]\n"
     ]
    },
    {
     "name": "stdout",
     "output_type": "stream",
     "text": [
      "Calculate lost of sigma[21.00,30.00) & volume[10.00,20.00)\n"
     ]
    },
    {
     "name": "stderr",
     "output_type": "stream",
     "text": [
      "100%|██████████| 5/5 [00:45<00:00,  9.06s/it]\n"
     ]
    },
    {
     "name": "stdout",
     "output_type": "stream",
     "text": [
      "Calculate lost of sigma[31.00,40.00) & volume[10.00,20.00)\n"
     ]
    },
    {
     "name": "stderr",
     "output_type": "stream",
     "text": [
      "100%|██████████| 5/5 [00:21<00:00,  4.36s/it]\n"
     ]
    },
    {
     "name": "stdout",
     "output_type": "stream",
     "text": [
      "Calculate lost of sigma[41.00,50.00) & volume[10.00,20.00)\n"
     ]
    },
    {
     "name": "stderr",
     "output_type": "stream",
     "text": [
      "100%|██████████| 5/5 [00:39<00:00,  7.87s/it]\n"
     ]
    },
    {
     "name": "stdout",
     "output_type": "stream",
     "text": [
      "Calculate lost of sigma[51.00,60.00) & volume[10.00,20.00)\n"
     ]
    },
    {
     "name": "stderr",
     "output_type": "stream",
     "text": [
      "100%|██████████| 5/5 [01:17<00:00, 15.47s/it]\n"
     ]
    },
    {
     "name": "stdout",
     "output_type": "stream",
     "text": [
      "Calculate lost of sigma[61.00,70.00) & volume[10.00,20.00)\n"
     ]
    },
    {
     "name": "stderr",
     "output_type": "stream",
     "text": [
      "100%|██████████| 5/5 [01:02<00:00, 12.54s/it]\n"
     ]
    },
    {
     "name": "stdout",
     "output_type": "stream",
     "text": [
      "Calculate lost of sigma[71.00,80.00) & volume[10.00,20.00)\n"
     ]
    },
    {
     "name": "stderr",
     "output_type": "stream",
     "text": [
      "100%|██████████| 5/5 [01:13<00:00, 14.67s/it]\n"
     ]
    },
    {
     "name": "stdout",
     "output_type": "stream",
     "text": [
      "Calculate lost of sigma[81.00,90.00) & volume[10.00,20.00)\n"
     ]
    },
    {
     "name": "stderr",
     "output_type": "stream",
     "text": [
      "100%|██████████| 5/5 [01:14<00:00, 14.87s/it]\n"
     ]
    },
    {
     "name": "stdout",
     "output_type": "stream",
     "text": [
      "Calculate lost of sigma[91.00,100.00) & volume[10.00,20.00)\n"
     ]
    },
    {
     "name": "stderr",
     "output_type": "stream",
     "text": [
      "100%|██████████| 5/5 [01:12<00:00, 14.47s/it]\n"
     ]
    }
   ],
   "source": [
    "grid10=area_cost(v1=10,v2=20,step_v=2,s1=1,s2=10,step_s=2)\n",
    "grid11=area_cost(v1=10,v2=20,step_v=2,s1=11,s2=20,step_s=2)\n",
    "grid12=area_cost(v1=10,v2=20,step_v=2,s1=21,s2=30,step_s=2)\n",
    "grid13=area_cost(v1=10,v2=20,step_v=2,s1=31,s2=40,step_s=2)\n",
    "grid14=area_cost(v1=10,v2=20,step_v=2,s1=41,s2=50,step_s=2)\n",
    "grid15=area_cost(v1=10,v2=20,step_v=2,s1=51,s2=60,step_s=2)\n",
    "grid16=area_cost(v1=10,v2=20,step_v=2,s1=61,s2=70,step_s=2)\n",
    "grid17=area_cost(v1=10,v2=20,step_v=2,s1=71,s2=80,step_s=2)\n",
    "grid18=area_cost(v1=10,v2=20,step_v=2,s1=81,s2=90,step_s=2)\n",
    "grid19=area_cost(v1=10,v2=20,step_v=2,s1=91,s2=100,step_s=2)"
   ]
  },
  {
   "cell_type": "code",
   "execution_count": 9,
   "metadata": {},
   "outputs": [
    {
     "name": "stdout",
     "output_type": "stream",
     "text": [
      "Calculate lost of sigma[1.00,10.00) & volume[20.00,30.00)\n"
     ]
    },
    {
     "name": "stderr",
     "output_type": "stream",
     "text": [
      "100%|██████████| 5/5 [00:41<00:00,  8.25s/it]\n"
     ]
    },
    {
     "name": "stdout",
     "output_type": "stream",
     "text": [
      "Calculate lost of sigma[11.00,20.00) & volume[20.00,30.00)\n"
     ]
    },
    {
     "name": "stderr",
     "output_type": "stream",
     "text": [
      "100%|██████████| 5/5 [00:18<00:00,  3.68s/it]\n"
     ]
    },
    {
     "name": "stdout",
     "output_type": "stream",
     "text": [
      "Calculate lost of sigma[21.00,30.00) & volume[20.00,30.00)\n"
     ]
    },
    {
     "name": "stderr",
     "output_type": "stream",
     "text": [
      "100%|██████████| 5/5 [00:19<00:00,  3.91s/it]\n"
     ]
    },
    {
     "name": "stdout",
     "output_type": "stream",
     "text": [
      "Calculate lost of sigma[31.00,40.00) & volume[20.00,30.00)\n"
     ]
    },
    {
     "name": "stderr",
     "output_type": "stream",
     "text": [
      "100%|██████████| 5/5 [00:19<00:00,  3.93s/it]\n"
     ]
    },
    {
     "name": "stdout",
     "output_type": "stream",
     "text": [
      "Calculate lost of sigma[41.00,50.00) & volume[20.00,30.00)\n"
     ]
    },
    {
     "name": "stderr",
     "output_type": "stream",
     "text": [
      "100%|██████████| 5/5 [00:16<00:00,  3.23s/it]\n"
     ]
    },
    {
     "name": "stdout",
     "output_type": "stream",
     "text": [
      "Calculate lost of sigma[51.00,60.00) & volume[20.00,30.00)\n"
     ]
    },
    {
     "name": "stderr",
     "output_type": "stream",
     "text": [
      "100%|██████████| 5/5 [00:22<00:00,  4.45s/it]\n"
     ]
    },
    {
     "name": "stdout",
     "output_type": "stream",
     "text": [
      "Calculate lost of sigma[61.00,70.00) & volume[20.00,30.00)\n"
     ]
    },
    {
     "name": "stderr",
     "output_type": "stream",
     "text": [
      "100%|██████████| 5/5 [00:23<00:00,  4.74s/it]\n"
     ]
    },
    {
     "name": "stdout",
     "output_type": "stream",
     "text": [
      "Calculate lost of sigma[71.00,80.00) & volume[20.00,30.00)\n"
     ]
    },
    {
     "name": "stderr",
     "output_type": "stream",
     "text": [
      "100%|██████████| 5/5 [00:32<00:00,  6.57s/it]\n"
     ]
    },
    {
     "name": "stdout",
     "output_type": "stream",
     "text": [
      "Calculate lost of sigma[81.00,90.00) & volume[20.00,30.00)\n"
     ]
    },
    {
     "name": "stderr",
     "output_type": "stream",
     "text": [
      "100%|██████████| 5/5 [00:44<00:00,  8.80s/it]\n"
     ]
    },
    {
     "name": "stdout",
     "output_type": "stream",
     "text": [
      "Calculate lost of sigma[91.00,100.00) & volume[20.00,30.00)\n"
     ]
    },
    {
     "name": "stderr",
     "output_type": "stream",
     "text": [
      "100%|██████████| 5/5 [00:48<00:00,  9.64s/it]\n"
     ]
    }
   ],
   "source": [
    "grid20=area_cost(v1=20,v2=30,step_v=2,s1=1,s2=10,step_s=2)\n",
    "grid21=area_cost(v1=20,v2=30,step_v=2,s1=11,s2=20,step_s=2)\n",
    "grid22=area_cost(v1=20,v2=30,step_v=2,s1=21,s2=30,step_s=2)\n",
    "grid23=area_cost(v1=20,v2=30,step_v=2,s1=31,s2=40,step_s=2)\n",
    "grid24=area_cost(v1=20,v2=30,step_v=2,s1=41,s2=50,step_s=2)\n",
    "grid25=area_cost(v1=20,v2=30,step_v=2,s1=51,s2=60,step_s=2)\n",
    "grid26=area_cost(v1=20,v2=30,step_v=2,s1=61,s2=70,step_s=2)\n",
    "grid27=area_cost(v1=20,v2=30,step_v=2,s1=71,s2=80,step_s=2)\n",
    "grid28=area_cost(v1=20,v2=30,step_v=2,s1=81,s2=90,step_s=2)\n",
    "grid29=area_cost(v1=20,v2=30,step_v=2,s1=91,s2=100,step_s=2)"
   ]
  },
  {
   "cell_type": "code",
   "execution_count": 23,
   "metadata": {},
   "outputs": [],
   "source": [
    "lhood0=np.vstack((np.reshape(np.asarray(grid00)[:,2],(5,5)),\n",
    "                  np.reshape(np.asarray(grid01)[:,2],(5,5)),\n",
    "                  np.reshape(np.asarray(grid02)[:,2],(5,5)),\n",
    "                  np.reshape(np.asarray(grid03)[:,2],(5,5)),\n",
    "                  np.reshape(np.asarray(grid04)[:,2],(5,5)),\n",
    "                  np.reshape(np.asarray(grid05)[:,2],(5,5)),\n",
    "                  np.reshape(np.asarray(grid06)[:,2],(5,5)),\n",
    "                  np.reshape(np.asarray(grid07)[:,2],(5,5)),\n",
    "                  np.reshape(np.asarray(grid08)[:,2],(5,5)),\n",
    "                  np.reshape(np.asarray(grid09)[:,2],(5,5)),\n",
    "                  ))\n",
    "\n",
    "lhood1=np.vstack((np.reshape(np.asarray(grid10)[:,2],(5,5)),\n",
    "                  np.reshape(np.asarray(grid11)[:,2],(5,5)),\n",
    "                  np.reshape(np.asarray(grid12)[:,2],(5,5)),\n",
    "                  np.reshape(np.asarray(grid13)[:,2],(5,5)),\n",
    "                  np.reshape(np.asarray(grid14)[:,2],(5,5)),\n",
    "                  np.reshape(np.asarray(grid15)[:,2],(5,5)),\n",
    "                  np.reshape(np.asarray(grid16)[:,2],(5,5)),\n",
    "                  np.reshape(np.asarray(grid17)[:,2],(5,5)),\n",
    "                  np.reshape(np.asarray(grid18)[:,2],(5,5)),\n",
    "                  np.reshape(np.asarray(grid19)[:,2],(5,5)),\n",
    "                  ))\n",
    "\n",
    "lhood2=np.vstack((np.reshape(np.asarray(grid20)[:,2],(5,5)),\n",
    "                  np.reshape(np.asarray(grid21)[:,2],(5,5)),\n",
    "                  np.reshape(np.asarray(grid22)[:,2],(5,5)),\n",
    "                  np.reshape(np.asarray(grid23)[:,2],(5,5)),\n",
    "                  np.reshape(np.asarray(grid24)[:,2],(5,5)),\n",
    "                  np.reshape(np.asarray(grid25)[:,2],(5,5)),\n",
    "                  np.reshape(np.asarray(grid26)[:,2],(5,5)),\n",
    "                  np.reshape(np.asarray(grid27)[:,2],(5,5)),\n",
    "                  np.reshape(np.asarray(grid28)[:,2],(5,5)),\n",
    "                  np.reshape(np.asarray(grid29)[:,2],(5,5)),\n",
    "                  ))"
   ]
  },
  {
   "cell_type": "code",
   "execution_count": 27,
   "metadata": {},
   "outputs": [],
   "source": [
    "lhood=np.hstack((lhood0,lhood1,lhood2))"
   ]
  },
  {
   "cell_type": "code",
   "execution_count": 28,
   "metadata": {},
   "outputs": [],
   "source": [
    "sigma=np.arange(1,100,2)\n",
    "volume=np.arange (1,30,2)"
   ]
  },
  {
   "attachments": {},
   "cell_type": "markdown",
   "metadata": {},
   "source": [
    "## Plot The Contour Map"
   ]
  },
  {
   "cell_type": "code",
   "execution_count": 33,
   "metadata": {},
   "outputs": [
    {
     "data": {
      "image/png": "[encoded data removed]",
      "text/plain": [
       "<Figure size 640x480 with 2 Axes>"
      ]
     },
     "metadata": {},
     "output_type": "display_data"
    }
   ],
   "source": [
    "import matplotlib.pyplot as plt\n",
    "import numpy as np\n",
    "from numpy import ma\n",
    "from matplotlib import ticker, cm\n",
    "#进行绘图\n",
    "\n",
    "grid_part=lhood+0\n",
    "grid_part[grid_part > 0.5] = 0.5\n",
    "fig, ax = plt.subplots()\n",
    "cs = ax.contourf(volume, sigma, lhood, cmap=plt.get_cmap('Spectral'))\n",
    "#im = ax.scatter(y,x,marker='.')\n",
    "\n",
    "\n",
    "#n=np.arange(y.shape[0])\n",
    "#for i,txt in enumerate(n):\n",
    "#    ax.annotate(txt,(y[i],x[i]))\n",
    "##添加colorbar\n",
    "cbar = fig.colorbar(cs)\n",
    "\n",
    "plt.xlabel('volume')\n",
    "plt.ylabel('sigma')\n",
    "\n",
    "#plt.xlim((13,16.5))\n",
    "#plt.ylim((60,77.5))\n",
    "\n",
    "plt.show()"
   ]
  },
  {
   "cell_type": "code",
   "execution_count": null,
   "metadata": {},
   "outputs": [],
   "source": [
    "#save the cost map\n",
    "dill.dump_session( './GlobalGrid_s60-80-0.5_v13-17-0.2.pkl')"
   ]
  }
 ],
 "metadata": {
  "kernelspec": {
   "display_name": "Python 3",
   "language": "python",
   "name": "python3"
  },
  "language_info": {
   "codemirror_mode": {
    "name": "ipython",
    "version": 3
   },
   "file_extension": ".py",
   "mimetype": "text/x-python",
   "name": "python",
   "nbconvert_exporter": "python",
   "pygments_lexer": "ipython3",
   "version": "3.10.10"
  },
  "orig_nbformat": 4,
  "vscode": {
   "interpreter": {
    "hash": "60437aad8983babfce94e0da8b300c92c022ccf7e7dbddf7a08c08f7ecf8beba"
   }
  }
 },
 "nbformat": 4,
 "nbformat_minor": 2
}
