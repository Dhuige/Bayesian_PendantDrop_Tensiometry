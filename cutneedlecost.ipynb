{
 "cells": [
  {
   "cell_type": "code",
   "execution_count": 1,
   "metadata": {},
   "outputs": [],
   "source": [
    "import os\n",
    "import math as m\n",
    "from codes_gendrops_py.genSingleDrop import *\n",
    "from codes_gendrops_py.fit_circle_through_3_points import *\n",
    "import matplotlib.pyplot as plt\n",
    "import matplotlib.image as mpimg\n",
    "from cost_function import img2bw,ResizeImage\n",
    "from PIL import Image\n",
    "from remove_edge import *\n",
    "import numpy as np"
   ]
  },
  {
   "cell_type": "code",
   "execution_count": 14,
   "metadata": {},
   "outputs": [],
   "source": [
    "def cut_needle(img_ori,savepath='./'):\n",
    "    path=savepath+\"cut_needle.png\" #%(sigma, volume0, rneedle)\n",
    "\n",
    "    w_ori,h_ori=img_ori.size\n",
    "\n",
    "    scaling_ori=300/w_ori # reshape the origin image to weight 100\n",
    "\n",
    "    w_ori2=int(scaling_ori*w_ori)\n",
    "    h_ori2=int(scaling_ori*h_ori)\n",
    "\n",
    "    A=img2bw(ResizeImage(img_ori,w_ori2,h_ori2))\n",
    "\n",
    "    left_edge=np.zeros(w_ori2)\n",
    "    right_edge=np.zeros(w_ori2)\n",
    "    for i in range(h_ori2):\n",
    "        for j in range(w_ori2):\n",
    "            if A[i,j-1]>=125 and A[i,j]<125:\n",
    "                #print('Left position',i,j)\n",
    "                left_edge[i]=j\n",
    "            if A[i,j-1]<=125 and A[i,j]>125:\n",
    "                #print('Right position',i,j)\n",
    "                right_edge[i]=j\n",
    "\n",
    "    needle=np.abs(left_edge-right_edge)\n",
    "\n",
    "    end=0\n",
    "    #print(needle.shape[0])\n",
    "    for j in range(needle.shape[0]-1):\n",
    "        j=j+1\n",
    "        #print((needle[j]-needle[0])/needle[0])\n",
    "        if end == 0:\n",
    "            if abs((needle[j]-needle[0])/needle[0])>0.05:\n",
    "                stopline=j\n",
    "                #print(j)\n",
    "                end=end+1\n",
    "    #print(stopline)\n",
    "\n",
    "    img_WON=np.zeros((h_ori2-stopline,w_ori2))\n",
    "    for i in range(h_ori2):\n",
    "        if i>=stopline:\n",
    "            img_WON[i-stopline,:]=A[i,:]\n",
    "            \n",
    "    img=Image.fromarray(np.uint8(img_WON))\n",
    "    img.save(path)\n",
    "    return path"
   ]
  },
  {
   "cell_type": "code",
   "execution_count": 18,
   "metadata": {},
   "outputs": [],
   "source": [
    "def cost_new(img_ori,img_syn,x,width=100,K=1,output=0):\n",
    "    print(img_ori.type,img_syn.type)\n",
    "    w_ori,h_ori=img_ori.size\n",
    "    w_syn,h_syn=img_syn.size\n",
    "    \n",
    "\n",
    "    scaling_ori=width/w_ori # reshape the origin image to width 100\n",
    "    w_ori2=int(scaling_ori*w_ori)\n",
    "    h_ori2=int(scaling_ori*h_ori)\n",
    "    scaling_syn=K*scaling_ori\n",
    "    w_syn2=int(scaling_syn*w_syn)\n",
    "    h_syn2=int(scaling_syn*h_syn)\n",
    "    x=int(x)\n",
    "\n",
    "    A=img2bw(ResizeImage(img_ori,w_ori2,h_ori2))\n",
    "    one=np.ones((w_ori2-h_ori2,w_ori2))*255\n",
    "    A=np.row_stack((A,one))\n",
    "\n",
    "\n",
    "    B=img2bw(ResizeImage(img_syn,w_syn2,h_syn2))\n",
    "    C=np.zeros((w_ori2,w_ori2))\n",
    "\n",
    "    for i in range (w_ori2): # h\n",
    "        for j in range(w_ori2): # w\n",
    "            #print (h_ori2,w_ori2)\n",
    "            #print(i,j)\n",
    "            if j < x or j-x >= w_syn2 or i >= h_syn2 :\n",
    "                 C[i,j]=A[i,j]\n",
    "            else:\n",
    "                if  A[i,j]==B[i,j-x]: # B[i-y,j-x]\n",
    "                    C[i,j]=255\n",
    "                else:\n",
    "                    C[i,j]=0\n",
    "    \n",
    "    # pixel that same(T) different(F) and drop area\n",
    "    t=0; f=0; \n",
    "    #drop_ori=0; drop_gen=0 \n",
    "    for i in range (w_ori2):\n",
    "        for j in range(h_ori2):\n",
    "            if C[i,j]==0:\n",
    "                f=f+1\n",
    "            else:\n",
    "                t=t+1\n",
    "    lost=f/max(w_ori2*h_ori2,w_syn2*h_syn2)\n",
    "    accurancy=1-lost\n",
    "\n",
    "    if output == 0:\n",
    "        return lost\n",
    "    elif output == 1:\n",
    "        return C\n",
    "    else:\n",
    "        return C,lost"
   ]
  },
  {
   "cell_type": "code",
   "execution_count": 3,
   "metadata": {},
   "outputs": [
    {
     "data": {
      "image/png": "[encoded data removed]",
      "text/plain": [
       "<Figure size 400x400 with 1 Axes>"
      ]
     },
     "metadata": {},
     "output_type": "display_data"
    }
   ],
   "source": [
    "path_ori=os.path.abspath('./images_experiment/220304_miliq_T17.7_S73.04.png')\n",
    "\n",
    "svlrxyk=np.asarray((75,15,0.5,30,1))\n",
    "sigma =svlrxyk[0]\n",
    "v0    =svlrxyk[1]\n",
    "rNe   =svlrxyk[2]\n",
    "x     =svlrxyk[3]\n",
    "k     =svlrxyk[4]\n",
    "\n",
    "\n",
    "\n",
    "# open the origianl image and cut the needle\n",
    "img_ori=Image.open(cut_needle(Image.open(path_ori)))\n",
    "\n",
    "# generate the synthetic image\n",
    "path=os.path.abspath('./images_gen')\n",
    "path_syn=genSingleDrop(savepath=path,sigma=sigma,volume0=v0,rneedle=rNe,output=0)\n",
    "\n",
    "im = io.imread(path_syn)\n",
    "img_syn,path_syn = corp_margin(im)\n",
    "img_syn=Image.open(path_syn)\n"
   ]
  },
  {
   "cell_type": "code",
   "execution_count": 4,
   "metadata": {},
   "outputs": [],
   "source": [
    "width=100\n",
    "K=k\n",
    "w_syn,h_syn=img_syn.size\n",
    "w_ori,h_ori=img_ori.size\n",
    "### the image size can be changed here\n",
    "\n",
    "scaling_ori=width/w_ori # reshape the origin image to width 100\n",
    "w_ori2=int(scaling_ori*w_ori)\n",
    "h_ori2=int(scaling_ori*h_ori)\n",
    "scaling_syn=K*scaling_ori\n",
    "w_syn2=int(scaling_syn*w_syn)\n",
    "h_syn2=int(scaling_syn*h_syn)\n",
    "x=int(x)\n",
    "\n",
    "A=img2bw(ResizeImage(img_ori,w_ori2,h_ori2))\n",
    "one=np.ones((w_ori2-h_ori2,w_ori2))*255\n",
    "A=np.row_stack((A,one))\n",
    "\n",
    "\n",
    "B=img2bw(ResizeImage(img_syn,w_syn2,h_syn2))\n",
    "C=np.zeros((w_ori2,w_ori2))\n",
    "\n",
    "\n",
    "for i in range (w_ori2): # h\n",
    "    for j in range(w_ori2): # w\n",
    "        #print (h_ori2,w_ori2)\n",
    "        #print(i,j)\n",
    "        if j < x or j-x >= w_syn2 or i >= h_syn2 :\n",
    "             C[i,j]=A[i,j]\n",
    "        else:\n",
    "            if  A[i,j]==B[i,j-x]: # B[i-y,j-x]\n",
    "                C[i,j]=255\n",
    "            else:\n",
    "                C[i,j]=0"
   ]
  },
  {
   "cell_type": "code",
   "execution_count": 5,
   "metadata": {},
   "outputs": [],
   "source": [
    "# pixel that same(T) different(F) and drop area\n",
    "t=0; f=0; \n",
    "#drop_ori=0; drop_gen=0 \n",
    "for i in range (w_ori2):\n",
    "    for j in range(h_ori2):\n",
    "        if C[i,j]==0:\n",
    "            f=f+1\n",
    "        else:\n",
    "            t=t+1\n",
    "lost=f/max(w_ori2*h_ori2,w_syn2*h_syn2)\n",
    "accurancy=1-lost"
   ]
  },
  {
   "cell_type": "code",
   "execution_count": 50,
   "metadata": {},
   "outputs": [
    {
     "name": "stdout",
     "output_type": "stream",
     "text": [
      "(100, 100)\n",
      "100 100\n",
      "93 76\n"
     ]
    }
   ],
   "source": [
    "print(C.shape)\n",
    "print(w_ori2,w_ori2)\n",
    "print(h_syn2,w_syn2)"
   ]
  },
  {
   "cell_type": "code",
   "execution_count": 49,
   "metadata": {},
   "outputs": [
    {
     "data": {
      "image/png": "[encoded data removed]",
      "text/plain": [
       "<PIL.Image.Image image mode=L size=100x100>"
      ]
     },
     "execution_count": 49,
     "metadata": {},
     "output_type": "execute_result"
    }
   ],
   "source": [
    "Image.fromarray(np.uint8(C))"
   ]
  },
  {
   "cell_type": "code",
   "execution_count": 16,
   "metadata": {},
   "outputs": [
    {
     "name": "stdout",
     "output_type": "stream",
     "text": [
      "(300, 223)\n"
     ]
    },
    {
     "data": {
      "image/png": "[encoded data removed]",
      "text/plain": [
       "<Figure size 400x400 with 1 Axes>"
      ]
     },
     "metadata": {},
     "output_type": "display_data"
    }
   ],
   "source": [
    "# input parameters\n",
    "svrxk=np.asarray((75,15,0.5,30,1))\n",
    "sigma = svrxk[0]\n",
    "v0    = svrxk[1]\n",
    "rNe   = svrxk[2]\n",
    "x     = svrxk[3]\n",
    "k     = svrxk[4]\n",
    "output=0\n",
    "\n",
    "# import img_ori\n",
    "path_ori=os.path.abspath('./images_experiment/220304_miliq_T17.7_S73.04.png')\n",
    "img_ori=Image.open(cut_needle(Image.open(path_ori)))\n",
    "print(img_ori.size)\n",
    "# import img_syn\n",
    "path_syn=genSingleDrop(savepath=os.path.abspath('./images_gen'),sigma=sigma,\n",
    "                        volume0=v0,rneedle=rNe,output=0)\n",
    "## Crop the edge of syn image\n",
    "img_syn,path_syn = corp_margin(io.imread(path_syn))\n",
    "img_syn=Image.open(path_syn)\n"
   ]
  },
  {
   "cell_type": "code",
   "execution_count": 20,
   "metadata": {},
   "outputs": [
    {
     "ename": "AttributeError",
     "evalue": "'numpy.float64' object has no attribute 'type'",
     "output_type": "error",
     "traceback": [
      "\u001b[1;31m---------------------------------------------------------------------------\u001b[0m",
      "\u001b[1;31mAttributeError\u001b[0m                            Traceback (most recent call last)",
      "Cell \u001b[1;32mIn [20], line 1\u001b[0m\n\u001b[1;32m----> 1\u001b[0m lost\u001b[39m=\u001b[39mcost_new(x,img_syn,img_ori,k,output\u001b[39m=\u001b[39;49moutput)\n",
      "Cell \u001b[1;32mIn [18], line 2\u001b[0m, in \u001b[0;36mcost_new\u001b[1;34m(img_ori, img_syn, x, width, K, output)\u001b[0m\n\u001b[0;32m      1\u001b[0m \u001b[39mdef\u001b[39;00m \u001b[39mcost_new\u001b[39m(img_ori,img_syn,x,width\u001b[39m=\u001b[39m\u001b[39m100\u001b[39m,K\u001b[39m=\u001b[39m\u001b[39m1\u001b[39m,output\u001b[39m=\u001b[39m\u001b[39m0\u001b[39m):\n\u001b[1;32m----> 2\u001b[0m     \u001b[39mprint\u001b[39m(img_ori\u001b[39m.\u001b[39;49mtype,img_syn\u001b[39m.\u001b[39mtype)\n\u001b[0;32m      3\u001b[0m     w_ori,h_ori\u001b[39m=\u001b[39mimg_ori\u001b[39m.\u001b[39msize\n\u001b[0;32m      4\u001b[0m     w_syn,h_syn\u001b[39m=\u001b[39mimg_syn\u001b[39m.\u001b[39msize\n",
      "\u001b[1;31mAttributeError\u001b[0m: 'numpy.float64' object has no attribute 'type'"
     ]
    }
   ],
   "source": [
    "lost=cost_new(x,img_syn,img_ori,k,output=output)"
   ]
  },
  {
   "cell_type": "code",
   "execution_count": 19,
   "metadata": {},
   "outputs": [
    {
     "data": {
      "text/plain": [
       "(300, 223)"
      ]
     },
     "execution_count": 19,
     "metadata": {},
     "output_type": "execute_result"
    }
   ],
   "source": [
    "img_ori.size"
   ]
  }
 ],
 "metadata": {
  "kernelspec": {
   "display_name": "Python 3",
   "language": "python",
   "name": "python3"
  },
  "language_info": {
   "codemirror_mode": {
    "name": "ipython",
    "version": 3
   },
   "file_extension": ".py",
   "mimetype": "text/x-python",
   "name": "python",
   "nbconvert_exporter": "python",
   "pygments_lexer": "ipython3",
   "version": "3.10.9 (tags/v3.10.9:1dd9be6, Dec  6 2022, 20:01:21) [MSC v.1934 64 bit (AMD64)]"
  },
  "orig_nbformat": 4,
  "vscode": {
   "interpreter": {
    "hash": "60437aad8983babfce94e0da8b300c92c022ccf7e7dbddf7a08c08f7ecf8beba"
   }
  }
 },
 "nbformat": 4,
 "nbformat_minor": 2
}
