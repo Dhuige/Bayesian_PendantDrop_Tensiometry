{
 "cells": [
  {
   "cell_type": "code",
   "execution_count": 1,
   "metadata": {},
   "outputs": [],
   "source": [
    "from fun_genSingleDrop import *"
   ]
  },
  {
   "attachments": {},
   "cell_type": "markdown",
   "metadata": {},
   "source": [
    "\n",
    "First, we use genSingleDrop function to generate drop without any rotation or tilting."
   ]
  },
  {
   "cell_type": "code",
   "execution_count": 68,
   "metadata": {},
   "outputs": [],
   "source": [
    "sigma=73\n",
    "volume=25\n",
    "rneedle=1\n",
    "r0,z0=genSingleDrop(sigma=sigma,volume0=volume,rneedle=rneedle,output=1)\n"
   ]
  },
  {
   "cell_type": "code",
   "execution_count": 12,
   "metadata": {},
   "outputs": [
    {
     "data": {
      "text/plain": [
       "(-1.8579784449651493,\n",
       " 1.8579784449651493,\n",
       " -4.136338355247256,\n",
       " 0.1969684931070122)"
      ]
     },
     "execution_count": 12,
     "metadata": {},
     "output_type": "execute_result"
    },
    {
     "data": {
      "image/png": "[encoded data removed]",
      "text/plain": [
       "<Figure size 432x288 with 1 Axes>"
      ]
     },
     "metadata": {
      "needs_background": "light"
     },
     "output_type": "display_data"
    }
   ],
   "source": [
    "plt.plot(r0,z0,color='black')\n",
    "plt.plot(-r0,z0,color='black')\n",
    "plt.axis('equal')\n",
    "plt.axis('off')"
   ]
  },
  {
   "attachments": {},
   "cell_type": "markdown",
   "metadata": {},
   "source": [
    "## Camera rotation \n",
    "Rotating the camera does not change the equilibrium equation of the droplet, but depending on the axis of rotation, the image taken by the camera may differ from the side view of the droplet.\n",
    "1. Rotating alone the x-axis, mark the ratation angle is $\\alpha$. The point $(r_0,z_0)$ will be rotated by rotation matrix \n",
    "$ M(\\alpha)=[cos \\alpha, -sin \\alpha; sin \\alpha, cos \\alpha] $. \n",
    "In the following, we will rotate the droplet 10 degrees counterclockwise with the x-axis as the rotation axis.\n"
   ]
  },
  {
   "cell_type": "code",
   "execution_count": 37,
   "metadata": {},
   "outputs": [],
   "source": [
    "alpha_dig=30\n",
    "alpha=m.radians(alpha_dig)\n",
    "#print(m.sin(alpha_rad))\n",
    "\n",
    "rot_matrix=np.asarray(([m.cos(alpha), -m.sin(alpha)], [m.sin(alpha), m.cos(alpha)]))\n",
    "[r_cx,z_cx]=np.dot(rot_matrix,[r0,z0])\n",
    "[r_lcx,z_lcx]=np.dot(rot_matrix,[-r0,z0])\n"
   ]
  },
  {
   "cell_type": "code",
   "execution_count": 38,
   "metadata": {},
   "outputs": [
    {
     "data": {
      "text/plain": [
       "(-1.0482527121044636,\n",
       " 2.9607480670033968,\n",
       " -3.8292279678283463,\n",
       " 0.7061537128618515)"
      ]
     },
     "execution_count": 38,
     "metadata": {},
     "output_type": "execute_result"
    },
    {
     "data": {
      "image/png": "[encoded data removed]",
      "text/plain": [
       "<Figure size 432x288 with 1 Axes>"
      ]
     },
     "metadata": {
      "needs_background": "light"
     },
     "output_type": "display_data"
    }
   ],
   "source": [
    "plt.plot(r_cx,z_cx,color='black')\n",
    "plt.plot(r_lcx,z_lcx,color='black')\n",
    "plt.axis('equal')\n",
    "plt.axis('off')"
   ]
  },
  {
   "attachments": {},
   "cell_type": "markdown",
   "metadata": {},
   "source": [
    "Rotating alone the y-axis and z-axis, mark the ratation angle are $\\beta$ and $\\gamma$ separately. This causes the length of the droplet in the z and r direction to become longer separately. The final coordinates $(z, r)$ are related to the original coordinates $(z_0, r_0)$ as follows\n",
    "\n",
    "$z = z_0/cos \\beta $ ; \n",
    "$r = r_0/cos \\gamma$"
   ]
  },
  {
   "cell_type": "code",
   "execution_count": 53,
   "metadata": {},
   "outputs": [],
   "source": [
    "beta_dig=10\n",
    "gamma_dig=10\n",
    "\n",
    "z=z0/m.cos(m.radians(beta_dig))\n",
    "r=r0/m.cos(m.radians(gamma_dig))"
   ]
  },
  {
   "cell_type": "code",
   "execution_count": 66,
   "metadata": {},
   "outputs": [
    {
     "data": {
      "text/plain": [
       "(-1.8866407573277066,\n",
       " 1.8866407573277066,\n",
       " -4.200148041681776,\n",
       " 0.20000704960389412)"
      ]
     },
     "execution_count": 66,
     "metadata": {},
     "output_type": "execute_result"
    },
    {
     "data": {
      "image/png": "[encoded data removed]",
      "text/plain": [
       "<Figure size 432x288 with 1 Axes>"
      ]
     },
     "metadata": {
      "needs_background": "light"
     },
     "output_type": "display_data"
    }
   ],
   "source": [
    "plt.plot(r,z,color='red')\n",
    "plt.plot(-r,z,color='red')\n",
    "plt.plot(r0,z0,color='black')\n",
    "plt.plot(-r0,z0,color='black')\n",
    "plt.text(x=-5,y=0,s='black: shape original')\n",
    "plt.text(x=-5,y=-0.25,s='red: shape after camera rotation')\n",
    "\n",
    "plt.axis('equal')\n",
    "plt.axis('off')"
   ]
  },
  {
   "cell_type": "code",
   "execution_count": 69,
   "metadata": {},
   "outputs": [
    {
     "data": {
      "image/png": "[encoded data removed]",
      "text/plain": [
       "<Figure size 288x288 with 1 Axes>"
      ]
     },
     "metadata": {
      "needs_background": "light"
     },
     "output_type": "display_data"
    }
   ],
   "source": [
    "plt_image_needle(r_a=r,z_a=z,sigma=sigma,volume0=volume,rneedle=rneedle,l_needle=2.5,path='.')"
   ]
  },
  {
   "attachments": {},
   "cell_type": "markdown",
   "metadata": {},
   "source": [
    "# Needle tilting\n",
    "Then, we will generate the image that needle tilting (or rotation) occurs. The needle can be rotated in x and y direction. (Z-direction's  rotation won't change the drop shape so we don't need to consider it)"
   ]
  },
  {
   "attachments": {},
   "cell_type": "markdown",
   "metadata": {},
   "source": [
    "$Bo\\ll1$"
   ]
  },
  {
   "attachments": {},
   "cell_type": "markdown",
   "metadata": {},
   "source": [
    "## x directions"
   ]
  },
  {
   "cell_type": "code",
   "execution_count": null,
   "metadata": {},
   "outputs": [],
   "source": []
  }
 ],
 "metadata": {
  "kernelspec": {
   "display_name": "Python 3",
   "language": "python",
   "name": "python3"
  },
  "language_info": {
   "codemirror_mode": {
    "name": "ipython",
    "version": 3
   },
   "file_extension": ".py",
   "mimetype": "text/x-python",
   "name": "python",
   "nbconvert_exporter": "python",
   "pygments_lexer": "ipython3",
   "version": "3.9.10"
  },
  "orig_nbformat": 4
 },
 "nbformat": 4,
 "nbformat_minor": 2
}
