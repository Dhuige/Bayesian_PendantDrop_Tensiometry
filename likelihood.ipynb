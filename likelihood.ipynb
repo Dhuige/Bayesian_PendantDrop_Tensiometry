{
 "cells": [
  {
   "cell_type": "code",
   "execution_count": 2,
   "metadata": {},
   "outputs": [],
   "source": [
    "import numpy as np\n",
    "from functions import *\n",
    "import dill\n",
    "from tqdm import tqdm\n",
    "import matplotlib.pyplot as plt\n",
    "import math\n",
    "from PIL import Image"
   ]
  },
  {
   "cell_type": "code",
   "execution_count": 9,
   "metadata": {},
   "outputs": [],
   "source": [
    "def range_with_floats(start, stop, step):\n",
    "    while stop > start:\n",
    "        yield start\n",
    "        start += step\n",
    "\n",
    "def area_cost(s1,s2,v1,v2,step_s,step_v,path=exp_path):\n",
    "    grid=[]\n",
    "    print('Calculate lost of sigma[%.2f,%.2f) & volume[%.2f,%.2f)'%(s1,s2,v1,v2))\n",
    "    list_s=np.arange(s1,s2,step_s)\n",
    "    list_v=np.arange (v1,v2,step_v)\n",
    "    for i in tqdm(list_s):\n",
    "        for j in list_v:\n",
    "            lost=likelihood(sv=np.asarray((i,j)),output=0,path_exp=path)\n",
    "            grid.append(np.asarray((i,j,lost)))\n",
    "    return grid\n",
    "\n",
    "def lhood_gamma(v,path):\n",
    "    lhood1=area_cost(v1=v,v2=v+1,step_v=1,s1=1,s2=26,step_s=1,path=path)\n",
    "    lhood2=area_cost(v1=v,v2=v+1,step_v=1,s1=26,s2=51,step_s=1,path=path)\n",
    "    lhood3=area_cost(v1=v,v2=v+1,step_v=1,s1=51,s2=76,step_s=1,path=path)\n",
    "    lhood4=area_cost(v1=v,v2=v+1,step_v=1,s1=76,s2=101,step_s=1,path=path)\n",
    "    lhood5=area_cost(v1=v,v2=v+1,step_v=1,s1=101,s2=126,step_s=1,path=path)\n",
    "    lhood6=area_cost(v1=v,v2=v+1,step_v=1,s1=126,s2=151,step_s=1,path=path)\n",
    "    \n",
    "    lhood=np.hstack((np.asarray(lhood1)[:,2],\n",
    "                np.asarray(lhood2)[:,2],\n",
    "                np.asarray(lhood3)[:,2],\n",
    "                np.asarray(lhood4)[:,2],\n",
    "                np.asarray(lhood5)[:,2],\n",
    "                np.asarray(lhood6)[:,2],\n",
    "                ))\n",
    "\n",
    "    lhood=1-lhood[:]\n",
    "    lhood[lhood<0]=0\n",
    "    \n",
    "    return lhood\n"
   ]
  },
  {
   "cell_type": "code",
   "execution_count": null,
   "metadata": {},
   "outputs": [],
   "source": [
    "def lhood_volume(gamma):\n",
    "    lhood1=area_cost(v1=1,v2=26,step_v=0.5,s1=gamma,s2=gamma+1,step_s=1)\n",
    "    lhood2=area_cost(v1=26,v2=51,step_v=0.5,s1=gamma,s2=gamma+1,step_s=1)\n",
    "\n",
    "    lhood=np.hstack((np.asarray(lhood1)[:,2],np.asarray(lhood2)[:,2]))\n",
    "\n",
    "    return lhood\n"
   ]
  },
  {
   "cell_type": "code",
   "execution_count": 10,
   "metadata": {},
   "outputs": [
    {
     "name": "stdout",
     "output_type": "stream",
     "text": [
      "Calculate lost of sigma[1.00,26.00) & volume[9.00,10.00)\n"
     ]
    },
    {
     "name": "stderr",
     "output_type": "stream",
     "text": [
      "100%|██████████| 25/25 [00:25<00:00,  1.02s/it]\n"
     ]
    },
    {
     "name": "stdout",
     "output_type": "stream",
     "text": [
      "Calculate lost of sigma[26.00,51.00) & volume[9.00,10.00)\n"
     ]
    },
    {
     "name": "stderr",
     "output_type": "stream",
     "text": [
      "100%|██████████| 25/25 [00:48<00:00,  1.94s/it]\n"
     ]
    },
    {
     "name": "stdout",
     "output_type": "stream",
     "text": [
      "Calculate lost of sigma[51.00,76.00) & volume[9.00,10.00)\n"
     ]
    },
    {
     "name": "stderr",
     "output_type": "stream",
     "text": [
      "100%|██████████| 25/25 [00:44<00:00,  1.78s/it]\n"
     ]
    },
    {
     "name": "stdout",
     "output_type": "stream",
     "text": [
      "Calculate lost of sigma[76.00,101.00) & volume[9.00,10.00)\n"
     ]
    },
    {
     "name": "stderr",
     "output_type": "stream",
     "text": [
      "100%|██████████| 25/25 [00:49<00:00,  2.00s/it]\n"
     ]
    },
    {
     "name": "stdout",
     "output_type": "stream",
     "text": [
      "Calculate lost of sigma[101.00,126.00) & volume[9.00,10.00)\n"
     ]
    },
    {
     "name": "stderr",
     "output_type": "stream",
     "text": [
      "100%|██████████| 25/25 [00:44<00:00,  1.79s/it]\n"
     ]
    },
    {
     "name": "stdout",
     "output_type": "stream",
     "text": [
      "Calculate lost of sigma[126.00,151.00) & volume[9.00,10.00)\n"
     ]
    },
    {
     "name": "stderr",
     "output_type": "stream",
     "text": [
      "100%|██████████| 25/25 [00:38<00:00,  1.54s/it]\n"
     ]
    }
   ],
   "source": [
    "exp_path='./images_notupload/s75.00_v9.00_n0.50.jpg'\n",
    "lhood=lhood_gamma(9,exp_path)"
   ]
  },
  {
   "cell_type": "code",
   "execution_count": 13,
   "metadata": {},
   "outputs": [],
   "source": [
    "# save all varables\n",
    "import dill\n",
    "filename='./likelihood_s75v9_vis9.pkl'\n",
    "dill.dump_session(filename)"
   ]
  },
  {
   "cell_type": "code",
   "execution_count": 11,
   "metadata": {},
   "outputs": [],
   "source": [
    "list_s=np.arange (1,151,1)"
   ]
  },
  {
   "cell_type": "code",
   "execution_count": 12,
   "metadata": {},
   "outputs": [
    {
     "data": {
      "text/plain": [
       "[<matplotlib.lines.Line2D at 0x13f04fdc0>]"
      ]
     },
     "execution_count": 12,
     "metadata": {},
     "output_type": "execute_result"
    },
    {
     "data": {
      "image/png": "[encoded data removed]",
      "text/plain": [
       "<Figure size 432x288 with 1 Axes>"
      ]
     },
     "metadata": {
      "needs_background": "light"
     },
     "output_type": "display_data"
    }
   ],
   "source": [
    "plt.plot(list_s[:],lhood[:],'black')"
   ]
  }
 ],
 "metadata": {
  "kernelspec": {
   "display_name": "Python 3",
   "language": "python",
   "name": "python3"
  },
  "language_info": {
   "codemirror_mode": {
    "name": "ipython",
    "version": 3
   },
   "file_extension": ".py",
   "mimetype": "text/x-python",
   "name": "python",
   "nbconvert_exporter": "python",
   "pygments_lexer": "ipython3",
   "version": "3.9.10"
  },
  "orig_nbformat": 4,
  "vscode": {
   "interpreter": {
    "hash": "aee8b7b246df8f9039afb4144a1f6fd8d2ca17a180786b69acc140d282b71a49"
   }
  }
 },
 "nbformat": 4,
 "nbformat_minor": 2
}
