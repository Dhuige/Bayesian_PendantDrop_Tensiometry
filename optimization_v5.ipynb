{
 "cells": [
  {
   "cell_type": "code",
   "execution_count": 1,
   "metadata": {},
   "outputs": [],
   "source": [
    "import os\n",
    "import math as m\n",
    "import time\n",
    "from codes_gendrops_py.genSingleDrop import *\n",
    "from codes_gendrops_py.fit_circle_through_3_points import *\n",
    "import matplotlib.pyplot as plt\n",
    "import matplotlib.image as mpimg\n",
    "from matplotlib.backends.backend_agg import FigureCanvasAgg\n",
    "from fun_pre_process import *\n",
    "from PIL import Image\n",
    "import numpy as np\n",
    "import dill\n"
   ]
  },
  {
   "attachments": {},
   "cell_type": "markdown",
   "metadata": {},
   "source": [
    "## Definite the pre processing functions"
   ]
  },
  {
   "cell_type": "code",
   "execution_count": 2,
   "metadata": {},
   "outputs": [],
   "source": [
    "\n",
    "def gen_doplet_v5(sigma,volume0,rneedle=0.5):\n",
    "    # when output=1 gSD return r_a,z_a\n",
    "    r_a,z_a=genSingleDrop(sigma=sigma,volume0=volume0,rneedle=rneedle,output=1)\n",
    "    wmax=2*max(abs(r_a))\n",
    "\n",
    "    # use plt generate synthetic image and save as arrayd\n",
    "    plt.fill_between(r_a,z_a,color='black')\n",
    "    plt.fill_between(-r_a,z_a,color='black')\n",
    "    plt.axis('equal')\n",
    "    plt.axis('off')\n",
    "\n",
    "    figure = plt.gcf().canvas\n",
    "    ag = figure.switch_backends(FigureCanvasAgg)\n",
    "    ag.draw()\n",
    "    plt.close()\n",
    "    A = np.asarray(ag.buffer_rgba())\n",
    "    syn_array = np.rint(A[...,:3] @ [0.2126, 0.7152, 0.0722]).astype(np.uint8)\n",
    "    \n",
    "\n",
    "    return syn_array,wmax,rneedle\n",
    "\n",
    "def crop_margin_array_v5(syn_array):#(DONE)\n",
    "        \n",
    "        (row,col)=syn_array.shape\n",
    "        img=syn_array\n",
    "\n",
    "        for i in range(row-1):\n",
    "                if sum(img[i])!=255*col:\n",
    "                        cut1=i\n",
    "                        break               \n",
    "\n",
    "        for i in range(row-1,0,-1):\n",
    "                if sum(img[i])!=255*col:\n",
    "                        cut2=i\n",
    "                        break \n",
    "\n",
    "        _,img1,_=np.split(img,[cut1,cut2])  \n",
    "\n",
    "        for i in range(col-1):\n",
    "                if sum(img[:,i])!=255*row:\n",
    "                        cut3=i\n",
    "                        break\n",
    "\n",
    "        for i in range(col-1,0,-1):\n",
    "                if sum(img[:,i])!=255*row:\n",
    "                        cut4=i\n",
    "                        break\n",
    "\n",
    "        _,cm_arr,_=np.split(img1,[cut3,cut4],axis=1)\n",
    "\n",
    "        return cm_arr\n",
    "\n",
    "def resize_syn_arr(syn_arr_cm,wmax,r_syn=1):\n",
    "    syn_img = Image.fromarray(syn_arr_cm)\n",
    "    w,h=syn_img.size\n",
    "    r_syn=1\n",
    "    w_n=wmax/(2*r_syn)*50\n",
    "    scaling=w_n/w\n",
    "    h_n=scaling*h\n",
    "    new_syn=syn_img.resize((int(w_n),int(h_n)))\n",
    "    syn_arr_rs=np.asarray(new_syn)\n",
    "\n",
    "    return syn_arr_rs\n",
    "\n",
    "def remove_needle_centering_v5(img_ori):#(Need Test)\n",
    "    '''img_ori=Image.open(path_ori)'''\n",
    "    w_ori,h_ori=img_ori.size\n",
    "\n",
    "    scaling_ori=300/w_ori # reshape the origin image to width 300\n",
    "\n",
    "    w_ori2=int(scaling_ori*w_ori)\n",
    "    h_ori2=int(scaling_ori*h_ori)\n",
    "\n",
    "    A=img2bw(ResizeImage(img_ori,w_ori2,h_ori2))\n",
    "\n",
    "    left_edge=np.zeros(w_ori2)\n",
    "    right_edge=np.zeros(w_ori2)\n",
    "    for i in range(h_ori2):\n",
    "        for j in range(w_ori2):\n",
    "            if A[i,j-1]>=125 and A[i,j]<125:\n",
    "                #print('Left position',i,j)\n",
    "                left_edge[i]=j\n",
    "            if A[i,j-1]<=125 and A[i,j]>125:\n",
    "                #print('Right position',i,j)\n",
    "                right_edge[i]=j\n",
    "\n",
    "    needle=np.abs(left_edge-right_edge)\n",
    "\n",
    "    end=0\n",
    "    for j in range(needle.shape[0]-1):\n",
    "        j=j+1\n",
    "        if end == 0:\n",
    "            if abs((needle[j]-needle[0])/needle[0])>0.05:\n",
    "                stopline=j\n",
    "                end=end+1\n",
    "    #print(stopline)\n",
    "\n",
    "    addpad=right_edge[stopline]-needle[stopline]/2-w_ori2/2\n",
    "\n",
    "    img_WON=np.zeros((h_ori2-stopline,w_ori2))\n",
    "    for i in range(h_ori2):\n",
    "        if i>=stopline:\n",
    "            img_WON[i-stopline,:]=A[i,:]\n",
    "    \n",
    "    h_won,w_won=img_WON.shape\n",
    "    \n",
    "    # centering\n",
    "    if addpad>0:\n",
    "        img_won=np.hstack( ( img_WON,np.ones((h_won,abs(int(addpad*4))))*255 ) )\n",
    "    elif addpad<0:\n",
    "        img_won=np.hstack( ( np.ones((h_won,abs(int(addpad*4))))*255,img_WON ) )\n",
    "    else:\n",
    "        img_won=img_WON\n",
    "\n",
    "    return img_won,needle\n",
    "\n",
    "def cost_v3(img_ori,img_syn,width=100,output=0):\n",
    "    '''\n",
    "    input:              \n",
    "    x:                the origin point of synthetic image\n",
    "    img_syn,img_ori:    the images that need to calculate the cost \n",
    "                        should be valued by 'Image.open(path)'\n",
    "    K:                  the scaling of synthethic image\n",
    "    output: 0 -->lost, 1-->C, else C,lost\n",
    "    '''\n",
    "    img_syn = Image.fromarray(img_syn)\n",
    "    img_ori = Image.fromarray(img_ori)\n",
    "\n",
    "    w_ori,h_ori=img_ori.size\n",
    "    w_syn,h_syn=img_syn.size\n",
    "    \n",
    "\n",
    "    scaling_ori=width/w_ori # reshape the origin image to width\n",
    "    w_ori2=int(scaling_ori*w_ori)\n",
    "    h_ori2=int(scaling_ori*h_ori)\n",
    "    scaling_syn=scaling_ori\n",
    "    w_syn2=int(scaling_syn*w_syn)\n",
    "    h_syn2=int(scaling_syn*h_syn)\n",
    "    x=int(abs((w_syn2-w_ori2)/2))\n",
    "\n",
    "    A=img2bw(ResizeImage(img_ori,w_ori2,h_ori2))\n",
    "    one=np.ones((w_ori2-h_ori2,w_ori2))*255\n",
    "    A=np.row_stack((A,one))\n",
    "\n",
    "\n",
    "    B=img2bw(ResizeImage(img_syn,w_syn2,h_syn2))\n",
    "    C=np.zeros((w_ori2,w_ori2))\n",
    "\n",
    "    droplet=0\n",
    "    for i in range(w_ori2):\n",
    "        for j in range (h_ori2):\n",
    "            if A[i,j]==255:\n",
    "                droplet=droplet+1\n",
    "\n",
    "    for i in range (w_ori2): # h\n",
    "        for j in range(w_ori2): # w\n",
    "            #print (h_ori2,w_ori2)\n",
    "            #print(i,j)\n",
    "            if j < x or j-x >= w_syn2 or i >= h_syn2 :\n",
    "                 C[i,j]=A[i,j]\n",
    "            else:\n",
    "                if  A[i,j]==B[i,j-x]: # B[i-y,j-x]\n",
    "                    C[i,j]=255\n",
    "                else:\n",
    "                    C[i,j]=0\n",
    "    \n",
    "    # pixel that same(T) different(F) and drop area\n",
    "    t=0; f=0; \n",
    "    #drop_ori=0; drop_gen=0 \n",
    "    for i in range (w_ori2):\n",
    "        for j in range(h_ori2):\n",
    "            if C[i,j]==0:\n",
    "                f=f+1\n",
    "            else:\n",
    "                t=t+1\n",
    "    #lost=f/max(w_ori2*h_ori2,w_syn2*h_syn2)\n",
    "    \n",
    "    lost=f/droplet\n",
    "    accurancy=1-lost\n",
    "\n",
    "    if output == 0:\n",
    "        return lost\n",
    "    elif output == 1:\n",
    "        return C\n",
    "    else:\n",
    "        return C,lost"
   ]
  },
  {
   "attachments": {},
   "cell_type": "markdown",
   "metadata": {},
   "source": [
    "## Definite the obtimize funciton"
   ]
  },
  {
   "cell_type": "code",
   "execution_count": 14,
   "metadata": {},
   "outputs": [],
   "source": [
    "def obtimize_v5(sv,path_ori=os.path.abspath('./images_experiment/220304_miliq_T17.7_S73.04.png'),output=0,append=1):\n",
    "    '''need initialize xs and losts if output==0'''\n",
    "    start = time.time()\n",
    "    sigma=sv[0]\n",
    "    v0=sv[1]\n",
    "\n",
    "    # preprosessing the ori image\n",
    "    ori,needle=remove_needle_centering_v5(Image.open(path_ori))\n",
    "    pixel_needle=needle[0]\n",
    "\n",
    "    # gen and post processing the syn image\n",
    "    syn_arr,wmax,rneedle=gen_doplet_v5(sigma=sigma,volume0=v0,rneedle=0.5)\n",
    "\n",
    "    #crop the margin of syn image\n",
    "    syn_arr_cm=crop_margin_array_v5(syn_arr)\n",
    "    syn=resize_syn_arr(syn_arr_cm,wmax,r_syn=1)\n",
    "\n",
    "    end = time.time()\n",
    "    #print('Obtimize Program execution time: ',end - start)\n",
    "\n",
    "    if output==0:\n",
    "        lost=cost_v3(ori,syn,output=output)\n",
    "        if append==1:\n",
    "            xs.append(sv)\n",
    "            losts.append(lost)\n",
    "            print ('x=%.2f,%.2f and lost=%.4f'%(sv[0],sv[1],lost))\n",
    "        return lost\n",
    "    elif output==1:\n",
    "        C=cost_v3(ori,syn,output=output)\n",
    "        return C\n",
    "    else :\n",
    "        C,lost=cost_v3(ori,syn,output=output)\n",
    "        return C, lost\n"
   ]
  },
  {
   "attachments": {},
   "cell_type": "markdown",
   "metadata": {},
   "source": [
    "## Start the optimization"
   ]
  },
  {
   "attachments": {},
   "cell_type": "markdown",
   "metadata": {},
   "source": [
    "IMPORTANT!!! If the optimization need to be restart, please click the 'restart' button of jupyter notebook. Or an NameError: name 'xs' is not define will be occured."
   ]
  },
  {
   "cell_type": "code",
   "execution_count": 15,
   "metadata": {},
   "outputs": [],
   "source": [
    "xs=[]\n",
    "losts=[]"
   ]
  },
  {
   "cell_type": "code",
   "execution_count": 17,
   "metadata": {},
   "outputs": [
    {
     "name": "stdout",
     "output_type": "stream",
     "text": [
      "Optimization Start\n",
      "x=76.00,15.00 and lost=0.0315\n",
      "x=79.80,15.00 and lost=0.0452\n",
      "x=76.00,15.75 and lost=0.0225\n",
      "x=72.20,15.75 and lost=0.0299\n",
      "x=72.20,16.50 and lost=0.0488\n",
      "x=75.05,15.38 and lost=0.0193\n",
      "x=78.85,15.38 and lost=0.0273\n",
      "x=77.19,15.47 and lost=0.0197\n",
      "x=76.24,15.09 and lost=0.0275\n",
      "x=76.06,15.59 and lost=0.0195\n",
      "x=73.92,15.49 and lost=0.0221\n",
      "x=76.37,15.47 and lost=0.0203\n",
      "x=75.55,15.48 and lost=0.0195\n",
      "x=76.12,15.42 and lost=0.0201\n",
      "x=74.49,15.43 and lost=0.0219\n",
      "x=75.71,15.42 and lost=0.0189\n",
      "x=75.21,15.32 and lost=0.0185\n",
      "x=75.03,15.24 and lost=0.0267\n",
      "x=75.87,15.37 and lost=0.0199\n",
      "x=75.25,15.37 and lost=0.0193\n",
      "x=75.46,15.37 and lost=0.0183\n",
      "x=75.13,15.35 and lost=0.0191\n",
      "x=75.54,15.34 and lost=0.0207\n",
      "x=75.23,15.35 and lost=0.0189\n",
      "x=75.43,15.34 and lost=0.0211\n",
      "x=75.28,15.35 and lost=0.0189\n",
      "x=75.33,15.35 and lost=0.0185\n",
      "x=75.34,15.36 and lost=0.0189\n",
      "x=75.45,15.36 and lost=0.0185\n",
      "x=75.42,15.36 and lost=0.0185\n",
      "x=75.37,15.36 and lost=0.0187\n",
      "x=75.41,15.36 and lost=0.0185\n",
      "x=75.40,15.36 and lost=0.0183\n",
      "x=75.44,15.37 and lost=0.0183\n",
      "x=75.41,15.37 and lost=0.0187\n",
      "x=75.43,15.37 and lost=0.0183\n",
      "x=75.43,15.37 and lost=0.0183\n",
      "x=75.45,15.37 and lost=0.0183\n",
      "x=75.44,15.37 and lost=0.0187\n",
      "x=75.45,15.37 and lost=0.0183\n",
      "x=75.44,15.37 and lost=0.0183\n",
      "x=75.45,15.37 and lost=0.0183\n",
      "Optimize Program Running Time:  122.01023030281067\n"
     ]
    }
   ],
   "source": [
    "import scipy.optimize\n",
    "# use scipy obtimaize the parameter\n",
    "opStart=time.time()\n",
    "print('Optimization Start')\n",
    "x0=np.asarray((76,15))\n",
    "#sigma; v0; length_Ne,r_Ne; x,y; scaling_rate;\n",
    "res=scipy.optimize.minimize(obtimize_v5,x0,method='nelder-mead',options={'maxiter':15}) #SLSQP #nelder-mead\n",
    "#res=scipy.optimize.minimize(obtimize_v5,x0,method='SLSQP',options={'maxiter':15})\n",
    "opEnd=time.time()\n",
    "print('Optimize Program Running Time: ',opEnd-opStart)"
   ]
  },
  {
   "cell_type": "code",
   "execution_count": 18,
   "metadata": {},
   "outputs": [
    {
     "data": {
      "text/plain": [
       "[<matplotlib.lines.Line2D at 0x17d191b8940>]"
      ]
     },
     "execution_count": 18,
     "metadata": {},
     "output_type": "execute_result"
    },
    {
     "data": {
      "image/png": "[encoded data removed]",
      "text/plain": [
       "<Figure size 640x480 with 1 Axes>"
      ]
     },
     "metadata": {},
     "output_type": "display_data"
    }
   ],
   "source": [
    "plt.plot(losts)"
   ]
  },
  {
   "cell_type": "code",
   "execution_count": 9,
   "metadata": {},
   "outputs": [
    {
     "name": "stdout",
     "output_type": "stream",
     "text": [
      " final_simplex: (array([[75.45820312, 15.37207031],\n",
      "       [75.44243164, 15.36877441],\n",
      "       [75.45350647, 15.37039948]]), array([0.01833034, 0.01833034, 0.01833034]))\n",
      "           fun: 0.018330344690177327\n",
      "       message: 'Maximum number of iterations has been exceeded.'\n",
      "          nfev: 42\n",
      "           nit: 15\n",
      "        status: 2\n",
      "       success: False\n",
      "             x: array([75.45820312, 15.37207031])\n"
     ]
    }
   ],
   "source": [
    "print(res)"
   ]
  },
  {
   "attachments": {},
   "cell_type": "markdown",
   "metadata": {},
   "source": [
    "### Save the Optimization Result (IF NEED)"
   ]
  },
  {
   "cell_type": "code",
   "execution_count": null,
   "metadata": {},
   "outputs": [],
   "source": [
    "# save all varables\n",
    "import dill\n",
    "filename='./optimization_results_75_9.pkl'\n",
    "dill.dump_session(filename)"
   ]
  },
  {
   "cell_type": "code",
   "execution_count": null,
   "metadata": {},
   "outputs": [],
   "source": [
    "# way to load all varables\n",
    "import dill\n",
    "dill.load_session( './optimization results.pkl')"
   ]
  },
  {
   "attachments": {},
   "cell_type": "markdown",
   "metadata": {},
   "source": [
    "## Plot the Trace Image"
   ]
  },
  {
   "cell_type": "code",
   "execution_count": 7,
   "metadata": {},
   "outputs": [],
   "source": [
    "# Import the Cost Map Data: sigma, volume, lost2d_all, lost2d_part\n",
    "dill.load_session( './GlobalGrid_s60-80-0.5_v13-17-0.2.pkl')"
   ]
  },
  {
   "cell_type": "code",
   "execution_count": 10,
   "metadata": {},
   "outputs": [
    {
     "data": {
      "image/png": "[encoded data removed]",
      "text/plain": [
       "<Figure size 640x480 with 2 Axes>"
      ]
     },
     "metadata": {},
     "output_type": "display_data"
    }
   ],
   "source": [
    "# write the value of all cost>0.1 elements in lost2d_all to 0.1\n",
    "#lost2d_part=lost2d_all+0\n",
    "#lost2d_part[lost2d_part > 0.1] = 0.1\n",
    "\n",
    "arxs=np.asarray(xs)\n",
    "x=arxs[:,0]\n",
    "y=arxs[:,1]\n",
    "z=losts\n",
    "\n",
    "fig, ax = plt.subplots()\n",
    "cs = ax.contourf(volume, sigma, grid_part, cmap=plt.get_cmap('Spectral'))\n",
    "im = ax.scatter(y,x,marker='.')\n",
    "\n",
    "\n",
    "n=np.arange(y.shape[0])\n",
    "for i,txt in enumerate(n):\n",
    "    ax.annotate(txt,(y[i],x[i]))\n",
    "#添加colorbar\n",
    "cbar = fig.colorbar(cs)\n",
    "\n",
    "plt.xlabel('volume')\n",
    "plt.ylabel('sigma')\n",
    "\n",
    "plt.xlim((13.5,16))\n",
    "plt.ylim((60,80))\n",
    "\n",
    "plt.title('Initial Guess: Sigma %.2f & Volume %.2f'%(x0[0], x0[1]))\n",
    "\n",
    "plt.show()"
   ]
  }
 ],
 "metadata": {
  "kernelspec": {
   "display_name": "Python 3",
   "language": "python",
   "name": "python3"
  },
  "language_info": {
   "codemirror_mode": {
    "name": "ipython",
    "version": 3
   },
   "file_extension": ".py",
   "mimetype": "text/x-python",
   "name": "python",
   "nbconvert_exporter": "python",
   "pygments_lexer": "ipython3",
   "version": "3.10.9"
  },
  "orig_nbformat": 4,
  "vscode": {
   "interpreter": {
    "hash": "60437aad8983babfce94e0da8b300c92c022ccf7e7dbddf7a08c08f7ecf8beba"
   }
  }
 },
 "nbformat": 4,
 "nbformat_minor": 2
}
