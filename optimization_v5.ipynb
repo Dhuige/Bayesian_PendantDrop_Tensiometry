{
 "cells": [
  {
   "cell_type": "code",
   "execution_count": 1,
   "metadata": {},
   "outputs": [],
   "source": [
    "import os\n",
    "import math as m\n",
    "import time\n",
    "from codes_gendrops_py.genSingleDrop import *\n",
    "from codes_gendrops_py.fit_circle_through_3_points import *\n",
    "import matplotlib.pyplot as plt\n",
    "import matplotlib.image as mpimg\n",
    "from matplotlib.backends.backend_agg import FigureCanvasAgg\n",
    "from fun_pre_process import *\n",
    "from PIL import Image\n",
    "import numpy as np\n",
    "import dill\n"
   ]
  },
  {
   "attachments": {},
   "cell_type": "markdown",
   "metadata": {},
   "source": [
    "## Definite the pre processing functions"
   ]
  },
  {
   "cell_type": "code",
   "execution_count": 2,
   "metadata": {},
   "outputs": [],
   "source": [
    "\n",
    "def gen_doplet_v5(sigma,volume0,rneedle=0.5):\n",
    "    # when output=1 gSD return r_a,z_a\n",
    "    r_a,z_a=genSingleDrop(sigma=sigma,volume0=volume0,rneedle=rneedle,output=1)\n",
    "    wmax=2*max(abs(r_a))\n",
    "\n",
    "    # use plt generate synthetic image and save as arrayd\n",
    "    plt.fill_between(r_a,z_a,color='black')\n",
    "    plt.fill_between(-r_a,z_a,color='black')\n",
    "    plt.axis('equal')\n",
    "    plt.axis('off')\n",
    "\n",
    "    figure = plt.gcf().canvas\n",
    "    ag = figure.switch_backends(FigureCanvasAgg)\n",
    "    ag.draw()\n",
    "    plt.close()\n",
    "    A = np.asarray(ag.buffer_rgba())\n",
    "    syn_array = np.rint(A[...,:3] @ [0.2126, 0.7152, 0.0722]).astype(np.uint8)\n",
    "    \n",
    "\n",
    "    return syn_array,wmax,rneedle\n",
    "\n",
    "def crop_margin_array_v5(syn_array):#(DONE)\n",
    "        \n",
    "        (row,col)=syn_array.shape\n",
    "        img=syn_array\n",
    "\n",
    "        for i in range(row-1):\n",
    "                if sum(img[i])!=255*col:\n",
    "                        cut1=i\n",
    "                        break               \n",
    "\n",
    "        for i in range(row-1,0,-1):\n",
    "                if sum(img[i])!=255*col:\n",
    "                        cut2=i\n",
    "                        break \n",
    "\n",
    "        _,img1,_=np.split(img,[cut1,cut2])  \n",
    "\n",
    "        for i in range(col-1):\n",
    "                if sum(img[:,i])!=255*row:\n",
    "                        cut3=i\n",
    "                        break\n",
    "\n",
    "        for i in range(col-1,0,-1):\n",
    "                if sum(img[:,i])!=255*row:\n",
    "                        cut4=i\n",
    "                        break\n",
    "\n",
    "        _,cm_arr,_=np.split(img1,[cut3,cut4],axis=1)\n",
    "\n",
    "        return cm_arr\n",
    "\n",
    "def resize_syn_arr(syn_arr_cm,wmax,r_syn=1):\n",
    "    syn_img = Image.fromarray(syn_arr_cm)\n",
    "    w,h=syn_img.size\n",
    "    r_syn=1\n",
    "    w_n=wmax/(2*r_syn)*50\n",
    "    scaling=w_n/w\n",
    "    h_n=scaling*h\n",
    "    new_syn=syn_img.resize((int(w_n),int(h_n)))\n",
    "    syn_arr_rs=np.asarray(new_syn)\n",
    "\n",
    "    return syn_arr_rs\n",
    "\n",
    "def remove_needle_centering_v5(img_ori):#(Need Test)\n",
    "    '''img_ori=Image.open(path_ori)'''\n",
    "    w_ori,h_ori=img_ori.size\n",
    "\n",
    "    scaling_ori=300/w_ori # reshape the origin image to width 300\n",
    "\n",
    "    w_ori2=int(scaling_ori*w_ori)\n",
    "    h_ori2=int(scaling_ori*h_ori)\n",
    "\n",
    "    A=img2bw(ResizeImage(img_ori,w_ori2,h_ori2))\n",
    "\n",
    "    left_edge=np.zeros(w_ori2)\n",
    "    right_edge=np.zeros(w_ori2)\n",
    "    for i in range(h_ori2):\n",
    "        for j in range(w_ori2):\n",
    "            if A[i,j-1]>=125 and A[i,j]<125:\n",
    "                #print('Left position',i,j)\n",
    "                left_edge[i]=j\n",
    "            if A[i,j-1]<=125 and A[i,j]>125:\n",
    "                #print('Right position',i,j)\n",
    "                right_edge[i]=j\n",
    "\n",
    "    needle=np.abs(left_edge-right_edge)\n",
    "\n",
    "    end=0\n",
    "    for j in range(needle.shape[0]-1):\n",
    "        j=j+1\n",
    "        if end == 0:\n",
    "            if abs((needle[j]-needle[0])/needle[0])>0.05:\n",
    "                stopline=j\n",
    "                end=end+1\n",
    "    #print(stopline)\n",
    "\n",
    "    addpad=right_edge[stopline]-needle[stopline]/2-w_ori2/2\n",
    "\n",
    "    img_WON=np.zeros((h_ori2-stopline,w_ori2))\n",
    "    for i in range(h_ori2):\n",
    "        if i>=stopline:\n",
    "            img_WON[i-stopline,:]=A[i,:]\n",
    "    \n",
    "    h_won,w_won=img_WON.shape\n",
    "    \n",
    "    # centering\n",
    "    if addpad>0:\n",
    "        img_won=np.hstack( ( img_WON,np.ones((h_won,abs(int(addpad*4))))*255 ) )\n",
    "    elif addpad<0:\n",
    "        img_won=np.hstack( ( np.ones((h_won,abs(int(addpad*4))))*255,img_WON ) )\n",
    "    else:\n",
    "        img_won=img_WON\n",
    "\n",
    "    return img_won,needle\n",
    "\n",
    "def cost_v3(img_ori,img_syn,width=100,output=0):\n",
    "    '''\n",
    "    input:              \n",
    "    x:                the origin point of synthetic image\n",
    "    img_syn,img_ori:    the images that need to calculate the cost \n",
    "                        should be valued by 'Image.open(path)'\n",
    "    K:                  the scaling of synthethic image\n",
    "    output: 0 -->lost, 1-->C, else C,lost\n",
    "    '''\n",
    "    img_syn = Image.fromarray(img_syn)\n",
    "    img_ori = Image.fromarray(img_ori)\n",
    "\n",
    "    w_ori,h_ori=img_ori.size\n",
    "    w_syn,h_syn=img_syn.size\n",
    "    \n",
    "\n",
    "    scaling_ori=width/w_ori # reshape the origin image to width\n",
    "    w_ori2=int(scaling_ori*w_ori)\n",
    "    h_ori2=int(scaling_ori*h_ori)\n",
    "    scaling_syn=scaling_ori\n",
    "    w_syn2=int(scaling_syn*w_syn)\n",
    "    h_syn2=int(scaling_syn*h_syn)\n",
    "    x=int(abs((w_syn2-w_ori2)/2))\n",
    "\n",
    "    A=img2bw(ResizeImage(img_ori,w_ori2,h_ori2))\n",
    "    one=np.ones((w_ori2-h_ori2,w_ori2))*255\n",
    "    A=np.row_stack((A,one))\n",
    "\n",
    "\n",
    "    B=img2bw(ResizeImage(img_syn,w_syn2,h_syn2))\n",
    "    C=np.zeros((w_ori2,w_ori2))\n",
    "\n",
    "    droplet=0\n",
    "    for i in range(w_ori2):\n",
    "        for j in range (h_ori2):\n",
    "            if A[i,j]==255:\n",
    "                droplet=droplet+1\n",
    "\n",
    "    for i in range (w_ori2): # h\n",
    "        for j in range(w_ori2): # w\n",
    "            #print (h_ori2,w_ori2)\n",
    "            #print(i,j)\n",
    "            if j < x or j-x >= w_syn2 or i >= h_syn2 :\n",
    "                 C[i,j]=A[i,j]\n",
    "            else:\n",
    "                if  A[i,j]==B[i,j-x]: # B[i-y,j-x]\n",
    "                    C[i,j]=255\n",
    "                else:\n",
    "                    C[i,j]=0\n",
    "    \n",
    "    # pixel that same(T) different(F) and drop area\n",
    "    t=0; f=0; \n",
    "    #drop_ori=0; drop_gen=0 \n",
    "    for i in range (w_ori2):\n",
    "        for j in range(h_ori2):\n",
    "            if C[i,j]==0:\n",
    "                f=f+1\n",
    "            else:\n",
    "                t=t+1\n",
    "    #lost=f/max(w_ori2*h_ori2,w_syn2*h_syn2)\n",
    "    \n",
    "    lost=f/droplet\n",
    "    accurancy=1-lost\n",
    "\n",
    "    if output == 0:\n",
    "        return lost\n",
    "    elif output == 1:\n",
    "        return C\n",
    "    else:\n",
    "        return C,lost"
   ]
  },
  {
   "attachments": {},
   "cell_type": "markdown",
   "metadata": {},
   "source": [
    "## Definite the obtimize funciton"
   ]
  },
  {
   "cell_type": "code",
   "execution_count": 15,
   "metadata": {},
   "outputs": [],
   "source": [
    "def obtimize_v5(sv,path_ori=os.path.abspath('./images_experiment/220304_miliq_T17.7_S73.04.png'),output=0,append=1):\n",
    "    '''need initialize xs and losts if output==0'''\n",
    "    start = time.time()\n",
    "    sigma=sv[0]\n",
    "    v0=sv[1]\n",
    "\n",
    "    # preprosessing the ori image\n",
    "    ori,needle=remove_needle_centering_v5(Image.open(path_ori))\n",
    "    pixel_needle=needle[0]\n",
    "\n",
    "    # gen and post processing the syn image\n",
    "    syn_arr,wmax,rneedle=gen_doplet_v5(sigma=sigma,volume0=v0,rneedle=0.5)\n",
    "\n",
    "    #crop the margin of syn image\n",
    "    syn_arr_cm=crop_margin_array_v5(syn_arr)\n",
    "    syn=resize_syn_arr(syn_arr_cm,wmax,r_syn=1)\n",
    "\n",
    "    end = time.time()\n",
    "    #print('Obtimize Program execution time: ',end - start)\n",
    "\n",
    "    if output==0:\n",
    "        lost=cost_v3(ori,syn,output=output)\n",
    "        if append==1:\n",
    "            xs.append(sv)\n",
    "            losts.append(lost)\n",
    "            print ('x=%.2f,%.2f and lost=%.4f'%(sv[0],sv[1],lost))\n",
    "        return lost\n",
    "    elif output==1:\n",
    "        C=cost_v3(ori,syn,output=output)\n",
    "        return C\n",
    "    else :\n",
    "        C,lost=cost_v3(ori,syn,output=output)\n",
    "        return C, lost\n"
   ]
  },
  {
   "attachments": {},
   "cell_type": "markdown",
   "metadata": {},
   "source": [
    "## Start the optimization"
   ]
  },
  {
   "attachments": {},
   "cell_type": "markdown",
   "metadata": {},
   "source": [
    "IMPORTANT!!! If the optimization need to be restart, please click the 'restart' button of jupyter notebook. Or an NameError: name 'xs' is not define will be occured."
   ]
  },
  {
   "cell_type": "code",
   "execution_count": 16,
   "metadata": {},
   "outputs": [],
   "source": [
    "xs=[]\n",
    "losts=[]"
   ]
  },
  {
   "cell_type": "code",
   "execution_count": 17,
   "metadata": {},
   "outputs": [
    {
     "name": "stdout",
     "output_type": "stream",
     "text": [
      "Optimization Start\n",
      "x=75.00,14.00 and lost0.0568\n",
      "x=78.75,14.00 and lost0.0675\n",
      "x=75.00,14.70 and lost0.0398\n",
      "x=71.25,14.70 and lost0.0321\n",
      "x=67.50,15.05 and lost0.0295\n",
      "x=67.50,15.75 and lost0.0506\n",
      "x=69.38,15.31 and lost0.0345\n",
      "x=61.88,15.66 and lost0.0785\n",
      "x=71.72,14.94 and lost0.0247\n",
      "x=69.84,14.68 and lost0.0325\n",
      "x=69.73,14.84 and lost0.0257\n",
      "x=73.95,14.73 and lost0.0389\n",
      "x=69.11,14.97 and lost0.0285\n",
      "x=72.33,14.81 and lost0.0311\n",
      "x=69.92,14.93 and lost0.0263\n",
      "x=71.53,14.85 and lost0.0247\n",
      "x=73.52,14.95 and lost0.0327\n",
      "x=70.68,14.87 and lost0.0263\n",
      "x=71.62,14.89 and lost0.0245\n",
      "x=70.72,14.89 and lost0.0265\n",
      "x=72.62,14.95 and lost0.0321\n",
      "x=71.20,14.90 and lost0.0259\n",
      "x=72.15,14.93 and lost0.0319\n",
      "x=71.43,14.91 and lost0.0251\n",
      "x=71.91,14.92 and lost0.0245\n",
      "x=71.81,14.88 and lost0.0319\n",
      "x=71.74,14.93 and lost0.0247\n",
      "x=71.77,14.91 and lost0.0245\n",
      "x=71.67,14.92 and lost0.0247\n",
      "x=71.72,14.89 and lost0.0247\n",
      "x=71.68,14.91 and lost0.0247\n",
      "x=71.69,14.90 and lost0.0245\n",
      "x=71.65,14.91 and lost0.0247\n",
      "x=71.67,14.89 and lost0.0245\n",
      "x=71.67,14.89 and lost0.0245\n",
      "Optimize Program Running Time:  179.00922274589539\n"
     ]
    }
   ],
   "source": [
    "import scipy.optimize\n",
    "# use scipy obtimaize the parameter\n",
    "opStart=time.time()\n",
    "print('Optimization Start')\n",
    "x0=np.asarray((75,14))\n",
    "#sigma; v0; length_Ne,r_Ne; x,y; scaling_rate;\n",
    "res=scipy.optimize.minimize(obtimize_v5,x0,method='nelder-mead',options={'maxiter':15}) \n",
    "opEnd=time.time()\n",
    "print('Optimize Program Running Time: ',opEnd-opStart)"
   ]
  },
  {
   "cell_type": "code",
   "execution_count": 18,
   "metadata": {},
   "outputs": [
    {
     "data": {
      "text/plain": [
       "[<matplotlib.lines.Line2D at 0x1e699e898a0>]"
      ]
     },
     "execution_count": 18,
     "metadata": {},
     "output_type": "execute_result"
    },
    {
     "data": {
      "image/png": "[encoded data removed]",
      "text/plain": [
       "<Figure size 640x480 with 1 Axes>"
      ]
     },
     "metadata": {},
     "output_type": "display_data"
    }
   ],
   "source": [
    "plt.plot(losts)"
   ]
  },
  {
   "cell_type": "code",
   "execution_count": 5,
   "metadata": {},
   "outputs": [
    {
     "name": "stdout",
     "output_type": "stream",
     "text": [
      " final_simplex: (array([[69.5078125 , 14.678125  ],\n",
      "       [69.61035156, 14.74101563],\n",
      "       [68.98828125, 14.7328125 ]]), array([0.0251046 , 0.02530385, 0.0264993 ]))\n",
      "           fun: 0.02510460251046025\n",
      "       message: 'Maximum number of iterations has been exceeded.'\n",
      "          nfev: 20\n",
      "           nit: 9\n",
      "        status: 2\n",
      "       success: False\n",
      "             x: array([69.5078125, 14.678125 ])\n"
     ]
    }
   ],
   "source": [
    "print(res)"
   ]
  },
  {
   "attachments": {},
   "cell_type": "markdown",
   "metadata": {},
   "source": [
    "### Save the Optimization Result (IF NEED)"
   ]
  },
  {
   "cell_type": "code",
   "execution_count": null,
   "metadata": {},
   "outputs": [],
   "source": [
    "# save all varables\n",
    "import dill\n",
    "filename='./optimization_results_75_9.pkl'\n",
    "dill.dump_session(filename)"
   ]
  },
  {
   "cell_type": "code",
   "execution_count": null,
   "metadata": {},
   "outputs": [],
   "source": [
    "# way to load all varables\n",
    "import dill\n",
    "dill.load_session( './optimization results.pkl')"
   ]
  },
  {
   "attachments": {},
   "cell_type": "markdown",
   "metadata": {},
   "source": [
    "## Plot the Trace Image"
   ]
  },
  {
   "cell_type": "code",
   "execution_count": 5,
   "metadata": {},
   "outputs": [],
   "source": [
    "# Import the Cost Map Data: sigma, volume, lost2d_all, lost2d_part\n",
    "dill.load_session( './GlobalGrid_s60-80-0.5_v13-17-0.2.pkl')"
   ]
  },
  {
   "cell_type": "code",
   "execution_count": 19,
   "metadata": {},
   "outputs": [
    {
     "data": {
      "image/png": "[encoded data removed]",
      "text/plain": [
       "<Figure size 640x480 with 2 Axes>"
      ]
     },
     "metadata": {},
     "output_type": "display_data"
    }
   ],
   "source": [
    "# write the value of all cost>0.1 elements in lost2d_all to 0.1\n",
    "#lost2d_part=lost2d_all+0\n",
    "#lost2d_part[lost2d_part > 0.1] = 0.1\n",
    "\n",
    "arxs=np.asarray(xs)\n",
    "x=arxs[:,0]\n",
    "y=arxs[:,1]\n",
    "z=losts\n",
    "\n",
    "fig, ax = plt.subplots()\n",
    "cs = ax.contourf(volume, sigma, grid_part, cmap=plt.get_cmap('Spectral'))\n",
    "im = ax.scatter(y,x,marker='.')\n",
    "\n",
    "\n",
    "n=np.arange(y.shape[0])\n",
    "for i,txt in enumerate(n):\n",
    "    ax.annotate(txt,(y[i],x[i]))\n",
    "#添加colorbar\n",
    "cbar = fig.colorbar(cs)\n",
    "\n",
    "plt.xlabel('volume')#x轴从1到7.1\n",
    "plt.ylabel('sigma')#y轴从40到100\n",
    "\n",
    "plt.xlim((13.5,16))\n",
    "plt.ylim((60,75))\n",
    "\n",
    "plt.title('Initial Guess: Sigma %.2f & Volume %.2f'%(x0[0], x0[1]))\n",
    "\n",
    "plt.show()"
   ]
  }
 ],
 "metadata": {
  "kernelspec": {
   "display_name": "Python 3",
   "language": "python",
   "name": "python3"
  },
  "language_info": {
   "codemirror_mode": {
    "name": "ipython",
    "version": 3
   },
   "file_extension": ".py",
   "mimetype": "text/x-python",
   "name": "python",
   "nbconvert_exporter": "python",
   "pygments_lexer": "ipython3",
   "version": "3.10.9 (tags/v3.10.9:1dd9be6, Dec  6 2022, 20:01:21) [MSC v.1934 64 bit (AMD64)]"
  },
  "orig_nbformat": 4,
  "vscode": {
   "interpreter": {
    "hash": "60437aad8983babfce94e0da8b300c92c022ccf7e7dbddf7a08c08f7ecf8beba"
   }
  }
 },
 "nbformat": 4,
 "nbformat_minor": 2
}
