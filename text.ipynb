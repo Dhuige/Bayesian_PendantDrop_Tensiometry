{
 "cells": [
  {
   "cell_type": "code",
   "execution_count": 1,
   "metadata": {},
   "outputs": [],
   "source": [
    "from fun_opti import *\n",
    "import time"
   ]
  },
  {
   "cell_type": "code",
   "execution_count": 2,
   "metadata": {},
   "outputs": [],
   "source": [
    "def optimize_NOV(sv,path_ori=os.path.abspath('./images_paper/sase_s75.00_v15.00_rn0.50_ln4.00_needle.jpg'),output=0,append=1):\n",
    "    sigma=sv[0]\n",
    "    v0=sv[1]\n",
    "\n",
    "    # preprosessing the ori image\n",
    "    exp_zoom=reshape_Exp(path_ori)\n",
    "\n",
    "    # gen and post processing the syn image\n",
    "    syn_array,_,_,_=gen_Drop(sigma=sigma,volume0=v0,rneedle=0.5)\n",
    "    # syn_arr,wmax,rneedle=gen_doplet_v5(sigma=sigma,volume0=v0,rneedle=0.5)\n",
    "\n",
    "    # crop the margin of syn image and scale it\n",
    "    syn_zoom=scale_Syn(syn_array)\n",
    "\n",
    "    \n",
    "    if output==0:\n",
    "        NOV=cal_NOV(exp_zoom=exp_zoom,syn_zoom=syn_zoom,output=output)\n",
    "        print ('x=%.2f,%.2f and NOV=%.4f'%(sv[0],sv[1],NOV))\n",
    "        if append==1:\n",
    "            Xs.append(sv)\n",
    "            NOVs.append(NOV)  \n",
    "        return NOV\n",
    "\n",
    "    else:     \n",
    "        NOV,C=cal_NOV(exp_zoom=exp_zoom,syn_zoom=syn_zoom,output=output)\n",
    "        return NOV,C"
   ]
  },
  {
   "attachments": {},
   "cell_type": "markdown",
   "metadata": {},
   "source": [
    "# Start Optimization"
   ]
  },
  {
   "cell_type": "code",
   "execution_count": 3,
   "metadata": {},
   "outputs": [],
   "source": [
    "Xs=[]\n",
    "NOVs=[]"
   ]
  },
  {
   "cell_type": "code",
   "execution_count": 4,
   "metadata": {},
   "outputs": [
    {
     "name": "stdout",
     "output_type": "stream",
     "text": [
      "Optimization Start\n",
      "x=60.00,10.00 and NOV=0.1684\n",
      "x=63.00,10.00 and NOV=0.1929\n",
      "x=60.00,10.50 and NOV=0.1445\n",
      "x=57.00,10.50 and NOV=0.1248\n",
      "x=54.00,10.75 and NOV=0.1449\n",
      "x=57.00,11.00 and NOV=0.1339\n",
      "x=54.00,11.00 and NOV=0.1186\n",
      "x=51.00,11.25 and NOV=0.0475\n",
      "x=51.00,10.75 and NOV=0.1327\n",
      "x=52.50,10.81 and NOV=0.0887\n",
      "x=46.50,11.56 and NOV=0.2508\n",
      "x=54.38,10.77 and NOV=0.1437\n",
      "x=51.75,11.03 and NOV=0.0687\n",
      "x=54.00,10.88 and NOV=0.0808\n",
      "x=48.75,11.41 and NOV=0.0683\n",
      "x=48.00,11.62 and NOV=0.0956\n",
      "x=50.81,11.18 and NOV=0.0462\n",
      "x=53.06,11.02 and NOV=0.0922\n",
      "x=49.83,11.31 and NOV=0.0452\n",
      "x=49.64,11.24 and NOV=0.0623\n",
      "x=50.66,11.25 and NOV=0.0891\n",
      "x=50.32,11.25 and NOV=0.0923\n",
      "x=50.41,11.28 and NOV=0.0553\n",
      "x=49.92,11.35 and NOV=0.0458\n",
      "x=49.34,11.38 and NOV=0.0735\n",
      "x=50.14,11.30 and NOV=0.0599\n",
      "x=49.88,11.33 and NOV=0.0456\n",
      "x=50.12,11.30 and NOV=0.0597\n",
      "x=49.58,11.34 and NOV=0.0501\n",
      "x=49.72,11.33 and NOV=0.0485\n",
      "x=49.99,11.31 and NOV=0.0524\n",
      "x=49.78,11.33 and NOV=0.0463\n",
      "x=49.92,11.31 and NOV=0.0445\n",
      "x=49.99,11.31 and NOV=0.0524\n",
      "Optimize Program Running Time:  52.21263360977173\n"
     ]
    }
   ],
   "source": [
    "import scipy.optimize\n",
    "# use scipy obtimaize the parameter\n",
    "opStart=time.time()\n",
    "print('Optimization Start')\n",
    "x0=np.asarray((60,10))\n",
    "#sigma; v0; length_Ne,r_Ne; x,y; scaling_rate;\n",
    "res=scipy.optimize.minimize(optimize_NOV,x0,method='nelder-mead',options={'maxiter':15}) #SLSQP #nelder-mead\n",
    "#res=scipy.optimize.minimize(obtimize_v5,x0,method='SLSQP',options={'maxiter':15})\n",
    "opEnd=time.time()\n",
    "print('Optimize Program Running Time: ',opEnd-opStart)"
   ]
  }
 ],
 "metadata": {
  "kernelspec": {
   "display_name": "Python 3",
   "language": "python",
   "name": "python3"
  },
  "language_info": {
   "codemirror_mode": {
    "name": "ipython",
    "version": 3
   },
   "file_extension": ".py",
   "mimetype": "text/x-python",
   "name": "python",
   "nbconvert_exporter": "python",
   "pygments_lexer": "ipython3",
   "version": "3.10.11"
  },
  "orig_nbformat": 4
 },
 "nbformat": 4,
 "nbformat_minor": 2
}
